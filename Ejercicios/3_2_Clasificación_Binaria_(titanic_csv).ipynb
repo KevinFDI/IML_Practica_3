{
  "nbformat": 4,
  "nbformat_minor": 0,
  "metadata": {
    "colab": {
      "provenance": [],
      "collapsed_sections": [
        "zZQ-foQSrYsq",
        "ViBKTjV3rSAq"
      ]
    },
    "kernelspec": {
      "name": "python3",
      "display_name": "Python 3"
    },
    "language_info": {
      "name": "python"
    }
  },
  "cells": [
    {
      "cell_type": "markdown",
      "source": [
        "**CONSIGNAS PARA TODOS LOS EJERCICIOS:**\n",
        "\n",
        "1.   En el caso de utilizar una Regresión Logística grafique sus parámetros con la función AA_utils.visualizar_parametros\n",
        "2.   Grafique e interprete la matriz de confusión de la predicción sobre el set de test con la función AA_utils.visualizar_confusion_matrix\n",
        "3.   Elabore un reporte de métricas tanto para la predicción de train como para la de test con la función AA_utils.print_classification_report\n",
        "4.   En los casos de clasificación binaria grafique e interprete la curva ROC con la función AA_utils.visualizar_curva_ROC\n",
        "5.   En los caso de clasificación de dos variables grafique la función de transferencia y la frontera de decisión con las funciones AA_utils.visualizar_funcion_transferencia_2D y AA_utils.visualizar_frontera_de_desicion_2D\n",
        "6.   En los casos de clasificación binaria de una variable grafique la curva logística con la función AA_utils.visualizar_curva_logistica"
      ],
      "metadata": {
        "id": "Vlozo69OA58w"
      }
    },
    {
      "cell_type": "markdown",
      "source": [
        "# **TITANIC**"
      ],
      "metadata": {
        "id": "zZQ-foQSrYsq"
      }
    },
    {
      "cell_type": "markdown",
      "source": [
        "Clasificación Binaria: Compare modelos de Regresión Logística y Redes Neuronales para el siguiente dataset:\n",
        "*   Titanic.csv. El archivo contiene información de los pasajeros que viajaban. El objetivo es crear un modelo capaz de predecir si un pasajero sobrevive o no al naufragio.\n",
        "\n",
        "El código “ejemplo_clasificacion_binaria_dos_variables_red_neuronal.py” posee un ejemplo de cómo realizar esta tarea.\n"
      ],
      "metadata": {
        "id": "DRZfJxFZBDTE"
      }
    },
    {
      "cell_type": "code",
      "execution_count": 134,
      "metadata": {
        "id": "UZfNpywotKT0"
      },
      "outputs": [],
      "source": [
        "import pandas as pd\n",
        "import numpy as np\n",
        "import matplotlib.pyplot as plt\n",
        "import itertools\n",
        "\n",
        "from mpl_toolkits.axes_grid1 import make_axes_locatable\n",
        "from sklearn.metrics import confusion_matrix, roc_curve, roc_auc_score, precision_recall_curve, classification_report\n",
        "\n",
        "from sklearn.model_selection import train_test_split\n",
        "from sklearn.preprocessing import StandardScaler\n",
        "from sklearn.neural_network import MLPClassifier\n",
        "\n",
        "from sklearn.linear_model import LogisticRegression"
      ]
    },
    {
      "cell_type": "markdown",
      "source": [
        "# **AA UTILS**"
      ],
      "metadata": {
        "id": "ViBKTjV3rSAq"
      }
    },
    {
      "cell_type": "code",
      "source": [
        "def if_dataframe_to_numpy(data):\n",
        "    return data.to_numpy() if isinstance(data, pd.DataFrame) or isinstance(data, pd.Series) else data\n",
        "\n",
        "def plot_2d(modelo, X, X_train, X_test, y_train, y_test, boundry_function):\n",
        "\n",
        "    assert X.shape[1] == 2, f\"X debe tener solo dos variables de entrada (tiene {X.shape[1]})\"\n",
        "\n",
        "    X = if_dataframe_to_numpy(X)\n",
        "    X_train = if_dataframe_to_numpy(X_train)\n",
        "    X_test = if_dataframe_to_numpy(X_test)\n",
        "\n",
        "    plt.figure()\n",
        "    x_min, x_max = X[:, 0].min() - 1, X[:, 0].max() + 1\n",
        "    y_min, y_max = X[:, 1].min() - 1, X[:, 1].max() + 1\n",
        "    xx, yy = np.meshgrid(np.arange(x_min, x_max, 0.02),\n",
        "                         np.arange(y_min, y_max, 0.02))\n",
        "\n",
        "    Z = np.c_[xx.ravel(), yy.ravel()]\n",
        "    Z = boundry_function(modelo, Z)\n",
        "    Z = Z.reshape(xx.shape)\n",
        "\n",
        "    plt.contourf(xx, yy, Z, alpha=0.3)\n",
        "    plt.colorbar()\n",
        "\n",
        "    plt.scatter(X_train[:, 0], X_train[:, 1], marker=\"o\", c=y_train, label='Training')\n",
        "    plt.scatter(X_test[:, 0], X_test[:, 1], marker=\"+\", c=y_test, s=80, label='Testing')\n",
        "    plt.legend()\n",
        "    plt.show()\n",
        "\n",
        "def print_classification_report(y_true, y_pred):\n",
        "    print(classification_report(y_true, y_pred))\n",
        "\n",
        "def visualizar_parametros(modelo, mostrar_bias, feature_names=[], target_name='target'):\n",
        "    parametros = pd.DataFrame(modelo.coef_, columns=feature_names if len(feature_names) > 0 else range(modelo.coef_.shape[1]))\n",
        "\n",
        "    if mostrar_bias:\n",
        "        parametros['bias'] = modelo.intercept_\n",
        "\n",
        "    parametros.T.plot(kind='bar')\n",
        "\n",
        "    if hasattr(modelo, 'classes_'):\n",
        "        if len(modelo.classes_) <= 2:\n",
        "            plt.legend([target_name])\n",
        "        else:\n",
        "            plt.legend(list(modelo.classes_))\n",
        "    else:\n",
        "        plt.legend([target_name])\n",
        "\n",
        "    plt.show()\n",
        "\n",
        "def visualizar_curva_logistica(modelo, X, y, feature_name='target'):\n",
        "\n",
        "    assert X.shape[1] == 1, f\"X debe tener solo una variable de entrada (tiene {X.shape[1]})\"\n",
        "\n",
        "    X = if_dataframe_to_numpy(X)\n",
        "\n",
        "    plt.figure()\n",
        "    plt.scatter(X, y, c=y, s=50)\n",
        "    plt.xlabel(feature_name)\n",
        "    plt.grid()\n",
        "\n",
        "    x_min, x_max = X[:, 0].min() - 1, X[:, 0].max() + 1\n",
        "    x_graph = np.linspace(x_min, x_max)\n",
        "    y_graph = modelo.predict_proba(x_graph.reshape(-1, 1))[:, 1]\n",
        "    plt.plot(x_graph, y_graph)\n",
        "    plt.show()\n",
        "\n",
        "def visualizar_frontera_de_desicion_2D(modelo, X, X_train, X_test, y_train, y_test):\n",
        "    plot_2d(modelo, X, X_train, X_test, y_train, y_test, lambda modelo, Z: modelo.predict(Z))\n",
        "\n",
        "def visualizar_funcion_transferencia_2D(modelo, X, X_train, X_test, y_train, y_test):\n",
        "\n",
        "    if hasattr(modelo, 'predict_proba') and callable(getattr(modelo, 'predict_proba')):\n",
        "        plot_2d(modelo, X, X_train, X_test, y_train, y_test, lambda modelo, Z: modelo.predict_proba(Z)[:, 1])\n",
        "    else:\n",
        "        raise ValueError(\"no se puede visualizar funcion de transferencia\")\n",
        "\n",
        "def visualizar_confusion_matrix(real_target, pred_target,\n",
        "                                classes=[],\n",
        "                                normalize=False,\n",
        "                                title='Matriz de confusión',\n",
        "                                cmap=plt.cm.Blues):\n",
        "\n",
        "    if (len(classes) == 0):\n",
        "        classes = [str(i) for i in range(int(max(real_target) + 1))]  # nombres de clases consecutivos\n",
        "\n",
        "    cm = confusion_matrix(real_target, pred_target)\n",
        "\n",
        "    plt.figure()\n",
        "    plt.imshow(cm, interpolation='nearest', cmap=cmap)\n",
        "    plt.title(title)\n",
        "    plt.colorbar()\n",
        "    tick_marks = np.arange(len(classes))\n",
        "    plt.xticks(tick_marks, classes, rotation=45)\n",
        "    plt.yticks(tick_marks, classes)\n",
        "\n",
        "    fmt = '.2f' if normalize else 'd'\n",
        "    thresh = cm.max() / 2.\n",
        "    for i, j in itertools.product(range(cm.shape[0]), range(cm.shape[1])):\n",
        "        plt.text(j, i, format(cm[i, j], fmt),\n",
        "                 horizontalalignment=\"center\",\n",
        "                 color=\"white\" if cm[i, j] > thresh else \"black\", size=16)\n",
        "\n",
        "    plt.ylabel('True label')\n",
        "    plt.xlabel('Predicted label')\n",
        "    plt.show()\n",
        "\n",
        "def visualizar_curva_ROC(modelo, X, y):\n",
        "\n",
        "    assert len(set(y)) <= 2, f\"El dataset debe ser binario (hay {len(set(y))}) clases\"\n",
        "\n",
        "    y_score = modelo.predict_proba(X)[:, 1]  # se queda con la clase 1\n",
        "\n",
        "    false_positive_rate, true_positive_rate, threshold = roc_curve(y, y_score)\n",
        "\n",
        "    precision, recall, _ = precision_recall_curve(y, y_score)\n",
        "\n",
        "    # ROC\n",
        "    plt.figure()\n",
        "    plt.title('ROC. Receiver Operating Characteristic')\n",
        "    plt.plot(false_positive_rate, true_positive_rate, label='ROC curve (area = %0.2f)' % roc_auc_score(y, y_score))\n",
        "    plt.plot([0, 1], ls=\"--\")\n",
        "    plt.plot([0, 0], [1, 0], c=\".7\"), plt.plot([1, 1], c=\".7\")\n",
        "    plt.legend(loc=\"lower right\")\n",
        "    plt.ylabel('True Positive Rate (Recall)')\n",
        "    plt.xlabel('False Positive Rate (1- Especificidad)')\n",
        "    plt.show()\n",
        "\n",
        "    # precision-recall curve\n",
        "    plt.figure()\n",
        "    plt.step(recall, precision, color='b', alpha=0.2, where='post')\n",
        "    plt.fill_between(recall, precision, step='post', alpha=0.2, color='b')\n",
        "    plt.xlabel('Recall')\n",
        "    plt.ylabel('Precision')\n",
        "    plt.ylim([0.0, 1.05])\n",
        "    plt.xlim([0.0, 1.0])\n",
        "    plt.title('Precision-Recall curve')\n",
        "    plt.show()\n",
        "\n",
        "def elegir_imagen_al_azar(X, pixeles_ancho, pixeles_alto):\n",
        "    indice = np.random.randint(0, X.shape[0])\n",
        "    img_i = np.reshape(X[indice, :], (pixeles_ancho, pixeles_alto))\n",
        "    plt.figure()\n",
        "    plt.imshow(img_i, 'gray')\n",
        "    plt.title('Dato aleatorio')\n",
        "    plt.show()\n",
        "    return X[indice].reshape(1, -1), indice\n",
        "\n",
        "def visualizar_parametros_para_imagenes(modelo, cantidad_de_clases, pixeles_ancho=28, pixeles_alto=28):\n",
        "\n",
        "    if hasattr(modelo, 'coef_'):\n",
        "        w = modelo.coef_\n",
        "    elif hasattr(modelo, 'coefs_') and (modelo.coefs_) == 1:\n",
        "        w = modelo.coefs_[0]\n",
        "    else:\n",
        "        raise \"para visualizar los parametros de la red es necesario tener cero capas ocultas\"\n",
        "\n",
        "    colorbar_max = np.abs(np.max(w))\n",
        "    w_r = np.reshape(w, (cantidad_de_clases, pixeles_ancho, pixeles_alto))\n",
        "    fig, ax = plt.subplots(2, cantidad_de_clases // 2)\n",
        "    plt.suptitle('Coeficientes aprendidos para cada clase, \\nagrupados en forma matricial de 28x28')\n",
        "    index = 0\n",
        "    for row in range(0, 2):\n",
        "        for col in range(0, cantidad_de_clases // 2):\n",
        "            colorbar_max = max(np.abs(np.max(w_r[index, :, :])), np.abs(np.min(w_r[index, :, :])))\n",
        "            ax_im = ax[row][col].imshow(w_r[index, :, :], cmap='seismic', vmin=-colorbar_max, vmax=colorbar_max)\n",
        "            ax[row][col].get_xaxis().set_visible(False)\n",
        "            ax[row][col].get_yaxis().set_visible(False)\n",
        "            ax[row][col].set_title(str(index))\n",
        "            divider = make_axes_locatable(ax[row][col])\n",
        "            cax = divider.append_axes(\"right\", size=\"5%\", pad=0.05)\n",
        "\n",
        "            fig.colorbar(ax_im, ax=ax[row][col], cax=cax)\n",
        "            index += 1\n",
        "    plt.show()\n",
        "\n",
        "def visualizar_ajuste_por_regresion(modelo, X_train, X_test, y_train, y_test,\n",
        "                                    feature_name='X', target_name='target'):\n",
        "    plt.scatter(X_train, y_train, c='blue', s=40, alpha=0.9, label='Training')\n",
        "    plt.scatter(X_test, y_test, c='red', s=50, alpha=0.5, label='Testing')\n",
        "    plt.xlabel(feature_name)\n",
        "    plt.ylabel(target_name)\n",
        "    plt.legend()\n",
        "    plt.grid()\n",
        "\n",
        "    X_train = if_dataframe_to_numpy(X_train)\n",
        "    X_test = if_dataframe_to_numpy(X_test)\n",
        "\n",
        "    x_max = max(max(X_train), max(X_test))\n",
        "    x_min = min(min(X_train), min(X_test))\n",
        "\n",
        "    x_plot = np.linspace(x_min, x_max, 100)\n",
        "    y_plot = modelo.predict(x_plot.reshape(-1, 1))\n",
        "    plt.plot(x_plot, y_plot, 'g--', linewidth=5)\n",
        "    plt.show()\n",
        "\n",
        "def visualizar_curva_error_entrenamiento(modelo):\n",
        "    plt.plot(modelo.loss_curve_)\n",
        "    plt.xlabel('iterations')\n",
        "    plt.ylabel('loss')\n",
        "    plt.legend(['Train'])\n",
        "    plt.show()\n"
      ],
      "metadata": {
        "id": "bq7m9jn-rXE2"
      },
      "execution_count": 135,
      "outputs": []
    },
    {
      "cell_type": "markdown",
      "source": [
        "# **CARGA DE DATOS**"
      ],
      "metadata": {
        "id": "uKAo9WohreVg"
      }
    },
    {
      "cell_type": "code",
      "source": [
        "data = pd.read_csv(r\"https://raw.githubusercontent.com/KevinFDI/IML_Practica_3/main/Pr%C3%A1ctica/datasets/titanic.csv\")"
      ],
      "metadata": {
        "id": "LPFGkg8Jrg7h"
      },
      "execution_count": 136,
      "outputs": []
    },
    {
      "cell_type": "code",
      "source": [
        "data.columns"
      ],
      "metadata": {
        "colab": {
          "base_uri": "https://localhost:8080/"
        },
        "id": "6nHRAE0fz6Gk",
        "outputId": "078e696f-8c31-4456-ce56-9d16a81a6af2"
      },
      "execution_count": 137,
      "outputs": [
        {
          "output_type": "execute_result",
          "data": {
            "text/plain": [
              "Index(['pclass', 'fare', 'age', 'sex', 'sibsp', 'parch', 'survived'], dtype='object')"
            ]
          },
          "metadata": {},
          "execution_count": 137
        }
      ]
    },
    {
      "cell_type": "code",
      "source": [
        "round(data.describe(), 2)"
      ],
      "metadata": {
        "colab": {
          "base_uri": "https://localhost:8080/",
          "height": 301
        },
        "id": "x4BYzzOj0B8r",
        "outputId": "0d635d64-d709-4fd8-df42-d64f6233e89c"
      },
      "execution_count": 138,
      "outputs": [
        {
          "output_type": "execute_result",
          "data": {
            "text/plain": [
              "        pclass     fare      age      sex    sibsp    parch  survived\n",
              "count  1045.00  1045.00  1045.00  1045.00  1045.00  1045.00   1045.00\n",
              "mean      2.21    36.69    29.85     0.63     0.50     0.42      0.41\n",
              "std       0.84    55.73    14.39     0.48     0.91     0.84      0.49\n",
              "min       1.00     0.00     0.17     0.00     0.00     0.00      0.00\n",
              "25%       1.00     8.05    21.00     0.00     0.00     0.00      0.00\n",
              "50%       2.00    15.75    28.00     1.00     0.00     0.00      0.00\n",
              "75%       3.00    35.50    39.00     1.00     1.00     1.00      1.00\n",
              "max       3.00   512.33    80.00     1.00     8.00     6.00      1.00"
            ],
            "text/html": [
              "\n",
              "  <div id=\"df-5abcb57b-ec3e-4544-8dbf-fe41bb92b764\">\n",
              "    <div class=\"colab-df-container\">\n",
              "      <div>\n",
              "<style scoped>\n",
              "    .dataframe tbody tr th:only-of-type {\n",
              "        vertical-align: middle;\n",
              "    }\n",
              "\n",
              "    .dataframe tbody tr th {\n",
              "        vertical-align: top;\n",
              "    }\n",
              "\n",
              "    .dataframe thead th {\n",
              "        text-align: right;\n",
              "    }\n",
              "</style>\n",
              "<table border=\"1\" class=\"dataframe\">\n",
              "  <thead>\n",
              "    <tr style=\"text-align: right;\">\n",
              "      <th></th>\n",
              "      <th>pclass</th>\n",
              "      <th>fare</th>\n",
              "      <th>age</th>\n",
              "      <th>sex</th>\n",
              "      <th>sibsp</th>\n",
              "      <th>parch</th>\n",
              "      <th>survived</th>\n",
              "    </tr>\n",
              "  </thead>\n",
              "  <tbody>\n",
              "    <tr>\n",
              "      <th>count</th>\n",
              "      <td>1045.00</td>\n",
              "      <td>1045.00</td>\n",
              "      <td>1045.00</td>\n",
              "      <td>1045.00</td>\n",
              "      <td>1045.00</td>\n",
              "      <td>1045.00</td>\n",
              "      <td>1045.00</td>\n",
              "    </tr>\n",
              "    <tr>\n",
              "      <th>mean</th>\n",
              "      <td>2.21</td>\n",
              "      <td>36.69</td>\n",
              "      <td>29.85</td>\n",
              "      <td>0.63</td>\n",
              "      <td>0.50</td>\n",
              "      <td>0.42</td>\n",
              "      <td>0.41</td>\n",
              "    </tr>\n",
              "    <tr>\n",
              "      <th>std</th>\n",
              "      <td>0.84</td>\n",
              "      <td>55.73</td>\n",
              "      <td>14.39</td>\n",
              "      <td>0.48</td>\n",
              "      <td>0.91</td>\n",
              "      <td>0.84</td>\n",
              "      <td>0.49</td>\n",
              "    </tr>\n",
              "    <tr>\n",
              "      <th>min</th>\n",
              "      <td>1.00</td>\n",
              "      <td>0.00</td>\n",
              "      <td>0.17</td>\n",
              "      <td>0.00</td>\n",
              "      <td>0.00</td>\n",
              "      <td>0.00</td>\n",
              "      <td>0.00</td>\n",
              "    </tr>\n",
              "    <tr>\n",
              "      <th>25%</th>\n",
              "      <td>1.00</td>\n",
              "      <td>8.05</td>\n",
              "      <td>21.00</td>\n",
              "      <td>0.00</td>\n",
              "      <td>0.00</td>\n",
              "      <td>0.00</td>\n",
              "      <td>0.00</td>\n",
              "    </tr>\n",
              "    <tr>\n",
              "      <th>50%</th>\n",
              "      <td>2.00</td>\n",
              "      <td>15.75</td>\n",
              "      <td>28.00</td>\n",
              "      <td>1.00</td>\n",
              "      <td>0.00</td>\n",
              "      <td>0.00</td>\n",
              "      <td>0.00</td>\n",
              "    </tr>\n",
              "    <tr>\n",
              "      <th>75%</th>\n",
              "      <td>3.00</td>\n",
              "      <td>35.50</td>\n",
              "      <td>39.00</td>\n",
              "      <td>1.00</td>\n",
              "      <td>1.00</td>\n",
              "      <td>1.00</td>\n",
              "      <td>1.00</td>\n",
              "    </tr>\n",
              "    <tr>\n",
              "      <th>max</th>\n",
              "      <td>3.00</td>\n",
              "      <td>512.33</td>\n",
              "      <td>80.00</td>\n",
              "      <td>1.00</td>\n",
              "      <td>8.00</td>\n",
              "      <td>6.00</td>\n",
              "      <td>1.00</td>\n",
              "    </tr>\n",
              "  </tbody>\n",
              "</table>\n",
              "</div>\n",
              "      <button class=\"colab-df-convert\" onclick=\"convertToInteractive('df-5abcb57b-ec3e-4544-8dbf-fe41bb92b764')\"\n",
              "              title=\"Convert this dataframe to an interactive table.\"\n",
              "              style=\"display:none;\">\n",
              "        \n",
              "  <svg xmlns=\"http://www.w3.org/2000/svg\" height=\"24px\"viewBox=\"0 0 24 24\"\n",
              "       width=\"24px\">\n",
              "    <path d=\"M0 0h24v24H0V0z\" fill=\"none\"/>\n",
              "    <path d=\"M18.56 5.44l.94 2.06.94-2.06 2.06-.94-2.06-.94-.94-2.06-.94 2.06-2.06.94zm-11 1L8.5 8.5l.94-2.06 2.06-.94-2.06-.94L8.5 2.5l-.94 2.06-2.06.94zm10 10l.94 2.06.94-2.06 2.06-.94-2.06-.94-.94-2.06-.94 2.06-2.06.94z\"/><path d=\"M17.41 7.96l-1.37-1.37c-.4-.4-.92-.59-1.43-.59-.52 0-1.04.2-1.43.59L10.3 9.45l-7.72 7.72c-.78.78-.78 2.05 0 2.83L4 21.41c.39.39.9.59 1.41.59.51 0 1.02-.2 1.41-.59l7.78-7.78 2.81-2.81c.8-.78.8-2.07 0-2.86zM5.41 20L4 18.59l7.72-7.72 1.47 1.35L5.41 20z\"/>\n",
              "  </svg>\n",
              "      </button>\n",
              "      \n",
              "  <style>\n",
              "    .colab-df-container {\n",
              "      display:flex;\n",
              "      flex-wrap:wrap;\n",
              "      gap: 12px;\n",
              "    }\n",
              "\n",
              "    .colab-df-convert {\n",
              "      background-color: #E8F0FE;\n",
              "      border: none;\n",
              "      border-radius: 50%;\n",
              "      cursor: pointer;\n",
              "      display: none;\n",
              "      fill: #1967D2;\n",
              "      height: 32px;\n",
              "      padding: 0 0 0 0;\n",
              "      width: 32px;\n",
              "    }\n",
              "\n",
              "    .colab-df-convert:hover {\n",
              "      background-color: #E2EBFA;\n",
              "      box-shadow: 0px 1px 2px rgba(60, 64, 67, 0.3), 0px 1px 3px 1px rgba(60, 64, 67, 0.15);\n",
              "      fill: #174EA6;\n",
              "    }\n",
              "\n",
              "    [theme=dark] .colab-df-convert {\n",
              "      background-color: #3B4455;\n",
              "      fill: #D2E3FC;\n",
              "    }\n",
              "\n",
              "    [theme=dark] .colab-df-convert:hover {\n",
              "      background-color: #434B5C;\n",
              "      box-shadow: 0px 1px 3px 1px rgba(0, 0, 0, 0.15);\n",
              "      filter: drop-shadow(0px 1px 2px rgba(0, 0, 0, 0.3));\n",
              "      fill: #FFFFFF;\n",
              "    }\n",
              "  </style>\n",
              "\n",
              "      <script>\n",
              "        const buttonEl =\n",
              "          document.querySelector('#df-5abcb57b-ec3e-4544-8dbf-fe41bb92b764 button.colab-df-convert');\n",
              "        buttonEl.style.display =\n",
              "          google.colab.kernel.accessAllowed ? 'block' : 'none';\n",
              "\n",
              "        async function convertToInteractive(key) {\n",
              "          const element = document.querySelector('#df-5abcb57b-ec3e-4544-8dbf-fe41bb92b764');\n",
              "          const dataTable =\n",
              "            await google.colab.kernel.invokeFunction('convertToInteractive',\n",
              "                                                     [key], {});\n",
              "          if (!dataTable) return;\n",
              "\n",
              "          const docLinkHtml = 'Like what you see? Visit the ' +\n",
              "            '<a target=\"_blank\" href=https://colab.research.google.com/notebooks/data_table.ipynb>data table notebook</a>'\n",
              "            + ' to learn more about interactive tables.';\n",
              "          element.innerHTML = '';\n",
              "          dataTable['output_type'] = 'display_data';\n",
              "          await google.colab.output.renderOutput(dataTable, element);\n",
              "          const docLink = document.createElement('div');\n",
              "          docLink.innerHTML = docLinkHtml;\n",
              "          element.appendChild(docLink);\n",
              "        }\n",
              "      </script>\n",
              "    </div>\n",
              "  </div>\n",
              "  "
            ]
          },
          "metadata": {},
          "execution_count": 138
        }
      ]
    },
    {
      "cell_type": "code",
      "source": [
        "pd.DataFrame(data)"
      ],
      "metadata": {
        "colab": {
          "base_uri": "https://localhost:8080/",
          "height": 424
        },
        "id": "1njJd3u_0INT",
        "outputId": "36498e62-eeb7-4fea-e80f-c0d7c2c00452"
      },
      "execution_count": 139,
      "outputs": [
        {
          "output_type": "execute_result",
          "data": {
            "text/plain": [
              "      pclass      fare      age  sex  sibsp  parch  survived\n",
              "0          1  211.3375  29.0000    0      0      0         1\n",
              "1          1  151.5500   0.9167    1      1      2         1\n",
              "2          1  151.5500   2.0000    0      1      2         0\n",
              "3          1  151.5500  30.0000    1      1      2         0\n",
              "4          1  151.5500  25.0000    0      1      2         0\n",
              "...      ...       ...      ...  ...    ...    ...       ...\n",
              "1301       3    7.2250  45.5000    1      0      0         0\n",
              "1304       3   14.4542  14.5000    0      1      0         0\n",
              "1306       3    7.2250  26.5000    1      0      0         0\n",
              "1307       3    7.2250  27.0000    1      0      0         0\n",
              "1308       3    7.8750  29.0000    1      0      0         0\n",
              "\n",
              "[1045 rows x 7 columns]"
            ],
            "text/html": [
              "\n",
              "  <div id=\"df-1d223efa-cdab-49a7-8cd9-941087502a7c\">\n",
              "    <div class=\"colab-df-container\">\n",
              "      <div>\n",
              "<style scoped>\n",
              "    .dataframe tbody tr th:only-of-type {\n",
              "        vertical-align: middle;\n",
              "    }\n",
              "\n",
              "    .dataframe tbody tr th {\n",
              "        vertical-align: top;\n",
              "    }\n",
              "\n",
              "    .dataframe thead th {\n",
              "        text-align: right;\n",
              "    }\n",
              "</style>\n",
              "<table border=\"1\" class=\"dataframe\">\n",
              "  <thead>\n",
              "    <tr style=\"text-align: right;\">\n",
              "      <th></th>\n",
              "      <th>pclass</th>\n",
              "      <th>fare</th>\n",
              "      <th>age</th>\n",
              "      <th>sex</th>\n",
              "      <th>sibsp</th>\n",
              "      <th>parch</th>\n",
              "      <th>survived</th>\n",
              "    </tr>\n",
              "  </thead>\n",
              "  <tbody>\n",
              "    <tr>\n",
              "      <th>0</th>\n",
              "      <td>1</td>\n",
              "      <td>211.3375</td>\n",
              "      <td>29.0000</td>\n",
              "      <td>0</td>\n",
              "      <td>0</td>\n",
              "      <td>0</td>\n",
              "      <td>1</td>\n",
              "    </tr>\n",
              "    <tr>\n",
              "      <th>1</th>\n",
              "      <td>1</td>\n",
              "      <td>151.5500</td>\n",
              "      <td>0.9167</td>\n",
              "      <td>1</td>\n",
              "      <td>1</td>\n",
              "      <td>2</td>\n",
              "      <td>1</td>\n",
              "    </tr>\n",
              "    <tr>\n",
              "      <th>2</th>\n",
              "      <td>1</td>\n",
              "      <td>151.5500</td>\n",
              "      <td>2.0000</td>\n",
              "      <td>0</td>\n",
              "      <td>1</td>\n",
              "      <td>2</td>\n",
              "      <td>0</td>\n",
              "    </tr>\n",
              "    <tr>\n",
              "      <th>3</th>\n",
              "      <td>1</td>\n",
              "      <td>151.5500</td>\n",
              "      <td>30.0000</td>\n",
              "      <td>1</td>\n",
              "      <td>1</td>\n",
              "      <td>2</td>\n",
              "      <td>0</td>\n",
              "    </tr>\n",
              "    <tr>\n",
              "      <th>4</th>\n",
              "      <td>1</td>\n",
              "      <td>151.5500</td>\n",
              "      <td>25.0000</td>\n",
              "      <td>0</td>\n",
              "      <td>1</td>\n",
              "      <td>2</td>\n",
              "      <td>0</td>\n",
              "    </tr>\n",
              "    <tr>\n",
              "      <th>...</th>\n",
              "      <td>...</td>\n",
              "      <td>...</td>\n",
              "      <td>...</td>\n",
              "      <td>...</td>\n",
              "      <td>...</td>\n",
              "      <td>...</td>\n",
              "      <td>...</td>\n",
              "    </tr>\n",
              "    <tr>\n",
              "      <th>1301</th>\n",
              "      <td>3</td>\n",
              "      <td>7.2250</td>\n",
              "      <td>45.5000</td>\n",
              "      <td>1</td>\n",
              "      <td>0</td>\n",
              "      <td>0</td>\n",
              "      <td>0</td>\n",
              "    </tr>\n",
              "    <tr>\n",
              "      <th>1304</th>\n",
              "      <td>3</td>\n",
              "      <td>14.4542</td>\n",
              "      <td>14.5000</td>\n",
              "      <td>0</td>\n",
              "      <td>1</td>\n",
              "      <td>0</td>\n",
              "      <td>0</td>\n",
              "    </tr>\n",
              "    <tr>\n",
              "      <th>1306</th>\n",
              "      <td>3</td>\n",
              "      <td>7.2250</td>\n",
              "      <td>26.5000</td>\n",
              "      <td>1</td>\n",
              "      <td>0</td>\n",
              "      <td>0</td>\n",
              "      <td>0</td>\n",
              "    </tr>\n",
              "    <tr>\n",
              "      <th>1307</th>\n",
              "      <td>3</td>\n",
              "      <td>7.2250</td>\n",
              "      <td>27.0000</td>\n",
              "      <td>1</td>\n",
              "      <td>0</td>\n",
              "      <td>0</td>\n",
              "      <td>0</td>\n",
              "    </tr>\n",
              "    <tr>\n",
              "      <th>1308</th>\n",
              "      <td>3</td>\n",
              "      <td>7.8750</td>\n",
              "      <td>29.0000</td>\n",
              "      <td>1</td>\n",
              "      <td>0</td>\n",
              "      <td>0</td>\n",
              "      <td>0</td>\n",
              "    </tr>\n",
              "  </tbody>\n",
              "</table>\n",
              "<p>1045 rows × 7 columns</p>\n",
              "</div>\n",
              "      <button class=\"colab-df-convert\" onclick=\"convertToInteractive('df-1d223efa-cdab-49a7-8cd9-941087502a7c')\"\n",
              "              title=\"Convert this dataframe to an interactive table.\"\n",
              "              style=\"display:none;\">\n",
              "        \n",
              "  <svg xmlns=\"http://www.w3.org/2000/svg\" height=\"24px\"viewBox=\"0 0 24 24\"\n",
              "       width=\"24px\">\n",
              "    <path d=\"M0 0h24v24H0V0z\" fill=\"none\"/>\n",
              "    <path d=\"M18.56 5.44l.94 2.06.94-2.06 2.06-.94-2.06-.94-.94-2.06-.94 2.06-2.06.94zm-11 1L8.5 8.5l.94-2.06 2.06-.94-2.06-.94L8.5 2.5l-.94 2.06-2.06.94zm10 10l.94 2.06.94-2.06 2.06-.94-2.06-.94-.94-2.06-.94 2.06-2.06.94z\"/><path d=\"M17.41 7.96l-1.37-1.37c-.4-.4-.92-.59-1.43-.59-.52 0-1.04.2-1.43.59L10.3 9.45l-7.72 7.72c-.78.78-.78 2.05 0 2.83L4 21.41c.39.39.9.59 1.41.59.51 0 1.02-.2 1.41-.59l7.78-7.78 2.81-2.81c.8-.78.8-2.07 0-2.86zM5.41 20L4 18.59l7.72-7.72 1.47 1.35L5.41 20z\"/>\n",
              "  </svg>\n",
              "      </button>\n",
              "      \n",
              "  <style>\n",
              "    .colab-df-container {\n",
              "      display:flex;\n",
              "      flex-wrap:wrap;\n",
              "      gap: 12px;\n",
              "    }\n",
              "\n",
              "    .colab-df-convert {\n",
              "      background-color: #E8F0FE;\n",
              "      border: none;\n",
              "      border-radius: 50%;\n",
              "      cursor: pointer;\n",
              "      display: none;\n",
              "      fill: #1967D2;\n",
              "      height: 32px;\n",
              "      padding: 0 0 0 0;\n",
              "      width: 32px;\n",
              "    }\n",
              "\n",
              "    .colab-df-convert:hover {\n",
              "      background-color: #E2EBFA;\n",
              "      box-shadow: 0px 1px 2px rgba(60, 64, 67, 0.3), 0px 1px 3px 1px rgba(60, 64, 67, 0.15);\n",
              "      fill: #174EA6;\n",
              "    }\n",
              "\n",
              "    [theme=dark] .colab-df-convert {\n",
              "      background-color: #3B4455;\n",
              "      fill: #D2E3FC;\n",
              "    }\n",
              "\n",
              "    [theme=dark] .colab-df-convert:hover {\n",
              "      background-color: #434B5C;\n",
              "      box-shadow: 0px 1px 3px 1px rgba(0, 0, 0, 0.15);\n",
              "      filter: drop-shadow(0px 1px 2px rgba(0, 0, 0, 0.3));\n",
              "      fill: #FFFFFF;\n",
              "    }\n",
              "  </style>\n",
              "\n",
              "      <script>\n",
              "        const buttonEl =\n",
              "          document.querySelector('#df-1d223efa-cdab-49a7-8cd9-941087502a7c button.colab-df-convert');\n",
              "        buttonEl.style.display =\n",
              "          google.colab.kernel.accessAllowed ? 'block' : 'none';\n",
              "\n",
              "        async function convertToInteractive(key) {\n",
              "          const element = document.querySelector('#df-1d223efa-cdab-49a7-8cd9-941087502a7c');\n",
              "          const dataTable =\n",
              "            await google.colab.kernel.invokeFunction('convertToInteractive',\n",
              "                                                     [key], {});\n",
              "          if (!dataTable) return;\n",
              "\n",
              "          const docLinkHtml = 'Like what you see? Visit the ' +\n",
              "            '<a target=\"_blank\" href=https://colab.research.google.com/notebooks/data_table.ipynb>data table notebook</a>'\n",
              "            + ' to learn more about interactive tables.';\n",
              "          element.innerHTML = '';\n",
              "          dataTable['output_type'] = 'display_data';\n",
              "          await google.colab.output.renderOutput(dataTable, element);\n",
              "          const docLink = document.createElement('div');\n",
              "          docLink.innerHTML = docLinkHtml;\n",
              "          element.appendChild(docLink);\n",
              "        }\n",
              "      </script>\n",
              "    </div>\n",
              "  </div>\n",
              "  "
            ]
          },
          "metadata": {},
          "execution_count": 139
        }
      ]
    },
    {
      "cell_type": "markdown",
      "source": [
        "**PREPROCESADO**"
      ],
      "metadata": {
        "id": "sXjj9E7mrhBv"
      }
    },
    {
      "cell_type": "code",
      "source": [
        "X = data.drop(columns=[\"survived\"])\n",
        "y = data[\"survived\"]\n",
        "\n",
        "print(f'''\n",
        "      ====================================================================================================\n",
        "      El problema de clasificación es de {X.shape[1]} features ---(prediciendo)---> {len(set(y))} clases\n",
        "      ====================================================================================================\n",
        "      ''')\n",
        "\n",
        "X_train, X_test, y_train, y_test = train_test_split(X, y, test_size=0.2)\n",
        "\n",
        "NORMALIZAR = True\n",
        "\n",
        "if NORMALIZAR:\n",
        "    scaler = StandardScaler().fit(X_train)\n",
        "    X_train = scaler.transform(X_train)\n",
        "    X_test = scaler.transform(X_test)"
      ],
      "metadata": {
        "colab": {
          "base_uri": "https://localhost:8080/"
        },
        "id": "mcDzFNWmrhIY",
        "outputId": "da91c6c4-173a-4367-8588-4bdd25de4f09"
      },
      "execution_count": 140,
      "outputs": [
        {
          "output_type": "stream",
          "name": "stdout",
          "text": [
            "\n",
            "      ====================================================================================================\n",
            "      El problema de clasificación es de 6 features ---(prediciendo)---> 2 clases\n",
            "      ====================================================================================================\n",
            "      \n"
          ]
        }
      ]
    },
    {
      "cell_type": "markdown",
      "source": [
        "# **REDES NEURONALES**"
      ],
      "metadata": {
        "id": "YCqMeQK5rJ_-"
      }
    },
    {
      "cell_type": "markdown",
      "source": [
        "**MODELADO**"
      ],
      "metadata": {
        "id": "4kZxtBpprhNI"
      }
    },
    {
      "cell_type": "code",
      "source": [
        "modelo = MLPClassifier(hidden_layer_sizes=(20, 5),\n",
        "                       max_iter=500,\n",
        "                       tol=1e-4,\n",
        "                       verbose=True,\n",
        "                       activation='tanh',\n",
        "                       learning_rate_init=0.003,\n",
        "                       solver='adam')\n",
        "modelo.fit(X_train, y_train)"
      ],
      "metadata": {
        "colab": {
          "base_uri": "https://localhost:8080/"
        },
        "id": "jkBJXK9krhUP",
        "outputId": "97cf5e2e-f99d-4b1a-db1d-8e3cd74babba"
      },
      "execution_count": 141,
      "outputs": [
        {
          "output_type": "stream",
          "name": "stdout",
          "text": [
            "Iteration 1, loss = 0.84946399\n",
            "Iteration 2, loss = 0.77895402\n",
            "Iteration 3, loss = 0.72099883\n",
            "Iteration 4, loss = 0.67300912\n",
            "Iteration 5, loss = 0.63458955\n",
            "Iteration 6, loss = 0.60282562\n",
            "Iteration 7, loss = 0.57665778\n",
            "Iteration 8, loss = 0.55595362\n",
            "Iteration 9, loss = 0.53887014\n",
            "Iteration 10, loss = 0.52382276\n",
            "Iteration 11, loss = 0.51141218\n",
            "Iteration 12, loss = 0.50144000\n",
            "Iteration 13, loss = 0.49239742\n",
            "Iteration 14, loss = 0.48532259\n",
            "Iteration 15, loss = 0.47950442\n",
            "Iteration 16, loss = 0.47400031\n",
            "Iteration 17, loss = 0.46942673\n",
            "Iteration 18, loss = 0.46593874\n",
            "Iteration 19, loss = 0.46291993\n",
            "Iteration 20, loss = 0.46119675\n",
            "Iteration 21, loss = 0.45899068\n",
            "Iteration 22, loss = 0.45740812\n",
            "Iteration 23, loss = 0.45596822\n",
            "Iteration 24, loss = 0.45464400\n",
            "Iteration 25, loss = 0.45345140\n",
            "Iteration 26, loss = 0.45225919\n",
            "Iteration 27, loss = 0.45114080\n",
            "Iteration 28, loss = 0.45042371\n",
            "Iteration 29, loss = 0.44967898\n",
            "Iteration 30, loss = 0.44897629\n",
            "Iteration 31, loss = 0.44837104\n",
            "Iteration 32, loss = 0.44819712\n",
            "Iteration 33, loss = 0.44733891\n",
            "Iteration 34, loss = 0.44682367\n",
            "Iteration 35, loss = 0.44634963\n",
            "Iteration 36, loss = 0.44577254\n",
            "Iteration 37, loss = 0.44488436\n",
            "Iteration 38, loss = 0.44429505\n",
            "Iteration 39, loss = 0.44381022\n",
            "Iteration 40, loss = 0.44332915\n",
            "Iteration 41, loss = 0.44265254\n",
            "Iteration 42, loss = 0.44207028\n",
            "Iteration 43, loss = 0.44182882\n",
            "Iteration 44, loss = 0.44143125\n",
            "Iteration 45, loss = 0.44091507\n",
            "Iteration 46, loss = 0.44061999\n",
            "Iteration 47, loss = 0.44064597\n",
            "Iteration 48, loss = 0.43991398\n",
            "Iteration 49, loss = 0.43961329\n",
            "Iteration 50, loss = 0.43901866\n",
            "Iteration 51, loss = 0.43858194\n",
            "Iteration 52, loss = 0.43804247\n",
            "Iteration 53, loss = 0.43744560\n",
            "Iteration 54, loss = 0.43715434\n",
            "Iteration 55, loss = 0.43657200\n",
            "Iteration 56, loss = 0.43661759\n",
            "Iteration 57, loss = 0.43663333\n",
            "Iteration 58, loss = 0.43621011\n",
            "Iteration 59, loss = 0.43550529\n",
            "Iteration 60, loss = 0.43475207\n",
            "Iteration 61, loss = 0.43392443\n",
            "Iteration 62, loss = 0.43315081\n",
            "Iteration 63, loss = 0.43311281\n",
            "Iteration 64, loss = 0.43296224\n",
            "Iteration 65, loss = 0.43249398\n",
            "Iteration 66, loss = 0.43223030\n",
            "Iteration 67, loss = 0.43161352\n",
            "Iteration 68, loss = 0.43121161\n",
            "Iteration 69, loss = 0.43083820\n",
            "Iteration 70, loss = 0.43048001\n",
            "Iteration 71, loss = 0.43011755\n",
            "Iteration 72, loss = 0.42956782\n",
            "Iteration 73, loss = 0.42940004\n",
            "Iteration 74, loss = 0.42904301\n",
            "Iteration 75, loss = 0.42880614\n",
            "Iteration 76, loss = 0.42817991\n",
            "Iteration 77, loss = 0.42784245\n",
            "Iteration 78, loss = 0.42746792\n",
            "Iteration 79, loss = 0.42687246\n",
            "Iteration 80, loss = 0.42647761\n",
            "Iteration 81, loss = 0.42594013\n",
            "Iteration 82, loss = 0.42578017\n",
            "Iteration 83, loss = 0.42534331\n",
            "Iteration 84, loss = 0.42515358\n",
            "Iteration 85, loss = 0.42534048\n",
            "Iteration 86, loss = 0.42500533\n",
            "Iteration 87, loss = 0.42500691\n",
            "Iteration 88, loss = 0.42439798\n",
            "Iteration 89, loss = 0.42393753\n",
            "Iteration 90, loss = 0.42327165\n",
            "Iteration 91, loss = 0.42300291\n",
            "Iteration 92, loss = 0.42289675\n",
            "Iteration 93, loss = 0.42250833\n",
            "Iteration 94, loss = 0.42194985\n",
            "Iteration 95, loss = 0.42132720\n",
            "Iteration 96, loss = 0.42113679\n",
            "Iteration 97, loss = 0.42075033\n",
            "Iteration 98, loss = 0.42077861\n",
            "Iteration 99, loss = 0.42058051\n",
            "Iteration 100, loss = 0.42076386\n",
            "Iteration 101, loss = 0.42008253\n",
            "Iteration 102, loss = 0.41944375\n",
            "Iteration 103, loss = 0.41932772\n",
            "Iteration 104, loss = 0.41965575\n",
            "Iteration 105, loss = 0.41940153\n",
            "Iteration 106, loss = 0.41858305\n",
            "Iteration 107, loss = 0.41826973\n",
            "Iteration 108, loss = 0.41879992\n",
            "Iteration 109, loss = 0.41875546\n",
            "Iteration 110, loss = 0.41789330\n",
            "Iteration 111, loss = 0.41728138\n",
            "Iteration 112, loss = 0.41699738\n",
            "Iteration 113, loss = 0.41656524\n",
            "Iteration 114, loss = 0.41634570\n",
            "Iteration 115, loss = 0.41588924\n",
            "Iteration 116, loss = 0.41606155\n",
            "Iteration 117, loss = 0.41566239\n",
            "Iteration 118, loss = 0.41567593\n",
            "Iteration 119, loss = 0.41530230\n",
            "Iteration 120, loss = 0.41473513\n",
            "Iteration 121, loss = 0.41473100\n",
            "Iteration 122, loss = 0.41493430\n",
            "Iteration 123, loss = 0.41554873\n",
            "Iteration 124, loss = 0.41541978\n",
            "Iteration 125, loss = 0.41460840\n",
            "Iteration 126, loss = 0.41395278\n",
            "Iteration 127, loss = 0.41349659\n",
            "Iteration 128, loss = 0.41314686\n",
            "Iteration 129, loss = 0.41370653\n",
            "Iteration 130, loss = 0.41443738\n",
            "Iteration 131, loss = 0.41353341\n",
            "Iteration 132, loss = 0.41331725\n",
            "Iteration 133, loss = 0.41214210\n",
            "Iteration 134, loss = 0.41251976\n",
            "Iteration 135, loss = 0.41267690\n",
            "Iteration 136, loss = 0.41209528\n",
            "Iteration 137, loss = 0.41156222\n",
            "Iteration 138, loss = 0.41119359\n",
            "Iteration 139, loss = 0.41126520\n",
            "Iteration 140, loss = 0.41132071\n",
            "Iteration 141, loss = 0.41051706\n",
            "Iteration 142, loss = 0.41058384\n",
            "Iteration 143, loss = 0.41030594\n",
            "Iteration 144, loss = 0.41031185\n",
            "Iteration 145, loss = 0.40966000\n",
            "Iteration 146, loss = 0.40987497\n",
            "Iteration 147, loss = 0.40950882\n",
            "Iteration 148, loss = 0.40982041\n",
            "Iteration 149, loss = 0.40930268\n",
            "Iteration 150, loss = 0.40919177\n",
            "Iteration 151, loss = 0.40941641\n",
            "Iteration 152, loss = 0.40946639\n",
            "Iteration 153, loss = 0.40894440\n",
            "Iteration 154, loss = 0.40861350\n",
            "Iteration 155, loss = 0.40848473\n",
            "Iteration 156, loss = 0.40839917\n",
            "Iteration 157, loss = 0.40801375\n",
            "Iteration 158, loss = 0.40744282\n",
            "Iteration 159, loss = 0.40739121\n",
            "Iteration 160, loss = 0.40739177\n",
            "Iteration 161, loss = 0.40714380\n",
            "Iteration 162, loss = 0.40701186\n",
            "Iteration 163, loss = 0.40642217\n",
            "Iteration 164, loss = 0.40637316\n",
            "Iteration 165, loss = 0.40623123\n",
            "Iteration 166, loss = 0.40649390\n",
            "Iteration 167, loss = 0.40607644\n",
            "Iteration 168, loss = 0.40577649\n",
            "Iteration 169, loss = 0.40526204\n",
            "Iteration 170, loss = 0.40517373\n",
            "Iteration 171, loss = 0.40547790\n",
            "Iteration 172, loss = 0.40547236\n",
            "Iteration 173, loss = 0.40532776\n",
            "Iteration 174, loss = 0.40509555\n",
            "Iteration 175, loss = 0.40431833\n",
            "Iteration 176, loss = 0.40516124\n",
            "Iteration 177, loss = 0.40488056\n",
            "Iteration 178, loss = 0.40460322\n",
            "Iteration 179, loss = 0.40498198\n",
            "Iteration 180, loss = 0.40396404\n",
            "Iteration 181, loss = 0.40343532\n",
            "Iteration 182, loss = 0.40317495\n",
            "Iteration 183, loss = 0.40295877\n",
            "Iteration 184, loss = 0.40302810\n",
            "Iteration 185, loss = 0.40301310\n",
            "Iteration 186, loss = 0.40306688\n",
            "Iteration 187, loss = 0.40307670\n",
            "Iteration 188, loss = 0.40295995\n",
            "Iteration 189, loss = 0.40229956\n",
            "Iteration 190, loss = 0.40212579\n",
            "Iteration 191, loss = 0.40183505\n",
            "Iteration 192, loss = 0.40145887\n",
            "Iteration 193, loss = 0.40156981\n",
            "Iteration 194, loss = 0.40189177\n",
            "Iteration 195, loss = 0.40136348\n",
            "Iteration 196, loss = 0.40107774\n",
            "Iteration 197, loss = 0.40105280\n",
            "Iteration 198, loss = 0.40095886\n",
            "Iteration 199, loss = 0.40127865\n",
            "Iteration 200, loss = 0.40113060\n",
            "Iteration 201, loss = 0.40078175\n",
            "Iteration 202, loss = 0.40112017\n",
            "Iteration 203, loss = 0.40174527\n",
            "Iteration 204, loss = 0.40195754\n",
            "Iteration 205, loss = 0.40139660\n",
            "Iteration 206, loss = 0.40136806\n",
            "Iteration 207, loss = 0.40095807\n",
            "Iteration 208, loss = 0.40070704\n",
            "Iteration 209, loss = 0.40035787\n",
            "Iteration 210, loss = 0.40051977\n",
            "Iteration 211, loss = 0.39979137\n",
            "Iteration 212, loss = 0.39946366\n",
            "Iteration 213, loss = 0.40038935\n",
            "Iteration 214, loss = 0.40083279\n",
            "Iteration 215, loss = 0.40012140\n",
            "Iteration 216, loss = 0.39945906\n",
            "Iteration 217, loss = 0.39854997\n",
            "Iteration 218, loss = 0.39802695\n",
            "Iteration 219, loss = 0.39902761\n",
            "Iteration 220, loss = 0.39826551\n",
            "Iteration 221, loss = 0.39786920\n",
            "Iteration 222, loss = 0.39875957\n",
            "Iteration 223, loss = 0.39846982\n",
            "Iteration 224, loss = 0.39802835\n",
            "Iteration 225, loss = 0.39777152\n",
            "Iteration 226, loss = 0.39774584\n",
            "Iteration 227, loss = 0.39757941\n",
            "Iteration 228, loss = 0.39726112\n",
            "Iteration 229, loss = 0.39740379\n",
            "Iteration 230, loss = 0.39749079\n",
            "Iteration 231, loss = 0.39731267\n",
            "Iteration 232, loss = 0.39680054\n",
            "Iteration 233, loss = 0.39679797\n",
            "Iteration 234, loss = 0.39635202\n",
            "Iteration 235, loss = 0.39631611\n",
            "Iteration 236, loss = 0.39569845\n",
            "Iteration 237, loss = 0.39626850\n",
            "Iteration 238, loss = 0.39663842\n",
            "Iteration 239, loss = 0.39631468\n",
            "Iteration 240, loss = 0.39609139\n",
            "Iteration 241, loss = 0.39668335\n",
            "Iteration 242, loss = 0.39575136\n",
            "Iteration 243, loss = 0.39554685\n",
            "Iteration 244, loss = 0.39657663\n",
            "Iteration 245, loss = 0.39582167\n",
            "Iteration 246, loss = 0.39490675\n",
            "Iteration 247, loss = 0.39519556\n",
            "Iteration 248, loss = 0.39447342\n",
            "Iteration 249, loss = 0.39530444\n",
            "Iteration 250, loss = 0.39544427\n",
            "Iteration 251, loss = 0.39551101\n",
            "Iteration 252, loss = 0.39460844\n",
            "Iteration 253, loss = 0.39483749\n",
            "Iteration 254, loss = 0.39472426\n",
            "Iteration 255, loss = 0.39513840\n",
            "Iteration 256, loss = 0.39509480\n",
            "Iteration 257, loss = 0.39464670\n",
            "Iteration 258, loss = 0.39418363\n",
            "Iteration 259, loss = 0.39441786\n",
            "Iteration 260, loss = 0.39409002\n",
            "Iteration 261, loss = 0.39439133\n",
            "Iteration 262, loss = 0.39431350\n",
            "Iteration 263, loss = 0.39378958\n",
            "Iteration 264, loss = 0.39361090\n",
            "Iteration 265, loss = 0.39342724\n",
            "Iteration 266, loss = 0.39298179\n",
            "Iteration 267, loss = 0.39318227\n",
            "Iteration 268, loss = 0.39338487\n",
            "Iteration 269, loss = 0.39270186\n",
            "Iteration 270, loss = 0.39233641\n",
            "Iteration 271, loss = 0.39254922\n",
            "Iteration 272, loss = 0.39237920\n",
            "Iteration 273, loss = 0.39254026\n",
            "Iteration 274, loss = 0.39240294\n",
            "Iteration 275, loss = 0.39215922\n",
            "Iteration 276, loss = 0.39217060\n",
            "Iteration 277, loss = 0.39171257\n",
            "Iteration 278, loss = 0.39178459\n",
            "Iteration 279, loss = 0.39380413\n",
            "Iteration 280, loss = 0.39280956\n",
            "Iteration 281, loss = 0.39184348\n",
            "Iteration 282, loss = 0.39221511\n",
            "Iteration 283, loss = 0.39263413\n",
            "Iteration 284, loss = 0.39222338\n",
            "Iteration 285, loss = 0.39109482\n",
            "Iteration 286, loss = 0.39085976\n",
            "Iteration 287, loss = 0.39105910\n",
            "Iteration 288, loss = 0.39112818\n",
            "Iteration 289, loss = 0.39101699\n",
            "Iteration 290, loss = 0.39116070\n",
            "Iteration 291, loss = 0.39093572\n",
            "Iteration 292, loss = 0.39036537\n",
            "Iteration 293, loss = 0.39035213\n",
            "Iteration 294, loss = 0.39024914\n",
            "Iteration 295, loss = 0.39023461\n",
            "Iteration 296, loss = 0.39022376\n",
            "Iteration 297, loss = 0.39008355\n",
            "Iteration 298, loss = 0.38962947\n",
            "Iteration 299, loss = 0.38967236\n",
            "Iteration 300, loss = 0.38957177\n",
            "Iteration 301, loss = 0.38929677\n",
            "Iteration 302, loss = 0.38940778\n",
            "Iteration 303, loss = 0.38925916\n",
            "Iteration 304, loss = 0.38928511\n",
            "Iteration 305, loss = 0.38874722\n",
            "Iteration 306, loss = 0.38916059\n",
            "Iteration 307, loss = 0.38930357\n",
            "Iteration 308, loss = 0.38848566\n",
            "Iteration 309, loss = 0.38879411\n",
            "Iteration 310, loss = 0.38987129\n",
            "Iteration 311, loss = 0.38970791\n",
            "Iteration 312, loss = 0.38925628\n",
            "Iteration 313, loss = 0.38868565\n",
            "Iteration 314, loss = 0.38856707\n",
            "Iteration 315, loss = 0.38821244\n",
            "Iteration 316, loss = 0.38787033\n",
            "Iteration 317, loss = 0.38779343\n",
            "Iteration 318, loss = 0.38773602\n",
            "Iteration 319, loss = 0.38746852\n",
            "Iteration 320, loss = 0.38719975\n",
            "Iteration 321, loss = 0.38745446\n",
            "Iteration 322, loss = 0.38718084\n",
            "Iteration 323, loss = 0.38758158\n",
            "Iteration 324, loss = 0.38735769\n",
            "Iteration 325, loss = 0.38749016\n",
            "Iteration 326, loss = 0.38809753\n",
            "Iteration 327, loss = 0.38746038\n",
            "Iteration 328, loss = 0.38704780\n",
            "Iteration 329, loss = 0.38656486\n",
            "Iteration 330, loss = 0.38645711\n",
            "Iteration 331, loss = 0.38689643\n",
            "Iteration 332, loss = 0.38662749\n",
            "Iteration 333, loss = 0.38722182\n",
            "Iteration 334, loss = 0.38677222\n",
            "Iteration 335, loss = 0.38608856\n",
            "Iteration 336, loss = 0.38605158\n",
            "Iteration 337, loss = 0.38605888\n",
            "Iteration 338, loss = 0.38673422\n",
            "Iteration 339, loss = 0.38632514\n",
            "Iteration 340, loss = 0.38604396\n",
            "Iteration 341, loss = 0.38589863\n",
            "Iteration 342, loss = 0.38553061\n",
            "Iteration 343, loss = 0.38580079\n",
            "Iteration 344, loss = 0.38566162\n",
            "Iteration 345, loss = 0.38527938\n",
            "Iteration 346, loss = 0.38550872\n",
            "Iteration 347, loss = 0.38491301\n",
            "Iteration 348, loss = 0.38506729\n",
            "Iteration 349, loss = 0.38482506\n",
            "Iteration 350, loss = 0.38502513\n",
            "Iteration 351, loss = 0.38522714\n",
            "Iteration 352, loss = 0.38479946\n",
            "Iteration 353, loss = 0.38534684\n",
            "Iteration 354, loss = 0.38539008\n",
            "Iteration 355, loss = 0.38480988\n",
            "Iteration 356, loss = 0.38436878\n",
            "Iteration 357, loss = 0.38478778\n",
            "Iteration 358, loss = 0.38456305\n",
            "Iteration 359, loss = 0.38436400\n",
            "Iteration 360, loss = 0.38443236\n",
            "Iteration 361, loss = 0.38420342\n",
            "Iteration 362, loss = 0.38421343\n",
            "Iteration 363, loss = 0.38428169\n",
            "Iteration 364, loss = 0.38393671\n",
            "Iteration 365, loss = 0.38382110\n",
            "Iteration 366, loss = 0.38367030\n",
            "Iteration 367, loss = 0.38403153\n",
            "Iteration 368, loss = 0.38355991\n",
            "Iteration 369, loss = 0.38320376\n",
            "Iteration 370, loss = 0.38368360\n",
            "Iteration 371, loss = 0.38326749\n",
            "Iteration 372, loss = 0.38328295\n",
            "Iteration 373, loss = 0.38456496\n",
            "Iteration 374, loss = 0.38417057\n",
            "Iteration 375, loss = 0.38288868\n",
            "Iteration 376, loss = 0.38270040\n",
            "Iteration 377, loss = 0.38289867\n",
            "Iteration 378, loss = 0.38297067\n",
            "Iteration 379, loss = 0.38280241\n",
            "Iteration 380, loss = 0.38261381\n",
            "Iteration 381, loss = 0.38228266\n",
            "Iteration 382, loss = 0.38306138\n",
            "Iteration 383, loss = 0.38240157\n",
            "Iteration 384, loss = 0.38246960\n",
            "Iteration 385, loss = 0.38292281\n",
            "Iteration 386, loss = 0.38214485\n",
            "Iteration 387, loss = 0.38218018\n",
            "Iteration 388, loss = 0.38251884\n",
            "Iteration 389, loss = 0.38254616\n",
            "Iteration 390, loss = 0.38190024\n",
            "Iteration 391, loss = 0.38210807\n",
            "Iteration 392, loss = 0.38251954\n",
            "Iteration 393, loss = 0.38264959\n",
            "Iteration 394, loss = 0.38216467\n",
            "Iteration 395, loss = 0.38237703\n",
            "Iteration 396, loss = 0.38362325\n",
            "Iteration 397, loss = 0.38307647\n",
            "Iteration 398, loss = 0.38164955\n",
            "Iteration 399, loss = 0.38216302\n",
            "Iteration 400, loss = 0.38232339\n",
            "Iteration 401, loss = 0.38262303\n",
            "Iteration 402, loss = 0.38167507\n",
            "Iteration 403, loss = 0.38142854\n",
            "Iteration 404, loss = 0.38225639\n",
            "Iteration 405, loss = 0.38169280\n",
            "Iteration 406, loss = 0.38115126\n",
            "Iteration 407, loss = 0.38150365\n",
            "Iteration 408, loss = 0.38151060\n",
            "Iteration 409, loss = 0.38138254\n",
            "Iteration 410, loss = 0.38101228\n",
            "Iteration 411, loss = 0.38097157\n",
            "Iteration 412, loss = 0.38087123\n",
            "Iteration 413, loss = 0.38114242\n",
            "Iteration 414, loss = 0.38092604\n",
            "Iteration 415, loss = 0.38058885\n",
            "Iteration 416, loss = 0.38031149\n",
            "Iteration 417, loss = 0.38069627\n",
            "Iteration 418, loss = 0.38020383\n",
            "Iteration 419, loss = 0.38024528\n",
            "Iteration 420, loss = 0.38041626\n",
            "Iteration 421, loss = 0.38026067\n",
            "Iteration 422, loss = 0.38069845\n",
            "Iteration 423, loss = 0.38065846\n",
            "Iteration 424, loss = 0.38050686\n",
            "Iteration 425, loss = 0.38006213\n",
            "Iteration 426, loss = 0.38015413\n",
            "Iteration 427, loss = 0.37978317\n",
            "Iteration 428, loss = 0.37976306\n",
            "Iteration 429, loss = 0.38021658\n",
            "Iteration 430, loss = 0.37978311\n",
            "Iteration 431, loss = 0.37936576\n",
            "Iteration 432, loss = 0.37995648\n",
            "Iteration 433, loss = 0.37954711\n",
            "Iteration 434, loss = 0.37968727\n",
            "Iteration 435, loss = 0.38036156\n",
            "Iteration 436, loss = 0.38347979\n",
            "Iteration 437, loss = 0.38211189\n",
            "Iteration 438, loss = 0.37981456\n",
            "Iteration 439, loss = 0.37902248\n",
            "Iteration 440, loss = 0.37898648\n",
            "Iteration 441, loss = 0.37899131\n",
            "Iteration 442, loss = 0.37899926\n",
            "Iteration 443, loss = 0.37896525\n",
            "Iteration 444, loss = 0.37912927\n",
            "Iteration 445, loss = 0.37933188\n",
            "Iteration 446, loss = 0.37922489\n",
            "Iteration 447, loss = 0.37877874\n",
            "Iteration 448, loss = 0.37881955\n",
            "Iteration 449, loss = 0.37928512\n",
            "Iteration 450, loss = 0.37924788\n",
            "Iteration 451, loss = 0.37841673\n",
            "Iteration 452, loss = 0.37822384\n",
            "Iteration 453, loss = 0.37866128\n",
            "Iteration 454, loss = 0.37954444\n",
            "Iteration 455, loss = 0.37868725\n",
            "Iteration 456, loss = 0.37814229\n",
            "Iteration 457, loss = 0.37858032\n",
            "Iteration 458, loss = 0.37862751\n",
            "Iteration 459, loss = 0.37851495\n",
            "Iteration 460, loss = 0.37883414\n",
            "Iteration 461, loss = 0.37841546\n",
            "Iteration 462, loss = 0.37853835\n",
            "Iteration 463, loss = 0.37866934\n",
            "Training loss did not improve more than tol=0.000100 for 10 consecutive epochs. Stopping.\n"
          ]
        },
        {
          "output_type": "execute_result",
          "data": {
            "text/plain": [
              "MLPClassifier(activation='tanh', hidden_layer_sizes=(20, 5),\n",
              "              learning_rate_init=0.003, max_iter=500, verbose=True)"
            ]
          },
          "metadata": {},
          "execution_count": 141
        }
      ]
    },
    {
      "cell_type": "markdown",
      "source": [
        "**EVALUACION**"
      ],
      "metadata": {
        "id": "Zbu9F_Z-rhaf"
      }
    },
    {
      "cell_type": "markdown",
      "source": [
        "**MÉTRICAS SOBRE EL CONJUNTO DE TRAINING**"
      ],
      "metadata": {
        "id": "0QJE1i4IsC5Z"
      }
    },
    {
      "cell_type": "code",
      "source": [
        "# 3\n",
        "\n",
        "print_classification_report(y_train, modelo.predict(X_train))"
      ],
      "metadata": {
        "colab": {
          "base_uri": "https://localhost:8080/"
        },
        "id": "w0OZJxiXsDvs",
        "outputId": "fddecb82-5ffc-4e25-c43b-184a4ffc431f"
      },
      "execution_count": 142,
      "outputs": [
        {
          "output_type": "stream",
          "name": "stdout",
          "text": [
            "              precision    recall  f1-score   support\n",
            "\n",
            "           0       0.82      0.90      0.86       491\n",
            "           1       0.84      0.72      0.77       345\n",
            "\n",
            "    accuracy                           0.83       836\n",
            "   macro avg       0.83      0.81      0.82       836\n",
            "weighted avg       0.83      0.83      0.82       836\n",
            "\n"
          ]
        }
      ]
    },
    {
      "cell_type": "markdown",
      "source": [
        "**MÉTRICAS SOBRE EL CONJUNTO DE TESTING**"
      ],
      "metadata": {
        "id": "cAA4w9tasD0g"
      }
    },
    {
      "cell_type": "code",
      "source": [
        "# 3\n",
        "\n",
        "print_classification_report(y_test, modelo.predict(X_test))"
      ],
      "metadata": {
        "colab": {
          "base_uri": "https://localhost:8080/"
        },
        "id": "WnKfOLAWrhgB",
        "outputId": "1840c590-7a29-42cc-cc89-9eaff4b30995"
      },
      "execution_count": 143,
      "outputs": [
        {
          "output_type": "stream",
          "name": "stdout",
          "text": [
            "              precision    recall  f1-score   support\n",
            "\n",
            "           0       0.83      0.90      0.86       127\n",
            "           1       0.82      0.71      0.76        82\n",
            "\n",
            "    accuracy                           0.82       209\n",
            "   macro avg       0.82      0.80      0.81       209\n",
            "weighted avg       0.82      0.82      0.82       209\n",
            "\n"
          ]
        }
      ]
    },
    {
      "cell_type": "markdown",
      "source": [
        "**MATRIZ DE CONFUSIÓN**"
      ],
      "metadata": {
        "id": "UQgjzf7tsJ0i"
      }
    },
    {
      "cell_type": "code",
      "source": [
        "# 2\n",
        "\n",
        "visualizar_confusion_matrix(y_test, modelo.predict(X_test))"
      ],
      "metadata": {
        "colab": {
          "base_uri": "https://localhost:8080/",
          "height": 297
        },
        "id": "500g5hJUsMcM",
        "outputId": "ea2d41aa-ad99-40af-c8ff-842fba4b0b61"
      },
      "execution_count": 144,
      "outputs": [
        {
          "output_type": "display_data",
          "data": {
            "text/plain": [
              "<Figure size 432x288 with 2 Axes>"
            ],
            "image/png": "[encoded data removed]"
          },
          "metadata": {
            "needs_background": "light"
          }
        }
      ]
    },
    {
      "cell_type": "markdown",
      "source": [
        "Muestra cómo de relaciona y_predict con y_true"
      ],
      "metadata": {
        "id": "WH5uvlt1HgHb"
      }
    },
    {
      "cell_type": "markdown",
      "source": [
        "**CURVA DE ROC Y DE PRECISION-RECALL**"
      ],
      "metadata": {
        "id": "-4ue09ZTsPrp"
      }
    },
    {
      "cell_type": "code",
      "source": [
        "# 4\n",
        "\n",
        "visualizar_curva_ROC(modelo, X, y)"
      ],
      "metadata": {
        "colab": {
          "base_uri": "https://localhost:8080/",
          "height": 608
        },
        "id": "nGG5Fd3EsQJY",
        "outputId": "188219dd-bb1f-46f5-f6b2-9e3bf70b0899"
      },
      "execution_count": 145,
      "outputs": [
        {
          "output_type": "stream",
          "name": "stderr",
          "text": [
            "/usr/local/lib/python3.7/dist-packages/sklearn/base.py:444: UserWarning: X has feature names, but MLPClassifier was fitted without feature names\n",
            "  f\"X has feature names, but {self.__class__.__name__} was fitted without\"\n"
          ]
        },
        {
          "output_type": "display_data",
          "data": {
            "text/plain": [
              "<Figure size 432x288 with 1 Axes>"
            ],
            "image/png": "[encoded data removed]"
          },
          "metadata": {
            "needs_background": "light"
          }
        },
        {
          "output_type": "display_data",
          "data": {
            "text/plain": [
              "<Figure size 432x288 with 1 Axes>"
            ],
            "image/png": "[encoded data removed]"
          },
          "metadata": {
            "needs_background": "light"
          }
        }
      ]
    },
    {
      "cell_type": "markdown",
      "source": [
        "El area de la curva del ROC indica que el test es regular debido a que se encuentra entre 0.6 - 0.7"
      ],
      "metadata": {
        "id": "xMpMds-ur-V1"
      }
    },
    {
      "cell_type": "markdown",
      "source": [
        "**FRONTERA DE DECISIÓN DE DOS DIMENSIONES**"
      ],
      "metadata": {
        "id": "obOurxUjsWw_"
      }
    },
    {
      "cell_type": "markdown",
      "source": [
        "Dado que la variable X tienes muchas columnas, no aplica dicha gráfica (#5)."
      ],
      "metadata": {
        "id": "RtMxL1ZLDrcX"
      }
    },
    {
      "cell_type": "markdown",
      "source": [
        "**FUNCION DE TRANSFERENCIA DE DOS DIMENSIONES**"
      ],
      "metadata": {
        "id": "azjgBLdBsd7h"
      }
    },
    {
      "cell_type": "markdown",
      "source": [
        "Dado que la variable X tienes muchas columnas, no aplica dicha gráfica (#5)."
      ],
      "metadata": {
        "id": "3wLQcg7CDptL"
      }
    },
    {
      "cell_type": "markdown",
      "source": [
        "La **curva logística** del punto #6 con la función AA_utils.visualizar_curva_logistica no aplica en este ejercicio debido a que el modelo cuenta con mas de una features en la variable X."
      ],
      "metadata": {
        "id": "J7N3-u0VDzgp"
      }
    },
    {
      "cell_type": "markdown",
      "source": [
        "**CURVA DE ERROR DE ENTRENAMIENTO**"
      ],
      "metadata": {
        "id": "FaPnvj59sgmR"
      }
    },
    {
      "cell_type": "code",
      "source": [
        "visualizar_curva_error_entrenamiento(modelo)"
      ],
      "metadata": {
        "colab": {
          "base_uri": "https://localhost:8080/",
          "height": 279
        },
        "id": "4RbenFr2sYfv",
        "outputId": "572dd8e2-a336-4cf8-e93d-54b606e6f014"
      },
      "execution_count": 146,
      "outputs": [
        {
          "output_type": "display_data",
          "data": {
            "text/plain": [
              "<Figure size 432x288 with 1 Axes>"
            ],
            "image/png": "[encoded data removed]"
          },
          "metadata": {
            "needs_background": "light"
          }
        }
      ]
    },
    {
      "cell_type": "markdown",
      "source": [
        "# **REGRESIÓN LOGÍSTICA**"
      ],
      "metadata": {
        "id": "fZz0YLbHnUp7"
      }
    },
    {
      "cell_type": "markdown",
      "source": [
        "**MODELADO**"
      ],
      "metadata": {
        "id": "lJajO61woHCV"
      }
    },
    {
      "cell_type": "code",
      "source": [
        "modelo_2 = LogisticRegression()\n",
        "modelo_2.fit(X_train, y_train)"
      ],
      "metadata": {
        "colab": {
          "base_uri": "https://localhost:8080/"
        },
        "id": "4n1nM1mJoHNn",
        "outputId": "fa5b6ebb-2b0f-4286-81cf-f849961dc2e8"
      },
      "execution_count": 147,
      "outputs": [
        {
          "output_type": "execute_result",
          "data": {
            "text/plain": [
              "LogisticRegression()"
            ]
          },
          "metadata": {},
          "execution_count": 147
        }
      ]
    },
    {
      "cell_type": "markdown",
      "source": [
        "**EVALUACION**"
      ],
      "metadata": {
        "id": "BIO7yx8Koop_"
      }
    },
    {
      "cell_type": "markdown",
      "source": [
        "**MÉTRICAS SOBRE EL CONJUNTO DE TRAINING**"
      ],
      "metadata": {
        "id": "yh8AQ_Xkoos_"
      }
    },
    {
      "cell_type": "code",
      "source": [
        "# 3\n",
        "\n",
        "print_classification_report(y_train, modelo_2.predict(X_train))"
      ],
      "metadata": {
        "colab": {
          "base_uri": "https://localhost:8080/"
        },
        "id": "nBMWiMWXoo6P",
        "outputId": "bd22a4c1-a1a1-4220-f28d-410f1156b2f4"
      },
      "execution_count": 148,
      "outputs": [
        {
          "output_type": "stream",
          "name": "stdout",
          "text": [
            "              precision    recall  f1-score   support\n",
            "\n",
            "           0       0.80      0.85      0.82       491\n",
            "           1       0.76      0.70      0.73       345\n",
            "\n",
            "    accuracy                           0.79       836\n",
            "   macro avg       0.78      0.77      0.78       836\n",
            "weighted avg       0.78      0.79      0.78       836\n",
            "\n"
          ]
        }
      ]
    },
    {
      "cell_type": "markdown",
      "source": [
        "**MÉTRICAS SOBRE EL CONJUNTO DE TESTING**"
      ],
      "metadata": {
        "id": "8beNKCDZovTX"
      }
    },
    {
      "cell_type": "code",
      "source": [
        "# 3\n",
        "\n",
        "print_classification_report(y_test, modelo_2.predict(X_test))"
      ],
      "metadata": {
        "colab": {
          "base_uri": "https://localhost:8080/"
        },
        "id": "0G82G18aopCu",
        "outputId": "1b546b61-2d40-4410-e6bd-7adb3f985ac2"
      },
      "execution_count": 149,
      "outputs": [
        {
          "output_type": "stream",
          "name": "stdout",
          "text": [
            "              precision    recall  f1-score   support\n",
            "\n",
            "           0       0.82      0.81      0.82       127\n",
            "           1       0.71      0.73      0.72        82\n",
            "\n",
            "    accuracy                           0.78       209\n",
            "   macro avg       0.77      0.77      0.77       209\n",
            "weighted avg       0.78      0.78      0.78       209\n",
            "\n"
          ]
        }
      ]
    },
    {
      "cell_type": "markdown",
      "source": [
        "**MATRIZ DE CONFUSIÓN**"
      ],
      "metadata": {
        "id": "9r6VgoJWoyEY"
      }
    },
    {
      "cell_type": "code",
      "source": [
        "# 2\n",
        "\n",
        "visualizar_confusion_matrix(y_test, modelo_2.predict(X_test))"
      ],
      "metadata": {
        "colab": {
          "base_uri": "https://localhost:8080/",
          "height": 297
        },
        "id": "VzdgDnAZopMX",
        "outputId": "1ec38466-a309-4d45-be77-0c1132c66fe3"
      },
      "execution_count": 150,
      "outputs": [
        {
          "output_type": "display_data",
          "data": {
            "text/plain": [
              "<Figure size 432x288 with 2 Axes>"
            ],
            "image/png": "[encoded data removed]"
          },
          "metadata": {
            "needs_background": "light"
          }
        }
      ]
    },
    {
      "cell_type": "markdown",
      "source": [
        "**CURVA DE ROC Y DE PRECISION-RECALL**"
      ],
      "metadata": {
        "id": "Avz8dJvoo37S"
      }
    },
    {
      "cell_type": "code",
      "source": [
        "# 4\n",
        "\n",
        "visualizar_curva_ROC(modelo_2, X, y)"
      ],
      "metadata": {
        "colab": {
          "base_uri": "https://localhost:8080/",
          "height": 608
        },
        "id": "cEWSbxu-o5Je",
        "outputId": "80f8da12-75b5-47d0-ac10-08ae5e8cbbf0"
      },
      "execution_count": 151,
      "outputs": [
        {
          "output_type": "stream",
          "name": "stderr",
          "text": [
            "/usr/local/lib/python3.7/dist-packages/sklearn/base.py:444: UserWarning: X has feature names, but LogisticRegression was fitted without feature names\n",
            "  f\"X has feature names, but {self.__class__.__name__} was fitted without\"\n"
          ]
        },
        {
          "output_type": "display_data",
          "data": {
            "text/plain": [
              "<Figure size 432x288 with 1 Axes>"
            ],
            "image/png": "[encoded data removed]"
          },
          "metadata": {
            "needs_background": "light"
          }
        },
        {
          "output_type": "display_data",
          "data": {
            "text/plain": [
              "<Figure size 432x288 with 1 Axes>"
            ],
            "image/png": "[encoded data removed]"
          },
          "metadata": {
            "needs_background": "light"
          }
        }
      ]
    },
    {
      "cell_type": "markdown",
      "source": [
        "Dado el área de la curva de ROC, se puede clasificar al modelo como regular.\n",
        "\n",
        "Con esto se observa que **tanto el modelo de redes neuronales como el de regresión logística se comportan de una forma similar**."
      ],
      "metadata": {
        "id": "9Nzlp0_YsW9F"
      }
    },
    {
      "cell_type": "markdown",
      "source": [
        "**VISUALIZO LOS PARÁMETROS**"
      ],
      "metadata": {
        "id": "jIzi60ggo7V-"
      }
    },
    {
      "cell_type": "code",
      "source": [
        "# 1\n",
        "\n",
        "visualizar_parametros(modelo_2, mostrar_bias=False, feature_names=X.columns, target_name=y.name)"
      ],
      "metadata": {
        "colab": {
          "base_uri": "https://localhost:8080/",
          "height": 288
        },
        "id": "21qBajCLo8Tu",
        "outputId": "812ea23a-2820-4275-dc22-6333f3cb130e"
      },
      "execution_count": 152,
      "outputs": [
        {
          "output_type": "display_data",
          "data": {
            "text/plain": [
              "<Figure size 432x288 with 1 Axes>"
            ],
            "image/png": "[encoded data removed]"
          },
          "metadata": {
            "needs_background": "light"
          }
        }
      ]
    },
    {
      "cell_type": "markdown",
      "source": [
        "**FRONTERA DE DECISIÓN DE DOS DIMENSIONES**"
      ],
      "metadata": {
        "id": "3SDBSI3Ao-G3"
      }
    },
    {
      "cell_type": "markdown",
      "source": [
        "Dado que la variable X tienes muchas columnas, no aplica dicha gráfica (#5)."
      ],
      "metadata": {
        "id": "zrkPoWf6DubZ"
      }
    },
    {
      "cell_type": "markdown",
      "source": [
        "**FUNCION DE TRANSFERENCIA DE DOS DIMENSIONES**"
      ],
      "metadata": {
        "id": "QjKKvBGDpHYo"
      }
    },
    {
      "cell_type": "markdown",
      "source": [
        "Dado que la variable X tienes muchas columnas, no aplica dicha gráfica (#5)."
      ],
      "metadata": {
        "id": "bPtRno7zDtp_"
      }
    },
    {
      "cell_type": "markdown",
      "source": [
        "La **curva logística** del punto #6 con la función AA_utils.visualizar_curva_logistica no aplica en este ejercicio debido a que el modelo cuenta con mas de una features en la variable X."
      ],
      "metadata": {
        "id": "wdsm_ZRvBWp4"
      }
    }
  ]
}