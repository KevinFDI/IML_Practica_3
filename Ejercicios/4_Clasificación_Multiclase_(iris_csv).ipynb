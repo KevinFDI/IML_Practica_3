{
  "nbformat": 4,
  "nbformat_minor": 0,
  "metadata": {
    "colab": {
      "provenance": [],
      "collapsed_sections": [
        "wOifR_9hKDBf"
      ]
    },
    "kernelspec": {
      "name": "python3",
      "display_name": "Python 3"
    },
    "language_info": {
      "name": "python"
    }
  },
  "cells": [
    {
      "cell_type": "markdown",
      "source": [
        "**CONSIGNAS PARA TODOS LOS EJERCICIOS:**\n",
        "\n",
        "1.   En el caso de utilizar una Regresión Logística grafique sus parámetros con la función AA_utils.visualizar_parametros\n",
        "2.   Grafique e interprete la matriz de confusión de la predicción sobre el set de test con la función AA_utils.visualizar_confusion_matrix\n",
        "3.   Elabore un reporte de métricas tanto para la predicción de train como para la de test con la función AA_utils.print_classification_report\n",
        "4.   En los casos de clasificación binaria grafique e interprete la curva ROC con la función AA_utils.visualizar_curva_ROC\n",
        "5.   En los caso de clasificación de dos variables grafique la función de transferencia y la frontera de decisión con las funciones AA_utils.visualizar_funcion_transferencia_2D y AA_utils.visualizar_frontera_de_desicion_2D\n",
        "6.   En los casos de clasificación binaria de una variable grafique la curva logística con la función AA_utils.visualizar_curva_logistica"
      ],
      "metadata": {
        "id": "xqOZstgFKGU_"
      }
    },
    {
      "cell_type": "markdown",
      "source": [
        "# **IRIS**"
      ],
      "metadata": {
        "id": "wOifR_9hKDBf"
      }
    },
    {
      "cell_type": "markdown",
      "source": [
        "**Clasificación Multiclase:** Compare modelos de Regresión Logística y Redes Neuronales para clasificar el dataset Iris.csv. El dataset contiene información de 3 especies de flores. \n",
        "\n",
        "El código “ejemplo_clasificacion_multiclase_dos_variables_regresion_logistica.py” posee un ejemplo de cómo realizar una clasificación multiclase.\n"
      ],
      "metadata": {
        "id": "huYKNMzjKIMQ"
      }
    },
    {
      "cell_type": "code",
      "execution_count": 94,
      "metadata": {
        "id": "qlkcv8Prwg5m"
      },
      "outputs": [],
      "source": [
        "import pandas as pd\n",
        "import numpy as np\n",
        "import matplotlib.pyplot as plt\n",
        "import itertools\n",
        "\n",
        "from mpl_toolkits.axes_grid1 import make_axes_locatable\n",
        "\n",
        "from sklearn.metrics import confusion_matrix, roc_curve, roc_auc_score, precision_recall_curve, classification_report\n",
        "from sklearn.linear_model import LogisticRegression\n",
        "from sklearn.model_selection import train_test_split\n",
        "from sklearn.preprocessing import StandardScaler\n",
        "from sklearn.neural_network import MLPClassifier"
      ]
    },
    {
      "cell_type": "markdown",
      "source": [
        "# **AA UTILS**"
      ],
      "metadata": {
        "id": "ViBKTjV3rSAq"
      }
    },
    {
      "cell_type": "code",
      "source": [
        "def if_dataframe_to_numpy(data):\n",
        "    return data.to_numpy() if isinstance(data, pd.DataFrame) or isinstance(data, pd.Series) else data\n",
        "\n",
        "def plot_2d(modelo, X, X_train, X_test, y_train, y_test, boundry_function):\n",
        "\n",
        "    assert X.shape[1] == 2, f\"X debe tener solo dos variables de entrada (tiene {X.shape[1]})\"\n",
        "\n",
        "    X = if_dataframe_to_numpy(X)\n",
        "    X_train = if_dataframe_to_numpy(X_train)\n",
        "    X_test = if_dataframe_to_numpy(X_test)\n",
        "\n",
        "    plt.figure()\n",
        "    x_min, x_max = X[:, 0].min() - 1, X[:, 0].max() + 1\n",
        "    y_min, y_max = X[:, 1].min() - 1, X[:, 1].max() + 1\n",
        "    xx, yy = np.meshgrid(np.arange(x_min, x_max, 0.02),\n",
        "                         np.arange(y_min, y_max, 0.02))\n",
        "\n",
        "    Z = np.c_[xx.ravel(), yy.ravel()]\n",
        "    Z = boundry_function(modelo, Z)\n",
        "    Z = Z.reshape(xx.shape)\n",
        "\n",
        "    plt.contourf(xx, yy, Z, alpha=0.3)\n",
        "    plt.colorbar()\n",
        "\n",
        "    plt.scatter(X_train[:, 0], X_train[:, 1], marker=\"o\", c=y_train, label='Training')\n",
        "    plt.scatter(X_test[:, 0], X_test[:, 1], marker=\"+\", c=y_test, s=80, label='Testing')\n",
        "    plt.legend()\n",
        "    plt.show()\n",
        "\n",
        "def print_classification_report(y_true, y_pred):\n",
        "    print(classification_report(y_true, y_pred))\n",
        "\n",
        "def visualizar_parametros(modelo, mostrar_bias, feature_names=[], target_name='target'):\n",
        "    parametros = pd.DataFrame(modelo.coef_, columns=feature_names if len(feature_names) > 0 else range(modelo.coef_.shape[1]))\n",
        "\n",
        "    if mostrar_bias:\n",
        "        parametros['bias'] = modelo.intercept_\n",
        "\n",
        "    parametros.T.plot(kind='bar')\n",
        "\n",
        "    if hasattr(modelo, 'classes_'):\n",
        "        if len(modelo.classes_) <= 2:\n",
        "            plt.legend([target_name])\n",
        "        else:\n",
        "            plt.legend(list(modelo.classes_))\n",
        "    else:\n",
        "        plt.legend([target_name])\n",
        "\n",
        "    plt.show()\n",
        "\n",
        "def visualizar_curva_logistica(modelo, X, y, feature_name='target'):\n",
        "\n",
        "    assert X.shape[1] == 1, f\"X debe tener solo una variable de entrada (tiene {X.shape[1]})\"\n",
        "\n",
        "    X = if_dataframe_to_numpy(X)\n",
        "\n",
        "    plt.figure()\n",
        "    plt.scatter(X, y, c=y, s=50)\n",
        "    plt.xlabel(feature_name)\n",
        "    plt.grid()\n",
        "\n",
        "    x_min, x_max = X[:, 0].min() - 1, X[:, 0].max() + 1\n",
        "    x_graph = np.linspace(x_min, x_max)\n",
        "    y_graph = modelo.predict_proba(x_graph.reshape(-1, 1))[:, 1]\n",
        "    plt.plot(x_graph, y_graph)\n",
        "    plt.show()\n",
        "\n",
        "def visualizar_frontera_de_desicion_2D(modelo, X, X_train, X_test, y_train, y_test):\n",
        "    plot_2d(modelo, X, X_train, X_test, y_train, y_test, lambda modelo, Z: modelo.predict(Z))\n",
        "\n",
        "def visualizar_funcion_transferencia_2D(modelo, X, X_train, X_test, y_train, y_test):\n",
        "\n",
        "    if hasattr(modelo, 'predict_proba') and callable(getattr(modelo, 'predict_proba')):\n",
        "        plot_2d(modelo, X, X_train, X_test, y_train, y_test, lambda modelo, Z: modelo.predict_proba(Z)[:, 1])\n",
        "    else:\n",
        "        raise ValueError(\"no se puede visualizar funcion de transferencia\")\n",
        "\n",
        "def visualizar_confusion_matrix(real_target, pred_target,\n",
        "                                classes=[],\n",
        "                                normalize=False,\n",
        "                                title='Matriz de confusión',\n",
        "                                cmap=plt.cm.Blues):\n",
        "\n",
        "    if (len(classes) == 0):\n",
        "        classes = [str(i) for i in range(int(max(real_target) + 1))]  # nombres de clases consecutivos\n",
        "\n",
        "    cm = confusion_matrix(real_target, pred_target)\n",
        "\n",
        "    plt.figure()\n",
        "    plt.imshow(cm, interpolation='nearest', cmap=cmap)\n",
        "    plt.title(title)\n",
        "    plt.colorbar()\n",
        "    tick_marks = np.arange(len(classes))\n",
        "    plt.xticks(tick_marks, classes, rotation=45)\n",
        "    plt.yticks(tick_marks, classes)\n",
        "\n",
        "    fmt = '.2f' if normalize else 'd'\n",
        "    thresh = cm.max() / 2.\n",
        "    for i, j in itertools.product(range(cm.shape[0]), range(cm.shape[1])):\n",
        "        plt.text(j, i, format(cm[i, j], fmt),\n",
        "                 horizontalalignment=\"center\",\n",
        "                 color=\"white\" if cm[i, j] > thresh else \"black\", size=16)\n",
        "\n",
        "    plt.ylabel('True label')\n",
        "    plt.xlabel('Predicted label')\n",
        "    plt.show()\n",
        "\n",
        "def visualizar_curva_ROC(modelo, X, y):\n",
        "\n",
        "    assert len(set(y)) <= 2, f\"El dataset debe ser binario (hay {len(set(y))}) clases\"\n",
        "\n",
        "    y_score = modelo.predict_proba(X)[:, 1]  # se queda con la clase 1\n",
        "\n",
        "    false_positive_rate, true_positive_rate, threshold = roc_curve(y, y_score)\n",
        "\n",
        "    precision, recall, _ = precision_recall_curve(y, y_score)\n",
        "\n",
        "    # ROC\n",
        "    plt.figure()\n",
        "    plt.title('ROC. Receiver Operating Characteristic')\n",
        "    plt.plot(false_positive_rate, true_positive_rate, label='ROC curve (area = %0.2f)' % roc_auc_score(y, y_score))\n",
        "    plt.plot([0, 1], ls=\"--\")\n",
        "    plt.plot([0, 0], [1, 0], c=\".7\"), plt.plot([1, 1], c=\".7\")\n",
        "    plt.legend(loc=\"lower right\")\n",
        "    plt.ylabel('True Positive Rate (Recall)')\n",
        "    plt.xlabel('False Positive Rate (1- Especificidad)')\n",
        "    plt.show()\n",
        "\n",
        "    # precision-recall curve\n",
        "    plt.figure()\n",
        "    plt.step(recall, precision, color='b', alpha=0.2, where='post')\n",
        "    plt.fill_between(recall, precision, step='post', alpha=0.2, color='b')\n",
        "    plt.xlabel('Recall')\n",
        "    plt.ylabel('Precision')\n",
        "    plt.ylim([0.0, 1.05])\n",
        "    plt.xlim([0.0, 1.0])\n",
        "    plt.title('Precision-Recall curve')\n",
        "    plt.show()\n",
        "\n",
        "def elegir_imagen_al_azar(X, pixeles_ancho, pixeles_alto):\n",
        "    indice = np.random.randint(0, X.shape[0])\n",
        "    img_i = np.reshape(X[indice, :], (pixeles_ancho, pixeles_alto))\n",
        "    plt.figure()\n",
        "    plt.imshow(img_i, 'gray')\n",
        "    plt.title('Dato aleatorio')\n",
        "    plt.show()\n",
        "    return X[indice].reshape(1, -1), indice\n",
        "\n",
        "def visualizar_parametros_para_imagenes(modelo, cantidad_de_clases, pixeles_ancho=28, pixeles_alto=28):\n",
        "\n",
        "    if hasattr(modelo, 'coef_'):\n",
        "        w = modelo.coef_\n",
        "    elif hasattr(modelo, 'coefs_') and (modelo.coefs_) == 1:\n",
        "        w = modelo.coefs_[0]\n",
        "    else:\n",
        "        raise \"para visualizar los parametros de la red es necesario tener cero capas ocultas\"\n",
        "\n",
        "    colorbar_max = np.abs(np.max(w))\n",
        "    w_r = np.reshape(w, (cantidad_de_clases, pixeles_ancho, pixeles_alto))\n",
        "    fig, ax = plt.subplots(2, cantidad_de_clases // 2)\n",
        "    plt.suptitle('Coeficientes aprendidos para cada clase, \\nagrupados en forma matricial de 28x28')\n",
        "    index = 0\n",
        "    for row in range(0, 2):\n",
        "        for col in range(0, cantidad_de_clases // 2):\n",
        "            colorbar_max = max(np.abs(np.max(w_r[index, :, :])), np.abs(np.min(w_r[index, :, :])))\n",
        "            ax_im = ax[row][col].imshow(w_r[index, :, :], cmap='seismic', vmin=-colorbar_max, vmax=colorbar_max)\n",
        "            ax[row][col].get_xaxis().set_visible(False)\n",
        "            ax[row][col].get_yaxis().set_visible(False)\n",
        "            ax[row][col].set_title(str(index))\n",
        "            divider = make_axes_locatable(ax[row][col])\n",
        "            cax = divider.append_axes(\"right\", size=\"5%\", pad=0.05)\n",
        "\n",
        "            fig.colorbar(ax_im, ax=ax[row][col], cax=cax)\n",
        "            index += 1\n",
        "    plt.show()\n",
        "\n",
        "def visualizar_ajuste_por_regresion(modelo, X_train, X_test, y_train, y_test,\n",
        "                                    feature_name='X', target_name='target'):\n",
        "    plt.scatter(X_train, y_train, c='blue', s=40, alpha=0.9, label='Training')\n",
        "    plt.scatter(X_test, y_test, c='red', s=50, alpha=0.5, label='Testing')\n",
        "    plt.xlabel(feature_name)\n",
        "    plt.ylabel(target_name)\n",
        "    plt.legend()\n",
        "    plt.grid()\n",
        "\n",
        "    X_train = if_dataframe_to_numpy(X_train)\n",
        "    X_test = if_dataframe_to_numpy(X_test)\n",
        "\n",
        "    x_max = max(max(X_train), max(X_test))\n",
        "    x_min = min(min(X_train), min(X_test))\n",
        "\n",
        "    x_plot = np.linspace(x_min, x_max, 100)\n",
        "    y_plot = modelo.predict(x_plot.reshape(-1, 1))\n",
        "    plt.plot(x_plot, y_plot, 'g--', linewidth=5)\n",
        "    plt.show()\n",
        "\n",
        "def visualizar_curva_error_entrenamiento(modelo):\n",
        "    plt.plot(modelo.loss_curve_)\n",
        "    plt.xlabel('iterations')\n",
        "    plt.ylabel('loss')\n",
        "    plt.legend(['Train'])\n",
        "    plt.show()\n"
      ],
      "metadata": {
        "id": "bq7m9jn-rXE2"
      },
      "execution_count": 95,
      "outputs": []
    },
    {
      "cell_type": "markdown",
      "source": [
        "# **CLASIFICACIÓN MULTICLASE**"
      ],
      "metadata": {
        "id": "uKAo9WohreVg"
      }
    },
    {
      "cell_type": "markdown",
      "source": [
        "**CARGA DE DATOS**"
      ],
      "metadata": {
        "id": "p1KMtx3BQ4tm"
      }
    },
    {
      "cell_type": "code",
      "source": [
        "df = pd.read_csv(r\"https://raw.githubusercontent.com/KevinFDI/IML_Practica_3/main/Pr%C3%A1ctica/datasets/iris.csv\")"
      ],
      "metadata": {
        "id": "LPFGkg8Jrg7h"
      },
      "execution_count": 96,
      "outputs": []
    },
    {
      "cell_type": "code",
      "source": [
        "pd.DataFrame(df)"
      ],
      "metadata": {
        "colab": {
          "base_uri": "https://localhost:8080/",
          "height": 424
        },
        "id": "z4IJZD_t55Zv",
        "outputId": "1b63757f-2ea6-44b1-d839-601bcd5a2974"
      },
      "execution_count": 97,
      "outputs": [
        {
          "output_type": "execute_result",
          "data": {
            "text/plain": [
              "     sepal_length  sepal_width  petal_length  petal_width       name\n",
              "0             5.1          3.5           1.4          0.2     setosa\n",
              "1             4.9          3.0           1.4          0.2     setosa\n",
              "2             4.7          3.2           1.3          0.2     setosa\n",
              "3             4.6          3.1           1.5          0.2     setosa\n",
              "4             5.0          3.6           1.4          0.2     setosa\n",
              "..            ...          ...           ...          ...        ...\n",
              "145           6.7          3.0           5.2          2.3  virginica\n",
              "146           6.3          2.5           5.0          1.9  virginica\n",
              "147           6.5          3.0           5.2          2.0  virginica\n",
              "148           6.2          3.4           5.4          2.3  virginica\n",
              "149           5.9          3.0           5.1          1.8  virginica\n",
              "\n",
              "[150 rows x 5 columns]"
            ],
            "text/html": [
              "\n",
              "  <div id=\"df-86ea84ab-0de2-440e-90ba-bef90d23816f\">\n",
              "    <div class=\"colab-df-container\">\n",
              "      <div>\n",
              "<style scoped>\n",
              "    .dataframe tbody tr th:only-of-type {\n",
              "        vertical-align: middle;\n",
              "    }\n",
              "\n",
              "    .dataframe tbody tr th {\n",
              "        vertical-align: top;\n",
              "    }\n",
              "\n",
              "    .dataframe thead th {\n",
              "        text-align: right;\n",
              "    }\n",
              "</style>\n",
              "<table border=\"1\" class=\"dataframe\">\n",
              "  <thead>\n",
              "    <tr style=\"text-align: right;\">\n",
              "      <th></th>\n",
              "      <th>sepal_length</th>\n",
              "      <th>sepal_width</th>\n",
              "      <th>petal_length</th>\n",
              "      <th>petal_width</th>\n",
              "      <th>name</th>\n",
              "    </tr>\n",
              "  </thead>\n",
              "  <tbody>\n",
              "    <tr>\n",
              "      <th>0</th>\n",
              "      <td>5.1</td>\n",
              "      <td>3.5</td>\n",
              "      <td>1.4</td>\n",
              "      <td>0.2</td>\n",
              "      <td>setosa</td>\n",
              "    </tr>\n",
              "    <tr>\n",
              "      <th>1</th>\n",
              "      <td>4.9</td>\n",
              "      <td>3.0</td>\n",
              "      <td>1.4</td>\n",
              "      <td>0.2</td>\n",
              "      <td>setosa</td>\n",
              "    </tr>\n",
              "    <tr>\n",
              "      <th>2</th>\n",
              "      <td>4.7</td>\n",
              "      <td>3.2</td>\n",
              "      <td>1.3</td>\n",
              "      <td>0.2</td>\n",
              "      <td>setosa</td>\n",
              "    </tr>\n",
              "    <tr>\n",
              "      <th>3</th>\n",
              "      <td>4.6</td>\n",
              "      <td>3.1</td>\n",
              "      <td>1.5</td>\n",
              "      <td>0.2</td>\n",
              "      <td>setosa</td>\n",
              "    </tr>\n",
              "    <tr>\n",
              "      <th>4</th>\n",
              "      <td>5.0</td>\n",
              "      <td>3.6</td>\n",
              "      <td>1.4</td>\n",
              "      <td>0.2</td>\n",
              "      <td>setosa</td>\n",
              "    </tr>\n",
              "    <tr>\n",
              "      <th>...</th>\n",
              "      <td>...</td>\n",
              "      <td>...</td>\n",
              "      <td>...</td>\n",
              "      <td>...</td>\n",
              "      <td>...</td>\n",
              "    </tr>\n",
              "    <tr>\n",
              "      <th>145</th>\n",
              "      <td>6.7</td>\n",
              "      <td>3.0</td>\n",
              "      <td>5.2</td>\n",
              "      <td>2.3</td>\n",
              "      <td>virginica</td>\n",
              "    </tr>\n",
              "    <tr>\n",
              "      <th>146</th>\n",
              "      <td>6.3</td>\n",
              "      <td>2.5</td>\n",
              "      <td>5.0</td>\n",
              "      <td>1.9</td>\n",
              "      <td>virginica</td>\n",
              "    </tr>\n",
              "    <tr>\n",
              "      <th>147</th>\n",
              "      <td>6.5</td>\n",
              "      <td>3.0</td>\n",
              "      <td>5.2</td>\n",
              "      <td>2.0</td>\n",
              "      <td>virginica</td>\n",
              "    </tr>\n",
              "    <tr>\n",
              "      <th>148</th>\n",
              "      <td>6.2</td>\n",
              "      <td>3.4</td>\n",
              "      <td>5.4</td>\n",
              "      <td>2.3</td>\n",
              "      <td>virginica</td>\n",
              "    </tr>\n",
              "    <tr>\n",
              "      <th>149</th>\n",
              "      <td>5.9</td>\n",
              "      <td>3.0</td>\n",
              "      <td>5.1</td>\n",
              "      <td>1.8</td>\n",
              "      <td>virginica</td>\n",
              "    </tr>\n",
              "  </tbody>\n",
              "</table>\n",
              "<p>150 rows × 5 columns</p>\n",
              "</div>\n",
              "      <button class=\"colab-df-convert\" onclick=\"convertToInteractive('df-86ea84ab-0de2-440e-90ba-bef90d23816f')\"\n",
              "              title=\"Convert this dataframe to an interactive table.\"\n",
              "              style=\"display:none;\">\n",
              "        \n",
              "  <svg xmlns=\"http://www.w3.org/2000/svg\" height=\"24px\"viewBox=\"0 0 24 24\"\n",
              "       width=\"24px\">\n",
              "    <path d=\"M0 0h24v24H0V0z\" fill=\"none\"/>\n",
              "    <path d=\"M18.56 5.44l.94 2.06.94-2.06 2.06-.94-2.06-.94-.94-2.06-.94 2.06-2.06.94zm-11 1L8.5 8.5l.94-2.06 2.06-.94-2.06-.94L8.5 2.5l-.94 2.06-2.06.94zm10 10l.94 2.06.94-2.06 2.06-.94-2.06-.94-.94-2.06-.94 2.06-2.06.94z\"/><path d=\"M17.41 7.96l-1.37-1.37c-.4-.4-.92-.59-1.43-.59-.52 0-1.04.2-1.43.59L10.3 9.45l-7.72 7.72c-.78.78-.78 2.05 0 2.83L4 21.41c.39.39.9.59 1.41.59.51 0 1.02-.2 1.41-.59l7.78-7.78 2.81-2.81c.8-.78.8-2.07 0-2.86zM5.41 20L4 18.59l7.72-7.72 1.47 1.35L5.41 20z\"/>\n",
              "  </svg>\n",
              "      </button>\n",
              "      \n",
              "  <style>\n",
              "    .colab-df-container {\n",
              "      display:flex;\n",
              "      flex-wrap:wrap;\n",
              "      gap: 12px;\n",
              "    }\n",
              "\n",
              "    .colab-df-convert {\n",
              "      background-color: #E8F0FE;\n",
              "      border: none;\n",
              "      border-radius: 50%;\n",
              "      cursor: pointer;\n",
              "      display: none;\n",
              "      fill: #1967D2;\n",
              "      height: 32px;\n",
              "      padding: 0 0 0 0;\n",
              "      width: 32px;\n",
              "    }\n",
              "\n",
              "    .colab-df-convert:hover {\n",
              "      background-color: #E2EBFA;\n",
              "      box-shadow: 0px 1px 2px rgba(60, 64, 67, 0.3), 0px 1px 3px 1px rgba(60, 64, 67, 0.15);\n",
              "      fill: #174EA6;\n",
              "    }\n",
              "\n",
              "    [theme=dark] .colab-df-convert {\n",
              "      background-color: #3B4455;\n",
              "      fill: #D2E3FC;\n",
              "    }\n",
              "\n",
              "    [theme=dark] .colab-df-convert:hover {\n",
              "      background-color: #434B5C;\n",
              "      box-shadow: 0px 1px 3px 1px rgba(0, 0, 0, 0.15);\n",
              "      filter: drop-shadow(0px 1px 2px rgba(0, 0, 0, 0.3));\n",
              "      fill: #FFFFFF;\n",
              "    }\n",
              "  </style>\n",
              "\n",
              "      <script>\n",
              "        const buttonEl =\n",
              "          document.querySelector('#df-86ea84ab-0de2-440e-90ba-bef90d23816f button.colab-df-convert');\n",
              "        buttonEl.style.display =\n",
              "          google.colab.kernel.accessAllowed ? 'block' : 'none';\n",
              "\n",
              "        async function convertToInteractive(key) {\n",
              "          const element = document.querySelector('#df-86ea84ab-0de2-440e-90ba-bef90d23816f');\n",
              "          const dataTable =\n",
              "            await google.colab.kernel.invokeFunction('convertToInteractive',\n",
              "                                                     [key], {});\n",
              "          if (!dataTable) return;\n",
              "\n",
              "          const docLinkHtml = 'Like what you see? Visit the ' +\n",
              "            '<a target=\"_blank\" href=https://colab.research.google.com/notebooks/data_table.ipynb>data table notebook</a>'\n",
              "            + ' to learn more about interactive tables.';\n",
              "          element.innerHTML = '';\n",
              "          dataTable['output_type'] = 'display_data';\n",
              "          await google.colab.output.renderOutput(dataTable, element);\n",
              "          const docLink = document.createElement('div');\n",
              "          docLink.innerHTML = docLinkHtml;\n",
              "          element.appendChild(docLink);\n",
              "        }\n",
              "      </script>\n",
              "    </div>\n",
              "  </div>\n",
              "  "
            ]
          },
          "metadata": {},
          "execution_count": 97
        }
      ]
    },
    {
      "cell_type": "markdown",
      "source": [
        "Convierto los valores de la columna \"name\" por int para realizar la clasificacion multiclase (si no realizo este paso, no puedo graficar por ejemplo la matriz de confusión)."
      ],
      "metadata": {
        "id": "Ebz_sg9sMzKA"
      }
    },
    {
      "cell_type": "code",
      "source": [
        "data = df.replace({'setosa' : 1, 'virginica' : 2, 'versicolor' : 3})"
      ],
      "metadata": {
        "id": "1KUNIt4sMu-k"
      },
      "execution_count": 98,
      "outputs": []
    },
    {
      "cell_type": "markdown",
      "source": [
        "**PREPROCESADO**"
      ],
      "metadata": {
        "id": "sXjj9E7mrhBv"
      }
    },
    {
      "cell_type": "code",
      "source": [
        "X = data.drop(columns=['name'])\n",
        "y = data['name']\n",
        "\n",
        "print(f'''\n",
        "      ====================================================================================================\n",
        "      El problema de clasificación es de {X.shape[1]} features ---(prediciendo)---> {len(set(y))} clases\n",
        "      ====================================================================================================\n",
        "      ''')\n",
        "\n",
        "X_train, X_test, y_train, y_test = train_test_split(X, y, test_size=0.2)\n",
        "\n",
        "NORMALIZAR = True\n",
        "\n",
        "if NORMALIZAR:\n",
        "    scaler = StandardScaler().fit(X_train)\n",
        "    X_train = scaler.transform(X_train)\n",
        "    X_test = scaler.transform(X_test)"
      ],
      "metadata": {
        "colab": {
          "base_uri": "https://localhost:8080/"
        },
        "id": "mcDzFNWmrhIY",
        "outputId": "282475e6-e9e0-47cc-930e-c7f178986b5e"
      },
      "execution_count": 99,
      "outputs": [
        {
          "output_type": "stream",
          "name": "stdout",
          "text": [
            "\n",
            "      ====================================================================================================\n",
            "      El problema de clasificación es de 4 features ---(prediciendo)---> 3 clases\n",
            "      ====================================================================================================\n",
            "      \n"
          ]
        }
      ]
    },
    {
      "cell_type": "markdown",
      "source": [
        "# **REGRESIÓN LOGÍSTICA - CLASIFICACIÓN MULTICLASE**"
      ],
      "metadata": {
        "id": "w3Fy8wucwCpo"
      }
    },
    {
      "cell_type": "markdown",
      "source": [
        "**MODELADO**"
      ],
      "metadata": {
        "id": "4kZxtBpprhNI"
      }
    },
    {
      "cell_type": "code",
      "source": [
        "modelo = LogisticRegression()\n",
        "modelo.fit(X_train, y_train)"
      ],
      "metadata": {
        "id": "jkBJXK9krhUP",
        "colab": {
          "base_uri": "https://localhost:8080/"
        },
        "outputId": "d20f8601-27d5-4439-9396-571aa3e76190"
      },
      "execution_count": 100,
      "outputs": [
        {
          "output_type": "execute_result",
          "data": {
            "text/plain": [
              "LogisticRegression()"
            ]
          },
          "metadata": {},
          "execution_count": 100
        }
      ]
    },
    {
      "cell_type": "markdown",
      "source": [
        "**EVALUACION**"
      ],
      "metadata": {
        "id": "Zbu9F_Z-rhaf"
      }
    },
    {
      "cell_type": "markdown",
      "source": [
        "**MÉTRICAS SOBRE EL CONJUNTO DE TRAINING**"
      ],
      "metadata": {
        "id": "0QJE1i4IsC5Z"
      }
    },
    {
      "cell_type": "code",
      "source": [
        "# 3\n",
        "\n",
        "print_classification_report(y_train, modelo.predict(X_train))"
      ],
      "metadata": {
        "id": "w0OZJxiXsDvs",
        "colab": {
          "base_uri": "https://localhost:8080/"
        },
        "outputId": "8735c91b-17c0-48f7-d6ae-f5e3c08dc133"
      },
      "execution_count": 101,
      "outputs": [
        {
          "output_type": "stream",
          "name": "stdout",
          "text": [
            "              precision    recall  f1-score   support\n",
            "\n",
            "           1       1.00      1.00      1.00        40\n",
            "           2       0.93      0.97      0.95        38\n",
            "           3       0.97      0.93      0.95        42\n",
            "\n",
            "    accuracy                           0.97       120\n",
            "   macro avg       0.97      0.97      0.97       120\n",
            "weighted avg       0.97      0.97      0.97       120\n",
            "\n"
          ]
        }
      ]
    },
    {
      "cell_type": "markdown",
      "source": [
        "**MÉTRICAS SOBRE EL CONJUNTO DE TESTING**"
      ],
      "metadata": {
        "id": "cAA4w9tasD0g"
      }
    },
    {
      "cell_type": "code",
      "source": [
        "# 3\n",
        "\n",
        "print_classification_report(y_test, modelo.predict(X_test))"
      ],
      "metadata": {
        "id": "WnKfOLAWrhgB",
        "colab": {
          "base_uri": "https://localhost:8080/"
        },
        "outputId": "771ad2d2-03d8-43d6-d702-89e1b5b0f778"
      },
      "execution_count": 102,
      "outputs": [
        {
          "output_type": "stream",
          "name": "stdout",
          "text": [
            "              precision    recall  f1-score   support\n",
            "\n",
            "           1       1.00      1.00      1.00        10\n",
            "           2       1.00      1.00      1.00        12\n",
            "           3       1.00      1.00      1.00         8\n",
            "\n",
            "    accuracy                           1.00        30\n",
            "   macro avg       1.00      1.00      1.00        30\n",
            "weighted avg       1.00      1.00      1.00        30\n",
            "\n"
          ]
        }
      ]
    },
    {
      "cell_type": "markdown",
      "source": [
        "El punto #4 no aplica por ser una clasificación multiclase."
      ],
      "metadata": {
        "id": "8sLSoc9WOS_C"
      }
    },
    {
      "cell_type": "markdown",
      "source": [
        "**MATRIZ DE CONFUSIÓN**"
      ],
      "metadata": {
        "id": "UQgjzf7tsJ0i"
      }
    },
    {
      "cell_type": "code",
      "source": [
        "# 2\n",
        "\n",
        "visualizar_confusion_matrix(y_test, modelo.predict(X_test))"
      ],
      "metadata": {
        "id": "500g5hJUsMcM",
        "colab": {
          "base_uri": "https://localhost:8080/",
          "height": 297
        },
        "outputId": "9789bda3-2d73-4317-f765-97cf3a260251"
      },
      "execution_count": 103,
      "outputs": [
        {
          "output_type": "display_data",
          "data": {
            "text/plain": [
              "<Figure size 432x288 with 2 Axes>"
            ],
            "image/png": "[encoded data removed]"
          },
          "metadata": {
            "needs_background": "light"
          }
        }
      ]
    },
    {
      "cell_type": "markdown",
      "source": [
        "Se observa un modelo balanceado con pocas variables clasificadas como False Positive y Negative."
      ],
      "metadata": {
        "id": "BmRkNcdBOA0X"
      }
    },
    {
      "cell_type": "markdown",
      "source": [
        "**VISUALIZACION DE PARÁMETROS**"
      ],
      "metadata": {
        "id": "-4ue09ZTsPrp"
      }
    },
    {
      "cell_type": "code",
      "source": [
        "# 1\n",
        "\n",
        "visualizar_parametros(modelo, mostrar_bias=False, feature_names=X.columns, target_name=y.name)"
      ],
      "metadata": {
        "id": "nGG5Fd3EsQJY",
        "colab": {
          "base_uri": "https://localhost:8080/",
          "height": 320
        },
        "outputId": "7b7a58dc-7780-438c-d8aa-35749644da5e"
      },
      "execution_count": 104,
      "outputs": [
        {
          "output_type": "display_data",
          "data": {
            "text/plain": [
              "<Figure size 432x288 with 1 Axes>"
            ],
            "image/png": "[encoded data removed]"
          },
          "metadata": {
            "needs_background": "light"
          }
        }
      ]
    },
    {
      "cell_type": "markdown",
      "source": [
        "**FRONTERA DE DECISIÓN DE DOS DIMENSIONES**"
      ],
      "metadata": {
        "id": "obOurxUjsWw_"
      }
    },
    {
      "cell_type": "markdown",
      "source": [
        "El punto 5 no aplica para clasificación multiclase."
      ],
      "metadata": {
        "id": "vP_G4FCXNfxZ"
      }
    },
    {
      "cell_type": "markdown",
      "source": [
        "**FUNCION DE TRANSFERENCIA DE DOS DIMENSIONES**"
      ],
      "metadata": {
        "id": "azjgBLdBsd7h"
      }
    },
    {
      "cell_type": "markdown",
      "source": [
        "El punto 5 no aplica para clasificación multiclase."
      ],
      "metadata": {
        "id": "sQwBxZqeNlTH"
      }
    },
    {
      "cell_type": "markdown",
      "source": [
        "La **curva logística** del punto #6 con la función AA_utils.visualizar_curva_logistica no aplica en este ejercicio debido a que el modelo cuenta con mas de una features en la variable X."
      ],
      "metadata": {
        "id": "AG2UtusGN5uv"
      }
    },
    {
      "cell_type": "markdown",
      "source": [
        "# **REDES NEURONALES**"
      ],
      "metadata": {
        "id": "qtzuPg9Rs1IX"
      }
    },
    {
      "cell_type": "markdown",
      "source": [
        "**MODELADO**"
      ],
      "metadata": {
        "id": "eoif8W6UwehG"
      }
    },
    {
      "cell_type": "code",
      "source": [
        "modelo_2 = MLPClassifier(hidden_layer_sizes=(20, 5),\n",
        "                       max_iter=500,\n",
        "                       tol=1e-4,\n",
        "                       verbose=True,\n",
        "                       activation='tanh',\n",
        "                       learning_rate_init=0.003,\n",
        "                       solver='adam')\n",
        "modelo_2.fit(X_train, y_train)"
      ],
      "metadata": {
        "colab": {
          "base_uri": "https://localhost:8080/"
        },
        "outputId": "3118d1eb-dd46-416d-fda9-4e754b2642aa",
        "id": "bDyb8u4dwehH"
      },
      "execution_count": 105,
      "outputs": [
        {
          "output_type": "stream",
          "name": "stdout",
          "text": [
            "Iteration 1, loss = 1.30233323\n",
            "Iteration 2, loss = 1.24400768\n",
            "Iteration 3, loss = 1.18813065\n",
            "Iteration 4, loss = 1.13481450\n",
            "Iteration 5, loss = 1.08417783\n",
            "Iteration 6, loss = 1.03632700\n",
            "Iteration 7, loss = 0.99131137\n",
            "Iteration 8, loss = 0.94912670\n",
            "Iteration 9, loss = 0.90972704\n",
            "Iteration 10, loss = 0.87303316\n",
            "Iteration 11, loss = 0.83893792\n",
            "Iteration 12, loss = 0.80731259\n",
            "Iteration 13, loss = 0.77801400\n",
            "Iteration 14, loss = 0.75089127\n",
            "Iteration 15, loss = 0.72579114\n",
            "Iteration 16, loss = 0.70256202\n",
            "Iteration 17, loss = 0.68105668\n",
            "Iteration 18, loss = 0.66113395\n",
            "Iteration 19, loss = 0.64265979\n",
            "Iteration 20, loss = 0.62550778\n",
            "Iteration 21, loss = 0.60955966\n",
            "Iteration 22, loss = 0.59470553\n",
            "Iteration 23, loss = 0.58084402\n",
            "Iteration 24, loss = 0.56788217\n",
            "Iteration 25, loss = 0.55573518\n",
            "Iteration 26, loss = 0.54432604\n",
            "Iteration 27, loss = 0.53358510\n",
            "Iteration 28, loss = 0.52344955\n",
            "Iteration 29, loss = 0.51386300\n",
            "Iteration 30, loss = 0.50477492\n",
            "Iteration 31, loss = 0.49614018\n",
            "Iteration 32, loss = 0.48791855\n",
            "Iteration 33, loss = 0.48007420\n",
            "Iteration 34, loss = 0.47257523\n",
            "Iteration 35, loss = 0.46539323\n",
            "Iteration 36, loss = 0.45850285\n",
            "Iteration 37, loss = 0.45188139\n",
            "Iteration 38, loss = 0.44550845\n",
            "Iteration 39, loss = 0.43936563\n",
            "Iteration 40, loss = 0.43343622\n",
            "Iteration 41, loss = 0.42770497\n",
            "Iteration 42, loss = 0.42215790\n",
            "Iteration 43, loss = 0.41678213\n",
            "Iteration 44, loss = 0.41156575\n",
            "Iteration 45, loss = 0.40649770\n",
            "Iteration 46, loss = 0.40156771\n",
            "Iteration 47, loss = 0.39676620\n",
            "Iteration 48, loss = 0.39208429\n",
            "Iteration 49, loss = 0.38751367\n",
            "Iteration 50, loss = 0.38304665\n",
            "Iteration 51, loss = 0.37867604\n",
            "Iteration 52, loss = 0.37439518\n",
            "Iteration 53, loss = 0.37019790\n",
            "Iteration 54, loss = 0.36607843\n",
            "Iteration 55, loss = 0.36203144\n",
            "Iteration 56, loss = 0.35805197\n",
            "Iteration 57, loss = 0.35413537\n",
            "Iteration 58, loss = 0.35027736\n",
            "Iteration 59, loss = 0.34647392\n",
            "Iteration 60, loss = 0.34272131\n",
            "Iteration 61, loss = 0.33901607\n",
            "Iteration 62, loss = 0.33535499\n",
            "Iteration 63, loss = 0.33173509\n",
            "Iteration 64, loss = 0.32815366\n",
            "Iteration 65, loss = 0.32460823\n",
            "Iteration 66, loss = 0.32109658\n",
            "Iteration 67, loss = 0.31761672\n",
            "Iteration 68, loss = 0.31416691\n",
            "Iteration 69, loss = 0.31074565\n",
            "Iteration 70, loss = 0.30735167\n",
            "Iteration 71, loss = 0.30398392\n",
            "Iteration 72, loss = 0.30064155\n",
            "Iteration 73, loss = 0.29732393\n",
            "Iteration 74, loss = 0.29403059\n",
            "Iteration 75, loss = 0.29076125\n",
            "Iteration 76, loss = 0.28751576\n",
            "Iteration 77, loss = 0.28429412\n",
            "Iteration 78, loss = 0.28109647\n",
            "Iteration 79, loss = 0.27792304\n",
            "Iteration 80, loss = 0.27477416\n",
            "Iteration 81, loss = 0.27165028\n",
            "Iteration 82, loss = 0.26855187\n",
            "Iteration 83, loss = 0.26547951\n",
            "Iteration 84, loss = 0.26243381\n",
            "Iteration 85, loss = 0.25941541\n",
            "Iteration 86, loss = 0.25642500\n",
            "Iteration 87, loss = 0.25346328\n",
            "Iteration 88, loss = 0.25053094\n",
            "Iteration 89, loss = 0.24762868\n",
            "Iteration 90, loss = 0.24475719\n",
            "Iteration 91, loss = 0.24191713\n",
            "Iteration 92, loss = 0.23910915\n",
            "Iteration 93, loss = 0.23633384\n",
            "Iteration 94, loss = 0.23359176\n",
            "Iteration 95, loss = 0.23088345\n",
            "Iteration 96, loss = 0.22820938\n",
            "Iteration 97, loss = 0.22556998\n",
            "Iteration 98, loss = 0.22296564\n",
            "Iteration 99, loss = 0.22039670\n",
            "Iteration 100, loss = 0.21786343\n",
            "Iteration 101, loss = 0.21536607\n",
            "Iteration 102, loss = 0.21290480\n",
            "Iteration 103, loss = 0.21047976\n",
            "Iteration 104, loss = 0.20809104\n",
            "Iteration 105, loss = 0.20573866\n",
            "Iteration 106, loss = 0.20342262\n",
            "Iteration 107, loss = 0.20114288\n",
            "Iteration 108, loss = 0.19889933\n",
            "Iteration 109, loss = 0.19669186\n",
            "Iteration 110, loss = 0.19452028\n",
            "Iteration 111, loss = 0.19238440\n",
            "Iteration 112, loss = 0.19028398\n",
            "Iteration 113, loss = 0.18821876\n",
            "Iteration 114, loss = 0.18618845\n",
            "Iteration 115, loss = 0.18419273\n",
            "Iteration 116, loss = 0.18223126\n",
            "Iteration 117, loss = 0.18030368\n",
            "Iteration 118, loss = 0.17840961\n",
            "Iteration 119, loss = 0.17654865\n",
            "Iteration 120, loss = 0.17472038\n",
            "Iteration 121, loss = 0.17292436\n",
            "Iteration 122, loss = 0.17116017\n",
            "Iteration 123, loss = 0.16942733\n",
            "Iteration 124, loss = 0.16772539\n",
            "Iteration 125, loss = 0.16605386\n",
            "Iteration 126, loss = 0.16441228\n",
            "Iteration 127, loss = 0.16280015\n",
            "Iteration 128, loss = 0.16121699\n",
            "Iteration 129, loss = 0.15966229\n",
            "Iteration 130, loss = 0.15813557\n",
            "Iteration 131, loss = 0.15663632\n",
            "Iteration 132, loss = 0.15516406\n",
            "Iteration 133, loss = 0.15371827\n",
            "Iteration 134, loss = 0.15229848\n",
            "Iteration 135, loss = 0.15090418\n",
            "Iteration 136, loss = 0.14953489\n",
            "Iteration 137, loss = 0.14819013\n",
            "Iteration 138, loss = 0.14686941\n",
            "Iteration 139, loss = 0.14557226\n",
            "Iteration 140, loss = 0.14429821\n",
            "Iteration 141, loss = 0.14304680\n",
            "Iteration 142, loss = 0.14181758\n",
            "Iteration 143, loss = 0.14061008\n",
            "Iteration 144, loss = 0.13942387\n",
            "Iteration 145, loss = 0.13825851\n",
            "Iteration 146, loss = 0.13711356\n",
            "Iteration 147, loss = 0.13598862\n",
            "Iteration 148, loss = 0.13488326\n",
            "Iteration 149, loss = 0.13379708\n",
            "Iteration 150, loss = 0.13272967\n",
            "Iteration 151, loss = 0.13168065\n",
            "Iteration 152, loss = 0.13064962\n",
            "Iteration 153, loss = 0.12963621\n",
            "Iteration 154, loss = 0.12864006\n",
            "Iteration 155, loss = 0.12766079\n",
            "Iteration 156, loss = 0.12669805\n",
            "Iteration 157, loss = 0.12575150\n",
            "Iteration 158, loss = 0.12482079\n",
            "Iteration 159, loss = 0.12390558\n",
            "Iteration 160, loss = 0.12300557\n",
            "Iteration 161, loss = 0.12212041\n",
            "Iteration 162, loss = 0.12124980\n",
            "Iteration 163, loss = 0.12039344\n",
            "Iteration 164, loss = 0.11955102\n",
            "Iteration 165, loss = 0.11872225\n",
            "Iteration 166, loss = 0.11790685\n",
            "Iteration 167, loss = 0.11710454\n",
            "Iteration 168, loss = 0.11631503\n",
            "Iteration 169, loss = 0.11553808\n",
            "Iteration 170, loss = 0.11477341\n",
            "Iteration 171, loss = 0.11402076\n",
            "Iteration 172, loss = 0.11327990\n",
            "Iteration 173, loss = 0.11255058\n",
            "Iteration 174, loss = 0.11183255\n",
            "Iteration 175, loss = 0.11112559\n",
            "Iteration 176, loss = 0.11042948\n",
            "Iteration 177, loss = 0.10974398\n",
            "Iteration 178, loss = 0.10906888\n",
            "Iteration 179, loss = 0.10840397\n",
            "Iteration 180, loss = 0.10774905\n",
            "Iteration 181, loss = 0.10710391\n",
            "Iteration 182, loss = 0.10646836\n",
            "Iteration 183, loss = 0.10584220\n",
            "Iteration 184, loss = 0.10522525\n",
            "Iteration 185, loss = 0.10461733\n",
            "Iteration 186, loss = 0.10401825\n",
            "Iteration 187, loss = 0.10342784\n",
            "Iteration 188, loss = 0.10284593\n",
            "Iteration 189, loss = 0.10227236\n",
            "Iteration 190, loss = 0.10170696\n",
            "Iteration 191, loss = 0.10114957\n",
            "Iteration 192, loss = 0.10060005\n",
            "Iteration 193, loss = 0.10005823\n",
            "Iteration 194, loss = 0.09952397\n",
            "Iteration 195, loss = 0.09899713\n",
            "Iteration 196, loss = 0.09847756\n",
            "Iteration 197, loss = 0.09796514\n",
            "Iteration 198, loss = 0.09745972\n",
            "Iteration 199, loss = 0.09696117\n",
            "Iteration 200, loss = 0.09646937\n",
            "Iteration 201, loss = 0.09598419\n",
            "Iteration 202, loss = 0.09550551\n",
            "Iteration 203, loss = 0.09503321\n",
            "Iteration 204, loss = 0.09456718\n",
            "Iteration 205, loss = 0.09410729\n",
            "Iteration 206, loss = 0.09365344\n",
            "Iteration 207, loss = 0.09320553\n",
            "Iteration 208, loss = 0.09276344\n",
            "Iteration 209, loss = 0.09232707\n",
            "Iteration 210, loss = 0.09189632\n",
            "Iteration 211, loss = 0.09147109\n",
            "Iteration 212, loss = 0.09105129\n",
            "Iteration 213, loss = 0.09063681\n",
            "Iteration 214, loss = 0.09022758\n",
            "Iteration 215, loss = 0.08982349\n",
            "Iteration 216, loss = 0.08942446\n",
            "Iteration 217, loss = 0.08903040\n",
            "Iteration 218, loss = 0.08864123\n",
            "Iteration 219, loss = 0.08825686\n",
            "Iteration 220, loss = 0.08787723\n",
            "Iteration 221, loss = 0.08750223\n",
            "Iteration 222, loss = 0.08713181\n",
            "Iteration 223, loss = 0.08676587\n",
            "Iteration 224, loss = 0.08640436\n",
            "Iteration 225, loss = 0.08604720\n",
            "Iteration 226, loss = 0.08569431\n",
            "Iteration 227, loss = 0.08534562\n",
            "Iteration 228, loss = 0.08500108\n",
            "Iteration 229, loss = 0.08466060\n",
            "Iteration 230, loss = 0.08432414\n",
            "Iteration 231, loss = 0.08399162\n",
            "Iteration 232, loss = 0.08366298\n",
            "Iteration 233, loss = 0.08333816\n",
            "Iteration 234, loss = 0.08301710\n",
            "Iteration 235, loss = 0.08269974\n",
            "Iteration 236, loss = 0.08238602\n",
            "Iteration 237, loss = 0.08207590\n",
            "Iteration 238, loss = 0.08176931\n",
            "Iteration 239, loss = 0.08146620\n",
            "Iteration 240, loss = 0.08116651\n",
            "Iteration 241, loss = 0.08087020\n",
            "Iteration 242, loss = 0.08057721\n",
            "Iteration 243, loss = 0.08028750\n",
            "Iteration 244, loss = 0.08000101\n",
            "Iteration 245, loss = 0.07971770\n",
            "Iteration 246, loss = 0.07943752\n",
            "Iteration 247, loss = 0.07916042\n",
            "Iteration 248, loss = 0.07888637\n",
            "Iteration 249, loss = 0.07861530\n",
            "Iteration 250, loss = 0.07834719\n",
            "Iteration 251, loss = 0.07808199\n",
            "Iteration 252, loss = 0.07781966\n",
            "Iteration 253, loss = 0.07756015\n",
            "Iteration 254, loss = 0.07730343\n",
            "Iteration 255, loss = 0.07704945\n",
            "Iteration 256, loss = 0.07679819\n",
            "Iteration 257, loss = 0.07654959\n",
            "Iteration 258, loss = 0.07630362\n",
            "Iteration 259, loss = 0.07606025\n",
            "Iteration 260, loss = 0.07581944\n",
            "Iteration 261, loss = 0.07558116\n",
            "Iteration 262, loss = 0.07534536\n",
            "Iteration 263, loss = 0.07511202\n",
            "Iteration 264, loss = 0.07488110\n",
            "Iteration 265, loss = 0.07465257\n",
            "Iteration 266, loss = 0.07442639\n",
            "Iteration 267, loss = 0.07420254\n",
            "Iteration 268, loss = 0.07398098\n",
            "Iteration 269, loss = 0.07376169\n",
            "Iteration 270, loss = 0.07354463\n",
            "Iteration 271, loss = 0.07332977\n",
            "Iteration 272, loss = 0.07311709\n",
            "Iteration 273, loss = 0.07290655\n",
            "Iteration 274, loss = 0.07269813\n",
            "Iteration 275, loss = 0.07249180\n",
            "Iteration 276, loss = 0.07228753\n",
            "Iteration 277, loss = 0.07208529\n",
            "Iteration 278, loss = 0.07188507\n",
            "Iteration 279, loss = 0.07168683\n",
            "Iteration 280, loss = 0.07149055\n",
            "Iteration 281, loss = 0.07129619\n",
            "Iteration 282, loss = 0.07110375\n",
            "Iteration 283, loss = 0.07091319\n",
            "Iteration 284, loss = 0.07072450\n",
            "Iteration 285, loss = 0.07053763\n",
            "Iteration 286, loss = 0.07035259\n",
            "Iteration 287, loss = 0.07016933\n",
            "Iteration 288, loss = 0.06998784\n",
            "Iteration 289, loss = 0.06980810\n",
            "Iteration 290, loss = 0.06963008\n",
            "Iteration 291, loss = 0.06945377\n",
            "Iteration 292, loss = 0.06927914\n",
            "Iteration 293, loss = 0.06910617\n",
            "Iteration 294, loss = 0.06893484\n",
            "Iteration 295, loss = 0.06876514\n",
            "Iteration 296, loss = 0.06859704\n",
            "Iteration 297, loss = 0.06843052\n",
            "Iteration 298, loss = 0.06826556\n",
            "Iteration 299, loss = 0.06810214\n",
            "Iteration 300, loss = 0.06794026\n",
            "Iteration 301, loss = 0.06777988\n",
            "Iteration 302, loss = 0.06762099\n",
            "Iteration 303, loss = 0.06746357\n",
            "Iteration 304, loss = 0.06730761\n",
            "Iteration 305, loss = 0.06715308\n",
            "Iteration 306, loss = 0.06699998\n",
            "Iteration 307, loss = 0.06684827\n",
            "Iteration 308, loss = 0.06669796\n",
            "Iteration 309, loss = 0.06654902\n",
            "Iteration 310, loss = 0.06640143\n",
            "Iteration 311, loss = 0.06625518\n",
            "Iteration 312, loss = 0.06611025\n",
            "Iteration 313, loss = 0.06596663\n",
            "Iteration 314, loss = 0.06582431\n",
            "Iteration 315, loss = 0.06568326\n",
            "Iteration 316, loss = 0.06554348\n",
            "Iteration 317, loss = 0.06540494\n",
            "Iteration 318, loss = 0.06526764\n",
            "Iteration 319, loss = 0.06513157\n",
            "Iteration 320, loss = 0.06499670\n",
            "Iteration 321, loss = 0.06486302\n",
            "Iteration 322, loss = 0.06473052\n",
            "Iteration 323, loss = 0.06459919\n",
            "Iteration 324, loss = 0.06446901\n",
            "Iteration 325, loss = 0.06433997\n",
            "Iteration 326, loss = 0.06421206\n",
            "Iteration 327, loss = 0.06408527\n",
            "Iteration 328, loss = 0.06395957\n",
            "Iteration 329, loss = 0.06383497\n",
            "Iteration 330, loss = 0.06371145\n",
            "Iteration 331, loss = 0.06358899\n",
            "Iteration 332, loss = 0.06346759\n",
            "Iteration 333, loss = 0.06334723\n",
            "Iteration 334, loss = 0.06322790\n",
            "Iteration 335, loss = 0.06310959\n",
            "Iteration 336, loss = 0.06299229\n",
            "Iteration 337, loss = 0.06287599\n",
            "Iteration 338, loss = 0.06276068\n",
            "Iteration 339, loss = 0.06264634\n",
            "Iteration 340, loss = 0.06253297\n",
            "Iteration 341, loss = 0.06242056\n",
            "Iteration 342, loss = 0.06230909\n",
            "Iteration 343, loss = 0.06219855\n",
            "Iteration 344, loss = 0.06208894\n",
            "Iteration 345, loss = 0.06198024\n",
            "Iteration 346, loss = 0.06187245\n",
            "Iteration 347, loss = 0.06176556\n",
            "Iteration 348, loss = 0.06165955\n",
            "Iteration 349, loss = 0.06155442\n",
            "Iteration 350, loss = 0.06145015\n",
            "Iteration 351, loss = 0.06134675\n",
            "Iteration 352, loss = 0.06124419\n",
            "Iteration 353, loss = 0.06114247\n",
            "Iteration 354, loss = 0.06104158\n",
            "Iteration 355, loss = 0.06094152\n",
            "Iteration 356, loss = 0.06084227\n",
            "Iteration 357, loss = 0.06074382\n",
            "Iteration 358, loss = 0.06064617\n",
            "Iteration 359, loss = 0.06054932\n",
            "Iteration 360, loss = 0.06045324\n",
            "Iteration 361, loss = 0.06035793\n",
            "Iteration 362, loss = 0.06026339\n",
            "Iteration 363, loss = 0.06016960\n",
            "Iteration 364, loss = 0.06007656\n",
            "Iteration 365, loss = 0.05998427\n",
            "Iteration 366, loss = 0.05989270\n",
            "Training loss did not improve more than tol=0.000100 for 10 consecutive epochs. Stopping.\n"
          ]
        },
        {
          "output_type": "execute_result",
          "data": {
            "text/plain": [
              "MLPClassifier(activation='tanh', hidden_layer_sizes=(20, 5),\n",
              "              learning_rate_init=0.003, max_iter=500, verbose=True)"
            ]
          },
          "metadata": {},
          "execution_count": 105
        }
      ]
    },
    {
      "cell_type": "markdown",
      "source": [
        "**EVALUACION**"
      ],
      "metadata": {
        "id": "n6bLBWIlwehH"
      }
    },
    {
      "cell_type": "markdown",
      "source": [
        "**MÉTRICAS SOBRE EL CONJUNTO DE TRAINING**"
      ],
      "metadata": {
        "id": "NASZB6hGwehI"
      }
    },
    {
      "cell_type": "code",
      "source": [
        "# 3\n",
        "\n",
        "print_classification_report(y_train, modelo_2.predict(X_train))"
      ],
      "metadata": {
        "colab": {
          "base_uri": "https://localhost:8080/"
        },
        "outputId": "d1a125fb-758a-4860-b46c-508e0aa03468",
        "id": "8gPmgGHcwehI"
      },
      "execution_count": 106,
      "outputs": [
        {
          "output_type": "stream",
          "name": "stdout",
          "text": [
            "              precision    recall  f1-score   support\n",
            "\n",
            "           1       1.00      1.00      1.00        40\n",
            "           2       0.97      0.97      0.97        38\n",
            "           3       0.98      0.98      0.98        42\n",
            "\n",
            "    accuracy                           0.98       120\n",
            "   macro avg       0.98      0.98      0.98       120\n",
            "weighted avg       0.98      0.98      0.98       120\n",
            "\n"
          ]
        }
      ]
    },
    {
      "cell_type": "markdown",
      "source": [
        "**MÉTRICAS SOBRE EL CONJUNTO DE TESTING**"
      ],
      "metadata": {
        "id": "DpznM1iOwehI"
      }
    },
    {
      "cell_type": "code",
      "source": [
        "# 3\n",
        "\n",
        "print_classification_report(y_test, modelo_2.predict(X_test))"
      ],
      "metadata": {
        "colab": {
          "base_uri": "https://localhost:8080/"
        },
        "outputId": "d93fcba2-2a20-4f4e-8366-338d1a59fdd6",
        "id": "gMyV8EokwehI"
      },
      "execution_count": 107,
      "outputs": [
        {
          "output_type": "stream",
          "name": "stdout",
          "text": [
            "              precision    recall  f1-score   support\n",
            "\n",
            "           1       1.00      1.00      1.00        10\n",
            "           2       1.00      1.00      1.00        12\n",
            "           3       1.00      1.00      1.00         8\n",
            "\n",
            "    accuracy                           1.00        30\n",
            "   macro avg       1.00      1.00      1.00        30\n",
            "weighted avg       1.00      1.00      1.00        30\n",
            "\n"
          ]
        }
      ]
    },
    {
      "cell_type": "markdown",
      "source": [
        "**MATRIZ DE CONFUSIÓN**"
      ],
      "metadata": {
        "id": "lW5jkHiSwehI"
      }
    },
    {
      "cell_type": "code",
      "source": [
        "# 2\n",
        "\n",
        "visualizar_confusion_matrix(y_test, modelo_2.predict(X_test))"
      ],
      "metadata": {
        "colab": {
          "base_uri": "https://localhost:8080/",
          "height": 297
        },
        "outputId": "e54b5e46-e40e-434c-acce-d1ff2abca690",
        "id": "NU35aL-3wehJ"
      },
      "execution_count": 108,
      "outputs": [
        {
          "output_type": "display_data",
          "data": {
            "text/plain": [
              "<Figure size 432x288 with 2 Axes>"
            ],
            "image/png": "[encoded data removed]"
          },
          "metadata": {
            "needs_background": "light"
          }
        }
      ]
    },
    {
      "cell_type": "markdown",
      "source": [
        "A diferencia del otro modelo, en éste directamente no hay valores clasificados como Falsos Positivos o Negativos."
      ],
      "metadata": {
        "id": "2YTQt-4mOiRt"
      }
    },
    {
      "cell_type": "markdown",
      "source": [
        "**CURVA DE ROC Y DE PRECISION-RECALL**"
      ],
      "metadata": {
        "id": "kcjZN4BHwehJ"
      }
    },
    {
      "cell_type": "markdown",
      "source": [
        "El punto #4 no aplica por ser una clasificación multiclase."
      ],
      "metadata": {
        "id": "JPQ265_3OdKG"
      }
    },
    {
      "cell_type": "markdown",
      "source": [
        "**FRONTERA DE DECISIÓN DE DOS DIMENSIONES**"
      ],
      "metadata": {
        "id": "7L2jSZM9wehJ"
      }
    },
    {
      "cell_type": "markdown",
      "source": [
        "El punto 5 no aplica para clasificación multiclase."
      ],
      "metadata": {
        "id": "lRnCIpUlNopn"
      }
    },
    {
      "cell_type": "markdown",
      "source": [
        "**FUNCION DE TRANSFERENCIA DE DOS DIMENSIONES**"
      ],
      "metadata": {
        "id": "vH8rKV8gwehL"
      }
    },
    {
      "cell_type": "markdown",
      "source": [
        "El punto 5 no aplica para clasificación multiclase."
      ],
      "metadata": {
        "id": "ZwNbf8nVNnQB"
      }
    },
    {
      "cell_type": "markdown",
      "source": [
        "**CURVA DE ERROR DE ENTRENAMIENTO**"
      ],
      "metadata": {
        "id": "FaPnvj59sgmR"
      }
    },
    {
      "cell_type": "code",
      "source": [
        "visualizar_curva_error_entrenamiento(modelo_2)"
      ],
      "metadata": {
        "id": "4RbenFr2sYfv",
        "colab": {
          "base_uri": "https://localhost:8080/",
          "height": 279
        },
        "outputId": "b5f95040-a8c2-43f3-af3f-07e7f2a1f984"
      },
      "execution_count": 109,
      "outputs": [
        {
          "output_type": "display_data",
          "data": {
            "text/plain": [
              "<Figure size 432x288 with 1 Axes>"
            ],
            "image/png": "[encoded data removed]"
          },
          "metadata": {
            "needs_background": "light"
          }
        }
      ]
    },
    {
      "cell_type": "markdown",
      "source": [
        "La **curva logística** del punto #6 con la función AA_utils.visualizar_curva_logistica no aplica en este ejercicio debido a que el modelo cuenta con mas de una features en la variable X."
      ],
      "metadata": {
        "id": "RgbWWMTKN3Jj"
      }
    }
  ]
}