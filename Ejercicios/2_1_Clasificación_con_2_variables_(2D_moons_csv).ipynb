{
  "nbformat": 4,
  "nbformat_minor": 0,
  "metadata": {
    "colab": {
      "provenance": [],
      "collapsed_sections": [
        "o2FUAaRElEf9"
      ]
    },
    "kernelspec": {
      "name": "python3",
      "display_name": "Python 3"
    },
    "language_info": {
      "name": "python"
    }
  },
  "cells": [
    {
      "cell_type": "markdown",
      "source": [
        "**CONSIGNAS PARA TODOS LOS EJERCICIOS:**\n",
        "\n",
        "1.   En el caso de utilizar una Regresión Logística grafique sus parámetros con la función AA_utils.visualizar_parametros\n",
        "2.   Grafique e interprete la matriz de confusión de la predicción sobre el set de test con la función AA_utils.visualizar_confusion_matrix\n",
        "3.   Elabore un reporte de métricas tanto para la predicción de train como para la de test con la función AA_utils.print_classification_report\n",
        "4.   En los casos de clasificación binaria grafique e interprete la curva ROC con la función AA_utils.visualizar_curva_ROC\n",
        "5.   En los caso de clasificación de dos variables grafique la función de transferencia y la frontera de decisión con las funciones AA_utils.visualizar_funcion_transferencia_2D y AA_utils.visualizar_frontera_de_desicion_2D\n",
        "6.   En los casos de clasificación binaria de una variable grafique la curva logística con la función AA_utils.visualizar_curva_logistica"
      ],
      "metadata": {
        "id": "8iqM9DS63cch"
      }
    },
    {
      "cell_type": "markdown",
      "source": [
        "# **MODELO DE REGRESIÓN LOGÍSTICA**"
      ],
      "metadata": {
        "id": "M3CR3wJu4bZS"
      }
    },
    {
      "cell_type": "markdown",
      "source": [
        "***Clasificación con 2 variables***: Entrene modelos de Regresión Logística para clasificar el siguiente dataset:\n",
        "*   2D_moons.csv\n",
        "\n",
        "El código “ejemplo_clasificacion_binaria_dos_variables_regresion_logistica.py” posee un ejemplo de cómo realizar esta tarea."
      ],
      "metadata": {
        "id": "BOejNLTb4dZB"
      }
    },
    {
      "cell_type": "code",
      "execution_count": 66,
      "metadata": {
        "id": "UgcPjX13krwm"
      },
      "outputs": [],
      "source": [
        "import pandas as pd\n",
        "import numpy as np\n",
        "import matplotlib.pyplot as plt\n",
        "import itertools\n",
        "\n",
        "from sklearn.model_selection import train_test_split\n",
        "from sklearn.preprocessing import StandardScaler\n",
        "from sklearn.linear_model import LogisticRegression\n",
        "from sklearn.metrics import confusion_matrix, roc_curve, roc_auc_score, precision_recall_curve, classification_report\n",
        "\n",
        "from mpl_toolkits.axes_grid1 import make_axes_locatable"
      ]
    },
    {
      "cell_type": "markdown",
      "source": [
        "# **AA UTILS**"
      ],
      "metadata": {
        "id": "o2FUAaRElEf9"
      }
    },
    {
      "cell_type": "code",
      "source": [
        "def if_dataframe_to_numpy(data):\n",
        "    return data.to_numpy() if isinstance(data, pd.DataFrame) or isinstance(data, pd.Series) else data\n",
        "\n",
        "def plot_2d(modelo, X, X_train, X_test, y_train, y_test, boundry_function):\n",
        "\n",
        "    assert X.shape[1] == 2, f\"X debe tener solo dos variables de entrada (tiene {X.shape[1]})\"\n",
        "\n",
        "    X = if_dataframe_to_numpy(X)\n",
        "    X_train = if_dataframe_to_numpy(X_train)\n",
        "    X_test = if_dataframe_to_numpy(X_test)\n",
        "\n",
        "    plt.figure()\n",
        "    x_min, x_max = X[:, 0].min() - 1, X[:, 0].max() + 1\n",
        "    y_min, y_max = X[:, 1].min() - 1, X[:, 1].max() + 1\n",
        "    xx, yy = np.meshgrid(np.arange(x_min, x_max, 0.02),\n",
        "                         np.arange(y_min, y_max, 0.02))\n",
        "\n",
        "    Z = np.c_[xx.ravel(), yy.ravel()]\n",
        "    Z = boundry_function(modelo, Z)\n",
        "    Z = Z.reshape(xx.shape)\n",
        "\n",
        "    plt.contourf(xx, yy, Z, alpha=0.3)\n",
        "    plt.colorbar()\n",
        "\n",
        "    plt.scatter(X_train[:, 0], X_train[:, 1], marker=\"o\", c=y_train, label='Training')\n",
        "    plt.scatter(X_test[:, 0], X_test[:, 1], marker=\"+\", c=y_test, s=80, label='Testing')\n",
        "    plt.legend()\n",
        "    plt.show()\n",
        "\n",
        "def print_classification_report(y_true, y_pred):\n",
        "    print(classification_report(y_true, y_pred))\n",
        "\n",
        "def visualizar_parametros(modelo, mostrar_bias, feature_names=[], target_name='target'):\n",
        "    parametros = pd.DataFrame(modelo.coef_, columns=feature_names if len(feature_names) > 0 else range(modelo.coef_.shape[1]))\n",
        "\n",
        "    if mostrar_bias:\n",
        "        parametros['bias'] = modelo.intercept_\n",
        "\n",
        "    parametros.T.plot(kind='bar')\n",
        "\n",
        "    if hasattr(modelo, 'classes_'):\n",
        "        if len(modelo.classes_) <= 2:\n",
        "            plt.legend([target_name])\n",
        "        else:\n",
        "            plt.legend(list(modelo.classes_))\n",
        "    else:\n",
        "        plt.legend([target_name])\n",
        "\n",
        "    plt.show()\n",
        "\n",
        "def visualizar_curva_logistica(modelo, X, y, feature_name='target'):\n",
        "\n",
        "    assert X.shape[1] == 1, f\"X debe tener solo una variable de entrada (tiene {X.shape[1]})\"\n",
        "\n",
        "    X = if_dataframe_to_numpy(X)\n",
        "\n",
        "    plt.figure()\n",
        "    plt.scatter(X, y, c=y, s=50)\n",
        "    plt.xlabel(feature_name)\n",
        "    plt.grid()\n",
        "\n",
        "    x_min, x_max = X[:, 0].min() - 1, X[:, 0].max() + 1\n",
        "    x_graph = np.linspace(x_min, x_max)\n",
        "    y_graph = modelo.predict_proba(x_graph.reshape(-1, 1))[:, 1]\n",
        "    plt.plot(x_graph, y_graph)\n",
        "    plt.show()\n",
        "\n",
        "def visualizar_frontera_de_desicion_2D(modelo, X, X_train, X_test, y_train, y_test):\n",
        "    plot_2d(modelo, X, X_train, X_test, y_train, y_test, lambda modelo, Z: modelo.predict(Z))\n",
        "\n",
        "def visualizar_funcion_transferencia_2D(modelo, X, X_train, X_test, y_train, y_test):\n",
        "\n",
        "    if hasattr(modelo, 'predict_proba') and callable(getattr(modelo, 'predict_proba')):\n",
        "        plot_2d(modelo, X, X_train, X_test, y_train, y_test, lambda modelo, Z: modelo.predict_proba(Z)[:, 1])\n",
        "    else:\n",
        "        raise ValueError(\"no se puede visualizar funcion de transferencia\")\n",
        "\n",
        "def visualizar_confusion_matrix(real_target, pred_target,\n",
        "                                classes=[],\n",
        "                                normalize=False,\n",
        "                                title='Matriz de confusión',\n",
        "                                cmap=plt.cm.Blues):\n",
        "\n",
        "    if (len(classes) == 0):\n",
        "        classes = [str(i) for i in range(int(max(real_target) + 1))]  # nombres de clases consecutivos\n",
        "\n",
        "    cm = confusion_matrix(real_target, pred_target)\n",
        "\n",
        "    plt.figure()\n",
        "    plt.imshow(cm, interpolation='nearest', cmap=cmap)\n",
        "    plt.title(title)\n",
        "    plt.colorbar()\n",
        "    tick_marks = np.arange(len(classes))\n",
        "    plt.xticks(tick_marks, classes, rotation=45)\n",
        "    plt.yticks(tick_marks, classes)\n",
        "\n",
        "    fmt = '.2f' if normalize else 'd'\n",
        "    thresh = cm.max() / 2.\n",
        "    for i, j in itertools.product(range(cm.shape[0]), range(cm.shape[1])):\n",
        "        plt.text(j, i, format(cm[i, j], fmt),\n",
        "                 horizontalalignment=\"center\",\n",
        "                 color=\"white\" if cm[i, j] > thresh else \"black\", size=16)\n",
        "\n",
        "    plt.ylabel('True label')\n",
        "    plt.xlabel('Predicted label')\n",
        "    plt.show()\n",
        "\n",
        "def visualizar_curva_ROC(modelo, X, y):\n",
        "\n",
        "    assert len(set(y)) <= 2, f\"El dataset debe ser binario (hay {len(set(y))}) clases\"\n",
        "\n",
        "    y_score = modelo.predict_proba(X)[:, 1]  # se queda con la clase 1\n",
        "\n",
        "    false_positive_rate, true_positive_rate, threshold = roc_curve(y, y_score)\n",
        "\n",
        "    precision, recall, _ = precision_recall_curve(y, y_score)\n",
        "\n",
        "    # ROC\n",
        "    plt.figure()\n",
        "    plt.title('ROC. Receiver Operating Characteristic')\n",
        "    plt.plot(false_positive_rate, true_positive_rate, label='ROC curve (area = %0.2f)' % roc_auc_score(y, y_score))\n",
        "    plt.plot([0, 1], ls=\"--\")\n",
        "    plt.plot([0, 0], [1, 0], c=\".7\"), plt.plot([1, 1], c=\".7\")\n",
        "    plt.legend(loc=\"lower right\")\n",
        "    plt.ylabel('True Positive Rate (Recall)')\n",
        "    plt.xlabel('False Positive Rate (1- Especificidad)')\n",
        "    plt.show()\n",
        "\n",
        "    # precision-recall curve\n",
        "    plt.figure()\n",
        "    plt.step(recall, precision, color='b', alpha=0.2, where='post')\n",
        "    plt.fill_between(recall, precision, step='post', alpha=0.2, color='b')\n",
        "    plt.xlabel('Recall')\n",
        "    plt.ylabel('Precision')\n",
        "    plt.ylim([0.0, 1.05])\n",
        "    plt.xlim([0.0, 1.0])\n",
        "    plt.title('Precision-Recall curve')\n",
        "    plt.show()\n",
        "\n",
        "def elegir_imagen_al_azar(X, pixeles_ancho, pixeles_alto):\n",
        "    indice = np.random.randint(0, X.shape[0])\n",
        "    img_i = np.reshape(X[indice, :], (pixeles_ancho, pixeles_alto))\n",
        "    plt.figure()\n",
        "    plt.imshow(img_i, 'gray')\n",
        "    plt.title('Dato aleatorio')\n",
        "    plt.show()\n",
        "    return X[indice].reshape(1, -1), indice\n",
        "\n",
        "def visualizar_parametros_para_imagenes(modelo, cantidad_de_clases, pixeles_ancho=28, pixeles_alto=28):\n",
        "\n",
        "    if hasattr(modelo, 'coef_'):\n",
        "        w = modelo.coef_\n",
        "    elif hasattr(modelo, 'coefs_') and (modelo.coefs_) == 1:\n",
        "        w = modelo.coefs_[0]\n",
        "    else:\n",
        "        raise \"para visualizar los parametros de la red es necesario tener cero capas ocultas\"\n",
        "\n",
        "    colorbar_max = np.abs(np.max(w))\n",
        "    w_r = np.reshape(w, (cantidad_de_clases, pixeles_ancho, pixeles_alto))\n",
        "    fig, ax = plt.subplots(2, cantidad_de_clases // 2)\n",
        "    plt.suptitle('Coeficientes aprendidos para cada clase, \\nagrupados en forma matricial de 28x28')\n",
        "    index = 0\n",
        "    for row in range(0, 2):\n",
        "        for col in range(0, cantidad_de_clases // 2):\n",
        "            colorbar_max = max(np.abs(np.max(w_r[index, :, :])), np.abs(np.min(w_r[index, :, :])))\n",
        "            ax_im = ax[row][col].imshow(w_r[index, :, :], cmap='seismic', vmin=-colorbar_max, vmax=colorbar_max)\n",
        "            ax[row][col].get_xaxis().set_visible(False)\n",
        "            ax[row][col].get_yaxis().set_visible(False)\n",
        "            ax[row][col].set_title(str(index))\n",
        "            divider = make_axes_locatable(ax[row][col])\n",
        "            cax = divider.append_axes(\"right\", size=\"5%\", pad=0.05)\n",
        "\n",
        "            fig.colorbar(ax_im, ax=ax[row][col], cax=cax)\n",
        "            index += 1\n",
        "    plt.show()\n",
        "\n",
        "def visualizar_ajuste_por_regresion(modelo, X_train, X_test, y_train, y_test,\n",
        "                                    feature_name='X', target_name='target'):\n",
        "    plt.scatter(X_train, y_train, c='blue', s=40, alpha=0.9, label='Training')\n",
        "    plt.scatter(X_test, y_test, c='red', s=50, alpha=0.5, label='Testing')\n",
        "    plt.xlabel(feature_name)\n",
        "    plt.ylabel(target_name)\n",
        "    plt.legend()\n",
        "    plt.grid()\n",
        "\n",
        "    X_train = if_dataframe_to_numpy(X_train)\n",
        "    X_test = if_dataframe_to_numpy(X_test)\n",
        "\n",
        "    x_max = max(max(X_train), max(X_test))\n",
        "    x_min = min(min(X_train), min(X_test))\n",
        "\n",
        "    x_plot = np.linspace(x_min, x_max, 100)\n",
        "    y_plot = modelo.predict(x_plot.reshape(-1, 1))\n",
        "    plt.plot(x_plot, y_plot, 'g--', linewidth=5)\n",
        "    plt.show()\n",
        "\n",
        "def visualizar_curva_error_entrenamiento(modelo):\n",
        "    plt.plot(modelo.loss_curve_)\n",
        "    plt.xlabel('iterations')\n",
        "    plt.ylabel('loss')\n",
        "    plt.legend(['Train'])\n",
        "    plt.show()\n"
      ],
      "metadata": {
        "id": "pYuWw18ulE7K"
      },
      "execution_count": 67,
      "outputs": []
    },
    {
      "cell_type": "markdown",
      "source": [
        "# **2D_MOONS**"
      ],
      "metadata": {
        "id": "tTk0Fz0PlJ4A"
      }
    },
    {
      "cell_type": "markdown",
      "source": [
        "**CARGA DE DATOS**"
      ],
      "metadata": {
        "id": "z2dPRUVvlyMm"
      }
    },
    {
      "cell_type": "code",
      "source": [
        "data = pd.read_csv(r\"https://raw.githubusercontent.com/KevinFDI/IML_Practica_3/main/Pr%C3%A1ctica/datasets/2D_moons.csv\")"
      ],
      "metadata": {
        "id": "mlnN1onXloYv"
      },
      "execution_count": 68,
      "outputs": []
    },
    {
      "cell_type": "code",
      "source": [
        "data.head(5)"
      ],
      "metadata": {
        "colab": {
          "base_uri": "https://localhost:8080/",
          "height": 206
        },
        "id": "Y5Q_-vJBh71S",
        "outputId": "959dd6ee-fba1-4836-8d23-f006a9742052"
      },
      "execution_count": 69,
      "outputs": [
        {
          "output_type": "execute_result",
          "data": {
            "text/plain": [
              "   feature1  feature2  target\n",
              "0      0.24      0.28     1.0\n",
              "1      0.17      0.72     0.0\n",
              "2      0.40      0.90     0.0\n",
              "3      0.50     -0.41     1.0\n",
              "4      0.72     -0.43     1.0"
            ],
            "text/html": [
              "\n",
              "  <div id=\"df-bf5ff4bf-3228-43ba-a5f2-2b15ff832d1d\">\n",
              "    <div class=\"colab-df-container\">\n",
              "      <div>\n",
              "<style scoped>\n",
              "    .dataframe tbody tr th:only-of-type {\n",
              "        vertical-align: middle;\n",
              "    }\n",
              "\n",
              "    .dataframe tbody tr th {\n",
              "        vertical-align: top;\n",
              "    }\n",
              "\n",
              "    .dataframe thead th {\n",
              "        text-align: right;\n",
              "    }\n",
              "</style>\n",
              "<table border=\"1\" class=\"dataframe\">\n",
              "  <thead>\n",
              "    <tr style=\"text-align: right;\">\n",
              "      <th></th>\n",
              "      <th>feature1</th>\n",
              "      <th>feature2</th>\n",
              "      <th>target</th>\n",
              "    </tr>\n",
              "  </thead>\n",
              "  <tbody>\n",
              "    <tr>\n",
              "      <th>0</th>\n",
              "      <td>0.24</td>\n",
              "      <td>0.28</td>\n",
              "      <td>1.0</td>\n",
              "    </tr>\n",
              "    <tr>\n",
              "      <th>1</th>\n",
              "      <td>0.17</td>\n",
              "      <td>0.72</td>\n",
              "      <td>0.0</td>\n",
              "    </tr>\n",
              "    <tr>\n",
              "      <th>2</th>\n",
              "      <td>0.40</td>\n",
              "      <td>0.90</td>\n",
              "      <td>0.0</td>\n",
              "    </tr>\n",
              "    <tr>\n",
              "      <th>3</th>\n",
              "      <td>0.50</td>\n",
              "      <td>-0.41</td>\n",
              "      <td>1.0</td>\n",
              "    </tr>\n",
              "    <tr>\n",
              "      <th>4</th>\n",
              "      <td>0.72</td>\n",
              "      <td>-0.43</td>\n",
              "      <td>1.0</td>\n",
              "    </tr>\n",
              "  </tbody>\n",
              "</table>\n",
              "</div>\n",
              "      <button class=\"colab-df-convert\" onclick=\"convertToInteractive('df-bf5ff4bf-3228-43ba-a5f2-2b15ff832d1d')\"\n",
              "              title=\"Convert this dataframe to an interactive table.\"\n",
              "              style=\"display:none;\">\n",
              "        \n",
              "  <svg xmlns=\"http://www.w3.org/2000/svg\" height=\"24px\"viewBox=\"0 0 24 24\"\n",
              "       width=\"24px\">\n",
              "    <path d=\"M0 0h24v24H0V0z\" fill=\"none\"/>\n",
              "    <path d=\"M18.56 5.44l.94 2.06.94-2.06 2.06-.94-2.06-.94-.94-2.06-.94 2.06-2.06.94zm-11 1L8.5 8.5l.94-2.06 2.06-.94-2.06-.94L8.5 2.5l-.94 2.06-2.06.94zm10 10l.94 2.06.94-2.06 2.06-.94-2.06-.94-.94-2.06-.94 2.06-2.06.94z\"/><path d=\"M17.41 7.96l-1.37-1.37c-.4-.4-.92-.59-1.43-.59-.52 0-1.04.2-1.43.59L10.3 9.45l-7.72 7.72c-.78.78-.78 2.05 0 2.83L4 21.41c.39.39.9.59 1.41.59.51 0 1.02-.2 1.41-.59l7.78-7.78 2.81-2.81c.8-.78.8-2.07 0-2.86zM5.41 20L4 18.59l7.72-7.72 1.47 1.35L5.41 20z\"/>\n",
              "  </svg>\n",
              "      </button>\n",
              "      \n",
              "  <style>\n",
              "    .colab-df-container {\n",
              "      display:flex;\n",
              "      flex-wrap:wrap;\n",
              "      gap: 12px;\n",
              "    }\n",
              "\n",
              "    .colab-df-convert {\n",
              "      background-color: #E8F0FE;\n",
              "      border: none;\n",
              "      border-radius: 50%;\n",
              "      cursor: pointer;\n",
              "      display: none;\n",
              "      fill: #1967D2;\n",
              "      height: 32px;\n",
              "      padding: 0 0 0 0;\n",
              "      width: 32px;\n",
              "    }\n",
              "\n",
              "    .colab-df-convert:hover {\n",
              "      background-color: #E2EBFA;\n",
              "      box-shadow: 0px 1px 2px rgba(60, 64, 67, 0.3), 0px 1px 3px 1px rgba(60, 64, 67, 0.15);\n",
              "      fill: #174EA6;\n",
              "    }\n",
              "\n",
              "    [theme=dark] .colab-df-convert {\n",
              "      background-color: #3B4455;\n",
              "      fill: #D2E3FC;\n",
              "    }\n",
              "\n",
              "    [theme=dark] .colab-df-convert:hover {\n",
              "      background-color: #434B5C;\n",
              "      box-shadow: 0px 1px 3px 1px rgba(0, 0, 0, 0.15);\n",
              "      filter: drop-shadow(0px 1px 2px rgba(0, 0, 0, 0.3));\n",
              "      fill: #FFFFFF;\n",
              "    }\n",
              "  </style>\n",
              "\n",
              "      <script>\n",
              "        const buttonEl =\n",
              "          document.querySelector('#df-bf5ff4bf-3228-43ba-a5f2-2b15ff832d1d button.colab-df-convert');\n",
              "        buttonEl.style.display =\n",
              "          google.colab.kernel.accessAllowed ? 'block' : 'none';\n",
              "\n",
              "        async function convertToInteractive(key) {\n",
              "          const element = document.querySelector('#df-bf5ff4bf-3228-43ba-a5f2-2b15ff832d1d');\n",
              "          const dataTable =\n",
              "            await google.colab.kernel.invokeFunction('convertToInteractive',\n",
              "                                                     [key], {});\n",
              "          if (!dataTable) return;\n",
              "\n",
              "          const docLinkHtml = 'Like what you see? Visit the ' +\n",
              "            '<a target=\"_blank\" href=https://colab.research.google.com/notebooks/data_table.ipynb>data table notebook</a>'\n",
              "            + ' to learn more about interactive tables.';\n",
              "          element.innerHTML = '';\n",
              "          dataTable['output_type'] = 'display_data';\n",
              "          await google.colab.output.renderOutput(dataTable, element);\n",
              "          const docLink = document.createElement('div');\n",
              "          docLink.innerHTML = docLinkHtml;\n",
              "          element.appendChild(docLink);\n",
              "        }\n",
              "      </script>\n",
              "    </div>\n",
              "  </div>\n",
              "  "
            ]
          },
          "metadata": {},
          "execution_count": 69
        }
      ]
    },
    {
      "cell_type": "code",
      "source": [
        "data.isnull().sum()"
      ],
      "metadata": {
        "colab": {
          "base_uri": "https://localhost:8080/"
        },
        "id": "KnSsmUTQh_sD",
        "outputId": "59dc1954-2e2b-4949-a585-ae166b83e754"
      },
      "execution_count": 70,
      "outputs": [
        {
          "output_type": "execute_result",
          "data": {
            "text/plain": [
              "feature1    0\n",
              "feature2    0\n",
              "target      0\n",
              "dtype: int64"
            ]
          },
          "metadata": {},
          "execution_count": 70
        }
      ]
    },
    {
      "cell_type": "markdown",
      "source": [
        "Se observa el dataset no posee valores nulos."
      ],
      "metadata": {
        "id": "-oDyZevIiD8K"
      }
    },
    {
      "cell_type": "markdown",
      "source": [
        "Observo la correlación de las variables."
      ],
      "metadata": {
        "id": "VmkoVnKQiXaf"
      }
    },
    {
      "cell_type": "code",
      "source": [
        "round(data.corr(), 2)"
      ],
      "metadata": {
        "colab": {
          "base_uri": "https://localhost:8080/",
          "height": 144
        },
        "id": "qDdisATqiMxN",
        "outputId": "fcec08cb-b41a-4783-c0a1-0ee1469dfd93"
      },
      "execution_count": 71,
      "outputs": [
        {
          "output_type": "execute_result",
          "data": {
            "text/plain": [
              "          feature1  feature2  target\n",
              "feature1      1.00     -0.42    0.57\n",
              "feature2     -0.42      1.00   -0.74\n",
              "target        0.57     -0.74    1.00"
            ],
            "text/html": [
              "\n",
              "  <div id=\"df-8f7e624b-6764-4e77-8037-b9586c6824f2\">\n",
              "    <div class=\"colab-df-container\">\n",
              "      <div>\n",
              "<style scoped>\n",
              "    .dataframe tbody tr th:only-of-type {\n",
              "        vertical-align: middle;\n",
              "    }\n",
              "\n",
              "    .dataframe tbody tr th {\n",
              "        vertical-align: top;\n",
              "    }\n",
              "\n",
              "    .dataframe thead th {\n",
              "        text-align: right;\n",
              "    }\n",
              "</style>\n",
              "<table border=\"1\" class=\"dataframe\">\n",
              "  <thead>\n",
              "    <tr style=\"text-align: right;\">\n",
              "      <th></th>\n",
              "      <th>feature1</th>\n",
              "      <th>feature2</th>\n",
              "      <th>target</th>\n",
              "    </tr>\n",
              "  </thead>\n",
              "  <tbody>\n",
              "    <tr>\n",
              "      <th>feature1</th>\n",
              "      <td>1.00</td>\n",
              "      <td>-0.42</td>\n",
              "      <td>0.57</td>\n",
              "    </tr>\n",
              "    <tr>\n",
              "      <th>feature2</th>\n",
              "      <td>-0.42</td>\n",
              "      <td>1.00</td>\n",
              "      <td>-0.74</td>\n",
              "    </tr>\n",
              "    <tr>\n",
              "      <th>target</th>\n",
              "      <td>0.57</td>\n",
              "      <td>-0.74</td>\n",
              "      <td>1.00</td>\n",
              "    </tr>\n",
              "  </tbody>\n",
              "</table>\n",
              "</div>\n",
              "      <button class=\"colab-df-convert\" onclick=\"convertToInteractive('df-8f7e624b-6764-4e77-8037-b9586c6824f2')\"\n",
              "              title=\"Convert this dataframe to an interactive table.\"\n",
              "              style=\"display:none;\">\n",
              "        \n",
              "  <svg xmlns=\"http://www.w3.org/2000/svg\" height=\"24px\"viewBox=\"0 0 24 24\"\n",
              "       width=\"24px\">\n",
              "    <path d=\"M0 0h24v24H0V0z\" fill=\"none\"/>\n",
              "    <path d=\"M18.56 5.44l.94 2.06.94-2.06 2.06-.94-2.06-.94-.94-2.06-.94 2.06-2.06.94zm-11 1L8.5 8.5l.94-2.06 2.06-.94-2.06-.94L8.5 2.5l-.94 2.06-2.06.94zm10 10l.94 2.06.94-2.06 2.06-.94-2.06-.94-.94-2.06-.94 2.06-2.06.94z\"/><path d=\"M17.41 7.96l-1.37-1.37c-.4-.4-.92-.59-1.43-.59-.52 0-1.04.2-1.43.59L10.3 9.45l-7.72 7.72c-.78.78-.78 2.05 0 2.83L4 21.41c.39.39.9.59 1.41.59.51 0 1.02-.2 1.41-.59l7.78-7.78 2.81-2.81c.8-.78.8-2.07 0-2.86zM5.41 20L4 18.59l7.72-7.72 1.47 1.35L5.41 20z\"/>\n",
              "  </svg>\n",
              "      </button>\n",
              "      \n",
              "  <style>\n",
              "    .colab-df-container {\n",
              "      display:flex;\n",
              "      flex-wrap:wrap;\n",
              "      gap: 12px;\n",
              "    }\n",
              "\n",
              "    .colab-df-convert {\n",
              "      background-color: #E8F0FE;\n",
              "      border: none;\n",
              "      border-radius: 50%;\n",
              "      cursor: pointer;\n",
              "      display: none;\n",
              "      fill: #1967D2;\n",
              "      height: 32px;\n",
              "      padding: 0 0 0 0;\n",
              "      width: 32px;\n",
              "    }\n",
              "\n",
              "    .colab-df-convert:hover {\n",
              "      background-color: #E2EBFA;\n",
              "      box-shadow: 0px 1px 2px rgba(60, 64, 67, 0.3), 0px 1px 3px 1px rgba(60, 64, 67, 0.15);\n",
              "      fill: #174EA6;\n",
              "    }\n",
              "\n",
              "    [theme=dark] .colab-df-convert {\n",
              "      background-color: #3B4455;\n",
              "      fill: #D2E3FC;\n",
              "    }\n",
              "\n",
              "    [theme=dark] .colab-df-convert:hover {\n",
              "      background-color: #434B5C;\n",
              "      box-shadow: 0px 1px 3px 1px rgba(0, 0, 0, 0.15);\n",
              "      filter: drop-shadow(0px 1px 2px rgba(0, 0, 0, 0.3));\n",
              "      fill: #FFFFFF;\n",
              "    }\n",
              "  </style>\n",
              "\n",
              "      <script>\n",
              "        const buttonEl =\n",
              "          document.querySelector('#df-8f7e624b-6764-4e77-8037-b9586c6824f2 button.colab-df-convert');\n",
              "        buttonEl.style.display =\n",
              "          google.colab.kernel.accessAllowed ? 'block' : 'none';\n",
              "\n",
              "        async function convertToInteractive(key) {\n",
              "          const element = document.querySelector('#df-8f7e624b-6764-4e77-8037-b9586c6824f2');\n",
              "          const dataTable =\n",
              "            await google.colab.kernel.invokeFunction('convertToInteractive',\n",
              "                                                     [key], {});\n",
              "          if (!dataTable) return;\n",
              "\n",
              "          const docLinkHtml = 'Like what you see? Visit the ' +\n",
              "            '<a target=\"_blank\" href=https://colab.research.google.com/notebooks/data_table.ipynb>data table notebook</a>'\n",
              "            + ' to learn more about interactive tables.';\n",
              "          element.innerHTML = '';\n",
              "          dataTable['output_type'] = 'display_data';\n",
              "          await google.colab.output.renderOutput(dataTable, element);\n",
              "          const docLink = document.createElement('div');\n",
              "          docLink.innerHTML = docLinkHtml;\n",
              "          element.appendChild(docLink);\n",
              "        }\n",
              "      </script>\n",
              "    </div>\n",
              "  </div>\n",
              "  "
            ]
          },
          "metadata": {},
          "execution_count": 71
        }
      ]
    },
    {
      "cell_type": "markdown",
      "source": [
        "**PREPROCESADO**"
      ],
      "metadata": {
        "id": "ow_ZAqnOmG9u"
      }
    },
    {
      "cell_type": "code",
      "source": [
        "X = data.drop(columns=['target'])\n",
        "y = data['target']\n",
        "\n",
        "print(f'''\n",
        "      ====================================================================================================\n",
        "      El problema de clasificación es de {X.shape[1]} features ---(prediciendo)---> {len(set(y))} clases\n",
        "      ====================================================================================================\n",
        "      ''')\n",
        "\n",
        "X_train, X_test, y_train, y_test = train_test_split(X, y, test_size=0.2)\n",
        "\n",
        "NORMALIZAR = True\n",
        "\n",
        "if NORMALIZAR:\n",
        "    scaler = StandardScaler().fit(X_train)\n",
        "    X_train = scaler.transform(X_train)\n",
        "    X_test = scaler.transform(X_test)"
      ],
      "metadata": {
        "colab": {
          "base_uri": "https://localhost:8080/"
        },
        "id": "DFedu52kmHG3",
        "outputId": "1188813f-96cf-4d05-c961-2818bea892ab"
      },
      "execution_count": 72,
      "outputs": [
        {
          "output_type": "stream",
          "name": "stdout",
          "text": [
            "\n",
            "      ====================================================================================================\n",
            "      El problema de clasificación es de 2 features ---(prediciendo)---> 2 clases\n",
            "      ====================================================================================================\n",
            "      \n"
          ]
        }
      ]
    },
    {
      "cell_type": "markdown",
      "source": [
        "**MODELADO**"
      ],
      "metadata": {
        "id": "9bvqMeLQmHNC"
      }
    },
    {
      "cell_type": "code",
      "source": [
        "modelo = LogisticRegression()\n",
        "modelo.fit(X_train, y_train)"
      ],
      "metadata": {
        "colab": {
          "base_uri": "https://localhost:8080/"
        },
        "id": "6gU9-jcamHTA",
        "outputId": "007952d7-3082-4d4d-f2a2-bf900c10f32e"
      },
      "execution_count": 73,
      "outputs": [
        {
          "output_type": "execute_result",
          "data": {
            "text/plain": [
              "LogisticRegression()"
            ]
          },
          "metadata": {},
          "execution_count": 73
        }
      ]
    },
    {
      "cell_type": "markdown",
      "source": [
        "**EVALUACION**"
      ],
      "metadata": {
        "id": "sHVpyKfSmPLf"
      }
    },
    {
      "cell_type": "markdown",
      "source": [
        "**MÉTRICAS SOBRE EL CONJUNTO DE TRAINING**"
      ],
      "metadata": {
        "id": "JjRDDEnMmipR"
      }
    },
    {
      "cell_type": "code",
      "source": [
        "# 3\n",
        "\n",
        "print_classification_report(y_train, modelo.predict(X_train))"
      ],
      "metadata": {
        "colab": {
          "base_uri": "https://localhost:8080/"
        },
        "id": "9oCFZ9oUmpcm",
        "outputId": "e072ef8a-336f-4b30-e32d-31b93a6d57b6"
      },
      "execution_count": 74,
      "outputs": [
        {
          "output_type": "stream",
          "name": "stdout",
          "text": [
            "              precision    recall  f1-score   support\n",
            "\n",
            "         0.0       0.88      0.87      0.88       155\n",
            "         1.0       0.88      0.89      0.89       165\n",
            "\n",
            "    accuracy                           0.88       320\n",
            "   macro avg       0.88      0.88      0.88       320\n",
            "weighted avg       0.88      0.88      0.88       320\n",
            "\n"
          ]
        }
      ]
    },
    {
      "cell_type": "markdown",
      "source": [
        "**MÉTRICAS SOBRE EL CONJUNTO DE TESTING**"
      ],
      "metadata": {
        "id": "46f5CpTSmnpt"
      }
    },
    {
      "cell_type": "code",
      "source": [
        "# 3\n",
        "\n",
        "print_classification_report(y_test, modelo.predict(X_test))"
      ],
      "metadata": {
        "colab": {
          "base_uri": "https://localhost:8080/"
        },
        "id": "D1THaE8emq0e",
        "outputId": "ffc36458-fd41-4854-ba17-ba1fa5229738"
      },
      "execution_count": 75,
      "outputs": [
        {
          "output_type": "stream",
          "name": "stdout",
          "text": [
            "              precision    recall  f1-score   support\n",
            "\n",
            "         0.0       0.92      0.80      0.86        45\n",
            "         1.0       0.78      0.91      0.84        35\n",
            "\n",
            "    accuracy                           0.85        80\n",
            "   macro avg       0.85      0.86      0.85        80\n",
            "weighted avg       0.86      0.85      0.85        80\n",
            "\n"
          ]
        }
      ]
    },
    {
      "cell_type": "markdown",
      "source": [
        "**MATRIZ DE CONFUSIÓN**"
      ],
      "metadata": {
        "id": "Rf-L6dqemwtG"
      }
    },
    {
      "cell_type": "code",
      "source": [
        "# 2\n",
        "\n",
        "visualizar_confusion_matrix(y_test, modelo.predict(X_test))"
      ],
      "metadata": {
        "colab": {
          "base_uri": "https://localhost:8080/",
          "height": 297
        },
        "id": "dbiNbi2omPSP",
        "outputId": "ee03b885-13c1-4a15-ad9b-b3586c2dc84a"
      },
      "execution_count": 76,
      "outputs": [
        {
          "output_type": "display_data",
          "data": {
            "text/plain": [
              "<Figure size 432x288 with 2 Axes>"
            ],
            "image/png": "[encoded data removed]"
          },
          "metadata": {
            "needs_background": "light"
          }
        }
      ]
    },
    {
      "cell_type": "markdown",
      "source": [
        "En el gráfico se puede observar cómo se comporta el modelo para cada una de las clases. Se puede ver que el modelo está balanceado.\n",
        "\n",
        "En este caso se observa que el modelo predice con una alta precisión las variables dado que, como se observa, casi la totalidad de los datos se encuentran en la diagonal principal (diagonal que contiene los \"True Positives\")."
      ],
      "metadata": {
        "id": "rckB_E54hTxu"
      }
    },
    {
      "cell_type": "markdown",
      "source": [
        "**CURVA DE ROC Y DE PRECISION-RECALL**"
      ],
      "metadata": {
        "id": "JGZl_2nYm1Dc"
      }
    },
    {
      "cell_type": "code",
      "source": [
        "# 4\n",
        "\n",
        "visualizar_curva_ROC(modelo, X, y)"
      ],
      "metadata": {
        "colab": {
          "base_uri": "https://localhost:8080/",
          "height": 608
        },
        "id": "g3o-M887m1J9",
        "outputId": "eddb7b70-d7c6-4b62-ad67-6b96fd6a57ad"
      },
      "execution_count": 77,
      "outputs": [
        {
          "output_type": "stream",
          "name": "stderr",
          "text": [
            "/usr/local/lib/python3.7/dist-packages/sklearn/base.py:444: UserWarning: X has feature names, but LogisticRegression was fitted without feature names\n",
            "  f\"X has feature names, but {self.__class__.__name__} was fitted without\"\n"
          ]
        },
        {
          "output_type": "display_data",
          "data": {
            "text/plain": [
              "<Figure size 432x288 with 1 Axes>"
            ],
            "image/png": "[encoded data removed]"
          },
          "metadata": {
            "needs_background": "light"
          }
        },
        {
          "output_type": "display_data",
          "data": {
            "text/plain": [
              "<Figure size 432x288 with 1 Axes>"
            ],
            "image/png": "[encoded data removed]"
          },
          "metadata": {
            "needs_background": "light"
          }
        }
      ]
    },
    {
      "cell_type": "markdown",
      "source": [
        "La curva ROC nos dice qué tan bueno puede distinguir el modelo entre dos variables.\n",
        "\n",
        "Un modelo ideal sería con una curva que cuente con un area de 1, en este caso, como indice el primer gráfico en la parte inferior derecha, cuanta con un área del 0.95, lo cual es muy bueno."
      ],
      "metadata": {
        "id": "PfX_cTLBlJ1e"
      }
    },
    {
      "cell_type": "markdown",
      "source": [
        "**VISUALIZO LOS PARÁMETROS**"
      ],
      "metadata": {
        "id": "2hUisJwTnC4s"
      }
    },
    {
      "cell_type": "code",
      "source": [
        "# 1\n",
        "\n",
        "visualizar_parametros(modelo, mostrar_bias=False, feature_names=X.columns, target_name=y.name)"
      ],
      "metadata": {
        "colab": {
          "base_uri": "https://localhost:8080/",
          "height": 298
        },
        "id": "IThHUgUGnC-m",
        "outputId": "f411ac59-2632-4042-f0cb-5b0f2b08f9bc"
      },
      "execution_count": 78,
      "outputs": [
        {
          "output_type": "display_data",
          "data": {
            "text/plain": [
              "<Figure size 432x288 with 1 Axes>"
            ],
            "image/png": "[encoded data removed]"
          },
          "metadata": {
            "needs_background": "light"
          }
        }
      ]
    },
    {
      "cell_type": "markdown",
      "source": [
        "**FRONTERA DE DECISIÓN DE DOS DIMENSIONES**"
      ],
      "metadata": {
        "id": "dSFyi0XhnM9M"
      }
    },
    {
      "cell_type": "code",
      "source": [
        "# 5\n",
        "\n",
        "visualizar_frontera_de_desicion_2D(modelo, X, X_train, X_test, y_train, y_test)"
      ],
      "metadata": {
        "colab": {
          "base_uri": "https://localhost:8080/",
          "height": 269
        },
        "id": "83fFNZwrnV_9",
        "outputId": "be992e5c-1ec6-4171-cf82-824513b87d2b"
      },
      "execution_count": 79,
      "outputs": [
        {
          "output_type": "display_data",
          "data": {
            "text/plain": [
              "<Figure size 432x288 with 2 Axes>"
            ],
            "image/png": "[encoded data removed]"
          },
          "metadata": {
            "needs_background": "light"
          }
        }
      ]
    },
    {
      "cell_type": "markdown",
      "source": [
        "**FUNCION DE TRANSFERENCIA DE DOS DIMENSIONES**"
      ],
      "metadata": {
        "id": "EELpQ--LnS0i"
      }
    },
    {
      "cell_type": "code",
      "source": [
        "# 5\n",
        "\n",
        "visualizar_funcion_transferencia_2D(modelo, X, X_train, X_test, y_train, y_test)"
      ],
      "metadata": {
        "colab": {
          "base_uri": "https://localhost:8080/",
          "height": 269
        },
        "id": "t4XEedbnnNGV",
        "outputId": "cc4ec4b2-ba7b-49fd-8608-9828623bbf0d"
      },
      "execution_count": 80,
      "outputs": [
        {
          "output_type": "display_data",
          "data": {
            "text/plain": [
              "<Figure size 432x288 with 2 Axes>"
            ],
            "image/png": "[encoded data removed]"
          },
          "metadata": {
            "needs_background": "light"
          }
        }
      ]
    },
    {
      "cell_type": "markdown",
      "source": [
        "La **curva logística** del punt #6 con la función AA_utils.visualizar_curva_logistica no aplica en este ejercicio debido a que el modelo cuenta con mas de una features en la variable X."
      ],
      "metadata": {
        "id": "b4Nn_KFm62Dj"
      }
    }
  ]
}