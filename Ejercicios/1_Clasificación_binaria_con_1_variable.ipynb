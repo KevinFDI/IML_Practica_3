{
  "nbformat": 4,
  "nbformat_minor": 0,
  "metadata": {
    "colab": {
      "provenance": [],
      "collapsed_sections": [
        "dX2Efiztn51A"
      ]
    },
    "kernelspec": {
      "name": "python3",
      "display_name": "Python 3"
    },
    "language_info": {
      "name": "python"
    }
  },
  "cells": [
    {
      "cell_type": "code",
      "source": [
        "import pandas as pd\n",
        "import numpy as np\n",
        "import matplotlib.pyplot as plt\n",
        "import itertools\n",
        "\n",
        "from sklearn.model_selection import train_test_split\n",
        "from sklearn.preprocessing import StandardScaler\n",
        "from sklearn.linear_model import LogisticRegression\n",
        "from sklearn.metrics import confusion_matrix, roc_curve, roc_auc_score, precision_recall_curve, classification_report\n",
        "\n",
        "from mpl_toolkits.axes_grid1 import make_axes_locatable"
      ],
      "metadata": {
        "id": "ttozLe4KOOCk"
      },
      "execution_count": 126,
      "outputs": []
    },
    {
      "cell_type": "markdown",
      "source": [
        "# **AA UTILS**"
      ],
      "metadata": {
        "id": "dX2Efiztn51A"
      }
    },
    {
      "cell_type": "code",
      "source": [
        "def if_dataframe_to_numpy(data):\n",
        "    return data.to_numpy() if isinstance(data, pd.DataFrame) or isinstance(data, pd.Series) else data\n",
        "\n",
        "def plot_2d(modelo, X, X_train, X_test, y_train, y_test, boundry_function):\n",
        "\n",
        "    assert X.shape[1] == 2, f\"X debe tener solo dos variables de entrada (tiene {X.shape[1]})\"\n",
        "\n",
        "    X = if_dataframe_to_numpy(X)\n",
        "    X_train = if_dataframe_to_numpy(X_train)\n",
        "    X_test = if_dataframe_to_numpy(X_test)\n",
        "\n",
        "    plt.figure()\n",
        "    x_min, x_max = X[:, 0].min() - 1, X[:, 0].max() + 1\n",
        "    y_min, y_max = X[:, 1].min() - 1, X[:, 1].max() + 1\n",
        "    xx, yy = np.meshgrid(np.arange(x_min, x_max, 0.02),\n",
        "                         np.arange(y_min, y_max, 0.02))\n",
        "\n",
        "    Z = np.c_[xx.ravel(), yy.ravel()]\n",
        "    Z = boundry_function(modelo, Z)\n",
        "    Z = Z.reshape(xx.shape)\n",
        "\n",
        "    plt.contourf(xx, yy, Z, alpha=0.3)\n",
        "    plt.colorbar()\n",
        "\n",
        "    plt.scatter(X_train[:, 0], X_train[:, 1], marker=\"o\", c=y_train, label='Training')\n",
        "    plt.scatter(X_test[:, 0], X_test[:, 1], marker=\"+\", c=y_test, s=80, label='Testing')\n",
        "    plt.legend()\n",
        "    plt.show()\n",
        "\n",
        "def print_classification_report(y_true, y_pred):\n",
        "    print(classification_report(y_true, y_pred))\n",
        "\n",
        "def visualizar_parametros(modelo, mostrar_bias, feature_names=[], target_name='target'):\n",
        "    parametros = pd.DataFrame(modelo.coef_, columns=feature_names if len(feature_names) > 0 else range(modelo.coef_.shape[1]))\n",
        "\n",
        "    if mostrar_bias:\n",
        "        parametros['bias'] = modelo.intercept_\n",
        "\n",
        "    parametros.T.plot(kind='bar')\n",
        "\n",
        "    if hasattr(modelo, 'classes_'):\n",
        "        if len(modelo.classes_) <= 2:\n",
        "            plt.legend([target_name])\n",
        "        else:\n",
        "            plt.legend(list(modelo.classes_))\n",
        "    else:\n",
        "        plt.legend([target_name])\n",
        "\n",
        "    plt.show()\n",
        "\n",
        "def visualizar_curva_logistica(modelo, X, y, feature_name='target'):\n",
        "\n",
        "    assert X.shape[1] == 1, f\"X debe tener solo una variable de entrada (tiene {X.shape[1]})\"\n",
        "\n",
        "    X = if_dataframe_to_numpy(X)\n",
        "\n",
        "    plt.figure()\n",
        "    plt.scatter(X, y, c=y, s=50)\n",
        "    plt.xlabel(feature_name)\n",
        "    plt.grid()\n",
        "\n",
        "    x_min, x_max = X[:, 0].min() - 1, X[:, 0].max() + 1\n",
        "    x_graph = np.linspace(x_min, x_max)\n",
        "    y_graph = modelo.predict_proba(x_graph.reshape(-1, 1))[:, 1]\n",
        "    plt.plot(x_graph, y_graph)\n",
        "    plt.show()\n",
        "\n",
        "def visualizar_frontera_de_desicion_2D(modelo, X, X_train, X_test, y_train, y_test):\n",
        "    plot_2d(modelo, X, X_train, X_test, y_train, y_test, lambda modelo, Z: modelo.predict(Z))\n",
        "\n",
        "def visualizar_funcion_transferencia_2D(modelo, X, X_train, X_test, y_train, y_test):\n",
        "\n",
        "    if hasattr(modelo, 'predict_proba') and callable(getattr(modelo, 'predict_proba')):\n",
        "        plot_2d(modelo, X, X_train, X_test, y_train, y_test, lambda modelo, Z: modelo.predict_proba(Z)[:, 1])\n",
        "    else:\n",
        "        raise ValueError(\"no se puede visualizar funcion de transferencia\")\n",
        "\n",
        "def visualizar_confusion_matrix(real_target, pred_target,\n",
        "                                classes=[],\n",
        "                                normalize=False,\n",
        "                                title='Matriz de confusión',\n",
        "                                cmap=plt.cm.Blues):\n",
        "\n",
        "    if (len(classes) == 0):\n",
        "        classes = [str(i) for i in range(int(max(real_target) + 1))]  # nombres de clases consecutivos\n",
        "\n",
        "    cm = confusion_matrix(real_target, pred_target)\n",
        "\n",
        "    plt.figure()\n",
        "    plt.imshow(cm, interpolation='nearest', cmap=cmap)\n",
        "    plt.title(title)\n",
        "    plt.colorbar()\n",
        "    tick_marks = np.arange(len(classes))\n",
        "    plt.xticks(tick_marks, classes, rotation=45)\n",
        "    plt.yticks(tick_marks, classes)\n",
        "\n",
        "    fmt = '.2f' if normalize else 'd'\n",
        "    thresh = cm.max() / 2.\n",
        "    for i, j in itertools.product(range(cm.shape[0]), range(cm.shape[1])):\n",
        "        plt.text(j, i, format(cm[i, j], fmt),\n",
        "                 horizontalalignment=\"center\",\n",
        "                 color=\"white\" if cm[i, j] > thresh else \"black\", size=16)\n",
        "\n",
        "    plt.ylabel('True label')\n",
        "    plt.xlabel('Predicted label')\n",
        "    plt.show()\n",
        "\n",
        "def visualizar_curva_ROC(modelo, X, y):\n",
        "\n",
        "    assert len(set(y)) <= 2, f\"El dataset debe ser binario (hay {len(set(y))}) clases\"\n",
        "\n",
        "    y_score = modelo.predict_proba(X)[:, 1]  # se queda con la clase 1\n",
        "\n",
        "    false_positive_rate, true_positive_rate, threshold = roc_curve(y, y_score)\n",
        "\n",
        "    precision, recall, _ = precision_recall_curve(y, y_score)\n",
        "\n",
        "    # ROC\n",
        "    plt.figure()\n",
        "    plt.title('ROC. Receiver Operating Characteristic')\n",
        "    plt.plot(false_positive_rate, true_positive_rate, label='ROC curve (area = %0.2f)' % roc_auc_score(y, y_score))\n",
        "    plt.plot([0, 1], ls=\"--\")\n",
        "    plt.plot([0, 0], [1, 0], c=\".7\"), plt.plot([1, 1], c=\".7\")\n",
        "    plt.legend(loc=\"lower right\")\n",
        "    plt.ylabel('True Positive Rate (Recall)')\n",
        "    plt.xlabel('False Positive Rate (1- Especificidad)')\n",
        "    plt.show()\n",
        "\n",
        "    # precision-recall curve\n",
        "    plt.figure()\n",
        "    plt.step(recall, precision, color='b', alpha=0.2, where='post')\n",
        "    plt.fill_between(recall, precision, step='post', alpha=0.2, color='b')\n",
        "    plt.xlabel('Recall')\n",
        "    plt.ylabel('Precision')\n",
        "    plt.ylim([0.0, 1.05])\n",
        "    plt.xlim([0.0, 1.0])\n",
        "    plt.title('Precision-Recall curve')\n",
        "    plt.show()\n",
        "\n",
        "def elegir_imagen_al_azar(X, pixeles_ancho, pixeles_alto):\n",
        "    indice = np.random.randint(0, X.shape[0])\n",
        "    img_i = np.reshape(X[indice, :], (pixeles_ancho, pixeles_alto))\n",
        "    plt.figure()\n",
        "    plt.imshow(img_i, 'gray')\n",
        "    plt.title('Dato aleatorio')\n",
        "    plt.show()\n",
        "    return X[indice].reshape(1, -1), indice\n",
        "\n",
        "def visualizar_parametros_para_imagenes(modelo, cantidad_de_clases, pixeles_ancho=28, pixeles_alto=28):\n",
        "\n",
        "    if hasattr(modelo, 'coef_'):\n",
        "        w = modelo.coef_\n",
        "    elif hasattr(modelo, 'coefs_') and (modelo.coefs_) == 1:\n",
        "        w = modelo.coefs_[0]\n",
        "    else:\n",
        "        raise \"para visualizar los parametros de la red es necesario tener cero capas ocultas\"\n",
        "\n",
        "    colorbar_max = np.abs(np.max(w))\n",
        "    w_r = np.reshape(w, (cantidad_de_clases, pixeles_ancho, pixeles_alto))\n",
        "    fig, ax = plt.subplots(2, cantidad_de_clases // 2)\n",
        "    plt.suptitle('Coeficientes aprendidos para cada clase, \\nagrupados en forma matricial de 28x28')\n",
        "    index = 0\n",
        "    for row in range(0, 2):\n",
        "        for col in range(0, cantidad_de_clases // 2):\n",
        "            colorbar_max = max(np.abs(np.max(w_r[index, :, :])), np.abs(np.min(w_r[index, :, :])))\n",
        "            ax_im = ax[row][col].imshow(w_r[index, :, :], cmap='seismic', vmin=-colorbar_max, vmax=colorbar_max)\n",
        "            ax[row][col].get_xaxis().set_visible(False)\n",
        "            ax[row][col].get_yaxis().set_visible(False)\n",
        "            ax[row][col].set_title(str(index))\n",
        "            divider = make_axes_locatable(ax[row][col])\n",
        "            cax = divider.append_axes(\"right\", size=\"5%\", pad=0.05)\n",
        "\n",
        "            fig.colorbar(ax_im, ax=ax[row][col], cax=cax)\n",
        "            index += 1\n",
        "    plt.show()\n",
        "\n",
        "def visualizar_ajuste_por_regresion(modelo, X_train, X_test, y_train, y_test,\n",
        "                                    feature_name='X', target_name='target'):\n",
        "    plt.scatter(X_train, y_train, c='blue', s=40, alpha=0.9, label='Training')\n",
        "    plt.scatter(X_test, y_test, c='red', s=50, alpha=0.5, label='Testing')\n",
        "    plt.xlabel(feature_name)\n",
        "    plt.ylabel(target_name)\n",
        "    plt.legend()\n",
        "    plt.grid()\n",
        "\n",
        "    X_train = if_dataframe_to_numpy(X_train)\n",
        "    X_test = if_dataframe_to_numpy(X_test)\n",
        "\n",
        "    x_max = max(max(X_train), max(X_test))\n",
        "    x_min = min(min(X_train), min(X_test))\n",
        "\n",
        "    x_plot = np.linspace(x_min, x_max, 100)\n",
        "    y_plot = modelo.predict(x_plot.reshape(-1, 1))\n",
        "    plt.plot(x_plot, y_plot, 'g--', linewidth=5)\n",
        "    plt.show()\n",
        "\n",
        "def visualizar_curva_error_entrenamiento(modelo):\n",
        "    plt.plot(modelo.loss_curve_)\n",
        "    plt.xlabel('iterations')\n",
        "    plt.ylabel('loss')\n",
        "    plt.legend(['Train'])\n",
        "    plt.show()\n"
      ],
      "metadata": {
        "id": "UhL4SuDzn_94"
      },
      "execution_count": 127,
      "outputs": []
    },
    {
      "cell_type": "markdown",
      "source": [
        "# **CLASIFICACIÓN BINARIA DE UNA VARIABLE CON REGRESIÓN LOGÍSTICA**"
      ],
      "metadata": {
        "id": "D5GneCxmnU6I"
      }
    },
    {
      "cell_type": "markdown",
      "source": [
        "# **BREAST CANCER RADIUS**"
      ],
      "metadata": {
        "id": "QPf6A2ISqY77"
      }
    },
    {
      "cell_type": "markdown",
      "source": [
        "**CARGA DE DATOS**"
      ],
      "metadata": {
        "id": "9vZ1Zjq6mh42"
      }
    },
    {
      "cell_type": "code",
      "source": [
        "data = pd.read_csv(r\"https://raw.githubusercontent.com/KevinFDI/IML_Practica_3/main/Pr%C3%A1ctica/datasets/breast_cancer_radius.csv\")"
      ],
      "metadata": {
        "id": "qntMZ-U8mlTQ"
      },
      "execution_count": 128,
      "outputs": []
    },
    {
      "cell_type": "markdown",
      "source": [
        "**HAGO UNA VISTA RÁPIDA DEL DATASET Y ANALIZO SI HAY VALORES NULOS**"
      ],
      "metadata": {
        "id": "PeQgI90yxdLP"
      }
    },
    {
      "cell_type": "code",
      "source": [
        "data.head()"
      ],
      "metadata": {
        "colab": {
          "base_uri": "https://localhost:8080/",
          "height": 206
        },
        "id": "Pk6JGHmmxE3v",
        "outputId": "d95e281a-fa08-4a35-f84d-43d93169fce3"
      },
      "execution_count": 129,
      "outputs": [
        {
          "output_type": "execute_result",
          "data": {
            "text/plain": [
              "   mean radius  target\n",
              "0        17.99       1\n",
              "1        20.57       1\n",
              "2        19.69       1\n",
              "3        11.42       1\n",
              "4        20.29       1"
            ],
            "text/html": [
              "\n",
              "  <div id=\"df-b5bf40b6-b0c2-4f45-865a-493af065ce4d\">\n",
              "    <div class=\"colab-df-container\">\n",
              "      <div>\n",
              "<style scoped>\n",
              "    .dataframe tbody tr th:only-of-type {\n",
              "        vertical-align: middle;\n",
              "    }\n",
              "\n",
              "    .dataframe tbody tr th {\n",
              "        vertical-align: top;\n",
              "    }\n",
              "\n",
              "    .dataframe thead th {\n",
              "        text-align: right;\n",
              "    }\n",
              "</style>\n",
              "<table border=\"1\" class=\"dataframe\">\n",
              "  <thead>\n",
              "    <tr style=\"text-align: right;\">\n",
              "      <th></th>\n",
              "      <th>mean radius</th>\n",
              "      <th>target</th>\n",
              "    </tr>\n",
              "  </thead>\n",
              "  <tbody>\n",
              "    <tr>\n",
              "      <th>0</th>\n",
              "      <td>17.99</td>\n",
              "      <td>1</td>\n",
              "    </tr>\n",
              "    <tr>\n",
              "      <th>1</th>\n",
              "      <td>20.57</td>\n",
              "      <td>1</td>\n",
              "    </tr>\n",
              "    <tr>\n",
              "      <th>2</th>\n",
              "      <td>19.69</td>\n",
              "      <td>1</td>\n",
              "    </tr>\n",
              "    <tr>\n",
              "      <th>3</th>\n",
              "      <td>11.42</td>\n",
              "      <td>1</td>\n",
              "    </tr>\n",
              "    <tr>\n",
              "      <th>4</th>\n",
              "      <td>20.29</td>\n",
              "      <td>1</td>\n",
              "    </tr>\n",
              "  </tbody>\n",
              "</table>\n",
              "</div>\n",
              "      <button class=\"colab-df-convert\" onclick=\"convertToInteractive('df-b5bf40b6-b0c2-4f45-865a-493af065ce4d')\"\n",
              "              title=\"Convert this dataframe to an interactive table.\"\n",
              "              style=\"display:none;\">\n",
              "        \n",
              "  <svg xmlns=\"http://www.w3.org/2000/svg\" height=\"24px\"viewBox=\"0 0 24 24\"\n",
              "       width=\"24px\">\n",
              "    <path d=\"M0 0h24v24H0V0z\" fill=\"none\"/>\n",
              "    <path d=\"M18.56 5.44l.94 2.06.94-2.06 2.06-.94-2.06-.94-.94-2.06-.94 2.06-2.06.94zm-11 1L8.5 8.5l.94-2.06 2.06-.94-2.06-.94L8.5 2.5l-.94 2.06-2.06.94zm10 10l.94 2.06.94-2.06 2.06-.94-2.06-.94-.94-2.06-.94 2.06-2.06.94z\"/><path d=\"M17.41 7.96l-1.37-1.37c-.4-.4-.92-.59-1.43-.59-.52 0-1.04.2-1.43.59L10.3 9.45l-7.72 7.72c-.78.78-.78 2.05 0 2.83L4 21.41c.39.39.9.59 1.41.59.51 0 1.02-.2 1.41-.59l7.78-7.78 2.81-2.81c.8-.78.8-2.07 0-2.86zM5.41 20L4 18.59l7.72-7.72 1.47 1.35L5.41 20z\"/>\n",
              "  </svg>\n",
              "      </button>\n",
              "      \n",
              "  <style>\n",
              "    .colab-df-container {\n",
              "      display:flex;\n",
              "      flex-wrap:wrap;\n",
              "      gap: 12px;\n",
              "    }\n",
              "\n",
              "    .colab-df-convert {\n",
              "      background-color: #E8F0FE;\n",
              "      border: none;\n",
              "      border-radius: 50%;\n",
              "      cursor: pointer;\n",
              "      display: none;\n",
              "      fill: #1967D2;\n",
              "      height: 32px;\n",
              "      padding: 0 0 0 0;\n",
              "      width: 32px;\n",
              "    }\n",
              "\n",
              "    .colab-df-convert:hover {\n",
              "      background-color: #E2EBFA;\n",
              "      box-shadow: 0px 1px 2px rgba(60, 64, 67, 0.3), 0px 1px 3px 1px rgba(60, 64, 67, 0.15);\n",
              "      fill: #174EA6;\n",
              "    }\n",
              "\n",
              "    [theme=dark] .colab-df-convert {\n",
              "      background-color: #3B4455;\n",
              "      fill: #D2E3FC;\n",
              "    }\n",
              "\n",
              "    [theme=dark] .colab-df-convert:hover {\n",
              "      background-color: #434B5C;\n",
              "      box-shadow: 0px 1px 3px 1px rgba(0, 0, 0, 0.15);\n",
              "      filter: drop-shadow(0px 1px 2px rgba(0, 0, 0, 0.3));\n",
              "      fill: #FFFFFF;\n",
              "    }\n",
              "  </style>\n",
              "\n",
              "      <script>\n",
              "        const buttonEl =\n",
              "          document.querySelector('#df-b5bf40b6-b0c2-4f45-865a-493af065ce4d button.colab-df-convert');\n",
              "        buttonEl.style.display =\n",
              "          google.colab.kernel.accessAllowed ? 'block' : 'none';\n",
              "\n",
              "        async function convertToInteractive(key) {\n",
              "          const element = document.querySelector('#df-b5bf40b6-b0c2-4f45-865a-493af065ce4d');\n",
              "          const dataTable =\n",
              "            await google.colab.kernel.invokeFunction('convertToInteractive',\n",
              "                                                     [key], {});\n",
              "          if (!dataTable) return;\n",
              "\n",
              "          const docLinkHtml = 'Like what you see? Visit the ' +\n",
              "            '<a target=\"_blank\" href=https://colab.research.google.com/notebooks/data_table.ipynb>data table notebook</a>'\n",
              "            + ' to learn more about interactive tables.';\n",
              "          element.innerHTML = '';\n",
              "          dataTable['output_type'] = 'display_data';\n",
              "          await google.colab.output.renderOutput(dataTable, element);\n",
              "          const docLink = document.createElement('div');\n",
              "          docLink.innerHTML = docLinkHtml;\n",
              "          element.appendChild(docLink);\n",
              "        }\n",
              "      </script>\n",
              "    </div>\n",
              "  </div>\n",
              "  "
            ]
          },
          "metadata": {},
          "execution_count": 129
        }
      ]
    },
    {
      "cell_type": "code",
      "source": [
        "data.isnull().sum()"
      ],
      "metadata": {
        "colab": {
          "base_uri": "https://localhost:8080/"
        },
        "id": "-0Qk0wCOxJNG",
        "outputId": "a5be9b24-b42c-4968-f8e4-ce1e5c64b514"
      },
      "execution_count": 130,
      "outputs": [
        {
          "output_type": "execute_result",
          "data": {
            "text/plain": [
              "mean radius    0\n",
              "target         0\n",
              "dtype: int64"
            ]
          },
          "metadata": {},
          "execution_count": 130
        }
      ]
    },
    {
      "cell_type": "code",
      "source": [
        "round(data.describe(), 2)"
      ],
      "metadata": {
        "colab": {
          "base_uri": "https://localhost:8080/",
          "height": 301
        },
        "id": "ik69rgMhxRSc",
        "outputId": "39df33b8-e305-40da-ca41-fb84bd097175"
      },
      "execution_count": 131,
      "outputs": [
        {
          "output_type": "execute_result",
          "data": {
            "text/plain": [
              "       mean radius  target\n",
              "count       569.00  569.00\n",
              "mean         14.13    0.37\n",
              "std           3.52    0.48\n",
              "min           6.98    0.00\n",
              "25%          11.70    0.00\n",
              "50%          13.37    0.00\n",
              "75%          15.78    1.00\n",
              "max          28.11    1.00"
            ],
            "text/html": [
              "\n",
              "  <div id=\"df-d8c6026d-d907-45e0-a1c9-b1f61defee3b\">\n",
              "    <div class=\"colab-df-container\">\n",
              "      <div>\n",
              "<style scoped>\n",
              "    .dataframe tbody tr th:only-of-type {\n",
              "        vertical-align: middle;\n",
              "    }\n",
              "\n",
              "    .dataframe tbody tr th {\n",
              "        vertical-align: top;\n",
              "    }\n",
              "\n",
              "    .dataframe thead th {\n",
              "        text-align: right;\n",
              "    }\n",
              "</style>\n",
              "<table border=\"1\" class=\"dataframe\">\n",
              "  <thead>\n",
              "    <tr style=\"text-align: right;\">\n",
              "      <th></th>\n",
              "      <th>mean radius</th>\n",
              "      <th>target</th>\n",
              "    </tr>\n",
              "  </thead>\n",
              "  <tbody>\n",
              "    <tr>\n",
              "      <th>count</th>\n",
              "      <td>569.00</td>\n",
              "      <td>569.00</td>\n",
              "    </tr>\n",
              "    <tr>\n",
              "      <th>mean</th>\n",
              "      <td>14.13</td>\n",
              "      <td>0.37</td>\n",
              "    </tr>\n",
              "    <tr>\n",
              "      <th>std</th>\n",
              "      <td>3.52</td>\n",
              "      <td>0.48</td>\n",
              "    </tr>\n",
              "    <tr>\n",
              "      <th>min</th>\n",
              "      <td>6.98</td>\n",
              "      <td>0.00</td>\n",
              "    </tr>\n",
              "    <tr>\n",
              "      <th>25%</th>\n",
              "      <td>11.70</td>\n",
              "      <td>0.00</td>\n",
              "    </tr>\n",
              "    <tr>\n",
              "      <th>50%</th>\n",
              "      <td>13.37</td>\n",
              "      <td>0.00</td>\n",
              "    </tr>\n",
              "    <tr>\n",
              "      <th>75%</th>\n",
              "      <td>15.78</td>\n",
              "      <td>1.00</td>\n",
              "    </tr>\n",
              "    <tr>\n",
              "      <th>max</th>\n",
              "      <td>28.11</td>\n",
              "      <td>1.00</td>\n",
              "    </tr>\n",
              "  </tbody>\n",
              "</table>\n",
              "</div>\n",
              "      <button class=\"colab-df-convert\" onclick=\"convertToInteractive('df-d8c6026d-d907-45e0-a1c9-b1f61defee3b')\"\n",
              "              title=\"Convert this dataframe to an interactive table.\"\n",
              "              style=\"display:none;\">\n",
              "        \n",
              "  <svg xmlns=\"http://www.w3.org/2000/svg\" height=\"24px\"viewBox=\"0 0 24 24\"\n",
              "       width=\"24px\">\n",
              "    <path d=\"M0 0h24v24H0V0z\" fill=\"none\"/>\n",
              "    <path d=\"M18.56 5.44l.94 2.06.94-2.06 2.06-.94-2.06-.94-.94-2.06-.94 2.06-2.06.94zm-11 1L8.5 8.5l.94-2.06 2.06-.94-2.06-.94L8.5 2.5l-.94 2.06-2.06.94zm10 10l.94 2.06.94-2.06 2.06-.94-2.06-.94-.94-2.06-.94 2.06-2.06.94z\"/><path d=\"M17.41 7.96l-1.37-1.37c-.4-.4-.92-.59-1.43-.59-.52 0-1.04.2-1.43.59L10.3 9.45l-7.72 7.72c-.78.78-.78 2.05 0 2.83L4 21.41c.39.39.9.59 1.41.59.51 0 1.02-.2 1.41-.59l7.78-7.78 2.81-2.81c.8-.78.8-2.07 0-2.86zM5.41 20L4 18.59l7.72-7.72 1.47 1.35L5.41 20z\"/>\n",
              "  </svg>\n",
              "      </button>\n",
              "      \n",
              "  <style>\n",
              "    .colab-df-container {\n",
              "      display:flex;\n",
              "      flex-wrap:wrap;\n",
              "      gap: 12px;\n",
              "    }\n",
              "\n",
              "    .colab-df-convert {\n",
              "      background-color: #E8F0FE;\n",
              "      border: none;\n",
              "      border-radius: 50%;\n",
              "      cursor: pointer;\n",
              "      display: none;\n",
              "      fill: #1967D2;\n",
              "      height: 32px;\n",
              "      padding: 0 0 0 0;\n",
              "      width: 32px;\n",
              "    }\n",
              "\n",
              "    .colab-df-convert:hover {\n",
              "      background-color: #E2EBFA;\n",
              "      box-shadow: 0px 1px 2px rgba(60, 64, 67, 0.3), 0px 1px 3px 1px rgba(60, 64, 67, 0.15);\n",
              "      fill: #174EA6;\n",
              "    }\n",
              "\n",
              "    [theme=dark] .colab-df-convert {\n",
              "      background-color: #3B4455;\n",
              "      fill: #D2E3FC;\n",
              "    }\n",
              "\n",
              "    [theme=dark] .colab-df-convert:hover {\n",
              "      background-color: #434B5C;\n",
              "      box-shadow: 0px 1px 3px 1px rgba(0, 0, 0, 0.15);\n",
              "      filter: drop-shadow(0px 1px 2px rgba(0, 0, 0, 0.3));\n",
              "      fill: #FFFFFF;\n",
              "    }\n",
              "  </style>\n",
              "\n",
              "      <script>\n",
              "        const buttonEl =\n",
              "          document.querySelector('#df-d8c6026d-d907-45e0-a1c9-b1f61defee3b button.colab-df-convert');\n",
              "        buttonEl.style.display =\n",
              "          google.colab.kernel.accessAllowed ? 'block' : 'none';\n",
              "\n",
              "        async function convertToInteractive(key) {\n",
              "          const element = document.querySelector('#df-d8c6026d-d907-45e0-a1c9-b1f61defee3b');\n",
              "          const dataTable =\n",
              "            await google.colab.kernel.invokeFunction('convertToInteractive',\n",
              "                                                     [key], {});\n",
              "          if (!dataTable) return;\n",
              "\n",
              "          const docLinkHtml = 'Like what you see? Visit the ' +\n",
              "            '<a target=\"_blank\" href=https://colab.research.google.com/notebooks/data_table.ipynb>data table notebook</a>'\n",
              "            + ' to learn more about interactive tables.';\n",
              "          element.innerHTML = '';\n",
              "          dataTable['output_type'] = 'display_data';\n",
              "          await google.colab.output.renderOutput(dataTable, element);\n",
              "          const docLink = document.createElement('div');\n",
              "          docLink.innerHTML = docLinkHtml;\n",
              "          element.appendChild(docLink);\n",
              "        }\n",
              "      </script>\n",
              "    </div>\n",
              "  </div>\n",
              "  "
            ]
          },
          "metadata": {},
          "execution_count": 131
        }
      ]
    },
    {
      "cell_type": "markdown",
      "source": [
        "**PREPROCESAMIENTO**"
      ],
      "metadata": {
        "id": "Memn00Jmmzxw"
      }
    },
    {
      "cell_type": "code",
      "source": [
        "X = data.drop(columns=['target'])\n",
        "y = data['target']\n",
        "\n",
        "print(f'''\n",
        "      ====================================================================================================\n",
        "      El problema de clasificación es de {X.shape[1]} features ---(prediciendo)---> {len(set(y))} clases\n",
        "      ====================================================================================================\n",
        "      ''')\n",
        "\n",
        "X_train, X_test, y_train, y_test = train_test_split(X, y, test_size=0.2)\n",
        "\n",
        "NORMALIZAR = False\n",
        "\n",
        "if NORMALIZAR:\n",
        "    scaler = StandardScaler().fit(X_train)\n",
        "    X_train = scaler.transform(X_train)\n",
        "    X_test = scaler.transform(X_test)"
      ],
      "metadata": {
        "colab": {
          "base_uri": "https://localhost:8080/"
        },
        "id": "YrofXES8my3h",
        "outputId": "781fe719-0ea2-4749-fabe-ac3eed3c075c"
      },
      "execution_count": 132,
      "outputs": [
        {
          "output_type": "stream",
          "name": "stdout",
          "text": [
            "\n",
            "      ====================================================================================================\n",
            "      El problema de clasificación es de 1 features ---(prediciendo)---> 2 clases\n",
            "      ====================================================================================================\n",
            "      \n"
          ]
        }
      ]
    },
    {
      "cell_type": "markdown",
      "source": [
        "**MODELADO**"
      ],
      "metadata": {
        "id": "hsVBJu-Lm__g"
      }
    },
    {
      "cell_type": "code",
      "source": [
        "modelo = LogisticRegression()\n",
        "modelo.fit(X_train, y_train)\n",
        "\n",
        "# CAMBIO DEL PARÁMETRO CLASS_WEIGHT\n",
        "\n",
        "from sklearn.utils import class_weight\n",
        "\n",
        "weights = {0:0.15, 1:0.85} # Determina si tengo más falsos positivos o más falsos positivos\n",
        "modelo_2 = LogisticRegression(class_weight=weights)\n",
        "modelo_2.fit(X_train, y_train)"
      ],
      "metadata": {
        "colab": {
          "base_uri": "https://localhost:8080/"
        },
        "id": "SUZZiTqAnCM_",
        "outputId": "4a98803c-1992-4256-9966-4b3131654215"
      },
      "execution_count": 133,
      "outputs": [
        {
          "output_type": "execute_result",
          "data": {
            "text/plain": [
              "LogisticRegression(class_weight={0: 0.15, 1: 0.85})"
            ]
          },
          "metadata": {},
          "execution_count": 133
        }
      ]
    },
    {
      "cell_type": "markdown",
      "source": [
        "Con el parámetro class_weight se puede solucionar el problema del desbalance de clases al momento de entrenar el modelo. Este parámetro es un diccionario que indica el peso que se le dará a cada clase dentro de la función de error durante el entrenamiento.\n",
        "\n",
        "A medida que se inclina el peso hacia una u otra clase, aumentará el Recall y disminuirá el Precision, o viceversa.\n",
        "\n",
        "Esto quiere decir, que a medida que cambie, tendré más Falsos Positivos o más Falsos Negativos. Hay que definir para dónde quiere cada uno inclinar la balanza."
      ],
      "metadata": {
        "id": "Xq2Y04fihGKF"
      }
    },
    {
      "cell_type": "markdown",
      "source": [
        "**EVALUACIÓN**"
      ],
      "metadata": {
        "id": "LJRY_FirnEBH"
      }
    },
    {
      "cell_type": "markdown",
      "source": [
        "El \"**Accuracy**\" solo sirve como promedio de clasificación general del modelo. Muestra cómo se comporta el modelo teniendo en cuenta tanto los \"True Positives\" como los \"True Negatives\".\n",
        "\n",
        "La \"**Precision**\" muestra cuántos ítems\n",
        "reconocidos son realmente relevantes.\n",
        "\n",
        "El \"**Recall**\" dice cuántos ítems relevantes\n",
        "fueron realmente seleccionados.\n",
        "\n",
        "El \"**Support**\" muestra con cuántos datos se están calculando los valores anteriores."
      ],
      "metadata": {
        "id": "2EMZRFSq02hn"
      }
    },
    {
      "cell_type": "markdown",
      "source": [
        "Las métricas sobre el conjunto de **training** dicen cómo se entrenó el modelo, que tan bien se entrenó.\n",
        "\n",
        "Si el Accuracy es malo en está métrica (ej. 40%), entonces ya el modelo es malo.\n",
        "\n",
        "Una vez que este modelo es bueno (por encima del 80-90%) se pasa a analizar el de testing."
      ],
      "metadata": {
        "id": "c4UzQ7C32ocl"
      }
    },
    {
      "cell_type": "code",
      "source": [
        "print_classification_report(y_train, modelo.predict(X_train))\n",
        "print(\"######################################################\")\n",
        "print(\"\\n\\n \\t      CON CAMBIO EN EL PARAMETRO CLASS_WEIGTH \\n\")\n",
        "print(\"\\t      --------------------------------------- \\n\")\n",
        "print_classification_report(y_train, modelo_2.predict(X_train))"
      ],
      "metadata": {
        "colab": {
          "base_uri": "https://localhost:8080/"
        },
        "id": "dJkVMmIcnIkW",
        "outputId": "76950a12-55ed-41b2-caa1-a7b6fb334234"
      },
      "execution_count": 134,
      "outputs": [
        {
          "output_type": "stream",
          "name": "stdout",
          "text": [
            "              precision    recall  f1-score   support\n",
            "\n",
            "           0       0.89      0.94      0.91       287\n",
            "           1       0.88      0.80      0.84       168\n",
            "\n",
            "    accuracy                           0.89       455\n",
            "   macro avg       0.88      0.87      0.87       455\n",
            "weighted avg       0.89      0.89      0.88       455\n",
            "\n",
            "######################################################\n",
            "\n",
            "\n",
            " \t      CON CAMBIO EN EL PARAMETRO CLASS_WEIGTH \n",
            "\n",
            "\t      --------------------------------------- \n",
            "\n",
            "              precision    recall  f1-score   support\n",
            "\n",
            "           0       0.96      0.72      0.82       287\n",
            "           1       0.66      0.95      0.78       168\n",
            "\n",
            "    accuracy                           0.80       455\n",
            "   macro avg       0.81      0.84      0.80       455\n",
            "weighted avg       0.85      0.80      0.81       455\n",
            "\n"
          ]
        }
      ]
    },
    {
      "cell_type": "markdown",
      "source": [
        "Las métricas sobre el conjunto de **testing** indica que tan bien funciona el modelo para datos nuevos.\n",
        "\n",
        "Si esta modelo es maso menos igual al de training entonces es un buen modelo.\n",
        "\n",
        "En cambio, si tenemos valores mucho más bajos, podríamos estar bajo un sobreajuste. "
      ],
      "metadata": {
        "id": "ccelMEUx24Rc"
      }
    },
    {
      "cell_type": "code",
      "source": [
        "print_classification_report(y_test, modelo.predict(X_test))\n",
        "\n",
        "print(\"######################################################\")\n",
        "print(\"\\n\\n \\t      CON CAMBIO EN EL PARAMETRO CLASS_WEIGTH \\n\")\n",
        "print(\"\\t      --------------------------------------- \\n\")\n",
        "\n",
        "print_classification_report(y_test, modelo_2.predict(X_test))"
      ],
      "metadata": {
        "colab": {
          "base_uri": "https://localhost:8080/"
        },
        "id": "Io_qCh-F24Yn",
        "outputId": "2700cbbc-fecb-4574-a56a-1785275412fd"
      },
      "execution_count": 135,
      "outputs": [
        {
          "output_type": "stream",
          "name": "stdout",
          "text": [
            "              precision    recall  f1-score   support\n",
            "\n",
            "           0       0.85      0.90      0.88        70\n",
            "           1       0.82      0.75      0.79        44\n",
            "\n",
            "    accuracy                           0.84       114\n",
            "   macro avg       0.84      0.82      0.83       114\n",
            "weighted avg       0.84      0.84      0.84       114\n",
            "\n",
            "######################################################\n",
            "\n",
            "\n",
            " \t      CON CAMBIO EN EL PARAMETRO CLASS_WEIGTH \n",
            "\n",
            "\t      --------------------------------------- \n",
            "\n",
            "              precision    recall  f1-score   support\n",
            "\n",
            "           0       0.90      0.66      0.76        70\n",
            "           1       0.62      0.89      0.73        44\n",
            "\n",
            "    accuracy                           0.75       114\n",
            "   macro avg       0.76      0.77      0.74       114\n",
            "weighted avg       0.79      0.75      0.75       114\n",
            "\n"
          ]
        }
      ]
    },
    {
      "cell_type": "markdown",
      "source": [
        "En el siguiente gráfico de **Matriz de Confusión** se puede observar cómo se comporta el modelo para cada una de las clases.\n",
        "\n",
        "Este gráfico se analiza de la siguiente manera:\n",
        "*   Las **filas** representan la etiqueta real de cada clase.\n",
        "*   Las **columnas** representan la predicción del modelo entrenado.\n",
        "*   La **diagonal principal** representa el correcto funcionamiento del modelo.\n",
        "*   **Fuera de la diagonal**: errores.\n",
        "\n"
      ],
      "metadata": {
        "id": "fgdnlCbmwSHy"
      }
    },
    {
      "cell_type": "code",
      "source": [
        "visualizar_confusion_matrix(y_test, modelo.predict(X_test))\n",
        "\n",
        "print(\"\\n########################################################\")\n",
        "print(\"\\n CON CAMBIO EN EL PARAMETRO CLASS_WEIGTH \\n\")\n",
        "print(\"--------------------------------------- \\n\")\n",
        "\n",
        "visualizar_confusion_matrix(y_test, modelo_2.predict(X_test))"
      ],
      "metadata": {
        "colab": {
          "base_uri": "https://localhost:8080/",
          "height": 698
        },
        "id": "FO61ds5qo3C5",
        "outputId": "d3cc119e-6eb8-4c45-d698-93cc3b29a053"
      },
      "execution_count": 136,
      "outputs": [
        {
          "output_type": "display_data",
          "data": {
            "text/plain": [
              "<Figure size 432x288 with 2 Axes>"
            ],
            "image/png": "[encoded data removed]"
          },
          "metadata": {
            "needs_background": "light"
          }
        },
        {
          "output_type": "stream",
          "name": "stdout",
          "text": [
            "\n",
            "########################################################\n",
            "\n",
            " CON CAMBIO EN EL PARAMETRO CLASS_WEIGTH \n",
            "\n",
            "--------------------------------------- \n",
            "\n"
          ]
        },
        {
          "output_type": "display_data",
          "data": {
            "text/plain": [
              "<Figure size 432x288 with 2 Axes>"
            ],
            "image/png": "[encoded data removed]"
          },
          "metadata": {
            "needs_background": "light"
          }
        }
      ]
    },
    {
      "cell_type": "markdown",
      "source": [
        "El 0 representa a los valores beningnos, mientras que el 1 a los valores malignos.\n",
        "Como mencioné antes de la gráfica, los valores de la diagonal principal (Los cuadrados más oscuros= son aquellos valores que se representan correctamente, mientras que el resto (la otra diagonal con cuadrados más claros) respresentan los valores que se predijieron incorrectamente.\n",
        "\n",
        "Con el **class_weigth** A medida que se inclina el peso hacia una u otra clase, aumentará el Recall y disminuirá el Precision, o viceversa.\n",
        "\n",
        "En este caso inclino el peso de la variable para aumentar más los valores de los falsos positivos y disminuir la de los falsos negativos.\n",
        "\n",
        "Esto lo hago para prevenir (disminuir) los casos determinarun falso negativo en un test de cancer. Desde esta perspectiva prefiero que la balanza la incline a los falsos positivos."
      ],
      "metadata": {
        "id": "jNUOKJA6D3fI"
      }
    },
    {
      "cell_type": "markdown",
      "source": [
        "Las **Curvas ROC** (Receiver Operating Characteristic) muestra cómo se comporta un modelo binario al cambiar el umbral de detección.\n",
        "*   True Positive Rate = Sensitividad = Recall= TP/(TP+FN)\n",
        "*   False Positive Rate= 1 - Especificidad= 1- TN/(FP+TN)\n",
        "\n",
        "Las **Curvas Precision-Recall** se computan de igual modo que las curvas ROC pero grafican el funcionamiento del modelo para estas métricas."
      ],
      "metadata": {
        "id": "e_Z_FgwP8lxm"
      }
    },
    {
      "cell_type": "code",
      "source": [
        "visualizar_curva_ROC(modelo, X, y)\n",
        "\n",
        "print(\"\\n################################################\")\n",
        "print(\"\\n CON CAMBIO EN EL PARAMETRO CLASS_WEIGTH \\n\")\n",
        "print(\"--------------------------------------- \\n\")\n",
        "\n",
        "visualizar_curva_ROC(modelo_2, X, y)"
      ],
      "metadata": {
        "colab": {
          "base_uri": "https://localhost:8080/",
          "height": 1000
        },
        "id": "rIFgxxEkuIU9",
        "outputId": "2dfc6e0e-d084-4a02-d244-2a2c0db39972"
      },
      "execution_count": 137,
      "outputs": [
        {
          "output_type": "display_data",
          "data": {
            "text/plain": [
              "<Figure size 432x288 with 1 Axes>"
            ],
            "image/png": "[encoded data removed]"
          },
          "metadata": {
            "needs_background": "light"
          }
        },
        {
          "output_type": "display_data",
          "data": {
            "text/plain": [
              "<Figure size 432x288 with 1 Axes>"
            ],
            "image/png": "[encoded data removed]"
          },
          "metadata": {
            "needs_background": "light"
          }
        },
        {
          "output_type": "stream",
          "name": "stdout",
          "text": [
            "\n",
            "################################################\n",
            "\n",
            " CON CAMBIO EN EL PARAMETRO CLASS_WEIGTH \n",
            "\n",
            "--------------------------------------- \n",
            "\n"
          ]
        },
        {
          "output_type": "display_data",
          "data": {
            "text/plain": [
              "<Figure size 432x288 with 1 Axes>"
            ],
            "image/png": "[encoded data removed]"
          },
          "metadata": {
            "needs_background": "light"
          }
        },
        {
          "output_type": "display_data",
          "data": {
            "text/plain": [
              "<Figure size 432x288 with 1 Axes>"
            ],
            "image/png": "[encoded data removed]"
          },
          "metadata": {
            "needs_background": "light"
          }
        }
      ]
    },
    {
      "cell_type": "code",
      "source": [
        "# Como pide la consigna, al utilizar la Regeresión Logística grafico la función: AA_utils.visualizar_parametros\n",
        "visualizar_parametros(modelo, mostrar_bias=True, feature_names=X.columns, target_name=y.name)\n",
        "\n",
        "print(\"\\n##################################################\")\n",
        "print(\"\\n CON CAMBIO EN EL PARAMETRO CLASS_WEIGTH \\n\")\n",
        "print(\"--------------------------------------- \\n\")\n",
        "\n",
        "visualizar_parametros(modelo_2, mostrar_bias=True, feature_names=X.columns, target_name=y.name)"
      ],
      "metadata": {
        "colab": {
          "base_uri": "https://localhost:8080/",
          "height": 740
        },
        "id": "8mESfJzjuOkV",
        "outputId": "4493d49a-7cca-451c-ec88-15dd190464be"
      },
      "execution_count": 138,
      "outputs": [
        {
          "output_type": "display_data",
          "data": {
            "text/plain": [
              "<Figure size 432x288 with 1 Axes>"
            ],
            "image/png": "[encoded data removed]"
          },
          "metadata": {
            "needs_background": "light"
          }
        },
        {
          "output_type": "stream",
          "name": "stdout",
          "text": [
            "\n",
            "##################################################\n",
            "\n",
            " CON CAMBIO EN EL PARAMETRO CLASS_WEIGTH \n",
            "\n",
            "--------------------------------------- \n",
            "\n"
          ]
        },
        {
          "output_type": "display_data",
          "data": {
            "text/plain": [
              "<Figure size 432x288 with 1 Axes>"
            ],
            "image/png": "[encoded data removed]"
          },
          "metadata": {
            "needs_background": "light"
          }
        }
      ]
    },
    {
      "cell_type": "markdown",
      "source": [
        "Para la Regresión Logística se utiliza la Regresión Lineal convinada con la Función Logística (Sigmoidea) como se muestra en el siguiente gráfico.\n",
        "\n",
        "\n",
        "La función sigmoidea funciona como distribución de probabilidades y está representada por la línea curva azul.\n",
        "\n",
        "Tiene dos asíntotas horizontales:\n",
        "*   Tiende a 1 cuando x tiende a + infinito.\n",
        "*   Tiende a 0 cuando x tiende a - infinito."
      ],
      "metadata": {
        "id": "LiYjUACVuYL3"
      }
    },
    {
      "cell_type": "code",
      "source": [
        "visualizar_curva_logistica(modelo, X_train, y_train, feature_name=X.columns[0])\n",
        "\n",
        "print(\"\\n########################################################\")\n",
        "print(\"\\n CON CAMBIO EN EL PARAMETRO CLASS_WEIGTH \\n\")\n",
        "print(\"--------------------------------------- \\n\")\n",
        "\n",
        "visualizar_curva_logistica(modelo_2, X_train, y_train, feature_name=X.columns[0])"
      ],
      "metadata": {
        "colab": {
          "base_uri": "https://localhost:8080/",
          "height": 732
        },
        "id": "f5WoaF8VuRTo",
        "outputId": "4e571b7d-6800-4bd8-b8fd-c85778669c6f"
      },
      "execution_count": 139,
      "outputs": [
        {
          "output_type": "stream",
          "name": "stderr",
          "text": [
            "/usr/local/lib/python3.7/dist-packages/sklearn/base.py:451: UserWarning: X does not have valid feature names, but LogisticRegression was fitted with feature names\n",
            "  \"X does not have valid feature names, but\"\n"
          ]
        },
        {
          "output_type": "display_data",
          "data": {
            "text/plain": [
              "<Figure size 432x288 with 1 Axes>"
            ],
            "image/png": "[encoded data removed]"
          },
          "metadata": {
            "needs_background": "light"
          }
        },
        {
          "output_type": "stream",
          "name": "stderr",
          "text": [
            "/usr/local/lib/python3.7/dist-packages/sklearn/base.py:451: UserWarning: X does not have valid feature names, but LogisticRegression was fitted with feature names\n",
            "  \"X does not have valid feature names, but\"\n"
          ]
        },
        {
          "output_type": "stream",
          "name": "stdout",
          "text": [
            "\n",
            "########################################################\n",
            "\n",
            " CON CAMBIO EN EL PARAMETRO CLASS_WEIGTH \n",
            "\n",
            "--------------------------------------- \n",
            "\n"
          ]
        },
        {
          "output_type": "display_data",
          "data": {
            "text/plain": [
              "<Figure size 432x288 with 1 Axes>"
            ],
            "image/png": "[encoded data removed]"
          },
          "metadata": {
            "needs_background": "light"
          }
        }
      ]
    },
    {
      "cell_type": "markdown",
      "source": [
        "En este último gráfico se puede observar cómo al cambiar el parámetro class_weight se desplaza la curva hacia la izquierda, atribuyéndole mayor peso a la variable 1."
      ],
      "metadata": {
        "id": "rocsUuByiDRj"
      }
    }
  ]
}