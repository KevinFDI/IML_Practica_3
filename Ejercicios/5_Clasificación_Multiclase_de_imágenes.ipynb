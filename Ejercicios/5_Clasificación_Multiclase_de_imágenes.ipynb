{
  "nbformat": 4,
  "nbformat_minor": 0,
  "metadata": {
    "colab": {
      "provenance": [],
      "collapsed_sections": []
    },
    "kernelspec": {
      "name": "python3",
      "display_name": "Python 3"
    },
    "language_info": {
      "name": "python"
    }
  },
  "cells": [
    {
      "cell_type": "markdown",
      "source": [
        "**CONSIGNAS PARA TODOS LOS EJERCICIOS:**\n",
        "\n",
        "1.   En el caso de utilizar una Regresión Logística grafique sus parámetros con la función AA_utils.visualizar_parametros\n",
        "2.   Grafique e interprete la matriz de confusión de la predicción sobre el set de test con la función AA_utils.visualizar_confusion_matrix\n",
        "3.   Elabore un reporte de métricas tanto para la predicción de train como para la de test con la función AA_utils.print_classification_report\n",
        "4.   En los casos de clasificación binaria grafique e interprete la curva ROC con la función AA_utils.visualizar_curva_ROC\n",
        "5.   En los caso de clasificación de dos variables grafique la función de transferencia y la frontera de decisión con las funciones AA_utils.visualizar_funcion_transferencia_2D y AA_utils.visualizar_frontera_de_desicion_2D\n",
        "6.   En los casos de clasificación binaria de una variable grafique la curva logística con la función AA_utils.visualizar_curva_logistica"
      ],
      "metadata": {
        "id": "FEWlKlRsLnw3"
      }
    },
    {
      "cell_type": "markdown",
      "source": [
        "# **MNIST**"
      ],
      "metadata": {
        "id": "PhCktJeGw_Bq"
      }
    },
    {
      "cell_type": "markdown",
      "source": [
        "***MNIST es una base de datos con decenas de miles de dígitos escritos a mano. El objetivo es entrenar un modelo que clasifique correctamente estos números. Cada dígito está codificado en 28x28 pixeles en escala de grises.***"
      ],
      "metadata": {
        "id": "97oNZLSngKzH"
      }
    },
    {
      "cell_type": "markdown",
      "source": [
        "**Clasificación Multiclase de imágenes:** Analice el código en el archivo “Regresion_Logistica_MNIST.py”. El script entrena un modelo para clasificar imágenes de 10 dígitos escritos a mano. Analice la matriz de confusión y las métricas obtenidas para el conjunto de training y para el de testing. Mejore los resultados utilizando una Red Neuronal como clasificador.\n"
      ],
      "metadata": {
        "id": "7MIxX4EhLx9j"
      }
    },
    {
      "cell_type": "code",
      "execution_count": 90,
      "metadata": {
        "id": "c_6ksTMryOtc"
      },
      "outputs": [],
      "source": [
        "import pandas as pd\n",
        "import numpy as np\n",
        "import matplotlib.pyplot as plt\n",
        "import itertools\n",
        "\n",
        "from mpl_toolkits.axes_grid1 import make_axes_locatable\n",
        "from sklearn.metrics import confusion_matrix, roc_curve, roc_auc_score, precision_recall_curve, classification_report\n",
        "\n",
        "from sklearn.model_selection import train_test_split\n",
        "from sklearn.preprocessing import StandardScaler\n",
        "from sklearn.neural_network import MLPClassifier\n",
        "from sklearn.linear_model import LogisticRegression"
      ]
    },
    {
      "cell_type": "markdown",
      "source": [
        "# **AA UTILS**"
      ],
      "metadata": {
        "id": "ViBKTjV3rSAq"
      }
    },
    {
      "cell_type": "code",
      "source": [
        "def if_dataframe_to_numpy(data):\n",
        "    return data.to_numpy() if isinstance(data, pd.DataFrame) or isinstance(data, pd.Series) else data\n",
        "\n",
        "def plot_2d(modelo, X, X_train, X_test, y_train, y_test, boundry_function):\n",
        "\n",
        "    assert X.shape[1] == 2, f\"X debe tener solo dos variables de entrada (tiene {X.shape[1]})\"\n",
        "\n",
        "    X = if_dataframe_to_numpy(X)\n",
        "    X_train = if_dataframe_to_numpy(X_train)\n",
        "    X_test = if_dataframe_to_numpy(X_test)\n",
        "\n",
        "    plt.figure()\n",
        "    x_min, x_max = X[:, 0].min() - 1, X[:, 0].max() + 1\n",
        "    y_min, y_max = X[:, 1].min() - 1, X[:, 1].max() + 1\n",
        "    xx, yy = np.meshgrid(np.arange(x_min, x_max, 0.02),\n",
        "                         np.arange(y_min, y_max, 0.02))\n",
        "\n",
        "    Z = np.c_[xx.ravel(), yy.ravel()]\n",
        "    Z = boundry_function(modelo, Z)\n",
        "    Z = Z.reshape(xx.shape)\n",
        "\n",
        "    plt.contourf(xx, yy, Z, alpha=0.3)\n",
        "    plt.colorbar()\n",
        "\n",
        "    plt.scatter(X_train[:, 0], X_train[:, 1], marker=\"o\", c=y_train, label='Training')\n",
        "    plt.scatter(X_test[:, 0], X_test[:, 1], marker=\"+\", c=y_test, s=80, label='Testing')\n",
        "    plt.legend()\n",
        "    plt.show()\n",
        "\n",
        "def print_classification_report(y_true, y_pred):\n",
        "    print(classification_report(y_true, y_pred))\n",
        "\n",
        "def visualizar_parametros(modelo, mostrar_bias, feature_names=[], target_name='target'):\n",
        "    parametros = pd.DataFrame(modelo.coef_, columns=feature_names if len(feature_names) > 0 else range(modelo.coef_.shape[1]))\n",
        "\n",
        "    if mostrar_bias:\n",
        "        parametros['bias'] = modelo.intercept_\n",
        "\n",
        "    parametros.T.plot(kind='bar')\n",
        "\n",
        "    if hasattr(modelo, 'classes_'):\n",
        "        if len(modelo.classes_) <= 2:\n",
        "            plt.legend([target_name])\n",
        "        else:\n",
        "            plt.legend(list(modelo.classes_))\n",
        "    else:\n",
        "        plt.legend([target_name])\n",
        "\n",
        "    plt.show()\n",
        "\n",
        "def visualizar_curva_logistica(modelo, X, y, feature_name='target'):\n",
        "\n",
        "    assert X.shape[1] == 1, f\"X debe tener solo una variable de entrada (tiene {X.shape[1]})\"\n",
        "\n",
        "    X = if_dataframe_to_numpy(X)\n",
        "\n",
        "    plt.figure()\n",
        "    plt.scatter(X, y, c=y, s=50)\n",
        "    plt.xlabel(feature_name)\n",
        "    plt.grid()\n",
        "\n",
        "    x_min, x_max = X[:, 0].min() - 1, X[:, 0].max() + 1\n",
        "    x_graph = np.linspace(x_min, x_max)\n",
        "    y_graph = modelo.predict_proba(x_graph.reshape(-1, 1))[:, 1]\n",
        "    plt.plot(x_graph, y_graph)\n",
        "    plt.show()\n",
        "\n",
        "def visualizar_frontera_de_desicion_2D(modelo, X, X_train, X_test, y_train, y_test):\n",
        "    plot_2d(modelo, X, X_train, X_test, y_train, y_test, lambda modelo, Z: modelo.predict(Z))\n",
        "\n",
        "def visualizar_funcion_transferencia_2D(modelo, X, X_train, X_test, y_train, y_test):\n",
        "\n",
        "    if hasattr(modelo, 'predict_proba') and callable(getattr(modelo, 'predict_proba')):\n",
        "        plot_2d(modelo, X, X_train, X_test, y_train, y_test, lambda modelo, Z: modelo.predict_proba(Z)[:, 1])\n",
        "    else:\n",
        "        raise ValueError(\"no se puede visualizar funcion de transferencia\")\n",
        "\n",
        "def visualizar_confusion_matrix(real_target, pred_target,\n",
        "                                classes=[],\n",
        "                                normalize=False,\n",
        "                                title='Matriz de confusión',\n",
        "                                cmap=plt.cm.Blues):\n",
        "\n",
        "    if (len(classes) == 0):\n",
        "        classes = [str(i) for i in range(int(max(real_target) + 1))]  # nombres de clases consecutivos\n",
        "\n",
        "    cm = confusion_matrix(real_target, pred_target)\n",
        "\n",
        "    plt.figure()\n",
        "    plt.imshow(cm, interpolation='nearest', cmap=cmap)\n",
        "    plt.title(title)\n",
        "    plt.colorbar()\n",
        "    tick_marks = np.arange(len(classes))\n",
        "    plt.xticks(tick_marks, classes, rotation=45)\n",
        "    plt.yticks(tick_marks, classes)\n",
        "\n",
        "    fmt = '.2f' if normalize else 'd'\n",
        "    thresh = cm.max() / 2.\n",
        "    for i, j in itertools.product(range(cm.shape[0]), range(cm.shape[1])):\n",
        "        plt.text(j, i, format(cm[i, j], fmt),\n",
        "                 horizontalalignment=\"center\",\n",
        "                 color=\"white\" if cm[i, j] > thresh else \"black\", size=16)\n",
        "\n",
        "    plt.ylabel('True label')\n",
        "    plt.xlabel('Predicted label')\n",
        "    plt.show()\n",
        "\n",
        "def visualizar_curva_ROC(modelo, X, y):\n",
        "\n",
        "    assert len(set(y)) <= 2, f\"El dataset debe ser binario (hay {len(set(y))}) clases\"\n",
        "\n",
        "    y_score = modelo.predict_proba(X)[:, 1]  # se queda con la clase 1\n",
        "\n",
        "    false_positive_rate, true_positive_rate, threshold = roc_curve(y, y_score)\n",
        "\n",
        "    precision, recall, _ = precision_recall_curve(y, y_score)\n",
        "\n",
        "    # ROC\n",
        "    plt.figure()\n",
        "    plt.title('ROC. Receiver Operating Characteristic')\n",
        "    plt.plot(false_positive_rate, true_positive_rate, label='ROC curve (area = %0.2f)' % roc_auc_score(y, y_score))\n",
        "    plt.plot([0, 1], ls=\"--\")\n",
        "    plt.plot([0, 0], [1, 0], c=\".7\"), plt.plot([1, 1], c=\".7\")\n",
        "    plt.legend(loc=\"lower right\")\n",
        "    plt.ylabel('True Positive Rate (Recall)')\n",
        "    plt.xlabel('False Positive Rate (1- Especificidad)')\n",
        "    plt.show()\n",
        "\n",
        "    # precision-recall curve\n",
        "    plt.figure()\n",
        "    plt.step(recall, precision, color='b', alpha=0.2, where='post')\n",
        "    plt.fill_between(recall, precision, step='post', alpha=0.2, color='b')\n",
        "    plt.xlabel('Recall')\n",
        "    plt.ylabel('Precision')\n",
        "    plt.ylim([0.0, 1.05])\n",
        "    plt.xlim([0.0, 1.0])\n",
        "    plt.title('Precision-Recall curve')\n",
        "    plt.show()\n",
        "\n",
        "def elegir_imagen_al_azar(X, pixeles_ancho, pixeles_alto):\n",
        "    indice = np.random.randint(0, X.shape[0])\n",
        "    img_i = np.reshape(X[indice, :], (pixeles_ancho, pixeles_alto))\n",
        "    plt.figure()\n",
        "    plt.imshow(img_i, 'gray')\n",
        "    plt.title('Dato aleatorio')\n",
        "    plt.show()\n",
        "    return X[indice].reshape(1, -1), indice\n",
        "\n",
        "def visualizar_parametros_para_imagenes(modelo, cantidad_de_clases, pixeles_ancho=28, pixeles_alto=28):\n",
        "\n",
        "    if hasattr(modelo, 'coef_'):\n",
        "        w = modelo.coef_\n",
        "    elif hasattr(modelo, 'coefs_') and (modelo.coefs_) == 1:\n",
        "        w = modelo.coefs_[0]\n",
        "    else:\n",
        "        raise \"para visualizar los parametros de la red es necesario tener cero capas ocultas\"\n",
        "\n",
        "    colorbar_max = np.abs(np.max(w))\n",
        "    w_r = np.reshape(w, (cantidad_de_clases, pixeles_ancho, pixeles_alto))\n",
        "    fig, ax = plt.subplots(2, cantidad_de_clases // 2)\n",
        "    plt.suptitle('Coeficientes aprendidos para cada clase, \\nagrupados en forma matricial de 28x28')\n",
        "    index = 0\n",
        "    for row in range(0, 2):\n",
        "        for col in range(0, cantidad_de_clases // 2):\n",
        "            colorbar_max = max(np.abs(np.max(w_r[index, :, :])), np.abs(np.min(w_r[index, :, :])))\n",
        "            ax_im = ax[row][col].imshow(w_r[index, :, :], cmap='seismic', vmin=-colorbar_max, vmax=colorbar_max)\n",
        "            ax[row][col].get_xaxis().set_visible(False)\n",
        "            ax[row][col].get_yaxis().set_visible(False)\n",
        "            ax[row][col].set_title(str(index))\n",
        "            divider = make_axes_locatable(ax[row][col])\n",
        "            cax = divider.append_axes(\"right\", size=\"5%\", pad=0.05)\n",
        "\n",
        "            fig.colorbar(ax_im, ax=ax[row][col], cax=cax)\n",
        "            index += 1\n",
        "    plt.show()\n",
        "\n",
        "def visualizar_ajuste_por_regresion(modelo, X_train, X_test, y_train, y_test,\n",
        "                                    feature_name='X', target_name='target'):\n",
        "    plt.scatter(X_train, y_train, c='blue', s=40, alpha=0.9, label='Training')\n",
        "    plt.scatter(X_test, y_test, c='red', s=50, alpha=0.5, label='Testing')\n",
        "    plt.xlabel(feature_name)\n",
        "    plt.ylabel(target_name)\n",
        "    plt.legend()\n",
        "    plt.grid()\n",
        "\n",
        "    X_train = if_dataframe_to_numpy(X_train)\n",
        "    X_test = if_dataframe_to_numpy(X_test)\n",
        "\n",
        "    x_max = max(max(X_train), max(X_test))\n",
        "    x_min = min(min(X_train), min(X_test))\n",
        "\n",
        "    x_plot = np.linspace(x_min, x_max, 100)\n",
        "    y_plot = modelo.predict(x_plot.reshape(-1, 1))\n",
        "    plt.plot(x_plot, y_plot, 'g--', linewidth=5)\n",
        "    plt.show()\n",
        "\n",
        "def visualizar_curva_error_entrenamiento(modelo):\n",
        "    plt.plot(modelo.loss_curve_)\n",
        "    plt.xlabel('iterations')\n",
        "    plt.ylabel('loss')\n",
        "    plt.legend(['Train'])\n",
        "    plt.show()\n"
      ],
      "metadata": {
        "id": "bq7m9jn-rXE2"
      },
      "execution_count": 91,
      "outputs": []
    },
    {
      "cell_type": "markdown",
      "source": [
        "# **CLASIFICACIÓN MULTICLASE DE IMÁGENES**"
      ],
      "metadata": {
        "id": "C2hGekVQQq9v"
      }
    },
    {
      "cell_type": "markdown",
      "source": [
        "**CARGA DE DATOS**"
      ],
      "metadata": {
        "id": "uKAo9WohreVg"
      }
    },
    {
      "cell_type": "code",
      "source": [
        "X = np.load(\"/content/MNIST.npy\")\n",
        "y = np.load(\"/content/MNIST_labels.npy\")\n",
        "\n",
        "print(f'''\n",
        "      ====================================================================================================\n",
        "      El problema de clasificación es de {X.shape[1]} features ---(prediciendo)---> {len(set(y))} clases\n",
        "      ====================================================================================================\n",
        "      ''')"
      ],
      "metadata": {
        "id": "LPFGkg8Jrg7h",
        "colab": {
          "base_uri": "https://localhost:8080/"
        },
        "outputId": "4c1bfc70-632f-40e4-f31d-e48be1c1747c"
      },
      "execution_count": 92,
      "outputs": [
        {
          "output_type": "stream",
          "name": "stdout",
          "text": [
            "\n",
            "      ====================================================================================================\n",
            "      El problema de clasificación es de 784 features ---(prediciendo)---> 10 clases\n",
            "      ====================================================================================================\n",
            "      \n"
          ]
        }
      ]
    },
    {
      "cell_type": "markdown",
      "source": [
        "**PREPROCESADO**"
      ],
      "metadata": {
        "id": "sXjj9E7mrhBv"
      }
    },
    {
      "cell_type": "code",
      "source": [
        "X_train, X_test, y_train, y_test = train_test_split(X, y, test_size=0.3)\n",
        "\n",
        "NORMALIZAR = True\n",
        "\n",
        "if (NORMALIZAR):\n",
        "    scaler = StandardScaler().fit(X_train)\n",
        "    X_train = scaler.transform(X_train)\n",
        "    X_test = scaler.transform(X_test)"
      ],
      "metadata": {
        "id": "mcDzFNWmrhIY"
      },
      "execution_count": 93,
      "outputs": []
    },
    {
      "cell_type": "markdown",
      "source": [
        "# **REGRESIÓN LOGÍSTICA**"
      ],
      "metadata": {
        "id": "bOhmjSmWyJs5"
      }
    },
    {
      "cell_type": "markdown",
      "source": [
        "Para este punto, por el hecho de trabajar con archivos npy, no aplica el punto 1, 4, 5 y 6."
      ],
      "metadata": {
        "id": "z8tDotlKPdPv"
      }
    },
    {
      "cell_type": "markdown",
      "source": [
        "**MODELADO**"
      ],
      "metadata": {
        "id": "4kZxtBpprhNI"
      }
    },
    {
      "cell_type": "code",
      "source": [
        "modelo = LogisticRegression(solver='saga', tol=0.1)  # Saga es más rápido para dataset muy grandes\n",
        "modelo.fit(X_train, y_train)"
      ],
      "metadata": {
        "id": "jkBJXK9krhUP",
        "colab": {
          "base_uri": "https://localhost:8080/"
        },
        "outputId": "65e625b2-251b-4120-b0be-dee752f385bd"
      },
      "execution_count": 94,
      "outputs": [
        {
          "output_type": "execute_result",
          "data": {
            "text/plain": [
              "LogisticRegression(solver='saga', tol=0.1)"
            ]
          },
          "metadata": {},
          "execution_count": 94
        }
      ]
    },
    {
      "cell_type": "markdown",
      "source": [
        "**EVALUACION**"
      ],
      "metadata": {
        "id": "Zbu9F_Z-rhaf"
      }
    },
    {
      "cell_type": "code",
      "source": [
        "y_pred = modelo.predict(X_test)"
      ],
      "metadata": {
        "id": "PUZwTkAxzd5E"
      },
      "execution_count": 95,
      "outputs": []
    },
    {
      "cell_type": "markdown",
      "source": [
        "**MÉTRICAS SOBRE EL CONJUNTO DE TRAINING**"
      ],
      "metadata": {
        "id": "0QJE1i4IsC5Z"
      }
    },
    {
      "cell_type": "code",
      "source": [
        "# 3\n",
        "\n",
        "print_classification_report(y_train, modelo.predict(X_train))"
      ],
      "metadata": {
        "id": "w0OZJxiXsDvs",
        "colab": {
          "base_uri": "https://localhost:8080/"
        },
        "outputId": "7e1d3e51-cbde-49c8-c40c-7bd0b9ecdbff"
      },
      "execution_count": 96,
      "outputs": [
        {
          "output_type": "stream",
          "name": "stdout",
          "text": [
            "              precision    recall  f1-score   support\n",
            "\n",
            "           0       0.92      0.96      0.94      1367\n",
            "           1       0.84      0.97      0.90      1560\n",
            "           2       0.92      0.85      0.88      1442\n",
            "           3       0.86      0.85      0.85      1449\n",
            "           4       0.89      0.91      0.90      1382\n",
            "           5       0.88      0.78      0.82      1227\n",
            "           6       0.91      0.95      0.93      1377\n",
            "           7       0.92      0.90      0.91      1470\n",
            "           8       0.87      0.79      0.83      1356\n",
            "           9       0.85      0.86      0.86      1370\n",
            "\n",
            "    accuracy                           0.88     14000\n",
            "   macro avg       0.88      0.88      0.88     14000\n",
            "weighted avg       0.88      0.88      0.88     14000\n",
            "\n"
          ]
        }
      ]
    },
    {
      "cell_type": "markdown",
      "source": [
        "**MÉTRICAS SOBRE EL CONJUNTO DE TESTING**"
      ],
      "metadata": {
        "id": "cAA4w9tasD0g"
      }
    },
    {
      "cell_type": "code",
      "source": [
        "# 3\n",
        "\n",
        "print_classification_report(y_test, modelo.predict(X_test))"
      ],
      "metadata": {
        "id": "WnKfOLAWrhgB",
        "colab": {
          "base_uri": "https://localhost:8080/"
        },
        "outputId": "bf05a9ec-e01c-44f3-c872-78ede4a7027d"
      },
      "execution_count": 97,
      "outputs": [
        {
          "output_type": "stream",
          "name": "stdout",
          "text": [
            "              precision    recall  f1-score   support\n",
            "\n",
            "           0       0.93      0.95      0.94       603\n",
            "           1       0.84      0.98      0.90       668\n",
            "           2       0.92      0.82      0.87       587\n",
            "           3       0.90      0.87      0.88       636\n",
            "           4       0.87      0.90      0.88       563\n",
            "           5       0.89      0.80      0.84       562\n",
            "           6       0.91      0.93      0.92       597\n",
            "           7       0.87      0.90      0.89       635\n",
            "           8       0.86      0.81      0.83       543\n",
            "           9       0.82      0.82      0.82       606\n",
            "\n",
            "    accuracy                           0.88      6000\n",
            "   macro avg       0.88      0.88      0.88      6000\n",
            "weighted avg       0.88      0.88      0.88      6000\n",
            "\n"
          ]
        }
      ]
    },
    {
      "cell_type": "markdown",
      "source": [
        "**MATRIZ DE CONFUSIÓN**"
      ],
      "metadata": {
        "id": "UQgjzf7tsJ0i"
      }
    },
    {
      "cell_type": "code",
      "source": [
        "# 2\n",
        "\n",
        "visualizar_confusion_matrix(y_test, y_pred)"
      ],
      "metadata": {
        "id": "500g5hJUsMcM",
        "colab": {
          "base_uri": "https://localhost:8080/",
          "height": 297
        },
        "outputId": "6aa14661-0dfb-4383-d385-9a09ccb590e4"
      },
      "execution_count": 98,
      "outputs": [
        {
          "output_type": "display_data",
          "data": {
            "text/plain": [
              "<Figure size 432x288 with 2 Axes>"
            ],
            "image/png": "[encoded data removed]"
          },
          "metadata": {
            "needs_background": "light"
          }
        }
      ]
    },
    {
      "cell_type": "markdown",
      "source": [
        "La matriz de confusión tiene muchas vvariables por lo que a la vista se vuelve difícil sacar conclusiones, pero gracias al gráfico de abajo se observa que el modelo predice muy bien."
      ],
      "metadata": {
        "id": "-no_bMfUQQrY"
      }
    },
    {
      "cell_type": "code",
      "source": [
        "imagen, indice = elegir_imagen_al_azar(X_test, pixeles_ancho=28, pixeles_alto=28)\n",
        "print(f\"Elemento aleatorio del Test Set:\\nEl modelo predice: {modelo.predict(imagen)[0]}\")\n",
        "print(f\"El valor real es: {y_pred[indice]}\")"
      ],
      "metadata": {
        "id": "0f5SX3BSz13b",
        "colab": {
          "base_uri": "https://localhost:8080/",
          "height": 333
        },
        "outputId": "93b7f414-81f1-4360-a44b-a8de94691271"
      },
      "execution_count": 99,
      "outputs": [
        {
          "output_type": "display_data",
          "data": {
            "text/plain": [
              "<Figure size 432x288 with 1 Axes>"
            ],
            "image/png": "[encoded data removed]"
          },
          "metadata": {
            "needs_background": "light"
          }
        },
        {
          "output_type": "stream",
          "name": "stdout",
          "text": [
            "Elemento aleatorio del Test Set:\n",
            "El modelo predice: 7\n",
            "El valor real es: 7\n"
          ]
        }
      ]
    },
    {
      "cell_type": "markdown",
      "source": [
        "El gráfico anterior aplana la imagen en un solo vector y la alimenta con al Regresor Logístico"
      ],
      "metadata": {
        "id": "sm0FoCG0f4ss"
      }
    },
    {
      "cell_type": "markdown",
      "source": [
        "**VISUALIZACION DE PARÁMETROS PARA IMÁGENES**"
      ],
      "metadata": {
        "id": "-4ue09ZTsPrp"
      }
    },
    {
      "cell_type": "code",
      "source": [
        "visualizar_parametros_para_imagenes(modelo, cantidad_de_clases=len(set(y)), pixeles_ancho=28, pixeles_alto=28)"
      ],
      "metadata": {
        "id": "nGG5Fd3EsQJY",
        "colab": {
          "base_uri": "https://localhost:8080/",
          "height": 257
        },
        "outputId": "05d35a37-86c9-4406-db76-56ac1055cf4a"
      },
      "execution_count": 100,
      "outputs": [
        {
          "output_type": "display_data",
          "data": {
            "text/plain": [
              "<Figure size 432x288 with 20 Axes>"
            ],
            "image/png": "[encoded data removed]"
          },
          "metadata": {
            "needs_background": "light"
          }
        }
      ]
    },
    {
      "cell_type": "markdown",
      "source": [
        "# **REDES NEURONALES**"
      ],
      "metadata": {
        "id": "qtzuPg9Rs1IX"
      }
    },
    {
      "cell_type": "markdown",
      "source": [
        "**MODELADO**"
      ],
      "metadata": {
        "id": "eoif8W6UwehG"
      }
    },
    {
      "cell_type": "code",
      "source": [
        "modelo_2 = MLPClassifier(hidden_layer_sizes=(20, 5),\n",
        "                       max_iter=500,\n",
        "                       tol=1e-4,\n",
        "                       verbose=True,\n",
        "                       activation='tanh',\n",
        "                       learning_rate_init=0.003,\n",
        "                       solver='adam')\n",
        "modelo_2.fit(X_train, y_train)"
      ],
      "metadata": {
        "colab": {
          "base_uri": "https://localhost:8080/"
        },
        "outputId": "d397cf90-d58a-4cf4-b668-d0cc78fb446a",
        "id": "bDyb8u4dwehH"
      },
      "execution_count": 101,
      "outputs": [
        {
          "output_type": "stream",
          "name": "stdout",
          "text": [
            "Iteration 1, loss = 1.42554253\n",
            "Iteration 2, loss = 0.96637445\n",
            "Iteration 3, loss = 0.73288806\n",
            "Iteration 4, loss = 0.58982267\n",
            "Iteration 5, loss = 0.49450716\n",
            "Iteration 6, loss = 0.42741536\n",
            "Iteration 7, loss = 0.37656856\n",
            "Iteration 8, loss = 0.33874213\n",
            "Iteration 9, loss = 0.30500856\n",
            "Iteration 10, loss = 0.27990637\n",
            "Iteration 11, loss = 0.26469571\n",
            "Iteration 12, loss = 0.24269950\n",
            "Iteration 13, loss = 0.22596706\n",
            "Iteration 14, loss = 0.21024735\n",
            "Iteration 15, loss = 0.20084581\n",
            "Iteration 16, loss = 0.19023776\n",
            "Iteration 17, loss = 0.17958756\n",
            "Iteration 18, loss = 0.17387538\n",
            "Iteration 19, loss = 0.16509624\n",
            "Iteration 20, loss = 0.15856957\n",
            "Iteration 21, loss = 0.15503305\n",
            "Iteration 22, loss = 0.15157061\n",
            "Iteration 23, loss = 0.14622322\n",
            "Iteration 24, loss = 0.14396475\n",
            "Iteration 25, loss = 0.13408797\n",
            "Iteration 26, loss = 0.12729857\n",
            "Iteration 27, loss = 0.12250201\n",
            "Iteration 28, loss = 0.12268359\n",
            "Iteration 29, loss = 0.12708997\n",
            "Iteration 30, loss = 0.12660872\n",
            "Iteration 31, loss = 0.12193746\n",
            "Iteration 32, loss = 0.11918663\n",
            "Iteration 33, loss = 0.11182756\n",
            "Iteration 34, loss = 0.10932845\n",
            "Iteration 35, loss = 0.10962113\n",
            "Iteration 36, loss = 0.10552473\n",
            "Iteration 37, loss = 0.10815552\n",
            "Iteration 38, loss = 0.10895669\n",
            "Iteration 39, loss = 0.10716480\n",
            "Iteration 40, loss = 0.10626771\n",
            "Iteration 41, loss = 0.11387928\n",
            "Iteration 42, loss = 0.10729513\n",
            "Iteration 43, loss = 0.10480561\n",
            "Iteration 44, loss = 0.10310159\n",
            "Iteration 45, loss = 0.09450101\n",
            "Iteration 46, loss = 0.08816253\n",
            "Iteration 47, loss = 0.08443024\n",
            "Iteration 48, loss = 0.08245796\n",
            "Iteration 49, loss = 0.08129193\n",
            "Iteration 50, loss = 0.08247480\n",
            "Iteration 51, loss = 0.08353096\n",
            "Iteration 52, loss = 0.08227485\n",
            "Iteration 53, loss = 0.08726562\n",
            "Iteration 54, loss = 0.09933921\n",
            "Iteration 55, loss = 0.11511385\n",
            "Iteration 56, loss = 0.11732187\n",
            "Iteration 57, loss = 0.12047278\n",
            "Iteration 58, loss = 0.10967969\n",
            "Iteration 59, loss = 0.09775289\n",
            "Iteration 60, loss = 0.08791294\n",
            "Training loss did not improve more than tol=0.000100 for 10 consecutive epochs. Stopping.\n"
          ]
        },
        {
          "output_type": "execute_result",
          "data": {
            "text/plain": [
              "MLPClassifier(activation='tanh', hidden_layer_sizes=(20, 5),\n",
              "              learning_rate_init=0.003, max_iter=500, verbose=True)"
            ]
          },
          "metadata": {},
          "execution_count": 101
        }
      ]
    },
    {
      "cell_type": "markdown",
      "source": [
        "**EVALUACION**"
      ],
      "metadata": {
        "id": "n6bLBWIlwehH"
      }
    },
    {
      "cell_type": "markdown",
      "source": [
        "**MÉTRICAS SOBRE EL CONJUNTO DE TRAINING**"
      ],
      "metadata": {
        "id": "NASZB6hGwehI"
      }
    },
    {
      "cell_type": "code",
      "source": [
        "# 3\n",
        "\n",
        "print_classification_report(y_train, modelo_2.predict(X_train))"
      ],
      "metadata": {
        "colab": {
          "base_uri": "https://localhost:8080/"
        },
        "outputId": "170813a0-b0f2-4b54-dc89-56c3803ff87e",
        "id": "8gPmgGHcwehI"
      },
      "execution_count": 102,
      "outputs": [
        {
          "output_type": "stream",
          "name": "stdout",
          "text": [
            "              precision    recall  f1-score   support\n",
            "\n",
            "           0       0.99      0.99      0.99      1367\n",
            "           1       0.99      0.99      0.99      1560\n",
            "           2       0.98      0.97      0.97      1442\n",
            "           3       0.98      0.97      0.98      1449\n",
            "           4       0.99      0.99      0.99      1382\n",
            "           5       0.97      0.98      0.98      1227\n",
            "           6       0.99      0.99      0.99      1377\n",
            "           7       0.99      0.98      0.98      1470\n",
            "           8       0.96      0.98      0.97      1356\n",
            "           9       0.98      0.98      0.98      1370\n",
            "\n",
            "    accuracy                           0.98     14000\n",
            "   macro avg       0.98      0.98      0.98     14000\n",
            "weighted avg       0.98      0.98      0.98     14000\n",
            "\n"
          ]
        }
      ]
    },
    {
      "cell_type": "markdown",
      "source": [
        "**Se observa que el modelo mejora bajo redes neuronales en trainig.**"
      ],
      "metadata": {
        "id": "4Vd5tCR4lCJA"
      }
    },
    {
      "cell_type": "markdown",
      "source": [
        "**MÉTRICAS SOBRE EL CONJUNTO DE TESTING**"
      ],
      "metadata": {
        "id": "DpznM1iOwehI"
      }
    },
    {
      "cell_type": "code",
      "source": [
        "# 3\n",
        "\n",
        "print_classification_report(y_test, modelo_2.predict(X_test))"
      ],
      "metadata": {
        "colab": {
          "base_uri": "https://localhost:8080/"
        },
        "outputId": "ca06df3e-5131-44f9-8a8b-2f8383cafa66",
        "id": "gMyV8EokwehI"
      },
      "execution_count": 103,
      "outputs": [
        {
          "output_type": "stream",
          "name": "stdout",
          "text": [
            "              precision    recall  f1-score   support\n",
            "\n",
            "           0       0.91      0.93      0.92       603\n",
            "           1       0.95      0.96      0.95       668\n",
            "           2       0.84      0.78      0.81       587\n",
            "           3       0.82      0.81      0.81       636\n",
            "           4       0.87      0.87      0.87       563\n",
            "           5       0.82      0.83      0.82       562\n",
            "           6       0.91      0.89      0.90       597\n",
            "           7       0.91      0.88      0.89       635\n",
            "           8       0.79      0.82      0.80       543\n",
            "           9       0.80      0.83      0.82       606\n",
            "\n",
            "    accuracy                           0.86      6000\n",
            "   macro avg       0.86      0.86      0.86      6000\n",
            "weighted avg       0.86      0.86      0.86      6000\n",
            "\n"
          ]
        }
      ]
    },
    {
      "cell_type": "markdown",
      "source": [
        "**En testing el modelo se mantiene similar.**"
      ],
      "metadata": {
        "id": "m4NnyOUulJem"
      }
    },
    {
      "cell_type": "markdown",
      "source": [
        "**MATRIZ DE CONFUSIÓN**"
      ],
      "metadata": {
        "id": "lW5jkHiSwehI"
      }
    },
    {
      "cell_type": "code",
      "source": [
        "# 2\n",
        "\n",
        "visualizar_confusion_matrix(y_test, modelo_2.predict(X_test))"
      ],
      "metadata": {
        "colab": {
          "base_uri": "https://localhost:8080/",
          "height": 297
        },
        "outputId": "4e012dd8-c3fd-4c96-ef43-217f70f42893",
        "id": "NU35aL-3wehJ"
      },
      "execution_count": 104,
      "outputs": [
        {
          "output_type": "display_data",
          "data": {
            "text/plain": [
              "<Figure size 432x288 with 2 Axes>"
            ],
            "image/png": "[encoded data removed]"
          },
          "metadata": {
            "needs_background": "light"
          }
        }
      ]
    },
    {
      "cell_type": "markdown",
      "source": [
        "**CURVA DE ROC Y DE PRECISION-RECALL**"
      ],
      "metadata": {
        "id": "kcjZN4BHwehJ"
      }
    },
    {
      "cell_type": "markdown",
      "source": [
        "No aplica la curva de ROC debido a la clasificación multiclase."
      ],
      "metadata": {
        "id": "Jmr-5vPKP2XO"
      }
    },
    {
      "cell_type": "markdown",
      "source": [
        "**FRONTERA DE DECISIÓN DE DOS DIMENSIONES**"
      ],
      "metadata": {
        "id": "7L2jSZM9wehJ"
      }
    },
    {
      "cell_type": "markdown",
      "source": [
        "No aplica debido a la clasificación multiclase."
      ],
      "metadata": {
        "id": "DLOM9UiqP4T4"
      }
    },
    {
      "cell_type": "markdown",
      "source": [
        "**FUNCION DE TRANSFERENCIA DE DOS DIMENSIONES**"
      ],
      "metadata": {
        "id": "vH8rKV8gwehL"
      }
    },
    {
      "cell_type": "markdown",
      "source": [
        "No aplica debido a la clasificación multiclase."
      ],
      "metadata": {
        "id": "Pq7QfUOcP79I"
      }
    },
    {
      "cell_type": "markdown",
      "source": [
        "**CURVA DE ERROR DE ENTRENAMIENTO**"
      ],
      "metadata": {
        "id": "FaPnvj59sgmR"
      }
    },
    {
      "cell_type": "code",
      "source": [
        "visualizar_curva_error_entrenamiento(modelo_2)"
      ],
      "metadata": {
        "id": "4RbenFr2sYfv",
        "colab": {
          "base_uri": "https://localhost:8080/",
          "height": 279
        },
        "outputId": "01746a8d-8016-46d1-9a6c-68d6b3eb4a2f"
      },
      "execution_count": 105,
      "outputs": [
        {
          "output_type": "display_data",
          "data": {
            "text/plain": [
              "<Figure size 432x288 with 1 Axes>"
            ],
            "image/png": "[encoded data removed]"
          },
          "metadata": {
            "needs_background": "light"
          }
        }
      ]
    },
    {
      "cell_type": "code",
      "source": [
        "imagen, indice = elegir_imagen_al_azar(X_test, pixeles_ancho=28, pixeles_alto=28)\n",
        "print(f\"Elemento aleatorio del Test Set:\\nEl modelo predice: {modelo_2.predict(imagen)[0]}\")\n",
        "print(f\"El valor real es: {y_pred[indice]}\")"
      ],
      "metadata": {
        "colab": {
          "base_uri": "https://localhost:8080/",
          "height": 333
        },
        "id": "fbYraoXKi36J",
        "outputId": "a414b366-300f-46c5-887e-89e7f75d10db"
      },
      "execution_count": 106,
      "outputs": [
        {
          "output_type": "display_data",
          "data": {
            "text/plain": [
              "<Figure size 432x288 with 1 Axes>"
            ],
            "image/png": "[encoded data removed]"
          },
          "metadata": {
            "needs_background": "light"
          }
        },
        {
          "output_type": "stream",
          "name": "stdout",
          "text": [
            "Elemento aleatorio del Test Set:\n",
            "El modelo predice: 3\n",
            "El valor real es: 3\n"
          ]
        }
      ]
    }
  ]
}