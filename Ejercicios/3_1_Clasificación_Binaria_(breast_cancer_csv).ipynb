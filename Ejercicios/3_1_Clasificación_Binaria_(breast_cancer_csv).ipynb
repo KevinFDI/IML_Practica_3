{
  "nbformat": 4,
  "nbformat_minor": 0,
  "metadata": {
    "colab": {
      "provenance": [],
      "collapsed_sections": [
        "zZQ-foQSrYsq",
        "ViBKTjV3rSAq"
      ]
    },
    "kernelspec": {
      "name": "python3",
      "display_name": "Python 3"
    },
    "language_info": {
      "name": "python"
    }
  },
  "cells": [
    {
      "cell_type": "markdown",
      "source": [
        "**CONSIGNAS PARA TODOS LOS EJERCICIOS:**\n",
        "\n",
        "1.   En el caso de utilizar una Regresión Logística grafique sus parámetros con la función AA_utils.visualizar_parametros\n",
        "2.   Grafique e interprete la matriz de confusión de la predicción sobre el set de test con la función AA_utils.visualizar_confusion_matrix\n",
        "3.   Elabore un reporte de métricas tanto para la predicción de train como para la de test con la función AA_utils.print_classification_report\n",
        "4.   En los casos de clasificación binaria grafique e interprete la curva ROC con la función AA_utils.visualizar_curva_ROC\n",
        "5.   En los caso de clasificación de dos variables grafique la función de transferencia y la frontera de decisión con las funciones AA_utils.visualizar_funcion_transferencia_2D y AA_utils.visualizar_frontera_de_desicion_2D\n",
        "6.   En los casos de clasificación binaria de una variable grafique la curva logística con la función AA_utils.visualizar_curva_logistica"
      ],
      "metadata": {
        "id": "8bkG9bSQ8brJ"
      }
    },
    {
      "cell_type": "markdown",
      "source": [
        "# **BREAST CANCER**"
      ],
      "metadata": {
        "id": "zZQ-foQSrYsq"
      }
    },
    {
      "cell_type": "markdown",
      "source": [
        "Clasificación Binaria: Compare modelos de Regresión Logística y Redes Neuronales para el siguiente dataset:\n",
        "*   Breast_cancer.csv: El archivo posee diferentes mediciones sobre tumores con la información de si son malignos o benignos.\n",
        "\n",
        "El código “ejemplo_clasificacion_binaria_dos_variables_red_neuronal.py” posee un ejemplo de cómo realizar esta tarea.\n"
      ],
      "metadata": {
        "id": "wYVHzURw8hBy"
      }
    },
    {
      "cell_type": "code",
      "execution_count": null,
      "metadata": {
        "id": "I8OwdYuRqtlb"
      },
      "outputs": [],
      "source": [
        "import pandas as pd\n",
        "import numpy as np\n",
        "import matplotlib.pyplot as plt\n",
        "import itertools\n",
        "\n",
        "from mpl_toolkits.axes_grid1 import make_axes_locatable\n",
        "from sklearn.metrics import confusion_matrix, roc_curve, roc_auc_score, precision_recall_curve, classification_report\n",
        "\n",
        "from sklearn.model_selection import train_test_split\n",
        "from sklearn.preprocessing import StandardScaler\n",
        "from sklearn.neural_network import MLPClassifier\n",
        "\n",
        "from sklearn.linear_model import LogisticRegression"
      ]
    },
    {
      "cell_type": "markdown",
      "source": [
        "# **AA UTILS**"
      ],
      "metadata": {
        "id": "ViBKTjV3rSAq"
      }
    },
    {
      "cell_type": "code",
      "source": [
        "def if_dataframe_to_numpy(data):\n",
        "    return data.to_numpy() if isinstance(data, pd.DataFrame) or isinstance(data, pd.Series) else data\n",
        "\n",
        "def plot_2d(modelo, X, X_train, X_test, y_train, y_test, boundry_function):\n",
        "\n",
        "    assert X.shape[1] == 2, f\"X debe tener solo dos variables de entrada (tiene {X.shape[1]})\"\n",
        "\n",
        "    X = if_dataframe_to_numpy(X)\n",
        "    X_train = if_dataframe_to_numpy(X_train)\n",
        "    X_test = if_dataframe_to_numpy(X_test)\n",
        "\n",
        "    plt.figure()\n",
        "    x_min, x_max = X[:, 0].min() - 1, X[:, 0].max() + 1\n",
        "    y_min, y_max = X[:, 1].min() - 1, X[:, 1].max() + 1\n",
        "    xx, yy = np.meshgrid(np.arange(x_min, x_max, 0.02),\n",
        "                         np.arange(y_min, y_max, 0.02))\n",
        "\n",
        "    Z = np.c_[xx.ravel(), yy.ravel()]\n",
        "    Z = boundry_function(modelo, Z)\n",
        "    Z = Z.reshape(xx.shape)\n",
        "\n",
        "    plt.contourf(xx, yy, Z, alpha=0.3)\n",
        "    plt.colorbar()\n",
        "\n",
        "    plt.scatter(X_train[:, 0], X_train[:, 1], marker=\"o\", c=y_train, label='Training')\n",
        "    plt.scatter(X_test[:, 0], X_test[:, 1], marker=\"+\", c=y_test, s=80, label='Testing')\n",
        "    plt.legend()\n",
        "    plt.show()\n",
        "\n",
        "def print_classification_report(y_true, y_pred):\n",
        "    print(classification_report(y_true, y_pred))\n",
        "\n",
        "def visualizar_parametros(modelo, mostrar_bias, feature_names=[], target_name='target'):\n",
        "    parametros = pd.DataFrame(modelo.coef_, columns=feature_names if len(feature_names) > 0 else range(modelo.coef_.shape[1]))\n",
        "\n",
        "    if mostrar_bias:\n",
        "        parametros['bias'] = modelo.intercept_\n",
        "\n",
        "    parametros.T.plot(kind='bar')\n",
        "\n",
        "    if hasattr(modelo, 'classes_'):\n",
        "        if len(modelo.classes_) <= 2:\n",
        "            plt.legend([target_name])\n",
        "        else:\n",
        "            plt.legend(list(modelo.classes_))\n",
        "    else:\n",
        "        plt.legend([target_name])\n",
        "\n",
        "    plt.show()\n",
        "\n",
        "def visualizar_curva_logistica(modelo, X, y, feature_name='target'):\n",
        "\n",
        "    assert X.shape[1] == 1, f\"X debe tener solo una variable de entrada (tiene {X.shape[1]})\"\n",
        "\n",
        "    X = if_dataframe_to_numpy(X)\n",
        "\n",
        "    plt.figure()\n",
        "    plt.scatter(X, y, c=y, s=50)\n",
        "    plt.xlabel(feature_name)\n",
        "    plt.grid()\n",
        "\n",
        "    x_min, x_max = X[:, 0].min() - 1, X[:, 0].max() + 1\n",
        "    x_graph = np.linspace(x_min, x_max)\n",
        "    y_graph = modelo.predict_proba(x_graph.reshape(-1, 1))[:, 1]\n",
        "    plt.plot(x_graph, y_graph)\n",
        "    plt.show()\n",
        "\n",
        "def visualizar_frontera_de_desicion_2D(modelo, X, X_train, X_test, y_train, y_test):\n",
        "    plot_2d(modelo, X, X_train, X_test, y_train, y_test, lambda modelo, Z: modelo.predict(Z))\n",
        "\n",
        "def visualizar_funcion_transferencia_2D(modelo, X, X_train, X_test, y_train, y_test):\n",
        "\n",
        "    if hasattr(modelo, 'predict_proba') and callable(getattr(modelo, 'predict_proba')):\n",
        "        plot_2d(modelo, X, X_train, X_test, y_train, y_test, lambda modelo, Z: modelo.predict_proba(Z)[:, 1])\n",
        "    else:\n",
        "        raise ValueError(\"no se puede visualizar funcion de transferencia\")\n",
        "\n",
        "def visualizar_confusion_matrix(real_target, pred_target,\n",
        "                                classes=[],\n",
        "                                normalize=False,\n",
        "                                title='Matriz de confusión',\n",
        "                                cmap=plt.cm.Blues):\n",
        "\n",
        "    if (len(classes) == 0):\n",
        "        classes = [str(i) for i in range(int(max(real_target) + 1))]  # nombres de clases consecutivos\n",
        "\n",
        "    cm = confusion_matrix(real_target, pred_target)\n",
        "\n",
        "    plt.figure()\n",
        "    plt.imshow(cm, interpolation='nearest', cmap=cmap)\n",
        "    plt.title(title)\n",
        "    plt.colorbar()\n",
        "    tick_marks = np.arange(len(classes))\n",
        "    plt.xticks(tick_marks, classes, rotation=45)\n",
        "    plt.yticks(tick_marks, classes)\n",
        "\n",
        "    fmt = '.2f' if normalize else 'd'\n",
        "    thresh = cm.max() / 2.\n",
        "    for i, j in itertools.product(range(cm.shape[0]), range(cm.shape[1])):\n",
        "        plt.text(j, i, format(cm[i, j], fmt),\n",
        "                 horizontalalignment=\"center\",\n",
        "                 color=\"white\" if cm[i, j] > thresh else \"black\", size=16)\n",
        "\n",
        "    plt.ylabel('True label')\n",
        "    plt.xlabel('Predicted label')\n",
        "    plt.show()\n",
        "\n",
        "def visualizar_curva_ROC(modelo, X, y):\n",
        "\n",
        "    assert len(set(y)) <= 2, f\"El dataset debe ser binario (hay {len(set(y))}) clases\"\n",
        "\n",
        "    y_score = modelo.predict_proba(X)[:, 1]  # se queda con la clase 1\n",
        "\n",
        "    false_positive_rate, true_positive_rate, threshold = roc_curve(y, y_score)\n",
        "\n",
        "    precision, recall, _ = precision_recall_curve(y, y_score)\n",
        "\n",
        "    # ROC\n",
        "    plt.figure()\n",
        "    plt.title('ROC. Receiver Operating Characteristic')\n",
        "    plt.plot(false_positive_rate, true_positive_rate, label='ROC curve (area = %0.2f)' % roc_auc_score(y, y_score))\n",
        "    plt.plot([0, 1], ls=\"--\")\n",
        "    plt.plot([0, 0], [1, 0], c=\".7\"), plt.plot([1, 1], c=\".7\")\n",
        "    plt.legend(loc=\"lower right\")\n",
        "    plt.ylabel('True Positive Rate (Recall)')\n",
        "    plt.xlabel('False Positive Rate (1- Especificidad)')\n",
        "    plt.show()\n",
        "\n",
        "    # precision-recall curve\n",
        "    plt.figure()\n",
        "    plt.step(recall, precision, color='b', alpha=0.2, where='post')\n",
        "    plt.fill_between(recall, precision, step='post', alpha=0.2, color='b')\n",
        "    plt.xlabel('Recall')\n",
        "    plt.ylabel('Precision')\n",
        "    plt.ylim([0.0, 1.05])\n",
        "    plt.xlim([0.0, 1.0])\n",
        "    plt.title('Precision-Recall curve')\n",
        "    plt.show()\n",
        "\n",
        "def elegir_imagen_al_azar(X, pixeles_ancho, pixeles_alto):\n",
        "    indice = np.random.randint(0, X.shape[0])\n",
        "    img_i = np.reshape(X[indice, :], (pixeles_ancho, pixeles_alto))\n",
        "    plt.figure()\n",
        "    plt.imshow(img_i, 'gray')\n",
        "    plt.title('Dato aleatorio')\n",
        "    plt.show()\n",
        "    return X[indice].reshape(1, -1), indice\n",
        "\n",
        "def visualizar_parametros_para_imagenes(modelo, cantidad_de_clases, pixeles_ancho=28, pixeles_alto=28):\n",
        "\n",
        "    if hasattr(modelo, 'coef_'):\n",
        "        w = modelo.coef_\n",
        "    elif hasattr(modelo, 'coefs_') and (modelo.coefs_) == 1:\n",
        "        w = modelo.coefs_[0]\n",
        "    else:\n",
        "        raise \"para visualizar los parametros de la red es necesario tener cero capas ocultas\"\n",
        "\n",
        "    colorbar_max = np.abs(np.max(w))\n",
        "    w_r = np.reshape(w, (cantidad_de_clases, pixeles_ancho, pixeles_alto))\n",
        "    fig, ax = plt.subplots(2, cantidad_de_clases // 2)\n",
        "    plt.suptitle('Coeficientes aprendidos para cada clase, \\nagrupados en forma matricial de 28x28')\n",
        "    index = 0\n",
        "    for row in range(0, 2):\n",
        "        for col in range(0, cantidad_de_clases // 2):\n",
        "            colorbar_max = max(np.abs(np.max(w_r[index, :, :])), np.abs(np.min(w_r[index, :, :])))\n",
        "            ax_im = ax[row][col].imshow(w_r[index, :, :], cmap='seismic', vmin=-colorbar_max, vmax=colorbar_max)\n",
        "            ax[row][col].get_xaxis().set_visible(False)\n",
        "            ax[row][col].get_yaxis().set_visible(False)\n",
        "            ax[row][col].set_title(str(index))\n",
        "            divider = make_axes_locatable(ax[row][col])\n",
        "            cax = divider.append_axes(\"right\", size=\"5%\", pad=0.05)\n",
        "\n",
        "            fig.colorbar(ax_im, ax=ax[row][col], cax=cax)\n",
        "            index += 1\n",
        "    plt.show()\n",
        "\n",
        "def visualizar_ajuste_por_regresion(modelo, X_train, X_test, y_train, y_test,\n",
        "                                    feature_name='X', target_name='target'):\n",
        "    plt.scatter(X_train, y_train, c='blue', s=40, alpha=0.9, label='Training')\n",
        "    plt.scatter(X_test, y_test, c='red', s=50, alpha=0.5, label='Testing')\n",
        "    plt.xlabel(feature_name)\n",
        "    plt.ylabel(target_name)\n",
        "    plt.legend()\n",
        "    plt.grid()\n",
        "\n",
        "    X_train = if_dataframe_to_numpy(X_train)\n",
        "    X_test = if_dataframe_to_numpy(X_test)\n",
        "\n",
        "    x_max = max(max(X_train), max(X_test))\n",
        "    x_min = min(min(X_train), min(X_test))\n",
        "\n",
        "    x_plot = np.linspace(x_min, x_max, 100)\n",
        "    y_plot = modelo.predict(x_plot.reshape(-1, 1))\n",
        "    plt.plot(x_plot, y_plot, 'g--', linewidth=5)\n",
        "    plt.show()\n",
        "\n",
        "def visualizar_curva_error_entrenamiento(modelo):\n",
        "    plt.plot(modelo.loss_curve_)\n",
        "    plt.xlabel('iterations')\n",
        "    plt.ylabel('loss')\n",
        "    plt.legend(['Train'])\n",
        "    plt.show()\n"
      ],
      "metadata": {
        "id": "bq7m9jn-rXE2"
      },
      "execution_count": null,
      "outputs": []
    },
    {
      "cell_type": "markdown",
      "source": [
        "# **CARGA DE DATOS**"
      ],
      "metadata": {
        "id": "uKAo9WohreVg"
      }
    },
    {
      "cell_type": "code",
      "source": [
        "data = pd.read_csv(r\"https://raw.githubusercontent.com/KevinFDI/IML_Practica_3/main/Pr%C3%A1ctica/datasets/breast_cancer.csv\")"
      ],
      "metadata": {
        "id": "LPFGkg8Jrg7h"
      },
      "execution_count": null,
      "outputs": []
    },
    {
      "cell_type": "code",
      "source": [
        "round(data.head(10), 2)"
      ],
      "metadata": {
        "colab": {
          "base_uri": "https://localhost:8080/",
          "height": 454
        },
        "id": "pDhevHLqqbDQ",
        "outputId": "c949c529-779b-4ad8-85a0-fa21c325e84e"
      },
      "execution_count": null,
      "outputs": [
        {
          "output_type": "execute_result",
          "data": {
            "text/plain": [
              "   mean radius  mean texture  mean perimeter  mean area  mean smoothness  \\\n",
              "0        17.99         10.38          122.80     1001.0             0.12   \n",
              "1        20.57         17.77          132.90     1326.0             0.08   \n",
              "2        19.69         21.25          130.00     1203.0             0.11   \n",
              "3        11.42         20.38           77.58      386.1             0.14   \n",
              "4        20.29         14.34          135.10     1297.0             0.10   \n",
              "5        12.45         15.70           82.57      477.1             0.13   \n",
              "6        18.25         19.98          119.60     1040.0             0.09   \n",
              "7        13.71         20.83           90.20      577.9             0.12   \n",
              "8        13.00         21.82           87.50      519.8             0.13   \n",
              "9        12.46         24.04           83.97      475.9             0.12   \n",
              "\n",
              "   mean compactness  mean concavity  mean concave points  mean symmetry  \\\n",
              "0              0.28            0.30                 0.15           0.24   \n",
              "1              0.08            0.09                 0.07           0.18   \n",
              "2              0.16            0.20                 0.13           0.21   \n",
              "3              0.28            0.24                 0.11           0.26   \n",
              "4              0.13            0.20                 0.10           0.18   \n",
              "5              0.17            0.16                 0.08           0.21   \n",
              "6              0.11            0.11                 0.07           0.18   \n",
              "7              0.16            0.09                 0.06           0.22   \n",
              "8              0.19            0.19                 0.09           0.24   \n",
              "9              0.24            0.23                 0.09           0.20   \n",
              "\n",
              "   mean fractal dimension  ...  worst texture  worst perimeter  worst area  \\\n",
              "0                    0.08  ...          17.33           184.60      2019.0   \n",
              "1                    0.06  ...          23.41           158.80      1956.0   \n",
              "2                    0.06  ...          25.53           152.50      1709.0   \n",
              "3                    0.10  ...          26.50            98.87       567.7   \n",
              "4                    0.06  ...          16.67           152.20      1575.0   \n",
              "5                    0.08  ...          23.75           103.40       741.6   \n",
              "6                    0.06  ...          27.66           153.20      1606.0   \n",
              "7                    0.07  ...          28.14           110.60       897.0   \n",
              "8                    0.07  ...          30.73           106.20       739.3   \n",
              "9                    0.08  ...          40.68            97.65       711.4   \n",
              "\n",
              "   worst smoothness  worst compactness  worst concavity  worst concave points  \\\n",
              "0              0.16               0.67             0.71                  0.27   \n",
              "1              0.12               0.19             0.24                  0.19   \n",
              "2              0.14               0.42             0.45                  0.24   \n",
              "3              0.21               0.87             0.69                  0.26   \n",
              "4              0.14               0.20             0.40                  0.16   \n",
              "5              0.18               0.52             0.54                  0.17   \n",
              "6              0.14               0.26             0.38                  0.19   \n",
              "7              0.17               0.37             0.27                  0.16   \n",
              "8              0.17               0.54             0.54                  0.21   \n",
              "9              0.19               1.06             1.10                  0.22   \n",
              "\n",
              "   worst symmetry  worst fractal dimension  target  \n",
              "0            0.46                     0.12       1  \n",
              "1            0.28                     0.09       1  \n",
              "2            0.36                     0.09       1  \n",
              "3            0.66                     0.17       1  \n",
              "4            0.24                     0.08       1  \n",
              "5            0.40                     0.12       1  \n",
              "6            0.31                     0.08       1  \n",
              "7            0.32                     0.12       1  \n",
              "8            0.44                     0.11       1  \n",
              "9            0.44                     0.21       1  \n",
              "\n",
              "[10 rows x 31 columns]"
            ],
            "text/html": [
              "\n",
              "  <div id=\"df-e8c9f9be-1fa0-447a-bb6a-2511f470e7d5\">\n",
              "    <div class=\"colab-df-container\">\n",
              "      <div>\n",
              "<style scoped>\n",
              "    .dataframe tbody tr th:only-of-type {\n",
              "        vertical-align: middle;\n",
              "    }\n",
              "\n",
              "    .dataframe tbody tr th {\n",
              "        vertical-align: top;\n",
              "    }\n",
              "\n",
              "    .dataframe thead th {\n",
              "        text-align: right;\n",
              "    }\n",
              "</style>\n",
              "<table border=\"1\" class=\"dataframe\">\n",
              "  <thead>\n",
              "    <tr style=\"text-align: right;\">\n",
              "      <th></th>\n",
              "      <th>mean radius</th>\n",
              "      <th>mean texture</th>\n",
              "      <th>mean perimeter</th>\n",
              "      <th>mean area</th>\n",
              "      <th>mean smoothness</th>\n",
              "      <th>mean compactness</th>\n",
              "      <th>mean concavity</th>\n",
              "      <th>mean concave points</th>\n",
              "      <th>mean symmetry</th>\n",
              "      <th>mean fractal dimension</th>\n",
              "      <th>...</th>\n",
              "      <th>worst texture</th>\n",
              "      <th>worst perimeter</th>\n",
              "      <th>worst area</th>\n",
              "      <th>worst smoothness</th>\n",
              "      <th>worst compactness</th>\n",
              "      <th>worst concavity</th>\n",
              "      <th>worst concave points</th>\n",
              "      <th>worst symmetry</th>\n",
              "      <th>worst fractal dimension</th>\n",
              "      <th>target</th>\n",
              "    </tr>\n",
              "  </thead>\n",
              "  <tbody>\n",
              "    <tr>\n",
              "      <th>0</th>\n",
              "      <td>17.99</td>\n",
              "      <td>10.38</td>\n",
              "      <td>122.80</td>\n",
              "      <td>1001.0</td>\n",
              "      <td>0.12</td>\n",
              "      <td>0.28</td>\n",
              "      <td>0.30</td>\n",
              "      <td>0.15</td>\n",
              "      <td>0.24</td>\n",
              "      <td>0.08</td>\n",
              "      <td>...</td>\n",
              "      <td>17.33</td>\n",
              "      <td>184.60</td>\n",
              "      <td>2019.0</td>\n",
              "      <td>0.16</td>\n",
              "      <td>0.67</td>\n",
              "      <td>0.71</td>\n",
              "      <td>0.27</td>\n",
              "      <td>0.46</td>\n",
              "      <td>0.12</td>\n",
              "      <td>1</td>\n",
              "    </tr>\n",
              "    <tr>\n",
              "      <th>1</th>\n",
              "      <td>20.57</td>\n",
              "      <td>17.77</td>\n",
              "      <td>132.90</td>\n",
              "      <td>1326.0</td>\n",
              "      <td>0.08</td>\n",
              "      <td>0.08</td>\n",
              "      <td>0.09</td>\n",
              "      <td>0.07</td>\n",
              "      <td>0.18</td>\n",
              "      <td>0.06</td>\n",
              "      <td>...</td>\n",
              "      <td>23.41</td>\n",
              "      <td>158.80</td>\n",
              "      <td>1956.0</td>\n",
              "      <td>0.12</td>\n",
              "      <td>0.19</td>\n",
              "      <td>0.24</td>\n",
              "      <td>0.19</td>\n",
              "      <td>0.28</td>\n",
              "      <td>0.09</td>\n",
              "      <td>1</td>\n",
              "    </tr>\n",
              "    <tr>\n",
              "      <th>2</th>\n",
              "      <td>19.69</td>\n",
              "      <td>21.25</td>\n",
              "      <td>130.00</td>\n",
              "      <td>1203.0</td>\n",
              "      <td>0.11</td>\n",
              "      <td>0.16</td>\n",
              "      <td>0.20</td>\n",
              "      <td>0.13</td>\n",
              "      <td>0.21</td>\n",
              "      <td>0.06</td>\n",
              "      <td>...</td>\n",
              "      <td>25.53</td>\n",
              "      <td>152.50</td>\n",
              "      <td>1709.0</td>\n",
              "      <td>0.14</td>\n",
              "      <td>0.42</td>\n",
              "      <td>0.45</td>\n",
              "      <td>0.24</td>\n",
              "      <td>0.36</td>\n",
              "      <td>0.09</td>\n",
              "      <td>1</td>\n",
              "    </tr>\n",
              "    <tr>\n",
              "      <th>3</th>\n",
              "      <td>11.42</td>\n",
              "      <td>20.38</td>\n",
              "      <td>77.58</td>\n",
              "      <td>386.1</td>\n",
              "      <td>0.14</td>\n",
              "      <td>0.28</td>\n",
              "      <td>0.24</td>\n",
              "      <td>0.11</td>\n",
              "      <td>0.26</td>\n",
              "      <td>0.10</td>\n",
              "      <td>...</td>\n",
              "      <td>26.50</td>\n",
              "      <td>98.87</td>\n",
              "      <td>567.7</td>\n",
              "      <td>0.21</td>\n",
              "      <td>0.87</td>\n",
              "      <td>0.69</td>\n",
              "      <td>0.26</td>\n",
              "      <td>0.66</td>\n",
              "      <td>0.17</td>\n",
              "      <td>1</td>\n",
              "    </tr>\n",
              "    <tr>\n",
              "      <th>4</th>\n",
              "      <td>20.29</td>\n",
              "      <td>14.34</td>\n",
              "      <td>135.10</td>\n",
              "      <td>1297.0</td>\n",
              "      <td>0.10</td>\n",
              "      <td>0.13</td>\n",
              "      <td>0.20</td>\n",
              "      <td>0.10</td>\n",
              "      <td>0.18</td>\n",
              "      <td>0.06</td>\n",
              "      <td>...</td>\n",
              "      <td>16.67</td>\n",
              "      <td>152.20</td>\n",
              "      <td>1575.0</td>\n",
              "      <td>0.14</td>\n",
              "      <td>0.20</td>\n",
              "      <td>0.40</td>\n",
              "      <td>0.16</td>\n",
              "      <td>0.24</td>\n",
              "      <td>0.08</td>\n",
              "      <td>1</td>\n",
              "    </tr>\n",
              "    <tr>\n",
              "      <th>5</th>\n",
              "      <td>12.45</td>\n",
              "      <td>15.70</td>\n",
              "      <td>82.57</td>\n",
              "      <td>477.1</td>\n",
              "      <td>0.13</td>\n",
              "      <td>0.17</td>\n",
              "      <td>0.16</td>\n",
              "      <td>0.08</td>\n",
              "      <td>0.21</td>\n",
              "      <td>0.08</td>\n",
              "      <td>...</td>\n",
              "      <td>23.75</td>\n",
              "      <td>103.40</td>\n",
              "      <td>741.6</td>\n",
              "      <td>0.18</td>\n",
              "      <td>0.52</td>\n",
              "      <td>0.54</td>\n",
              "      <td>0.17</td>\n",
              "      <td>0.40</td>\n",
              "      <td>0.12</td>\n",
              "      <td>1</td>\n",
              "    </tr>\n",
              "    <tr>\n",
              "      <th>6</th>\n",
              "      <td>18.25</td>\n",
              "      <td>19.98</td>\n",
              "      <td>119.60</td>\n",
              "      <td>1040.0</td>\n",
              "      <td>0.09</td>\n",
              "      <td>0.11</td>\n",
              "      <td>0.11</td>\n",
              "      <td>0.07</td>\n",
              "      <td>0.18</td>\n",
              "      <td>0.06</td>\n",
              "      <td>...</td>\n",
              "      <td>27.66</td>\n",
              "      <td>153.20</td>\n",
              "      <td>1606.0</td>\n",
              "      <td>0.14</td>\n",
              "      <td>0.26</td>\n",
              "      <td>0.38</td>\n",
              "      <td>0.19</td>\n",
              "      <td>0.31</td>\n",
              "      <td>0.08</td>\n",
              "      <td>1</td>\n",
              "    </tr>\n",
              "    <tr>\n",
              "      <th>7</th>\n",
              "      <td>13.71</td>\n",
              "      <td>20.83</td>\n",
              "      <td>90.20</td>\n",
              "      <td>577.9</td>\n",
              "      <td>0.12</td>\n",
              "      <td>0.16</td>\n",
              "      <td>0.09</td>\n",
              "      <td>0.06</td>\n",
              "      <td>0.22</td>\n",
              "      <td>0.07</td>\n",
              "      <td>...</td>\n",
              "      <td>28.14</td>\n",
              "      <td>110.60</td>\n",
              "      <td>897.0</td>\n",
              "      <td>0.17</td>\n",
              "      <td>0.37</td>\n",
              "      <td>0.27</td>\n",
              "      <td>0.16</td>\n",
              "      <td>0.32</td>\n",
              "      <td>0.12</td>\n",
              "      <td>1</td>\n",
              "    </tr>\n",
              "    <tr>\n",
              "      <th>8</th>\n",
              "      <td>13.00</td>\n",
              "      <td>21.82</td>\n",
              "      <td>87.50</td>\n",
              "      <td>519.8</td>\n",
              "      <td>0.13</td>\n",
              "      <td>0.19</td>\n",
              "      <td>0.19</td>\n",
              "      <td>0.09</td>\n",
              "      <td>0.24</td>\n",
              "      <td>0.07</td>\n",
              "      <td>...</td>\n",
              "      <td>30.73</td>\n",
              "      <td>106.20</td>\n",
              "      <td>739.3</td>\n",
              "      <td>0.17</td>\n",
              "      <td>0.54</td>\n",
              "      <td>0.54</td>\n",
              "      <td>0.21</td>\n",
              "      <td>0.44</td>\n",
              "      <td>0.11</td>\n",
              "      <td>1</td>\n",
              "    </tr>\n",
              "    <tr>\n",
              "      <th>9</th>\n",
              "      <td>12.46</td>\n",
              "      <td>24.04</td>\n",
              "      <td>83.97</td>\n",
              "      <td>475.9</td>\n",
              "      <td>0.12</td>\n",
              "      <td>0.24</td>\n",
              "      <td>0.23</td>\n",
              "      <td>0.09</td>\n",
              "      <td>0.20</td>\n",
              "      <td>0.08</td>\n",
              "      <td>...</td>\n",
              "      <td>40.68</td>\n",
              "      <td>97.65</td>\n",
              "      <td>711.4</td>\n",
              "      <td>0.19</td>\n",
              "      <td>1.06</td>\n",
              "      <td>1.10</td>\n",
              "      <td>0.22</td>\n",
              "      <td>0.44</td>\n",
              "      <td>0.21</td>\n",
              "      <td>1</td>\n",
              "    </tr>\n",
              "  </tbody>\n",
              "</table>\n",
              "<p>10 rows × 31 columns</p>\n",
              "</div>\n",
              "      <button class=\"colab-df-convert\" onclick=\"convertToInteractive('df-e8c9f9be-1fa0-447a-bb6a-2511f470e7d5')\"\n",
              "              title=\"Convert this dataframe to an interactive table.\"\n",
              "              style=\"display:none;\">\n",
              "        \n",
              "  <svg xmlns=\"http://www.w3.org/2000/svg\" height=\"24px\"viewBox=\"0 0 24 24\"\n",
              "       width=\"24px\">\n",
              "    <path d=\"M0 0h24v24H0V0z\" fill=\"none\"/>\n",
              "    <path d=\"M18.56 5.44l.94 2.06.94-2.06 2.06-.94-2.06-.94-.94-2.06-.94 2.06-2.06.94zm-11 1L8.5 8.5l.94-2.06 2.06-.94-2.06-.94L8.5 2.5l-.94 2.06-2.06.94zm10 10l.94 2.06.94-2.06 2.06-.94-2.06-.94-.94-2.06-.94 2.06-2.06.94z\"/><path d=\"M17.41 7.96l-1.37-1.37c-.4-.4-.92-.59-1.43-.59-.52 0-1.04.2-1.43.59L10.3 9.45l-7.72 7.72c-.78.78-.78 2.05 0 2.83L4 21.41c.39.39.9.59 1.41.59.51 0 1.02-.2 1.41-.59l7.78-7.78 2.81-2.81c.8-.78.8-2.07 0-2.86zM5.41 20L4 18.59l7.72-7.72 1.47 1.35L5.41 20z\"/>\n",
              "  </svg>\n",
              "      </button>\n",
              "      \n",
              "  <style>\n",
              "    .colab-df-container {\n",
              "      display:flex;\n",
              "      flex-wrap:wrap;\n",
              "      gap: 12px;\n",
              "    }\n",
              "\n",
              "    .colab-df-convert {\n",
              "      background-color: #E8F0FE;\n",
              "      border: none;\n",
              "      border-radius: 50%;\n",
              "      cursor: pointer;\n",
              "      display: none;\n",
              "      fill: #1967D2;\n",
              "      height: 32px;\n",
              "      padding: 0 0 0 0;\n",
              "      width: 32px;\n",
              "    }\n",
              "\n",
              "    .colab-df-convert:hover {\n",
              "      background-color: #E2EBFA;\n",
              "      box-shadow: 0px 1px 2px rgba(60, 64, 67, 0.3), 0px 1px 3px 1px rgba(60, 64, 67, 0.15);\n",
              "      fill: #174EA6;\n",
              "    }\n",
              "\n",
              "    [theme=dark] .colab-df-convert {\n",
              "      background-color: #3B4455;\n",
              "      fill: #D2E3FC;\n",
              "    }\n",
              "\n",
              "    [theme=dark] .colab-df-convert:hover {\n",
              "      background-color: #434B5C;\n",
              "      box-shadow: 0px 1px 3px 1px rgba(0, 0, 0, 0.15);\n",
              "      filter: drop-shadow(0px 1px 2px rgba(0, 0, 0, 0.3));\n",
              "      fill: #FFFFFF;\n",
              "    }\n",
              "  </style>\n",
              "\n",
              "      <script>\n",
              "        const buttonEl =\n",
              "          document.querySelector('#df-e8c9f9be-1fa0-447a-bb6a-2511f470e7d5 button.colab-df-convert');\n",
              "        buttonEl.style.display =\n",
              "          google.colab.kernel.accessAllowed ? 'block' : 'none';\n",
              "\n",
              "        async function convertToInteractive(key) {\n",
              "          const element = document.querySelector('#df-e8c9f9be-1fa0-447a-bb6a-2511f470e7d5');\n",
              "          const dataTable =\n",
              "            await google.colab.kernel.invokeFunction('convertToInteractive',\n",
              "                                                     [key], {});\n",
              "          if (!dataTable) return;\n",
              "\n",
              "          const docLinkHtml = 'Like what you see? Visit the ' +\n",
              "            '<a target=\"_blank\" href=https://colab.research.google.com/notebooks/data_table.ipynb>data table notebook</a>'\n",
              "            + ' to learn more about interactive tables.';\n",
              "          element.innerHTML = '';\n",
              "          dataTable['output_type'] = 'display_data';\n",
              "          await google.colab.output.renderOutput(dataTable, element);\n",
              "          const docLink = document.createElement('div');\n",
              "          docLink.innerHTML = docLinkHtml;\n",
              "          element.appendChild(docLink);\n",
              "        }\n",
              "      </script>\n",
              "    </div>\n",
              "  </div>\n",
              "  "
            ]
          },
          "metadata": {},
          "execution_count": 175
        }
      ]
    },
    {
      "cell_type": "markdown",
      "source": [
        "**PREPROCESADO**"
      ],
      "metadata": {
        "id": "sXjj9E7mrhBv"
      }
    },
    {
      "cell_type": "markdown",
      "source": [
        "Dado que en el modelo sólo permite tener dos variables en la variable \"X\", opto por utilizar \"mean radius\" y \"mean texture\" para clasificar a los tumores beningnos (0) y Malignos (1) en base a su tamaño y textura."
      ],
      "metadata": {
        "id": "iEFXSZC-scDy"
      }
    },
    {
      "cell_type": "code",
      "source": [
        "X = data.drop(columns=[\"target\"])\n",
        "y = data[\"target\"]\n",
        "\n",
        "print(f'''\n",
        "      ====================================================================================================\n",
        "      El problema de clasificación es de {X.shape[1]} features ---(prediciendo)---> {len(set(y))} clases\n",
        "      ====================================================================================================\n",
        "      ''')\n",
        "\n",
        "X_train, X_test, y_train, y_test = train_test_split(X, y, test_size=0.2)\n",
        "\n",
        "NORMALIZAR = True\n",
        "\n",
        "if NORMALIZAR:\n",
        "    scaler = StandardScaler().fit(X_train)\n",
        "    X_train = scaler.transform(X_train)\n",
        "    X_test = scaler.transform(X_test)"
      ],
      "metadata": {
        "colab": {
          "base_uri": "https://localhost:8080/"
        },
        "id": "mcDzFNWmrhIY",
        "outputId": "e588e537-3004-408b-b0d1-284fc2ed24a0"
      },
      "execution_count": null,
      "outputs": [
        {
          "output_type": "stream",
          "name": "stdout",
          "text": [
            "\n",
            "      ====================================================================================================\n",
            "      El problema de clasificación es de 30 features ---(prediciendo)---> 2 clases\n",
            "      ====================================================================================================\n",
            "      \n"
          ]
        }
      ]
    },
    {
      "cell_type": "markdown",
      "source": [
        "# **REDES NEURONALES**"
      ],
      "metadata": {
        "id": "5_YYcu71n1xM"
      }
    },
    {
      "cell_type": "markdown",
      "source": [
        "**MODELADO**"
      ],
      "metadata": {
        "id": "4kZxtBpprhNI"
      }
    },
    {
      "cell_type": "code",
      "source": [
        "modelo = MLPClassifier(hidden_layer_sizes=(20, 5),\n",
        "                       max_iter=500,\n",
        "                       tol=1e-4,\n",
        "                       verbose=True,\n",
        "                       activation='tanh',\n",
        "                       learning_rate_init=0.003,\n",
        "                       solver='adam')\n",
        "modelo.fit(X_train, y_train)"
      ],
      "metadata": {
        "colab": {
          "base_uri": "https://localhost:8080/"
        },
        "id": "jkBJXK9krhUP",
        "outputId": "8d561dc5-2fbb-4f4a-f4f5-e4d8ed425a74"
      },
      "execution_count": null,
      "outputs": [
        {
          "output_type": "stream",
          "name": "stdout",
          "text": [
            "Iteration 1, loss = 0.68205715\n",
            "Iteration 2, loss = 0.50790707\n",
            "Iteration 3, loss = 0.41127904\n",
            "Iteration 4, loss = 0.34902685\n",
            "Iteration 5, loss = 0.30627926\n",
            "Iteration 6, loss = 0.27500471\n",
            "Iteration 7, loss = 0.24864834\n",
            "Iteration 8, loss = 0.22743103\n",
            "Iteration 9, loss = 0.20921915\n",
            "Iteration 10, loss = 0.19395797\n",
            "Iteration 11, loss = 0.18125627\n",
            "Iteration 12, loss = 0.17014424\n",
            "Iteration 13, loss = 0.16049724\n",
            "Iteration 14, loss = 0.15173328\n",
            "Iteration 15, loss = 0.14388352\n",
            "Iteration 16, loss = 0.13711093\n",
            "Iteration 17, loss = 0.13038400\n",
            "Iteration 18, loss = 0.12479486\n",
            "Iteration 19, loss = 0.11971196\n",
            "Iteration 20, loss = 0.11520297\n",
            "Iteration 21, loss = 0.11108467\n",
            "Iteration 22, loss = 0.10738690\n",
            "Iteration 23, loss = 0.10387863\n",
            "Iteration 24, loss = 0.10067605\n",
            "Iteration 25, loss = 0.09784619\n",
            "Iteration 26, loss = 0.09505340\n",
            "Iteration 27, loss = 0.09260733\n",
            "Iteration 28, loss = 0.09021847\n",
            "Iteration 29, loss = 0.08813130\n",
            "Iteration 30, loss = 0.08614213\n",
            "Iteration 31, loss = 0.08433522\n",
            "Iteration 32, loss = 0.08245507\n",
            "Iteration 33, loss = 0.08094299\n",
            "Iteration 34, loss = 0.07928239\n",
            "Iteration 35, loss = 0.07784204\n",
            "Iteration 36, loss = 0.07633776\n",
            "Iteration 37, loss = 0.07509926\n",
            "Iteration 38, loss = 0.07382053\n",
            "Iteration 39, loss = 0.07275498\n",
            "Iteration 40, loss = 0.07149043\n",
            "Iteration 41, loss = 0.07033751\n",
            "Iteration 42, loss = 0.06914500\n",
            "Iteration 43, loss = 0.06813781\n",
            "Iteration 44, loss = 0.06689483\n",
            "Iteration 45, loss = 0.06598586\n",
            "Iteration 46, loss = 0.06506243\n",
            "Iteration 47, loss = 0.06429602\n",
            "Iteration 48, loss = 0.06343805\n",
            "Iteration 49, loss = 0.06261290\n",
            "Iteration 50, loss = 0.06180194\n",
            "Iteration 51, loss = 0.06109318\n",
            "Iteration 52, loss = 0.06034779\n",
            "Iteration 53, loss = 0.05966806\n",
            "Iteration 54, loss = 0.05904577\n",
            "Iteration 55, loss = 0.05842596\n",
            "Iteration 56, loss = 0.05787568\n",
            "Iteration 57, loss = 0.05693230\n",
            "Iteration 58, loss = 0.05631129\n",
            "Iteration 59, loss = 0.05565595\n",
            "Iteration 60, loss = 0.05498527\n",
            "Iteration 61, loss = 0.05443322\n",
            "Iteration 62, loss = 0.05381677\n",
            "Iteration 63, loss = 0.05326323\n",
            "Iteration 64, loss = 0.05268161\n",
            "Iteration 65, loss = 0.05207823\n",
            "Iteration 66, loss = 0.05146555\n",
            "Iteration 67, loss = 0.05085216\n",
            "Iteration 68, loss = 0.05037033\n",
            "Iteration 69, loss = 0.04987341\n",
            "Iteration 70, loss = 0.04946154\n",
            "Iteration 71, loss = 0.04903050\n",
            "Iteration 72, loss = 0.04851176\n",
            "Iteration 73, loss = 0.04811842\n",
            "Iteration 74, loss = 0.04760049\n",
            "Iteration 75, loss = 0.04724220\n",
            "Iteration 76, loss = 0.04682089\n",
            "Iteration 77, loss = 0.04632908\n",
            "Iteration 78, loss = 0.04596397\n",
            "Iteration 79, loss = 0.04556515\n",
            "Iteration 80, loss = 0.04521770\n",
            "Iteration 81, loss = 0.04472908\n",
            "Iteration 82, loss = 0.04432644\n",
            "Iteration 83, loss = 0.04383276\n",
            "Iteration 84, loss = 0.04352237\n",
            "Iteration 85, loss = 0.04305509\n",
            "Iteration 86, loss = 0.04242863\n",
            "Iteration 87, loss = 0.04230536\n",
            "Iteration 88, loss = 0.04205662\n",
            "Iteration 89, loss = 0.04176218\n",
            "Iteration 90, loss = 0.04132914\n",
            "Iteration 91, loss = 0.04078044\n",
            "Iteration 92, loss = 0.04040543\n",
            "Iteration 93, loss = 0.04000923\n",
            "Iteration 94, loss = 0.03969159\n",
            "Iteration 95, loss = 0.03947584\n",
            "Iteration 96, loss = 0.03910275\n",
            "Iteration 97, loss = 0.03872021\n",
            "Iteration 98, loss = 0.03842636\n",
            "Iteration 99, loss = 0.03815810\n",
            "Iteration 100, loss = 0.03774429\n",
            "Iteration 101, loss = 0.03725931\n",
            "Iteration 102, loss = 0.03692878\n",
            "Iteration 103, loss = 0.03653229\n",
            "Iteration 104, loss = 0.03616949\n",
            "Iteration 105, loss = 0.03561202\n",
            "Iteration 106, loss = 0.03526036\n",
            "Iteration 107, loss = 0.03486384\n",
            "Iteration 108, loss = 0.03459594\n",
            "Iteration 109, loss = 0.03411416\n",
            "Iteration 110, loss = 0.03384671\n",
            "Iteration 111, loss = 0.03313506\n",
            "Iteration 112, loss = 0.03261774\n",
            "Iteration 113, loss = 0.03215607\n",
            "Iteration 114, loss = 0.03194948\n",
            "Iteration 115, loss = 0.03163134\n",
            "Iteration 116, loss = 0.03114524\n",
            "Iteration 117, loss = 0.03065345\n",
            "Iteration 118, loss = 0.03009793\n",
            "Iteration 119, loss = 0.02937727\n",
            "Iteration 120, loss = 0.02884746\n",
            "Iteration 121, loss = 0.02847386\n",
            "Iteration 122, loss = 0.02806247\n",
            "Iteration 123, loss = 0.02775881\n",
            "Iteration 124, loss = 0.02706087\n",
            "Iteration 125, loss = 0.02671547\n",
            "Iteration 126, loss = 0.02639173\n",
            "Iteration 127, loss = 0.02603017\n",
            "Iteration 128, loss = 0.02541113\n",
            "Iteration 129, loss = 0.02484537\n",
            "Iteration 130, loss = 0.02446036\n",
            "Iteration 131, loss = 0.02417707\n",
            "Iteration 132, loss = 0.02375306\n",
            "Iteration 133, loss = 0.02337537\n",
            "Iteration 134, loss = 0.02290429\n",
            "Iteration 135, loss = 0.02253257\n",
            "Iteration 136, loss = 0.02222864\n",
            "Iteration 137, loss = 0.02181013\n",
            "Iteration 138, loss = 0.02152268\n",
            "Iteration 139, loss = 0.02113655\n",
            "Iteration 140, loss = 0.02082535\n",
            "Iteration 141, loss = 0.02053139\n",
            "Iteration 142, loss = 0.02012490\n",
            "Iteration 143, loss = 0.01986258\n",
            "Iteration 144, loss = 0.01950625\n",
            "Iteration 145, loss = 0.01938646\n",
            "Iteration 146, loss = 0.01903761\n",
            "Iteration 147, loss = 0.01871204\n",
            "Iteration 148, loss = 0.01848207\n",
            "Iteration 149, loss = 0.01813505\n",
            "Iteration 150, loss = 0.01771546\n",
            "Iteration 151, loss = 0.01749526\n",
            "Iteration 152, loss = 0.01724812\n",
            "Iteration 153, loss = 0.01703880\n",
            "Iteration 154, loss = 0.01676046\n",
            "Iteration 155, loss = 0.01665066\n",
            "Iteration 156, loss = 0.01644330\n",
            "Iteration 157, loss = 0.01618816\n",
            "Iteration 158, loss = 0.01585703\n",
            "Iteration 159, loss = 0.01577873\n",
            "Iteration 160, loss = 0.01553919\n",
            "Iteration 161, loss = 0.01532266\n",
            "Iteration 162, loss = 0.01512082\n",
            "Iteration 163, loss = 0.01480862\n",
            "Iteration 164, loss = 0.01464228\n",
            "Iteration 165, loss = 0.01449273\n",
            "Iteration 166, loss = 0.01423565\n",
            "Iteration 167, loss = 0.01400320\n",
            "Iteration 168, loss = 0.01387666\n",
            "Iteration 169, loss = 0.01359032\n",
            "Iteration 170, loss = 0.01345689\n",
            "Iteration 171, loss = 0.01326225\n",
            "Iteration 172, loss = 0.01310095\n",
            "Iteration 173, loss = 0.01291398\n",
            "Iteration 174, loss = 0.01276568\n",
            "Iteration 175, loss = 0.01265964\n",
            "Iteration 176, loss = 0.01253172\n",
            "Iteration 177, loss = 0.01235105\n",
            "Iteration 178, loss = 0.01218449\n",
            "Iteration 179, loss = 0.01200614\n",
            "Iteration 180, loss = 0.01187716\n",
            "Iteration 181, loss = 0.01173900\n",
            "Iteration 182, loss = 0.01158741\n",
            "Iteration 183, loss = 0.01144055\n",
            "Iteration 184, loss = 0.01130499\n",
            "Iteration 185, loss = 0.01117727\n",
            "Iteration 186, loss = 0.01107103\n",
            "Iteration 187, loss = 0.01099369\n",
            "Iteration 188, loss = 0.01080114\n",
            "Iteration 189, loss = 0.01068281\n",
            "Iteration 190, loss = 0.01056407\n",
            "Iteration 191, loss = 0.01037496\n",
            "Iteration 192, loss = 0.01024973\n",
            "Iteration 193, loss = 0.01007307\n",
            "Iteration 194, loss = 0.00992897\n",
            "Iteration 195, loss = 0.00982677\n",
            "Iteration 196, loss = 0.00977030\n",
            "Iteration 197, loss = 0.00958833\n",
            "Iteration 198, loss = 0.00951064\n",
            "Iteration 199, loss = 0.00927532\n",
            "Iteration 200, loss = 0.00921235\n",
            "Iteration 201, loss = 0.00910790\n",
            "Iteration 202, loss = 0.00899057\n",
            "Iteration 203, loss = 0.00883792\n",
            "Iteration 204, loss = 0.00876789\n",
            "Iteration 205, loss = 0.00870083\n",
            "Iteration 206, loss = 0.00855402\n",
            "Iteration 207, loss = 0.00842970\n",
            "Iteration 208, loss = 0.00838180\n",
            "Iteration 209, loss = 0.00825157\n",
            "Iteration 210, loss = 0.00816712\n",
            "Iteration 211, loss = 0.00806047\n",
            "Iteration 212, loss = 0.00798081\n",
            "Iteration 213, loss = 0.00785080\n",
            "Iteration 214, loss = 0.00778727\n",
            "Iteration 215, loss = 0.00774010\n",
            "Iteration 216, loss = 0.00762698\n",
            "Iteration 217, loss = 0.00752896\n",
            "Iteration 218, loss = 0.00745309\n",
            "Iteration 219, loss = 0.00739735\n",
            "Iteration 220, loss = 0.00726618\n",
            "Iteration 221, loss = 0.00723835\n",
            "Iteration 222, loss = 0.00719979\n",
            "Iteration 223, loss = 0.00711708\n",
            "Iteration 224, loss = 0.00700162\n",
            "Iteration 225, loss = 0.00693507\n",
            "Iteration 226, loss = 0.00686913\n",
            "Iteration 227, loss = 0.00680336\n",
            "Iteration 228, loss = 0.00671843\n",
            "Iteration 229, loss = 0.00660370\n",
            "Iteration 230, loss = 0.00652561\n",
            "Iteration 231, loss = 0.00648469\n",
            "Iteration 232, loss = 0.00641150\n",
            "Iteration 233, loss = 0.00636355\n",
            "Iteration 234, loss = 0.00632159\n",
            "Iteration 235, loss = 0.00626667\n",
            "Iteration 236, loss = 0.00620483\n",
            "Iteration 237, loss = 0.00615074\n",
            "Iteration 238, loss = 0.00608533\n",
            "Iteration 239, loss = 0.00604639\n",
            "Iteration 240, loss = 0.00596981\n",
            "Training loss did not improve more than tol=0.000100 for 10 consecutive epochs. Stopping.\n"
          ]
        },
        {
          "output_type": "execute_result",
          "data": {
            "text/plain": [
              "MLPClassifier(activation='tanh', hidden_layer_sizes=(20, 5),\n",
              "              learning_rate_init=0.003, max_iter=500, verbose=True)"
            ]
          },
          "metadata": {},
          "execution_count": 177
        }
      ]
    },
    {
      "cell_type": "markdown",
      "source": [
        "**EVALUACION**"
      ],
      "metadata": {
        "id": "Zbu9F_Z-rhaf"
      }
    },
    {
      "cell_type": "markdown",
      "source": [
        "Para este ejercicio, en redes neuronales no aplica el gráfico de **visualización de parámetros** (#1)."
      ],
      "metadata": {
        "id": "dZfwnL9L_Lfa"
      }
    },
    {
      "cell_type": "markdown",
      "source": [
        "**MÉTRICAS SOBRE EL CONJUNTO DE TRAINING**"
      ],
      "metadata": {
        "id": "0QJE1i4IsC5Z"
      }
    },
    {
      "cell_type": "code",
      "source": [
        "# 3\n",
        "\n",
        "print_classification_report(y_train, modelo.predict(X_train))"
      ],
      "metadata": {
        "colab": {
          "base_uri": "https://localhost:8080/"
        },
        "id": "w0OZJxiXsDvs",
        "outputId": "281c65ee-bec1-410c-c30a-6b2c72dee37d"
      },
      "execution_count": null,
      "outputs": [
        {
          "output_type": "stream",
          "name": "stdout",
          "text": [
            "              precision    recall  f1-score   support\n",
            "\n",
            "           0       1.00      1.00      1.00       284\n",
            "           1       1.00      1.00      1.00       171\n",
            "\n",
            "    accuracy                           1.00       455\n",
            "   macro avg       1.00      1.00      1.00       455\n",
            "weighted avg       1.00      1.00      1.00       455\n",
            "\n"
          ]
        }
      ]
    },
    {
      "cell_type": "markdown",
      "source": [
        "**MÉTRICAS SOBRE EL CONJUNTO DE TESTING**"
      ],
      "metadata": {
        "id": "cAA4w9tasD0g"
      }
    },
    {
      "cell_type": "code",
      "source": [
        "# 3\n",
        "\n",
        "print_classification_report(y_test, modelo.predict(X_test))"
      ],
      "metadata": {
        "colab": {
          "base_uri": "https://localhost:8080/"
        },
        "id": "WnKfOLAWrhgB",
        "outputId": "833bccd2-9a12-4c95-cd09-c146bd34ab71"
      },
      "execution_count": null,
      "outputs": [
        {
          "output_type": "stream",
          "name": "stdout",
          "text": [
            "              precision    recall  f1-score   support\n",
            "\n",
            "           0       0.99      0.99      0.99        73\n",
            "           1       0.98      0.98      0.98        41\n",
            "\n",
            "    accuracy                           0.98       114\n",
            "   macro avg       0.98      0.98      0.98       114\n",
            "weighted avg       0.98      0.98      0.98       114\n",
            "\n"
          ]
        }
      ]
    },
    {
      "cell_type": "markdown",
      "source": [
        "**MATRIZ DE CONFUSIÓN**"
      ],
      "metadata": {
        "id": "UQgjzf7tsJ0i"
      }
    },
    {
      "cell_type": "code",
      "source": [
        "# 2\n",
        "\n",
        "visualizar_confusion_matrix(y_test, modelo.predict(X_test))"
      ],
      "metadata": {
        "colab": {
          "base_uri": "https://localhost:8080/",
          "height": 297
        },
        "id": "500g5hJUsMcM",
        "outputId": "d4b4f3d8-a5e9-430f-aad3-3161c521a624"
      },
      "execution_count": null,
      "outputs": [
        {
          "output_type": "display_data",
          "data": {
            "text/plain": [
              "<Figure size 432x288 with 2 Axes>"
            ],
            "image/png": "[encoded data removed]"
          },
          "metadata": {
            "needs_background": "light"
          }
        }
      ]
    },
    {
      "cell_type": "markdown",
      "source": [
        "Se observa un modelo balanceado en el cual si bien hay una clase mayoritaria, la misma no duplica a la clase minoritaria.\n",
        "\n",
        "El modelo, por lo que demuestra el gráfico, casi no detecta valores Falsos Positivos ni Falsos Negativos."
      ],
      "metadata": {
        "id": "mhYXW6Vct7Ic"
      }
    },
    {
      "cell_type": "markdown",
      "source": [
        "**CURVA DE ROC Y DE PRECISION-RECALL**"
      ],
      "metadata": {
        "id": "-4ue09ZTsPrp"
      }
    },
    {
      "cell_type": "code",
      "source": [
        "# 4\n",
        "\n",
        "visualizar_curva_ROC(modelo, X, y)"
      ],
      "metadata": {
        "colab": {
          "base_uri": "https://localhost:8080/",
          "height": 608
        },
        "id": "nGG5Fd3EsQJY",
        "outputId": "b02804dc-cc68-4600-a47f-a7bb6c74743a"
      },
      "execution_count": null,
      "outputs": [
        {
          "output_type": "stream",
          "name": "stderr",
          "text": [
            "/usr/local/lib/python3.7/dist-packages/sklearn/base.py:444: UserWarning: X has feature names, but MLPClassifier was fitted without feature names\n",
            "  f\"X has feature names, but {self.__class__.__name__} was fitted without\"\n"
          ]
        },
        {
          "output_type": "display_data",
          "data": {
            "text/plain": [
              "<Figure size 432x288 with 1 Axes>"
            ],
            "image/png": "[encoded data removed]"
          },
          "metadata": {
            "needs_background": "light"
          }
        },
        {
          "output_type": "display_data",
          "data": {
            "text/plain": [
              "<Figure size 432x288 with 1 Axes>"
            ],
            "image/png": "[encoded data removed]"
          },
          "metadata": {
            "needs_background": "light"
          }
        }
      ]
    },
    {
      "cell_type": "markdown",
      "source": [
        "En este caso, la curva de área de ROC demuestra que el modelo es bueno, es decir, el mismo es robusto ante cambios y se lo clasifica como un buen modelo (superior a 0.7).\n",
        "\n",
        "\n",
        "El modelo siempre busca tener un True Positive Rate alto (eje Y) y un False Positive Rate bajo (eje X)."
      ],
      "metadata": {
        "id": "BKhmxLnRuite"
      }
    },
    {
      "cell_type": "markdown",
      "source": [
        "**FRONTERA DE DECISIÓN DE DOS DIMENSIONES**"
      ],
      "metadata": {
        "id": "obOurxUjsWw_"
      }
    },
    {
      "cell_type": "markdown",
      "source": [
        "No aplica para este caso por ser redes neuronales (#5)."
      ],
      "metadata": {
        "id": "IRBOP64MB864"
      }
    },
    {
      "cell_type": "markdown",
      "source": [
        "**FUNCION DE TRANSFERENCIA DE DOS DIMENSIONES**"
      ],
      "metadata": {
        "id": "azjgBLdBsd7h"
      }
    },
    {
      "cell_type": "markdown",
      "source": [
        "No aplica para este caso por ser redes neuronales (#5)."
      ],
      "metadata": {
        "id": "8BdZr89BCGOx"
      }
    },
    {
      "cell_type": "markdown",
      "source": [
        "La **curva logística** del punt #6 con la función AA_utils.visualizar_curva_logistica no aplica en este ejercicio debido a que el modelo cuenta con mas de una features en la variable X."
      ],
      "metadata": {
        "id": "fO5s8yfV_61o"
      }
    },
    {
      "cell_type": "markdown",
      "source": [
        "**CURVA DE ERROR DE ENTRENAMIENTO**"
      ],
      "metadata": {
        "id": "FaPnvj59sgmR"
      }
    },
    {
      "cell_type": "code",
      "source": [
        "visualizar_curva_error_entrenamiento(modelo)"
      ],
      "metadata": {
        "colab": {
          "base_uri": "https://localhost:8080/",
          "height": 279
        },
        "id": "4RbenFr2sYfv",
        "outputId": "46296abd-cf7a-42bb-998b-1a785cd2d1b1"
      },
      "execution_count": null,
      "outputs": [
        {
          "output_type": "display_data",
          "data": {
            "text/plain": [
              "<Figure size 432x288 with 1 Axes>"
            ],
            "image/png": "[encoded data removed]"
          },
          "metadata": {
            "needs_background": "light"
          }
        }
      ]
    },
    {
      "cell_type": "markdown",
      "source": [
        "Las curvas de entrenamiento permiten ver cómo se comporta el modelo (error) en cada iteración."
      ],
      "metadata": {
        "id": "UMKzxzPgfhYW"
      }
    },
    {
      "cell_type": "markdown",
      "source": [
        "La **curva logística** del punto #6 con la función AA_utils.visualizar_curva_logistica no aplica en este ejercicio debido a que el modelo cuenta con mas de una features en la variable X."
      ],
      "metadata": {
        "id": "rYFM8zBv-RsG"
      }
    },
    {
      "cell_type": "markdown",
      "source": [
        "# **REGRESIÓN LOGÍSTICA**"
      ],
      "metadata": {
        "id": "fZz0YLbHnUp7"
      }
    },
    {
      "cell_type": "markdown",
      "source": [
        "**MODELADO**"
      ],
      "metadata": {
        "id": "lJajO61woHCV"
      }
    },
    {
      "cell_type": "code",
      "source": [
        "modelo_2 = LogisticRegression()\n",
        "modelo_2.fit(X_train, y_train)"
      ],
      "metadata": {
        "colab": {
          "base_uri": "https://localhost:8080/"
        },
        "id": "4n1nM1mJoHNn",
        "outputId": "fd743bcf-cbc6-4d9f-f1dc-9c57540a3e17"
      },
      "execution_count": null,
      "outputs": [
        {
          "output_type": "execute_result",
          "data": {
            "text/plain": [
              "LogisticRegression()"
            ]
          },
          "metadata": {},
          "execution_count": 183
        }
      ]
    },
    {
      "cell_type": "markdown",
      "source": [
        "EVALUACION"
      ],
      "metadata": {
        "id": "BIO7yx8Koop_"
      }
    },
    {
      "cell_type": "markdown",
      "source": [
        "MÉTRICAS SOBRE EL CONJUNTO DE TRAINING"
      ],
      "metadata": {
        "id": "yh8AQ_Xkoos_"
      }
    },
    {
      "cell_type": "code",
      "source": [
        "# 3\n",
        "\n",
        "print_classification_report(y_train, modelo_2.predict(X_train))"
      ],
      "metadata": {
        "colab": {
          "base_uri": "https://localhost:8080/"
        },
        "id": "nBMWiMWXoo6P",
        "outputId": "a9222845-0b40-4467-c5f4-250c60fae678"
      },
      "execution_count": null,
      "outputs": [
        {
          "output_type": "stream",
          "name": "stdout",
          "text": [
            "              precision    recall  f1-score   support\n",
            "\n",
            "           0       0.99      1.00      0.99       284\n",
            "           1       1.00      0.98      0.99       171\n",
            "\n",
            "    accuracy                           0.99       455\n",
            "   macro avg       0.99      0.99      0.99       455\n",
            "weighted avg       0.99      0.99      0.99       455\n",
            "\n"
          ]
        }
      ]
    },
    {
      "cell_type": "markdown",
      "source": [
        "MÉTRICAS SOBRE EL CONJUNTO DE TESTING"
      ],
      "metadata": {
        "id": "8beNKCDZovTX"
      }
    },
    {
      "cell_type": "code",
      "source": [
        "# 3\n",
        "\n",
        "print_classification_report(y_test, modelo_2.predict(X_test))"
      ],
      "metadata": {
        "colab": {
          "base_uri": "https://localhost:8080/"
        },
        "id": "0G82G18aopCu",
        "outputId": "fd8ff6f2-f1ff-4bb9-cbb6-f98c94462a43"
      },
      "execution_count": null,
      "outputs": [
        {
          "output_type": "stream",
          "name": "stdout",
          "text": [
            "              precision    recall  f1-score   support\n",
            "\n",
            "           0       0.99      1.00      0.99        73\n",
            "           1       1.00      0.98      0.99        41\n",
            "\n",
            "    accuracy                           0.99       114\n",
            "   macro avg       0.99      0.99      0.99       114\n",
            "weighted avg       0.99      0.99      0.99       114\n",
            "\n"
          ]
        }
      ]
    },
    {
      "cell_type": "markdown",
      "source": [
        "MATRIZ DE CONFUSIÓN"
      ],
      "metadata": {
        "id": "9r6VgoJWoyEY"
      }
    },
    {
      "cell_type": "code",
      "source": [
        "# 2\n",
        "\n",
        "visualizar_confusion_matrix(y_test, modelo_2.predict(X_test))"
      ],
      "metadata": {
        "colab": {
          "base_uri": "https://localhost:8080/",
          "height": 297
        },
        "id": "VzdgDnAZopMX",
        "outputId": "54a371c0-6f33-4ad2-d426-d5907d191d66"
      },
      "execution_count": null,
      "outputs": [
        {
          "output_type": "display_data",
          "data": {
            "text/plain": [
              "<Figure size 432x288 with 2 Axes>"
            ],
            "image/png": "[encoded data removed]"
          },
          "metadata": {
            "needs_background": "light"
          }
        }
      ]
    },
    {
      "cell_type": "markdown",
      "source": [
        "El modelo, por lo que demuestra el gráfico, casi no detecta valores Falsos Positivos ni Falsos Negativos."
      ],
      "metadata": {
        "id": "1hh8v9-XEP45"
      }
    },
    {
      "cell_type": "markdown",
      "source": [
        "CURVA DE ROC Y DE PRECISION-RECALL"
      ],
      "metadata": {
        "id": "Avz8dJvoo37S"
      }
    },
    {
      "cell_type": "code",
      "source": [
        "# 4\n",
        "\n",
        "visualizar_curva_ROC(modelo_2, X, y)"
      ],
      "metadata": {
        "colab": {
          "base_uri": "https://localhost:8080/",
          "height": 608
        },
        "id": "cEWSbxu-o5Je",
        "outputId": "51a7de0b-03c2-4315-83c6-ae8ccafa029b"
      },
      "execution_count": null,
      "outputs": [
        {
          "output_type": "stream",
          "name": "stderr",
          "text": [
            "/usr/local/lib/python3.7/dist-packages/sklearn/base.py:444: UserWarning: X has feature names, but LogisticRegression was fitted without feature names\n",
            "  f\"X has feature names, but {self.__class__.__name__} was fitted without\"\n"
          ]
        },
        {
          "output_type": "display_data",
          "data": {
            "text/plain": [
              "<Figure size 432x288 with 1 Axes>"
            ],
            "image/png": "[encoded data removed]"
          },
          "metadata": {
            "needs_background": "light"
          }
        },
        {
          "output_type": "display_data",
          "data": {
            "text/plain": [
              "<Figure size 432x288 with 1 Axes>"
            ],
            "image/png": "[encoded data removed]"
          },
          "metadata": {
            "needs_background": "light"
          }
        }
      ]
    },
    {
      "cell_type": "markdown",
      "source": [
        "El área de la curva de ROC no se comporta correctamente (mal modelo) dado que apenas alcanza el valor de 0.50.\n",
        "\n",
        "En conclusión, **éste es un modelo que no se comporta como el de redes neuronales dado que este es un mal modelo y el de redes neuronales, si bien no era un muy buen modelo, es clasificado como bueno**."
      ],
      "metadata": {
        "id": "MTMwtmOKkzLc"
      }
    },
    {
      "cell_type": "markdown",
      "source": [
        "**VISUALIZO LOS PARÁMETROS**"
      ],
      "metadata": {
        "id": "jIzi60ggo7V-"
      }
    },
    {
      "cell_type": "code",
      "source": [
        "# 1\n",
        "\n",
        "visualizar_parametros(modelo_2, mostrar_bias=False, feature_names=X.columns, target_name=y.name)"
      ],
      "metadata": {
        "colab": {
          "base_uri": "https://localhost:8080/",
          "height": 374
        },
        "id": "21qBajCLo8Tu",
        "outputId": "e635ef8f-7066-4154-b6f4-f76c0615e424"
      },
      "execution_count": null,
      "outputs": [
        {
          "output_type": "display_data",
          "data": {
            "text/plain": [
              "<Figure size 432x288 with 1 Axes>"
            ],
            "image/png": "[encoded data removed]"
          },
          "metadata": {
            "needs_background": "light"
          }
        }
      ]
    },
    {
      "cell_type": "markdown",
      "source": [
        "**FRONTERA DE DECISIÓN DE DOS DIMENSIONES**"
      ],
      "metadata": {
        "id": "3SDBSI3Ao-G3"
      }
    },
    {
      "cell_type": "markdown",
      "source": [
        "Dado que la variable X tienes muchas columnas, no aplica dicha gráfica (#5)."
      ],
      "metadata": {
        "id": "5D3oGQf-CZWY"
      }
    },
    {
      "cell_type": "markdown",
      "source": [
        "**FUNCION DE TRANSFERENCIA DE DOS DIMENSIONES**"
      ],
      "metadata": {
        "id": "QjKKvBGDpHYo"
      }
    },
    {
      "cell_type": "markdown",
      "source": [
        "Dado que la variable X tienes muchas columnas, no aplica dicha gráfica (#5)."
      ],
      "metadata": {
        "id": "ykRF81QXCk6p"
      }
    },
    {
      "cell_type": "markdown",
      "source": [
        "La **curva logística** del punto #6 con la función AA_utils.visualizar_curva_logistica no aplica en este ejercicio debido a que el modelo cuenta con mas de una features en la variable X."
      ],
      "metadata": {
        "id": "IXHuQolo_4gB"
      }
    }
  ]
}