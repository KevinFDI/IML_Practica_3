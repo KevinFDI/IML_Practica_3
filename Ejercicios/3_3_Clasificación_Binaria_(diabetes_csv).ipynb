{
  "nbformat": 4,
  "nbformat_minor": 0,
  "metadata": {
    "colab": {
      "provenance": [],
      "collapsed_sections": [
        "ViBKTjV3rSAq",
        "qtzuPg9Rs1IX"
      ]
    },
    "kernelspec": {
      "name": "python3",
      "display_name": "Python 3"
    },
    "language_info": {
      "name": "python"
    }
  },
  "cells": [
    {
      "cell_type": "markdown",
      "source": [
        "**CONSIGNAS PARA TODOS LOS EJERCICIOS:**\n",
        "\n",
        "1.   En el caso de utilizar una Regresión Logística grafique sus parámetros con la función AA_utils.visualizar_parametros\n",
        "2.   Grafique e interprete la matriz de confusión de la predicción sobre el set de test con la función AA_utils.visualizar_confusion_matrix\n",
        "3.   Elabore un reporte de métricas tanto para la predicción de train como para la de test con la función AA_utils.print_classification_report\n",
        "4.   En los casos de clasificación binaria grafique e interprete la curva ROC con la función AA_utils.visualizar_curva_ROC\n",
        "5.   En los caso de clasificación de dos variables grafique la función de transferencia y la frontera de decisión con las funciones AA_utils.visualizar_funcion_transferencia_2D y AA_utils.visualizar_frontera_de_desicion_2D\n",
        "6.   En los casos de clasificación binaria de una variable grafique la curva logística con la función AA_utils.visualizar_curva_logistica"
      ],
      "metadata": {
        "id": "qRhig4mNHtN5"
      }
    },
    {
      "cell_type": "markdown",
      "source": [
        "# **DIABETES**"
      ],
      "metadata": {
        "id": "nEhVW0wzH0CR"
      }
    },
    {
      "cell_type": "markdown",
      "source": [
        "Clasificación Binaria: Compare modelos de Regresión Logística y Redes Neuronales para el siguiente dataset:\n",
        "*   Diabetes.csv. El archivo posee 2000 registros con información de análisis clínicos de pacientes, indicando si poseen o no diabetes gestacional.\n",
        "\n",
        "El código “ejemplo_clasificacion_binaria_dos_variables_red_neuronal.py” posee un ejemplo de cómo realizar esta tarea.\n"
      ],
      "metadata": {
        "id": "E_0-mw2oH2Dg"
      }
    },
    {
      "cell_type": "code",
      "execution_count": 1,
      "metadata": {
        "id": "XVixc69UvoIM"
      },
      "outputs": [],
      "source": [
        "import pandas as pd\n",
        "import numpy as np\n",
        "import matplotlib.pyplot as plt\n",
        "import itertools\n",
        "\n",
        "from mpl_toolkits.axes_grid1 import make_axes_locatable\n",
        "from sklearn.metrics import confusion_matrix, roc_curve, roc_auc_score, precision_recall_curve, classification_report\n",
        "\n",
        "from sklearn.model_selection import train_test_split\n",
        "from sklearn.preprocessing import StandardScaler\n",
        "from sklearn.neural_network import MLPClassifier\n",
        "\n",
        "from sklearn.linear_model import LogisticRegression"
      ]
    },
    {
      "cell_type": "markdown",
      "source": [
        "# **AA UTILS**"
      ],
      "metadata": {
        "id": "ViBKTjV3rSAq"
      }
    },
    {
      "cell_type": "code",
      "source": [
        "def if_dataframe_to_numpy(data):\n",
        "    return data.to_numpy() if isinstance(data, pd.DataFrame) or isinstance(data, pd.Series) else data\n",
        "\n",
        "def plot_2d(modelo, X, X_train, X_test, y_train, y_test, boundry_function):\n",
        "\n",
        "    assert X.shape[1] == 2, f\"X debe tener solo dos variables de entrada (tiene {X.shape[1]})\"\n",
        "\n",
        "    X = if_dataframe_to_numpy(X)\n",
        "    X_train = if_dataframe_to_numpy(X_train)\n",
        "    X_test = if_dataframe_to_numpy(X_test)\n",
        "\n",
        "    plt.figure()\n",
        "    x_min, x_max = X[:, 0].min() - 1, X[:, 0].max() + 1\n",
        "    y_min, y_max = X[:, 1].min() - 1, X[:, 1].max() + 1\n",
        "    xx, yy = np.meshgrid(np.arange(x_min, x_max, 0.02),\n",
        "                         np.arange(y_min, y_max, 0.02))\n",
        "\n",
        "    Z = np.c_[xx.ravel(), yy.ravel()]\n",
        "    Z = boundry_function(modelo, Z)\n",
        "    Z = Z.reshape(xx.shape)\n",
        "\n",
        "    plt.contourf(xx, yy, Z, alpha=0.3)\n",
        "    plt.colorbar()\n",
        "\n",
        "    plt.scatter(X_train[:, 0], X_train[:, 1], marker=\"o\", c=y_train, label='Training')\n",
        "    plt.scatter(X_test[:, 0], X_test[:, 1], marker=\"+\", c=y_test, s=80, label='Testing')\n",
        "    plt.legend()\n",
        "    plt.show()\n",
        "\n",
        "def print_classification_report(y_true, y_pred):\n",
        "    print(classification_report(y_true, y_pred))\n",
        "\n",
        "def visualizar_parametros(modelo, mostrar_bias, feature_names=[], target_name='target'):\n",
        "    parametros = pd.DataFrame(modelo.coef_, columns=feature_names if len(feature_names) > 0 else range(modelo.coef_.shape[1]))\n",
        "\n",
        "    if mostrar_bias:\n",
        "        parametros['bias'] = modelo.intercept_\n",
        "\n",
        "    parametros.T.plot(kind='bar')\n",
        "\n",
        "    if hasattr(modelo, 'classes_'):\n",
        "        if len(modelo.classes_) <= 2:\n",
        "            plt.legend([target_name])\n",
        "        else:\n",
        "            plt.legend(list(modelo.classes_))\n",
        "    else:\n",
        "        plt.legend([target_name])\n",
        "\n",
        "    plt.show()\n",
        "\n",
        "def visualizar_curva_logistica(modelo, X, y, feature_name='target'):\n",
        "\n",
        "    assert X.shape[1] == 1, f\"X debe tener solo una variable de entrada (tiene {X.shape[1]})\"\n",
        "\n",
        "    X = if_dataframe_to_numpy(X)\n",
        "\n",
        "    plt.figure()\n",
        "    plt.scatter(X, y, c=y, s=50)\n",
        "    plt.xlabel(feature_name)\n",
        "    plt.grid()\n",
        "\n",
        "    x_min, x_max = X[:, 0].min() - 1, X[:, 0].max() + 1\n",
        "    x_graph = np.linspace(x_min, x_max)\n",
        "    y_graph = modelo.predict_proba(x_graph.reshape(-1, 1))[:, 1]\n",
        "    plt.plot(x_graph, y_graph)\n",
        "    plt.show()\n",
        "\n",
        "def visualizar_frontera_de_desicion_2D(modelo, X, X_train, X_test, y_train, y_test):\n",
        "    plot_2d(modelo, X, X_train, X_test, y_train, y_test, lambda modelo, Z: modelo.predict(Z))\n",
        "\n",
        "def visualizar_funcion_transferencia_2D(modelo, X, X_train, X_test, y_train, y_test):\n",
        "\n",
        "    if hasattr(modelo, 'predict_proba') and callable(getattr(modelo, 'predict_proba')):\n",
        "        plot_2d(modelo, X, X_train, X_test, y_train, y_test, lambda modelo, Z: modelo.predict_proba(Z)[:, 1])\n",
        "    else:\n",
        "        raise ValueError(\"no se puede visualizar funcion de transferencia\")\n",
        "\n",
        "def visualizar_confusion_matrix(real_target, pred_target,\n",
        "                                classes=[],\n",
        "                                normalize=False,\n",
        "                                title='Matriz de confusión',\n",
        "                                cmap=plt.cm.Blues):\n",
        "\n",
        "    if (len(classes) == 0):\n",
        "        classes = [str(i) for i in range(int(max(real_target) + 1))]  # nombres de clases consecutivos\n",
        "\n",
        "    cm = confusion_matrix(real_target, pred_target)\n",
        "\n",
        "    plt.figure()\n",
        "    plt.imshow(cm, interpolation='nearest', cmap=cmap)\n",
        "    plt.title(title)\n",
        "    plt.colorbar()\n",
        "    tick_marks = np.arange(len(classes))\n",
        "    plt.xticks(tick_marks, classes, rotation=45)\n",
        "    plt.yticks(tick_marks, classes)\n",
        "\n",
        "    fmt = '.2f' if normalize else 'd'\n",
        "    thresh = cm.max() / 2.\n",
        "    for i, j in itertools.product(range(cm.shape[0]), range(cm.shape[1])):\n",
        "        plt.text(j, i, format(cm[i, j], fmt),\n",
        "                 horizontalalignment=\"center\",\n",
        "                 color=\"white\" if cm[i, j] > thresh else \"black\", size=16)\n",
        "\n",
        "    plt.ylabel('True label')\n",
        "    plt.xlabel('Predicted label')\n",
        "    plt.show()\n",
        "\n",
        "def visualizar_curva_ROC(modelo, X, y):\n",
        "\n",
        "    assert len(set(y)) <= 2, f\"El dataset debe ser binario (hay {len(set(y))}) clases\"\n",
        "\n",
        "    y_score = modelo.predict_proba(X)[:, 1]  # se queda con la clase 1\n",
        "\n",
        "    false_positive_rate, true_positive_rate, threshold = roc_curve(y, y_score)\n",
        "\n",
        "    precision, recall, _ = precision_recall_curve(y, y_score)\n",
        "\n",
        "    # ROC\n",
        "    plt.figure()\n",
        "    plt.title('ROC. Receiver Operating Characteristic')\n",
        "    plt.plot(false_positive_rate, true_positive_rate, label='ROC curve (area = %0.2f)' % roc_auc_score(y, y_score))\n",
        "    plt.plot([0, 1], ls=\"--\")\n",
        "    plt.plot([0, 0], [1, 0], c=\".7\"), plt.plot([1, 1], c=\".7\")\n",
        "    plt.legend(loc=\"lower right\")\n",
        "    plt.ylabel('True Positive Rate (Recall)')\n",
        "    plt.xlabel('False Positive Rate (1- Especificidad)')\n",
        "    plt.show()\n",
        "\n",
        "    # precision-recall curve\n",
        "    plt.figure()\n",
        "    plt.step(recall, precision, color='b', alpha=0.2, where='post')\n",
        "    plt.fill_between(recall, precision, step='post', alpha=0.2, color='b')\n",
        "    plt.xlabel('Recall')\n",
        "    plt.ylabel('Precision')\n",
        "    plt.ylim([0.0, 1.05])\n",
        "    plt.xlim([0.0, 1.0])\n",
        "    plt.title('Precision-Recall curve')\n",
        "    plt.show()\n",
        "\n",
        "def elegir_imagen_al_azar(X, pixeles_ancho, pixeles_alto):\n",
        "    indice = np.random.randint(0, X.shape[0])\n",
        "    img_i = np.reshape(X[indice, :], (pixeles_ancho, pixeles_alto))\n",
        "    plt.figure()\n",
        "    plt.imshow(img_i, 'gray')\n",
        "    plt.title('Dato aleatorio')\n",
        "    plt.show()\n",
        "    return X[indice].reshape(1, -1), indice\n",
        "\n",
        "def visualizar_parametros_para_imagenes(modelo, cantidad_de_clases, pixeles_ancho=28, pixeles_alto=28):\n",
        "\n",
        "    if hasattr(modelo, 'coef_'):\n",
        "        w = modelo.coef_\n",
        "    elif hasattr(modelo, 'coefs_') and (modelo.coefs_) == 1:\n",
        "        w = modelo.coefs_[0]\n",
        "    else:\n",
        "        raise \"para visualizar los parametros de la red es necesario tener cero capas ocultas\"\n",
        "\n",
        "    colorbar_max = np.abs(np.max(w))\n",
        "    w_r = np.reshape(w, (cantidad_de_clases, pixeles_ancho, pixeles_alto))\n",
        "    fig, ax = plt.subplots(2, cantidad_de_clases // 2)\n",
        "    plt.suptitle('Coeficientes aprendidos para cada clase, \\nagrupados en forma matricial de 28x28')\n",
        "    index = 0\n",
        "    for row in range(0, 2):\n",
        "        for col in range(0, cantidad_de_clases // 2):\n",
        "            colorbar_max = max(np.abs(np.max(w_r[index, :, :])), np.abs(np.min(w_r[index, :, :])))\n",
        "            ax_im = ax[row][col].imshow(w_r[index, :, :], cmap='seismic', vmin=-colorbar_max, vmax=colorbar_max)\n",
        "            ax[row][col].get_xaxis().set_visible(False)\n",
        "            ax[row][col].get_yaxis().set_visible(False)\n",
        "            ax[row][col].set_title(str(index))\n",
        "            divider = make_axes_locatable(ax[row][col])\n",
        "            cax = divider.append_axes(\"right\", size=\"5%\", pad=0.05)\n",
        "\n",
        "            fig.colorbar(ax_im, ax=ax[row][col], cax=cax)\n",
        "            index += 1\n",
        "    plt.show()\n",
        "\n",
        "def visualizar_ajuste_por_regresion(modelo, X_train, X_test, y_train, y_test,\n",
        "                                    feature_name='X', target_name='target'):\n",
        "    plt.scatter(X_train, y_train, c='blue', s=40, alpha=0.9, label='Training')\n",
        "    plt.scatter(X_test, y_test, c='red', s=50, alpha=0.5, label='Testing')\n",
        "    plt.xlabel(feature_name)\n",
        "    plt.ylabel(target_name)\n",
        "    plt.legend()\n",
        "    plt.grid()\n",
        "\n",
        "    X_train = if_dataframe_to_numpy(X_train)\n",
        "    X_test = if_dataframe_to_numpy(X_test)\n",
        "\n",
        "    x_max = max(max(X_train), max(X_test))\n",
        "    x_min = min(min(X_train), min(X_test))\n",
        "\n",
        "    x_plot = np.linspace(x_min, x_max, 100)\n",
        "    y_plot = modelo.predict(x_plot.reshape(-1, 1))\n",
        "    plt.plot(x_plot, y_plot, 'g--', linewidth=5)\n",
        "    plt.show()\n",
        "\n",
        "def visualizar_curva_error_entrenamiento(modelo):\n",
        "    plt.plot(modelo.loss_curve_)\n",
        "    plt.xlabel('iterations')\n",
        "    plt.ylabel('loss')\n",
        "    plt.legend(['Train'])\n",
        "    plt.show()\n"
      ],
      "metadata": {
        "id": "bq7m9jn-rXE2"
      },
      "execution_count": 2,
      "outputs": []
    },
    {
      "cell_type": "markdown",
      "source": [
        "# **CARGA DE DATOS**"
      ],
      "metadata": {
        "id": "uKAo9WohreVg"
      }
    },
    {
      "cell_type": "code",
      "source": [
        "data = pd.read_csv(r\"https://raw.githubusercontent.com/KevinFDI/IML_Practica_3/main/Pr%C3%A1ctica/datasets/diabetes.csv\")"
      ],
      "metadata": {
        "id": "LPFGkg8Jrg7h"
      },
      "execution_count": 3,
      "outputs": []
    },
    {
      "cell_type": "code",
      "source": [
        "pd.DataFrame(data)"
      ],
      "metadata": {
        "colab": {
          "base_uri": "https://localhost:8080/",
          "height": 424
        },
        "id": "gXLmrQfo4Jk-",
        "outputId": "2187113d-a444-4845-d2be-5d2a5c15f847"
      },
      "execution_count": 4,
      "outputs": [
        {
          "output_type": "execute_result",
          "data": {
            "text/plain": [
              "      Pregnancies  Glucose  BloodPressure  SkinThickness  Insulin   BMI  \\\n",
              "0               2      138             62             35        0  33.6   \n",
              "1               0       84             82             31      125  38.2   \n",
              "2               0      145              0              0        0  44.2   \n",
              "3               0      135             68             42      250  42.3   \n",
              "4               1      139             62             41      480  40.7   \n",
              "...           ...      ...            ...            ...      ...   ...   \n",
              "1995            2       75             64             24       55  29.7   \n",
              "1996            8      179             72             42      130  32.7   \n",
              "1997            6       85             78              0        0  31.2   \n",
              "1998            0      129            110             46      130  67.1   \n",
              "1999            2       81             72             15       76  30.1   \n",
              "\n",
              "      DiabetesPedigreeFunction  Age  Clase  \n",
              "0                        0.127   47      1  \n",
              "1                        0.233   23      0  \n",
              "2                        0.630   31      1  \n",
              "3                        0.365   24      1  \n",
              "4                        0.536   21      0  \n",
              "...                        ...  ...    ...  \n",
              "1995                     0.370   33      0  \n",
              "1996                     0.719   36      1  \n",
              "1997                     0.382   42      0  \n",
              "1998                     0.319   26      1  \n",
              "1999                     0.547   25      0  \n",
              "\n",
              "[2000 rows x 9 columns]"
            ],
            "text/html": [
              "\n",
              "  <div id=\"df-049f821e-2988-4ea9-9f52-b3b7828bdeb8\">\n",
              "    <div class=\"colab-df-container\">\n",
              "      <div>\n",
              "<style scoped>\n",
              "    .dataframe tbody tr th:only-of-type {\n",
              "        vertical-align: middle;\n",
              "    }\n",
              "\n",
              "    .dataframe tbody tr th {\n",
              "        vertical-align: top;\n",
              "    }\n",
              "\n",
              "    .dataframe thead th {\n",
              "        text-align: right;\n",
              "    }\n",
              "</style>\n",
              "<table border=\"1\" class=\"dataframe\">\n",
              "  <thead>\n",
              "    <tr style=\"text-align: right;\">\n",
              "      <th></th>\n",
              "      <th>Pregnancies</th>\n",
              "      <th>Glucose</th>\n",
              "      <th>BloodPressure</th>\n",
              "      <th>SkinThickness</th>\n",
              "      <th>Insulin</th>\n",
              "      <th>BMI</th>\n",
              "      <th>DiabetesPedigreeFunction</th>\n",
              "      <th>Age</th>\n",
              "      <th>Clase</th>\n",
              "    </tr>\n",
              "  </thead>\n",
              "  <tbody>\n",
              "    <tr>\n",
              "      <th>0</th>\n",
              "      <td>2</td>\n",
              "      <td>138</td>\n",
              "      <td>62</td>\n",
              "      <td>35</td>\n",
              "      <td>0</td>\n",
              "      <td>33.6</td>\n",
              "      <td>0.127</td>\n",
              "      <td>47</td>\n",
              "      <td>1</td>\n",
              "    </tr>\n",
              "    <tr>\n",
              "      <th>1</th>\n",
              "      <td>0</td>\n",
              "      <td>84</td>\n",
              "      <td>82</td>\n",
              "      <td>31</td>\n",
              "      <td>125</td>\n",
              "      <td>38.2</td>\n",
              "      <td>0.233</td>\n",
              "      <td>23</td>\n",
              "      <td>0</td>\n",
              "    </tr>\n",
              "    <tr>\n",
              "      <th>2</th>\n",
              "      <td>0</td>\n",
              "      <td>145</td>\n",
              "      <td>0</td>\n",
              "      <td>0</td>\n",
              "      <td>0</td>\n",
              "      <td>44.2</td>\n",
              "      <td>0.630</td>\n",
              "      <td>31</td>\n",
              "      <td>1</td>\n",
              "    </tr>\n",
              "    <tr>\n",
              "      <th>3</th>\n",
              "      <td>0</td>\n",
              "      <td>135</td>\n",
              "      <td>68</td>\n",
              "      <td>42</td>\n",
              "      <td>250</td>\n",
              "      <td>42.3</td>\n",
              "      <td>0.365</td>\n",
              "      <td>24</td>\n",
              "      <td>1</td>\n",
              "    </tr>\n",
              "    <tr>\n",
              "      <th>4</th>\n",
              "      <td>1</td>\n",
              "      <td>139</td>\n",
              "      <td>62</td>\n",
              "      <td>41</td>\n",
              "      <td>480</td>\n",
              "      <td>40.7</td>\n",
              "      <td>0.536</td>\n",
              "      <td>21</td>\n",
              "      <td>0</td>\n",
              "    </tr>\n",
              "    <tr>\n",
              "      <th>...</th>\n",
              "      <td>...</td>\n",
              "      <td>...</td>\n",
              "      <td>...</td>\n",
              "      <td>...</td>\n",
              "      <td>...</td>\n",
              "      <td>...</td>\n",
              "      <td>...</td>\n",
              "      <td>...</td>\n",
              "      <td>...</td>\n",
              "    </tr>\n",
              "    <tr>\n",
              "      <th>1995</th>\n",
              "      <td>2</td>\n",
              "      <td>75</td>\n",
              "      <td>64</td>\n",
              "      <td>24</td>\n",
              "      <td>55</td>\n",
              "      <td>29.7</td>\n",
              "      <td>0.370</td>\n",
              "      <td>33</td>\n",
              "      <td>0</td>\n",
              "    </tr>\n",
              "    <tr>\n",
              "      <th>1996</th>\n",
              "      <td>8</td>\n",
              "      <td>179</td>\n",
              "      <td>72</td>\n",
              "      <td>42</td>\n",
              "      <td>130</td>\n",
              "      <td>32.7</td>\n",
              "      <td>0.719</td>\n",
              "      <td>36</td>\n",
              "      <td>1</td>\n",
              "    </tr>\n",
              "    <tr>\n",
              "      <th>1997</th>\n",
              "      <td>6</td>\n",
              "      <td>85</td>\n",
              "      <td>78</td>\n",
              "      <td>0</td>\n",
              "      <td>0</td>\n",
              "      <td>31.2</td>\n",
              "      <td>0.382</td>\n",
              "      <td>42</td>\n",
              "      <td>0</td>\n",
              "    </tr>\n",
              "    <tr>\n",
              "      <th>1998</th>\n",
              "      <td>0</td>\n",
              "      <td>129</td>\n",
              "      <td>110</td>\n",
              "      <td>46</td>\n",
              "      <td>130</td>\n",
              "      <td>67.1</td>\n",
              "      <td>0.319</td>\n",
              "      <td>26</td>\n",
              "      <td>1</td>\n",
              "    </tr>\n",
              "    <tr>\n",
              "      <th>1999</th>\n",
              "      <td>2</td>\n",
              "      <td>81</td>\n",
              "      <td>72</td>\n",
              "      <td>15</td>\n",
              "      <td>76</td>\n",
              "      <td>30.1</td>\n",
              "      <td>0.547</td>\n",
              "      <td>25</td>\n",
              "      <td>0</td>\n",
              "    </tr>\n",
              "  </tbody>\n",
              "</table>\n",
              "<p>2000 rows × 9 columns</p>\n",
              "</div>\n",
              "      <button class=\"colab-df-convert\" onclick=\"convertToInteractive('df-049f821e-2988-4ea9-9f52-b3b7828bdeb8')\"\n",
              "              title=\"Convert this dataframe to an interactive table.\"\n",
              "              style=\"display:none;\">\n",
              "        \n",
              "  <svg xmlns=\"http://www.w3.org/2000/svg\" height=\"24px\"viewBox=\"0 0 24 24\"\n",
              "       width=\"24px\">\n",
              "    <path d=\"M0 0h24v24H0V0z\" fill=\"none\"/>\n",
              "    <path d=\"M18.56 5.44l.94 2.06.94-2.06 2.06-.94-2.06-.94-.94-2.06-.94 2.06-2.06.94zm-11 1L8.5 8.5l.94-2.06 2.06-.94-2.06-.94L8.5 2.5l-.94 2.06-2.06.94zm10 10l.94 2.06.94-2.06 2.06-.94-2.06-.94-.94-2.06-.94 2.06-2.06.94z\"/><path d=\"M17.41 7.96l-1.37-1.37c-.4-.4-.92-.59-1.43-.59-.52 0-1.04.2-1.43.59L10.3 9.45l-7.72 7.72c-.78.78-.78 2.05 0 2.83L4 21.41c.39.39.9.59 1.41.59.51 0 1.02-.2 1.41-.59l7.78-7.78 2.81-2.81c.8-.78.8-2.07 0-2.86zM5.41 20L4 18.59l7.72-7.72 1.47 1.35L5.41 20z\"/>\n",
              "  </svg>\n",
              "      </button>\n",
              "      \n",
              "  <style>\n",
              "    .colab-df-container {\n",
              "      display:flex;\n",
              "      flex-wrap:wrap;\n",
              "      gap: 12px;\n",
              "    }\n",
              "\n",
              "    .colab-df-convert {\n",
              "      background-color: #E8F0FE;\n",
              "      border: none;\n",
              "      border-radius: 50%;\n",
              "      cursor: pointer;\n",
              "      display: none;\n",
              "      fill: #1967D2;\n",
              "      height: 32px;\n",
              "      padding: 0 0 0 0;\n",
              "      width: 32px;\n",
              "    }\n",
              "\n",
              "    .colab-df-convert:hover {\n",
              "      background-color: #E2EBFA;\n",
              "      box-shadow: 0px 1px 2px rgba(60, 64, 67, 0.3), 0px 1px 3px 1px rgba(60, 64, 67, 0.15);\n",
              "      fill: #174EA6;\n",
              "    }\n",
              "\n",
              "    [theme=dark] .colab-df-convert {\n",
              "      background-color: #3B4455;\n",
              "      fill: #D2E3FC;\n",
              "    }\n",
              "\n",
              "    [theme=dark] .colab-df-convert:hover {\n",
              "      background-color: #434B5C;\n",
              "      box-shadow: 0px 1px 3px 1px rgba(0, 0, 0, 0.15);\n",
              "      filter: drop-shadow(0px 1px 2px rgba(0, 0, 0, 0.3));\n",
              "      fill: #FFFFFF;\n",
              "    }\n",
              "  </style>\n",
              "\n",
              "      <script>\n",
              "        const buttonEl =\n",
              "          document.querySelector('#df-049f821e-2988-4ea9-9f52-b3b7828bdeb8 button.colab-df-convert');\n",
              "        buttonEl.style.display =\n",
              "          google.colab.kernel.accessAllowed ? 'block' : 'none';\n",
              "\n",
              "        async function convertToInteractive(key) {\n",
              "          const element = document.querySelector('#df-049f821e-2988-4ea9-9f52-b3b7828bdeb8');\n",
              "          const dataTable =\n",
              "            await google.colab.kernel.invokeFunction('convertToInteractive',\n",
              "                                                     [key], {});\n",
              "          if (!dataTable) return;\n",
              "\n",
              "          const docLinkHtml = 'Like what you see? Visit the ' +\n",
              "            '<a target=\"_blank\" href=https://colab.research.google.com/notebooks/data_table.ipynb>data table notebook</a>'\n",
              "            + ' to learn more about interactive tables.';\n",
              "          element.innerHTML = '';\n",
              "          dataTable['output_type'] = 'display_data';\n",
              "          await google.colab.output.renderOutput(dataTable, element);\n",
              "          const docLink = document.createElement('div');\n",
              "          docLink.innerHTML = docLinkHtml;\n",
              "          element.appendChild(docLink);\n",
              "        }\n",
              "      </script>\n",
              "    </div>\n",
              "  </div>\n",
              "  "
            ]
          },
          "metadata": {},
          "execution_count": 4
        }
      ]
    },
    {
      "cell_type": "markdown",
      "source": [
        "**PREPROCESADO**"
      ],
      "metadata": {
        "id": "sXjj9E7mrhBv"
      }
    },
    {
      "cell_type": "code",
      "source": [
        "X = data.drop(columns=['Clase'])\n",
        "y = data['Clase']\n",
        "\n",
        "print(f'''\n",
        "      ====================================================================================================\n",
        "      El problema de clasificación es de {X.shape[1]} features ---(prediciendo)---> {len(set(y))} clases\n",
        "      ====================================================================================================\n",
        "      ''')\n",
        "\n",
        "X_train, X_test, y_train, y_test = train_test_split(X, y, test_size=0.2)\n",
        "\n",
        "NORMALIZAR = True\n",
        "\n",
        "if NORMALIZAR:\n",
        "    scaler = StandardScaler().fit(X_train)\n",
        "    X_train = scaler.transform(X_train)\n",
        "    X_test = scaler.transform(X_test)"
      ],
      "metadata": {
        "colab": {
          "base_uri": "https://localhost:8080/"
        },
        "id": "mcDzFNWmrhIY",
        "outputId": "24041ee6-b288-41c3-df06-820851e42a0f"
      },
      "execution_count": 5,
      "outputs": [
        {
          "output_type": "stream",
          "name": "stdout",
          "text": [
            "\n",
            "      ====================================================================================================\n",
            "      El problema de clasificación es de 8 features ---(prediciendo)---> 2 clases\n",
            "      ====================================================================================================\n",
            "      \n"
          ]
        }
      ]
    },
    {
      "cell_type": "markdown",
      "source": [
        "# **REDES NEURONALES**"
      ],
      "metadata": {
        "id": "qtzuPg9Rs1IX"
      }
    },
    {
      "cell_type": "markdown",
      "source": [
        "**MODELADO**"
      ],
      "metadata": {
        "id": "4kZxtBpprhNI"
      }
    },
    {
      "cell_type": "code",
      "source": [
        "modelo = MLPClassifier(hidden_layer_sizes=(20, 5),\n",
        "                       max_iter=500,\n",
        "                       tol=1e-4,\n",
        "                       verbose=True,\n",
        "                       activation='tanh',\n",
        "                       learning_rate_init=0.003,\n",
        "                       solver='adam')\n",
        "modelo.fit(X_train, y_train)"
      ],
      "metadata": {
        "id": "jkBJXK9krhUP",
        "colab": {
          "base_uri": "https://localhost:8080/"
        },
        "outputId": "d7637d32-4c79-4e12-e5b9-33e2f7444285"
      },
      "execution_count": 6,
      "outputs": [
        {
          "output_type": "stream",
          "name": "stdout",
          "text": [
            "Iteration 1, loss = 0.59415871\n",
            "Iteration 2, loss = 0.53401094\n",
            "Iteration 3, loss = 0.50591589\n",
            "Iteration 4, loss = 0.48872266\n",
            "Iteration 5, loss = 0.47799727\n",
            "Iteration 6, loss = 0.47074258\n",
            "Iteration 7, loss = 0.46546451\n",
            "Iteration 8, loss = 0.46138232\n",
            "Iteration 9, loss = 0.45770143\n",
            "Iteration 10, loss = 0.45467492\n",
            "Iteration 11, loss = 0.45255489\n",
            "Iteration 12, loss = 0.44938220\n",
            "Iteration 13, loss = 0.44715911\n",
            "Iteration 14, loss = 0.44466299\n",
            "Iteration 15, loss = 0.44257057\n",
            "Iteration 16, loss = 0.44005772\n",
            "Iteration 17, loss = 0.43794868\n",
            "Iteration 18, loss = 0.43543316\n",
            "Iteration 19, loss = 0.43374322\n",
            "Iteration 20, loss = 0.43068807\n",
            "Iteration 21, loss = 0.42861577\n",
            "Iteration 22, loss = 0.42650612\n",
            "Iteration 23, loss = 0.42432834\n",
            "Iteration 24, loss = 0.42230614\n",
            "Iteration 25, loss = 0.42068382\n",
            "Iteration 26, loss = 0.41868658\n",
            "Iteration 27, loss = 0.41694534\n",
            "Iteration 28, loss = 0.41504250\n",
            "Iteration 29, loss = 0.41331238\n",
            "Iteration 30, loss = 0.41162270\n",
            "Iteration 31, loss = 0.41029863\n",
            "Iteration 32, loss = 0.40870872\n",
            "Iteration 33, loss = 0.40757187\n",
            "Iteration 34, loss = 0.40685914\n",
            "Iteration 35, loss = 0.40562031\n",
            "Iteration 36, loss = 0.40373837\n",
            "Iteration 37, loss = 0.40226721\n",
            "Iteration 38, loss = 0.40143887\n",
            "Iteration 39, loss = 0.40046296\n",
            "Iteration 40, loss = 0.39924352\n",
            "Iteration 41, loss = 0.39842306\n",
            "Iteration 42, loss = 0.39733619\n",
            "Iteration 43, loss = 0.39570609\n",
            "Iteration 44, loss = 0.39479898\n",
            "Iteration 45, loss = 0.39417133\n",
            "Iteration 46, loss = 0.39291925\n",
            "Iteration 47, loss = 0.39173395\n",
            "Iteration 48, loss = 0.39174695\n",
            "Iteration 49, loss = 0.38974725\n",
            "Iteration 50, loss = 0.38875905\n",
            "Iteration 51, loss = 0.38773783\n",
            "Iteration 52, loss = 0.38683721\n",
            "Iteration 53, loss = 0.38546025\n",
            "Iteration 54, loss = 0.38532987\n",
            "Iteration 55, loss = 0.38471002\n",
            "Iteration 56, loss = 0.38308994\n",
            "Iteration 57, loss = 0.38148405\n",
            "Iteration 58, loss = 0.38045729\n",
            "Iteration 59, loss = 0.37886470\n",
            "Iteration 60, loss = 0.37859172\n",
            "Iteration 61, loss = 0.37786127\n",
            "Iteration 62, loss = 0.37594716\n",
            "Iteration 63, loss = 0.37481120\n",
            "Iteration 64, loss = 0.37358376\n",
            "Iteration 65, loss = 0.37350882\n",
            "Iteration 66, loss = 0.37191654\n",
            "Iteration 67, loss = 0.37001514\n",
            "Iteration 68, loss = 0.36916485\n",
            "Iteration 69, loss = 0.36773815\n",
            "Iteration 70, loss = 0.36646507\n",
            "Iteration 71, loss = 0.36500511\n",
            "Iteration 72, loss = 0.36390527\n",
            "Iteration 73, loss = 0.36359124\n",
            "Iteration 74, loss = 0.36264571\n",
            "Iteration 75, loss = 0.36097341\n",
            "Iteration 76, loss = 0.35942788\n",
            "Iteration 77, loss = 0.35768301\n",
            "Iteration 78, loss = 0.35742291\n",
            "Iteration 79, loss = 0.35559532\n",
            "Iteration 80, loss = 0.35378431\n",
            "Iteration 81, loss = 0.35212595\n",
            "Iteration 82, loss = 0.35063004\n",
            "Iteration 83, loss = 0.34980743\n",
            "Iteration 84, loss = 0.34893247\n",
            "Iteration 85, loss = 0.34756334\n",
            "Iteration 86, loss = 0.34623941\n",
            "Iteration 87, loss = 0.34574307\n",
            "Iteration 88, loss = 0.34295313\n",
            "Iteration 89, loss = 0.34265051\n",
            "Iteration 90, loss = 0.34078583\n",
            "Iteration 91, loss = 0.33950854\n",
            "Iteration 92, loss = 0.33826068\n",
            "Iteration 93, loss = 0.33677163\n",
            "Iteration 94, loss = 0.33664319\n",
            "Iteration 95, loss = 0.33462729\n",
            "Iteration 96, loss = 0.33543975\n",
            "Iteration 97, loss = 0.33264326\n",
            "Iteration 98, loss = 0.33150585\n",
            "Iteration 99, loss = 0.33018507\n",
            "Iteration 100, loss = 0.32938234\n",
            "Iteration 101, loss = 0.32779244\n",
            "Iteration 102, loss = 0.32699308\n",
            "Iteration 103, loss = 0.32542680\n",
            "Iteration 104, loss = 0.32430524\n",
            "Iteration 105, loss = 0.32377979\n",
            "Iteration 106, loss = 0.32155501\n",
            "Iteration 107, loss = 0.32143673\n",
            "Iteration 108, loss = 0.32045848\n",
            "Iteration 109, loss = 0.31859596\n",
            "Iteration 110, loss = 0.31835430\n",
            "Iteration 111, loss = 0.31671256\n",
            "Iteration 112, loss = 0.31643986\n",
            "Iteration 113, loss = 0.31417137\n",
            "Iteration 114, loss = 0.31446217\n",
            "Iteration 115, loss = 0.31318242\n",
            "Iteration 116, loss = 0.31127662\n",
            "Iteration 117, loss = 0.31152139\n",
            "Iteration 118, loss = 0.30898934\n",
            "Iteration 119, loss = 0.30837983\n",
            "Iteration 120, loss = 0.30778324\n",
            "Iteration 121, loss = 0.30643373\n",
            "Iteration 122, loss = 0.30567948\n",
            "Iteration 123, loss = 0.30581808\n",
            "Iteration 124, loss = 0.30351189\n",
            "Iteration 125, loss = 0.30233256\n",
            "Iteration 126, loss = 0.30245666\n",
            "Iteration 127, loss = 0.29963800\n",
            "Iteration 128, loss = 0.29918224\n",
            "Iteration 129, loss = 0.29824859\n",
            "Iteration 130, loss = 0.29770649\n",
            "Iteration 131, loss = 0.29707634\n",
            "Iteration 132, loss = 0.29577750\n",
            "Iteration 133, loss = 0.29465756\n",
            "Iteration 134, loss = 0.29379687\n",
            "Iteration 135, loss = 0.29329039\n",
            "Iteration 136, loss = 0.29216518\n",
            "Iteration 137, loss = 0.29124156\n",
            "Iteration 138, loss = 0.29026580\n",
            "Iteration 139, loss = 0.28901609\n",
            "Iteration 140, loss = 0.28828548\n",
            "Iteration 141, loss = 0.28748326\n",
            "Iteration 142, loss = 0.28652253\n",
            "Iteration 143, loss = 0.28573075\n",
            "Iteration 144, loss = 0.28520829\n",
            "Iteration 145, loss = 0.28574034\n",
            "Iteration 146, loss = 0.28369214\n",
            "Iteration 147, loss = 0.28308257\n",
            "Iteration 148, loss = 0.28305695\n",
            "Iteration 149, loss = 0.28087586\n",
            "Iteration 150, loss = 0.27985881\n",
            "Iteration 151, loss = 0.27930314\n",
            "Iteration 152, loss = 0.27909591\n",
            "Iteration 153, loss = 0.27733923\n",
            "Iteration 154, loss = 0.27812336\n",
            "Iteration 155, loss = 0.27645013\n",
            "Iteration 156, loss = 0.27480466\n",
            "Iteration 157, loss = 0.27412147\n",
            "Iteration 158, loss = 0.27377608\n",
            "Iteration 159, loss = 0.27234570\n",
            "Iteration 160, loss = 0.27152520\n",
            "Iteration 161, loss = 0.27155742\n",
            "Iteration 162, loss = 0.26972179\n",
            "Iteration 163, loss = 0.26882512\n",
            "Iteration 164, loss = 0.26853302\n",
            "Iteration 165, loss = 0.26783959\n",
            "Iteration 166, loss = 0.26730533\n",
            "Iteration 167, loss = 0.26658123\n",
            "Iteration 168, loss = 0.26505923\n",
            "Iteration 169, loss = 0.26422326\n",
            "Iteration 170, loss = 0.26410398\n",
            "Iteration 171, loss = 0.26285584\n",
            "Iteration 172, loss = 0.26218191\n",
            "Iteration 173, loss = 0.26076274\n",
            "Iteration 174, loss = 0.26046978\n",
            "Iteration 175, loss = 0.25964808\n",
            "Iteration 176, loss = 0.25853986\n",
            "Iteration 177, loss = 0.25777749\n",
            "Iteration 178, loss = 0.25687309\n",
            "Iteration 179, loss = 0.25719297\n",
            "Iteration 180, loss = 0.25640490\n",
            "Iteration 181, loss = 0.25444146\n",
            "Iteration 182, loss = 0.25433796\n",
            "Iteration 183, loss = 0.25360105\n",
            "Iteration 184, loss = 0.25347504\n",
            "Iteration 185, loss = 0.25192578\n",
            "Iteration 186, loss = 0.25121478\n",
            "Iteration 187, loss = 0.25180120\n",
            "Iteration 188, loss = 0.24876029\n",
            "Iteration 189, loss = 0.24841893\n",
            "Iteration 190, loss = 0.24713788\n",
            "Iteration 191, loss = 0.24649030\n",
            "Iteration 192, loss = 0.24616802\n",
            "Iteration 193, loss = 0.24572896\n",
            "Iteration 194, loss = 0.24472926\n",
            "Iteration 195, loss = 0.24383514\n",
            "Iteration 196, loss = 0.24306572\n",
            "Iteration 197, loss = 0.24193857\n",
            "Iteration 198, loss = 0.24148830\n",
            "Iteration 199, loss = 0.24043475\n",
            "Iteration 200, loss = 0.23926382\n",
            "Iteration 201, loss = 0.23830063\n",
            "Iteration 202, loss = 0.23816517\n",
            "Iteration 203, loss = 0.23650896\n",
            "Iteration 204, loss = 0.23619799\n",
            "Iteration 205, loss = 0.23574955\n",
            "Iteration 206, loss = 0.23550930\n",
            "Iteration 207, loss = 0.23575588\n",
            "Iteration 208, loss = 0.23310057\n",
            "Iteration 209, loss = 0.23220535\n",
            "Iteration 210, loss = 0.23103282\n",
            "Iteration 211, loss = 0.23128394\n",
            "Iteration 212, loss = 0.23026227\n",
            "Iteration 213, loss = 0.22924901\n",
            "Iteration 214, loss = 0.22905138\n",
            "Iteration 215, loss = 0.22786882\n",
            "Iteration 216, loss = 0.22677564\n",
            "Iteration 217, loss = 0.22578586\n",
            "Iteration 218, loss = 0.22515668\n",
            "Iteration 219, loss = 0.22442280\n",
            "Iteration 220, loss = 0.22371385\n",
            "Iteration 221, loss = 0.22241123\n",
            "Iteration 222, loss = 0.22160870\n",
            "Iteration 223, loss = 0.22114708\n",
            "Iteration 224, loss = 0.22046895\n",
            "Iteration 225, loss = 0.22023435\n",
            "Iteration 226, loss = 0.21971896\n",
            "Iteration 227, loss = 0.21808852\n",
            "Iteration 228, loss = 0.21737513\n",
            "Iteration 229, loss = 0.21650796\n",
            "Iteration 230, loss = 0.21583685\n",
            "Iteration 231, loss = 0.21541293\n",
            "Iteration 232, loss = 0.21428717\n",
            "Iteration 233, loss = 0.21331369\n",
            "Iteration 234, loss = 0.21289269\n",
            "Iteration 235, loss = 0.21144101\n",
            "Iteration 236, loss = 0.21088592\n",
            "Iteration 237, loss = 0.21044669\n",
            "Iteration 238, loss = 0.20908404\n",
            "Iteration 239, loss = 0.20856845\n",
            "Iteration 240, loss = 0.20826680\n",
            "Iteration 241, loss = 0.20750113\n",
            "Iteration 242, loss = 0.20624210\n",
            "Iteration 243, loss = 0.20548462\n",
            "Iteration 244, loss = 0.20511434\n",
            "Iteration 245, loss = 0.20375474\n",
            "Iteration 246, loss = 0.20312967\n",
            "Iteration 247, loss = 0.20455211\n",
            "Iteration 248, loss = 0.20231382\n",
            "Iteration 249, loss = 0.20158051\n",
            "Iteration 250, loss = 0.20059499\n",
            "Iteration 251, loss = 0.19911452\n",
            "Iteration 252, loss = 0.19886877\n",
            "Iteration 253, loss = 0.19794677\n",
            "Iteration 254, loss = 0.19784925\n",
            "Iteration 255, loss = 0.19674925\n",
            "Iteration 256, loss = 0.19620640\n",
            "Iteration 257, loss = 0.19575804\n",
            "Iteration 258, loss = 0.19431726\n",
            "Iteration 259, loss = 0.19382943\n",
            "Iteration 260, loss = 0.19316023\n",
            "Iteration 261, loss = 0.19288484\n",
            "Iteration 262, loss = 0.19244671\n",
            "Iteration 263, loss = 0.19192515\n",
            "Iteration 264, loss = 0.19118324\n",
            "Iteration 265, loss = 0.18965019\n",
            "Iteration 266, loss = 0.18984188\n",
            "Iteration 267, loss = 0.18875444\n",
            "Iteration 268, loss = 0.18892710\n",
            "Iteration 269, loss = 0.18825691\n",
            "Iteration 270, loss = 0.18810130\n",
            "Iteration 271, loss = 0.18653676\n",
            "Iteration 272, loss = 0.18623797\n",
            "Iteration 273, loss = 0.18588041\n",
            "Iteration 274, loss = 0.18437015\n",
            "Iteration 275, loss = 0.18433255\n",
            "Iteration 276, loss = 0.18320493\n",
            "Iteration 277, loss = 0.18264068\n",
            "Iteration 278, loss = 0.18215731\n",
            "Iteration 279, loss = 0.18144914\n",
            "Iteration 280, loss = 0.18087840\n",
            "Iteration 281, loss = 0.18158039\n",
            "Iteration 282, loss = 0.18101686\n",
            "Iteration 283, loss = 0.17950905\n",
            "Iteration 284, loss = 0.17883288\n",
            "Iteration 285, loss = 0.17842703\n",
            "Iteration 286, loss = 0.17810370\n",
            "Iteration 287, loss = 0.17789424\n",
            "Iteration 288, loss = 0.17733579\n",
            "Iteration 289, loss = 0.17605754\n",
            "Iteration 290, loss = 0.17570959\n",
            "Iteration 291, loss = 0.17478736\n",
            "Iteration 292, loss = 0.17447080\n",
            "Iteration 293, loss = 0.17423788\n",
            "Iteration 294, loss = 0.17380642\n",
            "Iteration 295, loss = 0.17285912\n",
            "Iteration 296, loss = 0.17229913\n",
            "Iteration 297, loss = 0.17269474\n",
            "Iteration 298, loss = 0.17187411\n",
            "Iteration 299, loss = 0.17107274\n",
            "Iteration 300, loss = 0.17066598\n",
            "Iteration 301, loss = 0.17038353\n",
            "Iteration 302, loss = 0.16930364\n",
            "Iteration 303, loss = 0.16948745\n",
            "Iteration 304, loss = 0.16867612\n",
            "Iteration 305, loss = 0.16791214\n",
            "Iteration 306, loss = 0.16712108\n",
            "Iteration 307, loss = 0.16743878\n",
            "Iteration 308, loss = 0.16671681\n",
            "Iteration 309, loss = 0.16649218\n",
            "Iteration 310, loss = 0.16559300\n",
            "Iteration 311, loss = 0.16551416\n",
            "Iteration 312, loss = 0.16489614\n",
            "Iteration 313, loss = 0.16407831\n",
            "Iteration 314, loss = 0.16361688\n",
            "Iteration 315, loss = 0.16380091\n",
            "Iteration 316, loss = 0.16450518\n",
            "Iteration 317, loss = 0.16245859\n",
            "Iteration 318, loss = 0.16205672\n",
            "Iteration 319, loss = 0.16175048\n",
            "Iteration 320, loss = 0.16099383\n",
            "Iteration 321, loss = 0.16095229\n",
            "Iteration 322, loss = 0.15965150\n",
            "Iteration 323, loss = 0.15957256\n",
            "Iteration 324, loss = 0.15878810\n",
            "Iteration 325, loss = 0.15828415\n",
            "Iteration 326, loss = 0.15837234\n",
            "Iteration 327, loss = 0.15775471\n",
            "Iteration 328, loss = 0.15817820\n",
            "Iteration 329, loss = 0.15648165\n",
            "Iteration 330, loss = 0.15659621\n",
            "Iteration 331, loss = 0.15647423\n",
            "Iteration 332, loss = 0.15499784\n",
            "Iteration 333, loss = 0.15566467\n",
            "Iteration 334, loss = 0.15510691\n",
            "Iteration 335, loss = 0.15453964\n",
            "Iteration 336, loss = 0.15438073\n",
            "Iteration 337, loss = 0.15295532\n",
            "Iteration 338, loss = 0.15264969\n",
            "Iteration 339, loss = 0.15287945\n",
            "Iteration 340, loss = 0.15205658\n",
            "Iteration 341, loss = 0.15126348\n",
            "Iteration 342, loss = 0.15156805\n",
            "Iteration 343, loss = 0.15083408\n",
            "Iteration 344, loss = 0.15016496\n",
            "Iteration 345, loss = 0.14989303\n",
            "Iteration 346, loss = 0.15026747\n",
            "Iteration 347, loss = 0.14966054\n",
            "Iteration 348, loss = 0.14953103\n",
            "Iteration 349, loss = 0.14757337\n",
            "Iteration 350, loss = 0.14829075\n",
            "Iteration 351, loss = 0.14737190\n",
            "Iteration 352, loss = 0.14735091\n",
            "Iteration 353, loss = 0.14639129\n",
            "Iteration 354, loss = 0.14668625\n",
            "Iteration 355, loss = 0.14510460\n",
            "Iteration 356, loss = 0.14498393\n",
            "Iteration 357, loss = 0.14476197\n",
            "Iteration 358, loss = 0.14403102\n",
            "Iteration 359, loss = 0.14347122\n",
            "Iteration 360, loss = 0.14311043\n",
            "Iteration 361, loss = 0.14249661\n",
            "Iteration 362, loss = 0.14308287\n",
            "Iteration 363, loss = 0.14195397\n",
            "Iteration 364, loss = 0.14120046\n",
            "Iteration 365, loss = 0.14085213\n",
            "Iteration 366, loss = 0.14057239\n",
            "Iteration 367, loss = 0.13995801\n",
            "Iteration 368, loss = 0.13932641\n",
            "Iteration 369, loss = 0.13930619\n",
            "Iteration 370, loss = 0.13855743\n",
            "Iteration 371, loss = 0.13822087\n",
            "Iteration 372, loss = 0.13791629\n",
            "Iteration 373, loss = 0.13734730\n",
            "Iteration 374, loss = 0.13709905\n",
            "Iteration 375, loss = 0.13640761\n",
            "Iteration 376, loss = 0.13576965\n",
            "Iteration 377, loss = 0.13537673\n",
            "Iteration 378, loss = 0.13497967\n",
            "Iteration 379, loss = 0.13453439\n",
            "Iteration 380, loss = 0.13418148\n",
            "Iteration 381, loss = 0.13360732\n",
            "Iteration 382, loss = 0.13318211\n",
            "Iteration 383, loss = 0.13256474\n",
            "Iteration 384, loss = 0.13237864\n",
            "Iteration 385, loss = 0.13195566\n",
            "Iteration 386, loss = 0.13141293\n",
            "Iteration 387, loss = 0.13152221\n",
            "Iteration 388, loss = 0.13017706\n",
            "Iteration 389, loss = 0.12954720\n",
            "Iteration 390, loss = 0.12927548\n",
            "Iteration 391, loss = 0.12946130\n",
            "Iteration 392, loss = 0.12892012\n",
            "Iteration 393, loss = 0.12848455\n",
            "Iteration 394, loss = 0.12739389\n",
            "Iteration 395, loss = 0.12692254\n",
            "Iteration 396, loss = 0.12634341\n",
            "Iteration 397, loss = 0.12571025\n",
            "Iteration 398, loss = 0.12546239\n",
            "Iteration 399, loss = 0.12563916\n",
            "Iteration 400, loss = 0.12531752\n",
            "Iteration 401, loss = 0.12418274\n",
            "Iteration 402, loss = 0.12462278\n",
            "Iteration 403, loss = 0.12304797\n",
            "Iteration 404, loss = 0.12322512\n",
            "Iteration 405, loss = 0.12328858\n",
            "Iteration 406, loss = 0.12137071\n",
            "Iteration 407, loss = 0.12178180\n",
            "Iteration 408, loss = 0.12147034\n",
            "Iteration 409, loss = 0.12054441\n",
            "Iteration 410, loss = 0.11989071\n",
            "Iteration 411, loss = 0.11977851\n",
            "Iteration 412, loss = 0.11934667\n",
            "Iteration 413, loss = 0.11890769\n",
            "Iteration 414, loss = 0.11827981\n",
            "Iteration 415, loss = 0.11804557\n",
            "Iteration 416, loss = 0.11773510\n",
            "Iteration 417, loss = 0.11728210\n",
            "Iteration 418, loss = 0.11663685\n",
            "Iteration 419, loss = 0.11622648\n",
            "Iteration 420, loss = 0.11597353\n",
            "Iteration 421, loss = 0.11570023\n",
            "Iteration 422, loss = 0.11555400\n",
            "Iteration 423, loss = 0.11473881\n",
            "Iteration 424, loss = 0.11510002\n",
            "Iteration 425, loss = 0.11409953\n",
            "Iteration 426, loss = 0.11373730\n",
            "Iteration 427, loss = 0.11352926\n",
            "Iteration 428, loss = 0.11259582\n",
            "Iteration 429, loss = 0.11257854\n",
            "Iteration 430, loss = 0.11221132\n",
            "Iteration 431, loss = 0.11206304\n",
            "Iteration 432, loss = 0.11126439\n",
            "Iteration 433, loss = 0.11138214\n",
            "Iteration 434, loss = 0.11068728\n",
            "Iteration 435, loss = 0.11034620\n",
            "Iteration 436, loss = 0.10985086\n",
            "Iteration 437, loss = 0.11023997\n",
            "Iteration 438, loss = 0.11009355\n",
            "Iteration 439, loss = 0.10871444\n",
            "Iteration 440, loss = 0.10897406\n",
            "Iteration 441, loss = 0.10794373\n",
            "Iteration 442, loss = 0.10807691\n",
            "Iteration 443, loss = 0.10750997\n",
            "Iteration 444, loss = 0.10743786\n",
            "Iteration 445, loss = 0.10695023\n",
            "Iteration 446, loss = 0.10673628\n",
            "Iteration 447, loss = 0.10604714\n",
            "Iteration 448, loss = 0.10621339\n",
            "Iteration 449, loss = 0.10606771\n",
            "Iteration 450, loss = 0.10547424\n",
            "Iteration 451, loss = 0.10534852\n",
            "Iteration 452, loss = 0.10481687\n",
            "Iteration 453, loss = 0.10425800\n",
            "Iteration 454, loss = 0.10384116\n",
            "Iteration 455, loss = 0.10399923\n",
            "Iteration 456, loss = 0.10382812\n",
            "Iteration 457, loss = 0.10326369\n",
            "Iteration 458, loss = 0.10309613\n",
            "Iteration 459, loss = 0.10239978\n",
            "Iteration 460, loss = 0.10214509\n",
            "Iteration 461, loss = 0.10231969\n",
            "Iteration 462, loss = 0.10149725\n",
            "Iteration 463, loss = 0.10120443\n",
            "Iteration 464, loss = 0.10134886\n",
            "Iteration 465, loss = 0.10059694\n",
            "Iteration 466, loss = 0.09992765\n",
            "Iteration 467, loss = 0.09992434\n",
            "Iteration 468, loss = 0.09959624\n",
            "Iteration 469, loss = 0.09924173\n",
            "Iteration 470, loss = 0.09931962\n",
            "Iteration 471, loss = 0.09915100\n",
            "Iteration 472, loss = 0.09927688\n",
            "Iteration 473, loss = 0.09838770\n",
            "Iteration 474, loss = 0.09834880\n",
            "Iteration 475, loss = 0.09763284\n",
            "Iteration 476, loss = 0.09757690\n",
            "Iteration 477, loss = 0.09675061\n",
            "Iteration 478, loss = 0.09676977\n",
            "Iteration 479, loss = 0.09617097\n",
            "Iteration 480, loss = 0.09590557\n",
            "Iteration 481, loss = 0.09571805\n",
            "Iteration 482, loss = 0.09534796\n",
            "Iteration 483, loss = 0.09493374\n",
            "Iteration 484, loss = 0.09463922\n",
            "Iteration 485, loss = 0.09436078\n",
            "Iteration 486, loss = 0.09441243\n",
            "Iteration 487, loss = 0.09361835\n",
            "Iteration 488, loss = 0.09355849\n",
            "Iteration 489, loss = 0.09326240\n",
            "Iteration 490, loss = 0.09281547\n",
            "Iteration 491, loss = 0.09255838\n",
            "Iteration 492, loss = 0.09250932\n",
            "Iteration 493, loss = 0.09271709\n",
            "Iteration 494, loss = 0.09102558\n",
            "Iteration 495, loss = 0.09178954\n",
            "Iteration 496, loss = 0.09164812\n",
            "Iteration 497, loss = 0.09054103\n",
            "Iteration 498, loss = 0.09089117\n",
            "Iteration 499, loss = 0.09034034\n",
            "Iteration 500, loss = 0.09042580\n"
          ]
        },
        {
          "output_type": "stream",
          "name": "stderr",
          "text": [
            "/usr/local/lib/python3.7/dist-packages/sklearn/neural_network/_multilayer_perceptron.py:696: ConvergenceWarning: Stochastic Optimizer: Maximum iterations (500) reached and the optimization hasn't converged yet.\n",
            "  ConvergenceWarning,\n"
          ]
        },
        {
          "output_type": "execute_result",
          "data": {
            "text/plain": [
              "MLPClassifier(activation='tanh', hidden_layer_sizes=(20, 5),\n",
              "              learning_rate_init=0.003, max_iter=500, verbose=True)"
            ]
          },
          "metadata": {},
          "execution_count": 6
        }
      ]
    },
    {
      "cell_type": "markdown",
      "source": [
        "**EVALUACION**"
      ],
      "metadata": {
        "id": "Zbu9F_Z-rhaf"
      }
    },
    {
      "cell_type": "markdown",
      "source": [
        "**MÉTRICAS SOBRE EL CONJUNTO DE TRAINING**"
      ],
      "metadata": {
        "id": "0QJE1i4IsC5Z"
      }
    },
    {
      "cell_type": "code",
      "source": [
        "# 3\n",
        "\n",
        "print_classification_report(y_train, modelo.predict(X_train))"
      ],
      "metadata": {
        "id": "w0OZJxiXsDvs",
        "colab": {
          "base_uri": "https://localhost:8080/"
        },
        "outputId": "6df3886f-9325-4f66-cf61-eb8ddac1e291"
      },
      "execution_count": 7,
      "outputs": [
        {
          "output_type": "stream",
          "name": "stdout",
          "text": [
            "              precision    recall  f1-score   support\n",
            "\n",
            "           0       0.97      0.99      0.98      1055\n",
            "           1       0.98      0.94      0.96       545\n",
            "\n",
            "    accuracy                           0.97      1600\n",
            "   macro avg       0.97      0.96      0.97      1600\n",
            "weighted avg       0.97      0.97      0.97      1600\n",
            "\n"
          ]
        }
      ]
    },
    {
      "cell_type": "markdown",
      "source": [
        "MÉTRICAS SOBRE EL CONJUNTO DE TESTING"
      ],
      "metadata": {
        "id": "cAA4w9tasD0g"
      }
    },
    {
      "cell_type": "code",
      "source": [
        "# 3\n",
        "\n",
        "print_classification_report(y_test, modelo.predict(X_test))"
      ],
      "metadata": {
        "id": "WnKfOLAWrhgB",
        "colab": {
          "base_uri": "https://localhost:8080/"
        },
        "outputId": "58d505c9-d4ff-4088-e077-c1d698ce60f7"
      },
      "execution_count": 8,
      "outputs": [
        {
          "output_type": "stream",
          "name": "stdout",
          "text": [
            "              precision    recall  f1-score   support\n",
            "\n",
            "           0       0.92      0.98      0.95       261\n",
            "           1       0.95      0.84      0.89       139\n",
            "\n",
            "    accuracy                           0.93       400\n",
            "   macro avg       0.94      0.91      0.92       400\n",
            "weighted avg       0.93      0.93      0.93       400\n",
            "\n"
          ]
        }
      ]
    },
    {
      "cell_type": "markdown",
      "source": [
        "**MATRIZ DE CONFUSIÓN**"
      ],
      "metadata": {
        "id": "UQgjzf7tsJ0i"
      }
    },
    {
      "cell_type": "code",
      "source": [
        "# 2\n",
        "\n",
        "visualizar_confusion_matrix(y_test, modelo.predict(X_test))"
      ],
      "metadata": {
        "id": "500g5hJUsMcM",
        "colab": {
          "base_uri": "https://localhost:8080/",
          "height": 297
        },
        "outputId": "56e6acd7-5ac3-4922-a2d9-59744ab98b27"
      },
      "execution_count": 9,
      "outputs": [
        {
          "output_type": "display_data",
          "data": {
            "text/plain": [
              "<Figure size 432x288 with 2 Axes>"
            ],
            "image/png": "[encoded data removed]"
          },
          "metadata": {
            "needs_background": "light"
          }
        }
      ]
    },
    {
      "cell_type": "markdown",
      "source": [
        "Se observa que hay una mayor cantidad de Falsos negativos en comparación de los Falsos Positivos."
      ],
      "metadata": {
        "id": "eBMNUEGcJJGq"
      }
    },
    {
      "cell_type": "markdown",
      "source": [
        "**CURVA DE ROC Y DE PRECISION-RECALL**"
      ],
      "metadata": {
        "id": "-4ue09ZTsPrp"
      }
    },
    {
      "cell_type": "code",
      "source": [
        "# 4\n",
        "\n",
        "visualizar_curva_ROC(modelo, X, y)"
      ],
      "metadata": {
        "id": "nGG5Fd3EsQJY",
        "colab": {
          "base_uri": "https://localhost:8080/",
          "height": 608
        },
        "outputId": "ac72f94b-2c82-40ec-b0b5-a5dc25f18e82"
      },
      "execution_count": 10,
      "outputs": [
        {
          "output_type": "stream",
          "name": "stderr",
          "text": [
            "/usr/local/lib/python3.7/dist-packages/sklearn/base.py:444: UserWarning: X has feature names, but MLPClassifier was fitted without feature names\n",
            "  f\"X has feature names, but {self.__class__.__name__} was fitted without\"\n"
          ]
        },
        {
          "output_type": "display_data",
          "data": {
            "text/plain": [
              "<Figure size 432x288 with 1 Axes>"
            ],
            "image/png": "[encoded data removed]"
          },
          "metadata": {
            "needs_background": "light"
          }
        },
        {
          "output_type": "display_data",
          "data": {
            "text/plain": [
              "<Figure size 432x288 with 1 Axes>"
            ],
            "image/png": "[encoded data removed]"
          },
          "metadata": {
            "needs_background": "light"
          }
        }
      ]
    },
    {
      "cell_type": "markdown",
      "source": [
        "Se observa un mal modelo que rnde en el 0.5 de área."
      ],
      "metadata": {
        "id": "uqUAU71eJR8Z"
      }
    },
    {
      "cell_type": "markdown",
      "source": [
        "**FRONTERA DE DECISIÓN DE DOS DIMENSIONES**"
      ],
      "metadata": {
        "id": "obOurxUjsWw_"
      }
    },
    {
      "cell_type": "markdown",
      "source": [
        "No aplica para este caso por ser redes neuronales (#5)."
      ],
      "metadata": {
        "id": "CeYjrR7nIZ46"
      }
    },
    {
      "cell_type": "markdown",
      "source": [
        "La **curva logística** del punto #6 con la función AA_utils.visualizar_curva_logistica no aplica en este ejercicio debido a que el modelo cuenta con mas de una features en la variable X."
      ],
      "metadata": {
        "id": "owKnNzz4Jltq"
      }
    },
    {
      "cell_type": "markdown",
      "source": [
        "**FUNCION DE TRANSFERENCIA DE DOS DIMENSIONES**"
      ],
      "metadata": {
        "id": "azjgBLdBsd7h"
      }
    },
    {
      "cell_type": "code",
      "source": [
        "visualizar_curva_error_entrenamiento(modelo)"
      ],
      "metadata": {
        "colab": {
          "base_uri": "https://localhost:8080/",
          "height": 279
        },
        "id": "twUcYmjvId_R",
        "outputId": "fc6e1603-de0c-44b7-f909-7dd8c4462bde"
      },
      "execution_count": 11,
      "outputs": [
        {
          "output_type": "display_data",
          "data": {
            "text/plain": [
              "<Figure size 432x288 with 1 Axes>"
            ],
            "image/png": "[encoded data removed]"
          },
          "metadata": {
            "needs_background": "light"
          }
        }
      ]
    },
    {
      "cell_type": "markdown",
      "source": [
        "# **REGRESIÓN LOGÍSTICA**"
      ],
      "metadata": {
        "id": "fZz0YLbHnUp7"
      }
    },
    {
      "cell_type": "markdown",
      "source": [
        "**MODELADO**"
      ],
      "metadata": {
        "id": "lJajO61woHCV"
      }
    },
    {
      "cell_type": "code",
      "source": [
        "modelo_2 = LogisticRegression()\n",
        "modelo_2.fit(X_train, y_train)"
      ],
      "metadata": {
        "id": "4n1nM1mJoHNn",
        "colab": {
          "base_uri": "https://localhost:8080/"
        },
        "outputId": "85e9e699-3a9e-450a-b417-2c5294853d87"
      },
      "execution_count": 12,
      "outputs": [
        {
          "output_type": "execute_result",
          "data": {
            "text/plain": [
              "LogisticRegression()"
            ]
          },
          "metadata": {},
          "execution_count": 12
        }
      ]
    },
    {
      "cell_type": "markdown",
      "source": [
        "**EVALUACION**"
      ],
      "metadata": {
        "id": "BIO7yx8Koop_"
      }
    },
    {
      "cell_type": "markdown",
      "source": [
        "**MÉTRICAS SOBRE EL CONJUNTO DE TRAINING**"
      ],
      "metadata": {
        "id": "yh8AQ_Xkoos_"
      }
    },
    {
      "cell_type": "code",
      "source": [
        "# 3\n",
        "\n",
        "print_classification_report(y_train, modelo_2.predict(X_train))"
      ],
      "metadata": {
        "id": "nBMWiMWXoo6P",
        "colab": {
          "base_uri": "https://localhost:8080/"
        },
        "outputId": "b73cb95a-b2be-48de-aaeb-7099326a8a37"
      },
      "execution_count": 13,
      "outputs": [
        {
          "output_type": "stream",
          "name": "stdout",
          "text": [
            "              precision    recall  f1-score   support\n",
            "\n",
            "           0       0.80      0.89      0.84      1055\n",
            "           1       0.73      0.57      0.64       545\n",
            "\n",
            "    accuracy                           0.78      1600\n",
            "   macro avg       0.77      0.73      0.74      1600\n",
            "weighted avg       0.78      0.78      0.77      1600\n",
            "\n"
          ]
        }
      ]
    },
    {
      "cell_type": "markdown",
      "source": [
        "**MÉTRICAS SOBRE EL CONJUNTO DE TESTING**"
      ],
      "metadata": {
        "id": "8beNKCDZovTX"
      }
    },
    {
      "cell_type": "code",
      "source": [
        "# 3\n",
        "\n",
        "print_classification_report(y_test, modelo_2.predict(X_test))"
      ],
      "metadata": {
        "id": "0G82G18aopCu",
        "colab": {
          "base_uri": "https://localhost:8080/"
        },
        "outputId": "56486ecf-86e3-4e93-cbce-c5b8e3710fc2"
      },
      "execution_count": 14,
      "outputs": [
        {
          "output_type": "stream",
          "name": "stdout",
          "text": [
            "              precision    recall  f1-score   support\n",
            "\n",
            "           0       0.79      0.90      0.84       261\n",
            "           1       0.75      0.56      0.64       139\n",
            "\n",
            "    accuracy                           0.78       400\n",
            "   macro avg       0.77      0.73      0.74       400\n",
            "weighted avg       0.78      0.78      0.77       400\n",
            "\n"
          ]
        }
      ]
    },
    {
      "cell_type": "markdown",
      "source": [
        "**MATRIZ DE CONFUSIÓN**"
      ],
      "metadata": {
        "id": "9r6VgoJWoyEY"
      }
    },
    {
      "cell_type": "code",
      "source": [
        "# 2\n",
        "\n",
        "visualizar_confusion_matrix(y_test, modelo_2.predict(X_test))"
      ],
      "metadata": {
        "id": "VzdgDnAZopMX",
        "colab": {
          "base_uri": "https://localhost:8080/",
          "height": 297
        },
        "outputId": "1c77e140-8f3a-43c0-948a-8dc4c3511b8c"
      },
      "execution_count": 15,
      "outputs": [
        {
          "output_type": "display_data",
          "data": {
            "text/plain": [
              "<Figure size 432x288 with 2 Axes>"
            ],
            "image/png": "[encoded data removed]"
          },
          "metadata": {
            "needs_background": "light"
          }
        }
      ]
    },
    {
      "cell_type": "markdown",
      "source": [
        "**CURVA DE ROC Y DE PRECISION-RECALL**"
      ],
      "metadata": {
        "id": "Avz8dJvoo37S"
      }
    },
    {
      "cell_type": "code",
      "source": [
        "# 4\n",
        "\n",
        "visualizar_curva_ROC(modelo_2, X, y)"
      ],
      "metadata": {
        "id": "cEWSbxu-o5Je",
        "colab": {
          "base_uri": "https://localhost:8080/",
          "height": 608
        },
        "outputId": "5d2e9bdf-5316-4b2b-dfca-37c870faacdf"
      },
      "execution_count": 16,
      "outputs": [
        {
          "output_type": "stream",
          "name": "stderr",
          "text": [
            "/usr/local/lib/python3.7/dist-packages/sklearn/base.py:444: UserWarning: X has feature names, but LogisticRegression was fitted without feature names\n",
            "  f\"X has feature names, but {self.__class__.__name__} was fitted without\"\n"
          ]
        },
        {
          "output_type": "display_data",
          "data": {
            "text/plain": [
              "<Figure size 432x288 with 1 Axes>"
            ],
            "image/png": "[encoded data removed]"
          },
          "metadata": {
            "needs_background": "light"
          }
        },
        {
          "output_type": "display_data",
          "data": {
            "text/plain": [
              "<Figure size 432x288 with 1 Axes>"
            ],
            "image/png": "[encoded data removed]"
          },
          "metadata": {
            "needs_background": "light"
          }
        }
      ]
    },
    {
      "cell_type": "markdown",
      "source": [
        "Dado el área de la curva de ROC, se puede clasificar al **modelo como malo, similar al modelo de redes neuronales**."
      ],
      "metadata": {
        "id": "9Nzlp0_YsW9F"
      }
    },
    {
      "cell_type": "markdown",
      "source": [
        "**VISUALIZO LOS PARÁMETROS**"
      ],
      "metadata": {
        "id": "jIzi60ggo7V-"
      }
    },
    {
      "cell_type": "code",
      "source": [
        "# 1\n",
        "\n",
        "visualizar_parametros(modelo_2, mostrar_bias=False, feature_names=X.columns, target_name=y.name)"
      ],
      "metadata": {
        "id": "21qBajCLo8Tu",
        "colab": {
          "base_uri": "https://localhost:8080/",
          "height": 386
        },
        "outputId": "2c2a9c42-669f-4bce-ce46-49de3e9a516f"
      },
      "execution_count": 17,
      "outputs": [
        {
          "output_type": "display_data",
          "data": {
            "text/plain": [
              "<Figure size 432x288 with 1 Axes>"
            ],
            "image/png": "[encoded data removed]"
          },
          "metadata": {
            "needs_background": "light"
          }
        }
      ]
    },
    {
      "cell_type": "markdown",
      "source": [
        "**FRONTERA DE DECISIÓN DE DOS DIMENSIONES**"
      ],
      "metadata": {
        "id": "3SDBSI3Ao-G3"
      }
    },
    {
      "cell_type": "markdown",
      "source": [
        "No aplica para este caso (#5)."
      ],
      "metadata": {
        "id": "yD_VNuNLIkqI"
      }
    },
    {
      "cell_type": "markdown",
      "source": [
        "**FUNCION DE TRANSFERENCIA DE DOS DIMENSIONES**"
      ],
      "metadata": {
        "id": "QjKKvBGDpHYo"
      }
    },
    {
      "cell_type": "markdown",
      "source": [
        "No aplica para este caso (#5)."
      ],
      "metadata": {
        "id": "th03oyxpIkFY"
      }
    },
    {
      "cell_type": "markdown",
      "source": [
        "La **curva logística** del punto #6 con la función AA_utils.visualizar_curva_logistica no aplica en este ejercicio debido a que el modelo cuenta con mas de una features en la variable X."
      ],
      "metadata": {
        "id": "Z0Uf7WSEJzQZ"
      }
    }
  ]
}